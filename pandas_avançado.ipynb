{
  "nbformat": 4,
  "nbformat_minor": 0,
  "metadata": {
    "colab": {
      "name": "pandas_avançado.ipynb",
      "provenance": [],
      "authorship_tag": "ABX9TyOpi2xQlZ0RH3FDCfLRmRS2",
      "include_colab_link": true
    },
    "kernelspec": {
      "name": "python3",
      "display_name": "Python 3"
    },
    "language_info": {
      "name": "python"
    }
  },
  "cells": [
    {
      "cell_type": "markdown",
      "metadata": {
        "id": "view-in-github",
        "colab_type": "text"
      },
      "source": [
        "<a href=\"https://colab.research.google.com/github/anicelysantos/book-python-para-analise-de-dados/blob/main/pandas_avan%C3%A7ado.ipynb\" target=\"_parent\"><img src=\"https://colab.research.google.com/assets/colab-badge.svg\" alt=\"Open In Colab\"/></a>"
      ]
    },
    {
      "cell_type": "markdown",
      "metadata": {
        "id": "bf0uaNnD2p7V"
      },
      "source": [
        "*Estudos do livro \"Python para análise de dados\" capitulo 12*"
      ]
    },
    {
      "cell_type": "markdown",
      "metadata": {
        "id": "QB8MXJGW27k6"
      },
      "source": [
        "#Import"
      ]
    },
    {
      "cell_type": "code",
      "metadata": {
        "id": "xBeS9AsB2pNI"
      },
      "source": [
        "import pandas as pd\n",
        "import numpy as np"
      ],
      "execution_count": 1,
      "outputs": []
    },
    {
      "cell_type": "markdown",
      "metadata": {
        "id": "IQanysER3Lnw"
      },
      "source": [
        "## Dados categorizados"
      ]
    },
    {
      "cell_type": "code",
      "metadata": {
        "colab": {
          "base_uri": "https://localhost:8080/"
        },
        "id": "3iqJSMbj3Dmg",
        "outputId": "d619b5d6-c7f8-4c2a-87b4-c73aa6a26b66"
      },
      "source": [
        "values = pd.Series(['apple', 'orange','apple','apple'] * 2)\n",
        "values"
      ],
      "execution_count": 3,
      "outputs": [
        {
          "output_type": "execute_result",
          "data": {
            "text/plain": [
              "0     apple\n",
              "1    orange\n",
              "2     apple\n",
              "3     apple\n",
              "4     apple\n",
              "5    orange\n",
              "6     apple\n",
              "7     apple\n",
              "dtype: object"
            ]
          },
          "metadata": {},
          "execution_count": 3
        }
      ]
    },
    {
      "cell_type": "code",
      "metadata": {
        "colab": {
          "base_uri": "https://localhost:8080/"
        },
        "id": "9TRP566I3yFO",
        "outputId": "e7df3c6d-2ede-4561-a066-59cd29642acb"
      },
      "source": [
        "pd.unique(values)"
      ],
      "execution_count": 5,
      "outputs": [
        {
          "output_type": "execute_result",
          "data": {
            "text/plain": [
              "array(['apple', 'orange'], dtype=object)"
            ]
          },
          "metadata": {},
          "execution_count": 5
        }
      ]
    },
    {
      "cell_type": "code",
      "metadata": {
        "colab": {
          "base_uri": "https://localhost:8080/"
        },
        "id": "pOTPntR43m8A",
        "outputId": "15c9512a-f869-4536-df0a-259ecd39f449"
      },
      "source": [
        "pd.value_counts(values)"
      ],
      "execution_count": 4,
      "outputs": [
        {
          "output_type": "execute_result",
          "data": {
            "text/plain": [
              "apple     6\n",
              "orange    2\n",
              "dtype: int64"
            ]
          },
          "metadata": {},
          "execution_count": 4
        }
      ]
    },
    {
      "cell_type": "code",
      "metadata": {
        "colab": {
          "base_uri": "https://localhost:8080/"
        },
        "id": "DQdc4YfF3wHQ",
        "outputId": "e2e78d6f-8f1b-41ad-902e-68dfa2fd4fa9"
      },
      "source": [
        "values = pd.Series([0,1,0,0] * 2)\n",
        "dim = pd.Series(['apple','orange'])\n",
        "values"
      ],
      "execution_count": 7,
      "outputs": [
        {
          "output_type": "execute_result",
          "data": {
            "text/plain": [
              "0    0\n",
              "1    1\n",
              "2    0\n",
              "3    0\n",
              "4    0\n",
              "5    1\n",
              "6    0\n",
              "7    0\n",
              "dtype: int64"
            ]
          },
          "metadata": {},
          "execution_count": 7
        }
      ]
    },
    {
      "cell_type": "code",
      "metadata": {
        "colab": {
          "base_uri": "https://localhost:8080/"
        },
        "id": "zWEl0bh14B_f",
        "outputId": "4309183d-be1a-4105-ecb5-60094a3dc30f"
      },
      "source": [
        "dim"
      ],
      "execution_count": 8,
      "outputs": [
        {
          "output_type": "execute_result",
          "data": {
            "text/plain": [
              "0     apple\n",
              "1    orange\n",
              "dtype: object"
            ]
          },
          "metadata": {},
          "execution_count": 8
        }
      ]
    },
    {
      "cell_type": "code",
      "metadata": {
        "colab": {
          "base_uri": "https://localhost:8080/"
        },
        "id": "cUlaAc6o4KnA",
        "outputId": "847b28f0-0a98-4042-ac60-3cc571119254"
      },
      "source": [
        "dim.take(values)"
      ],
      "execution_count": 9,
      "outputs": [
        {
          "output_type": "execute_result",
          "data": {
            "text/plain": [
              "0     apple\n",
              "1    orange\n",
              "0     apple\n",
              "0     apple\n",
              "0     apple\n",
              "1    orange\n",
              "0     apple\n",
              "0     apple\n",
              "dtype: object"
            ]
          },
          "metadata": {},
          "execution_count": 9
        }
      ]
    },
    {
      "cell_type": "markdown",
      "metadata": {
        "id": "7sAKuT3H4eYM"
      },
      "source": [
        "**Tipo Categorical do pandas**"
      ]
    },
    {
      "cell_type": "code",
      "metadata": {
        "id": "uFbfpU6L4NpQ"
      },
      "source": [
        "fruits = ['apple', 'órange', 'apple', 'apple'] * 2\n",
        "N = len(fruits)"
      ],
      "execution_count": 10,
      "outputs": []
    },
    {
      "cell_type": "code",
      "metadata": {
        "colab": {
          "base_uri": "https://localhost:8080/",
          "height": 295
        },
        "id": "lZ08iTla4tHX",
        "outputId": "ba3ee3e3-644b-4dd8-a103-ea95e34eb5d3"
      },
      "source": [
        "df = pd.DataFrame({'fruit': fruits, 'basket_id':np.arange(N), 'count': np.random.randint(3,15, size=N), 'weight': np.random.uniform(0, 4, size=N)}, columns=['basket_id', 'fruit', 'count', 'weight'])\n",
        "df"
      ],
      "execution_count": 11,
      "outputs": [
        {
          "output_type": "execute_result",
          "data": {
            "text/html": [
              "<div>\n",
              "<style scoped>\n",
              "    .dataframe tbody tr th:only-of-type {\n",
              "        vertical-align: middle;\n",
              "    }\n",
              "\n",
              "    .dataframe tbody tr th {\n",
              "        vertical-align: top;\n",
              "    }\n",
              "\n",
              "    .dataframe thead th {\n",
              "        text-align: right;\n",
              "    }\n",
              "</style>\n",
              "<table border=\"1\" class=\"dataframe\">\n",
              "  <thead>\n",
              "    <tr style=\"text-align: right;\">\n",
              "      <th></th>\n",
              "      <th>basket_id</th>\n",
              "      <th>fruit</th>\n",
              "      <th>count</th>\n",
              "      <th>weight</th>\n",
              "    </tr>\n",
              "  </thead>\n",
              "  <tbody>\n",
              "    <tr>\n",
              "      <th>0</th>\n",
              "      <td>0</td>\n",
              "      <td>apple</td>\n",
              "      <td>8</td>\n",
              "      <td>1.476479</td>\n",
              "    </tr>\n",
              "    <tr>\n",
              "      <th>1</th>\n",
              "      <td>1</td>\n",
              "      <td>órange</td>\n",
              "      <td>10</td>\n",
              "      <td>3.444936</td>\n",
              "    </tr>\n",
              "    <tr>\n",
              "      <th>2</th>\n",
              "      <td>2</td>\n",
              "      <td>apple</td>\n",
              "      <td>4</td>\n",
              "      <td>0.211685</td>\n",
              "    </tr>\n",
              "    <tr>\n",
              "      <th>3</th>\n",
              "      <td>3</td>\n",
              "      <td>apple</td>\n",
              "      <td>6</td>\n",
              "      <td>2.845909</td>\n",
              "    </tr>\n",
              "    <tr>\n",
              "      <th>4</th>\n",
              "      <td>4</td>\n",
              "      <td>apple</td>\n",
              "      <td>5</td>\n",
              "      <td>3.623202</td>\n",
              "    </tr>\n",
              "    <tr>\n",
              "      <th>5</th>\n",
              "      <td>5</td>\n",
              "      <td>órange</td>\n",
              "      <td>14</td>\n",
              "      <td>2.584341</td>\n",
              "    </tr>\n",
              "    <tr>\n",
              "      <th>6</th>\n",
              "      <td>6</td>\n",
              "      <td>apple</td>\n",
              "      <td>5</td>\n",
              "      <td>3.719253</td>\n",
              "    </tr>\n",
              "    <tr>\n",
              "      <th>7</th>\n",
              "      <td>7</td>\n",
              "      <td>apple</td>\n",
              "      <td>12</td>\n",
              "      <td>1.129000</td>\n",
              "    </tr>\n",
              "  </tbody>\n",
              "</table>\n",
              "</div>"
            ],
            "text/plain": [
              "   basket_id   fruit  count    weight\n",
              "0          0   apple      8  1.476479\n",
              "1          1  órange     10  3.444936\n",
              "2          2   apple      4  0.211685\n",
              "3          3   apple      6  2.845909\n",
              "4          4   apple      5  3.623202\n",
              "5          5  órange     14  2.584341\n",
              "6          6   apple      5  3.719253\n",
              "7          7   apple     12  1.129000"
            ]
          },
          "metadata": {},
          "execution_count": 11
        }
      ]
    },
    {
      "cell_type": "code",
      "metadata": {
        "colab": {
          "base_uri": "https://localhost:8080/"
        },
        "id": "WEHxMYpR5QEK",
        "outputId": "c37cf630-7b90-4a64-80b5-7a2a0c0d246e"
      },
      "source": [
        "#Converter em categorias\n",
        "fruit_cat = df['fruit'].astype('category')\n",
        "fruit_cat"
      ],
      "execution_count": 12,
      "outputs": [
        {
          "output_type": "execute_result",
          "data": {
            "text/plain": [
              "0     apple\n",
              "1    órange\n",
              "2     apple\n",
              "3     apple\n",
              "4     apple\n",
              "5    órange\n",
              "6     apple\n",
              "7     apple\n",
              "Name: fruit, dtype: category\n",
              "Categories (2, object): ['apple', 'órange']"
            ]
          },
          "metadata": {},
          "execution_count": 12
        }
      ]
    },
    {
      "cell_type": "code",
      "metadata": {
        "colab": {
          "base_uri": "https://localhost:8080/"
        },
        "id": "ew4V3Lyi5fNI",
        "outputId": "90c24746-3fec-4a2c-e21c-bc83a3a67794"
      },
      "source": [
        "c = fruit_cat.values\n",
        "type(c)"
      ],
      "execution_count": 13,
      "outputs": [
        {
          "output_type": "execute_result",
          "data": {
            "text/plain": [
              "pandas.core.arrays.categorical.Categorical"
            ]
          },
          "metadata": {},
          "execution_count": 13
        }
      ]
    },
    {
      "cell_type": "code",
      "metadata": {
        "colab": {
          "base_uri": "https://localhost:8080/"
        },
        "id": "kPI7HdxD5vE_",
        "outputId": "f08e9bbf-9d48-47f5-b52d-98de0dbd86f1"
      },
      "source": [
        "c.codes"
      ],
      "execution_count": 14,
      "outputs": [
        {
          "output_type": "execute_result",
          "data": {
            "text/plain": [
              "array([0, 1, 0, 0, 0, 1, 0, 0], dtype=int8)"
            ]
          },
          "metadata": {},
          "execution_count": 14
        }
      ]
    },
    {
      "cell_type": "code",
      "metadata": {
        "colab": {
          "base_uri": "https://localhost:8080/"
        },
        "id": "Ib_-O_MR5yQg",
        "outputId": "efcce0ab-8eec-4f03-eb3a-093a415b0bbd"
      },
      "source": [
        "df['fruit'] = df['fruit'].astype('category')\n",
        "df.fruit"
      ],
      "execution_count": 16,
      "outputs": [
        {
          "output_type": "execute_result",
          "data": {
            "text/plain": [
              "0     apple\n",
              "1    órange\n",
              "2     apple\n",
              "3     apple\n",
              "4     apple\n",
              "5    órange\n",
              "6     apple\n",
              "7     apple\n",
              "Name: fruit, dtype: category\n",
              "Categories (2, object): ['apple', 'órange']"
            ]
          },
          "metadata": {},
          "execution_count": 16
        }
      ]
    },
    {
      "cell_type": "code",
      "metadata": {
        "colab": {
          "base_uri": "https://localhost:8080/"
        },
        "id": "E5ZfMJTj55Pm",
        "outputId": "6afb6779-20d2-4d95-b7f9-351cca13d85c"
      },
      "source": [
        "my_categories = pd.Categorical(['foo', 'bar', 'baz', 'foo', 'bar'])\n",
        "my_categories"
      ],
      "execution_count": 17,
      "outputs": [
        {
          "output_type": "execute_result",
          "data": {
            "text/plain": [
              "['foo', 'bar', 'baz', 'foo', 'bar']\n",
              "Categories (3, object): ['bar', 'baz', 'foo']"
            ]
          },
          "metadata": {},
          "execution_count": 17
        }
      ]
    },
    {
      "cell_type": "code",
      "metadata": {
        "colab": {
          "base_uri": "https://localhost:8080/"
        },
        "id": "gmrHEoN56I4A",
        "outputId": "a82da431-6058-4a4a-8214-ccb7dc0e93e5"
      },
      "source": [
        "categories = ['foo', 'bar', 'baz']\n",
        "codes = [0,1,2,0,0,1]\n",
        "my_cats_2 = pd.Categorical.from_codes(codes, categories)\n",
        "my_cats_2"
      ],
      "execution_count": 19,
      "outputs": [
        {
          "output_type": "execute_result",
          "data": {
            "text/plain": [
              "['foo', 'bar', 'baz', 'foo', 'foo', 'bar']\n",
              "Categories (3, object): ['foo', 'bar', 'baz']"
            ]
          },
          "metadata": {},
          "execution_count": 19
        }
      ]
    },
    {
      "cell_type": "code",
      "metadata": {
        "colab": {
          "base_uri": "https://localhost:8080/"
        },
        "id": "PymGFX5R6ZEA",
        "outputId": "9fe25177-6da7-47f4-8dee-2d23d9d1188f"
      },
      "source": [
        "ordered_cat = pd.Categorical.from_codes(codes, categories, ordered=True)\n",
        "ordered_cat"
      ],
      "execution_count": 20,
      "outputs": [
        {
          "output_type": "execute_result",
          "data": {
            "text/plain": [
              "['foo', 'bar', 'baz', 'foo', 'foo', 'bar']\n",
              "Categories (3, object): ['foo' < 'bar' < 'baz']"
            ]
          },
          "metadata": {},
          "execution_count": 20
        }
      ]
    },
    {
      "cell_type": "code",
      "metadata": {
        "colab": {
          "base_uri": "https://localhost:8080/"
        },
        "id": "AuSmwTnW6oJg",
        "outputId": "d8e29c26-d779-4623-ad0f-f273543d79e2"
      },
      "source": [
        "my_cats_2.as_ordered()"
      ],
      "execution_count": 21,
      "outputs": [
        {
          "output_type": "execute_result",
          "data": {
            "text/plain": [
              "['foo', 'bar', 'baz', 'foo', 'foo', 'bar']\n",
              "Categories (3, object): ['foo' < 'bar' < 'baz']"
            ]
          },
          "metadata": {},
          "execution_count": 21
        }
      ]
    },
    {
      "cell_type": "markdown",
      "metadata": {
        "id": "lQnwLSzf7BTA"
      },
      "source": [
        "**Processamentos com Categoricals**"
      ]
    },
    {
      "cell_type": "code",
      "metadata": {
        "id": "ymXcSBeM6_4h"
      },
      "source": [
        ""
      ],
      "execution_count": null,
      "outputs": []
    },
    {
      "cell_type": "code",
      "metadata": {
        "id": "RUt74vJK6wMg"
      },
      "source": [
        ""
      ],
      "execution_count": null,
      "outputs": []
    }
  ]
}