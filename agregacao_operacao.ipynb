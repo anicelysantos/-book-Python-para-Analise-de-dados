{
  "nbformat": 4,
  "nbformat_minor": 0,
  "metadata": {
    "colab": {
      "name": "agregacao_operacao.ipynb",
      "provenance": [],
      "mount_file_id": "1noMOFYF1lTRZYFAbJ6nuspmwh4WiXsIR",
      "authorship_tag": "ABX9TyPWv7qMrd+iH9o/wtokTba8",
      "include_colab_link": true
    },
    "kernelspec": {
      "name": "python3",
      "display_name": "Python 3"
    },
    "language_info": {
      "name": "python"
    }
  },
  "cells": [
    {
      "cell_type": "markdown",
      "metadata": {
        "id": "view-in-github",
        "colab_type": "text"
      },
      "source": [
        "<a href=\"https://colab.research.google.com/github/anicelysantos/book-python-para-analise-de-dados/blob/main/agregacao_operacao.ipynb\" target=\"_parent\"><img src=\"https://colab.research.google.com/assets/colab-badge.svg\" alt=\"Open In Colab\"/></a>"
      ]
    },
    {
      "cell_type": "markdown",
      "metadata": {
        "id": "5jjY432FHnLW"
      },
      "source": [
        "# Imports"
      ]
    },
    {
      "cell_type": "code",
      "metadata": {
        "id": "RfgthO9THGSS"
      },
      "source": [
        "import pandas as pd\n",
        "import numpy as np"
      ],
      "execution_count": 1,
      "outputs": []
    },
    {
      "cell_type": "markdown",
      "metadata": {
        "id": "GxMZ7U44HuFQ"
      },
      "source": [
        "# Funcionamento do GroupBy"
      ]
    },
    {
      "cell_type": "code",
      "metadata": {
        "colab": {
          "base_uri": "https://localhost:8080/",
          "height": 0
        },
        "id": "5V4Y2iwIHsaq",
        "outputId": "f6d6f43c-a20a-46e0-dd61-73787fd3a1cc"
      },
      "source": [
        "df = pd.DataFrame({'key1':['a','a','b','b','a'], 'key':['one','two','one','two','one'], 'data1': np.random.randn(5), 'data2': np.random.randn(5)})\n",
        "df"
      ],
      "execution_count": 2,
      "outputs": [
        {
          "output_type": "execute_result",
          "data": {
            "text/html": [
              "<div>\n",
              "<style scoped>\n",
              "    .dataframe tbody tr th:only-of-type {\n",
              "        vertical-align: middle;\n",
              "    }\n",
              "\n",
              "    .dataframe tbody tr th {\n",
              "        vertical-align: top;\n",
              "    }\n",
              "\n",
              "    .dataframe thead th {\n",
              "        text-align: right;\n",
              "    }\n",
              "</style>\n",
              "<table border=\"1\" class=\"dataframe\">\n",
              "  <thead>\n",
              "    <tr style=\"text-align: right;\">\n",
              "      <th></th>\n",
              "      <th>key1</th>\n",
              "      <th>key</th>\n",
              "      <th>data1</th>\n",
              "      <th>data2</th>\n",
              "    </tr>\n",
              "  </thead>\n",
              "  <tbody>\n",
              "    <tr>\n",
              "      <th>0</th>\n",
              "      <td>a</td>\n",
              "      <td>one</td>\n",
              "      <td>-0.950897</td>\n",
              "      <td>-0.694694</td>\n",
              "    </tr>\n",
              "    <tr>\n",
              "      <th>1</th>\n",
              "      <td>a</td>\n",
              "      <td>two</td>\n",
              "      <td>0.596709</td>\n",
              "      <td>0.178958</td>\n",
              "    </tr>\n",
              "    <tr>\n",
              "      <th>2</th>\n",
              "      <td>b</td>\n",
              "      <td>one</td>\n",
              "      <td>0.094659</td>\n",
              "      <td>1.470432</td>\n",
              "    </tr>\n",
              "    <tr>\n",
              "      <th>3</th>\n",
              "      <td>b</td>\n",
              "      <td>two</td>\n",
              "      <td>-0.173237</td>\n",
              "      <td>0.739496</td>\n",
              "    </tr>\n",
              "    <tr>\n",
              "      <th>4</th>\n",
              "      <td>a</td>\n",
              "      <td>one</td>\n",
              "      <td>-1.079050</td>\n",
              "      <td>0.226275</td>\n",
              "    </tr>\n",
              "  </tbody>\n",
              "</table>\n",
              "</div>"
            ],
            "text/plain": [
              "  key1  key     data1     data2\n",
              "0    a  one -0.950897 -0.694694\n",
              "1    a  two  0.596709  0.178958\n",
              "2    b  one  0.094659  1.470432\n",
              "3    b  two -0.173237  0.739496\n",
              "4    a  one -1.079050  0.226275"
            ]
          },
          "metadata": {},
          "execution_count": 2
        }
      ]
    },
    {
      "cell_type": "code",
      "metadata": {
        "colab": {
          "base_uri": "https://localhost:8080/"
        },
        "id": "2-zKLOgxIy-i",
        "outputId": "4f8936cd-3ad8-485e-e7a8-3e0ab1583c39"
      },
      "source": [
        "grouped = df['data1'].groupby(df['key1'])\n",
        "grouped"
      ],
      "execution_count": 3,
      "outputs": [
        {
          "output_type": "execute_result",
          "data": {
            "text/plain": [
              "<pandas.core.groupby.generic.SeriesGroupBy object at 0x7fabfa171f50>"
            ]
          },
          "metadata": {},
          "execution_count": 3
        }
      ]
    },
    {
      "cell_type": "code",
      "metadata": {
        "colab": {
          "base_uri": "https://localhost:8080/"
        },
        "id": "_oV0DEhCJLLw",
        "outputId": "aed37a14-05b1-445a-d537-5ad3528a0cda"
      },
      "source": [
        "grouped.mean()"
      ],
      "execution_count": 4,
      "outputs": [
        {
          "output_type": "execute_result",
          "data": {
            "text/plain": [
              "key1\n",
              "a   -0.477746\n",
              "b   -0.039289\n",
              "Name: data1, dtype: float64"
            ]
          },
          "metadata": {},
          "execution_count": 4
        }
      ]
    },
    {
      "cell_type": "code",
      "metadata": {
        "colab": {
          "base_uri": "https://localhost:8080/"
        },
        "id": "k8qNfqWaJUYo",
        "outputId": "b7f121b0-1ecd-4a56-8f03-ef5a222f6a5c"
      },
      "source": [
        "means = df['data1'].groupby([df['key1'], df['key']]).mean()\n",
        "means"
      ],
      "execution_count": 5,
      "outputs": [
        {
          "output_type": "execute_result",
          "data": {
            "text/plain": [
              "key1  key\n",
              "a     one   -1.014973\n",
              "      two    0.596709\n",
              "b     one    0.094659\n",
              "      two   -0.173237\n",
              "Name: data1, dtype: float64"
            ]
          },
          "metadata": {},
          "execution_count": 5
        }
      ]
    },
    {
      "cell_type": "code",
      "metadata": {
        "colab": {
          "base_uri": "https://localhost:8080/",
          "height": 0
        },
        "id": "VGn2FL5UJnTI",
        "outputId": "ffa3fa90-407c-47c4-85bc-9ca8c98c02f9"
      },
      "source": [
        "means.unstack()"
      ],
      "execution_count": 6,
      "outputs": [
        {
          "output_type": "execute_result",
          "data": {
            "text/html": [
              "<div>\n",
              "<style scoped>\n",
              "    .dataframe tbody tr th:only-of-type {\n",
              "        vertical-align: middle;\n",
              "    }\n",
              "\n",
              "    .dataframe tbody tr th {\n",
              "        vertical-align: top;\n",
              "    }\n",
              "\n",
              "    .dataframe thead th {\n",
              "        text-align: right;\n",
              "    }\n",
              "</style>\n",
              "<table border=\"1\" class=\"dataframe\">\n",
              "  <thead>\n",
              "    <tr style=\"text-align: right;\">\n",
              "      <th>key</th>\n",
              "      <th>one</th>\n",
              "      <th>two</th>\n",
              "    </tr>\n",
              "    <tr>\n",
              "      <th>key1</th>\n",
              "      <th></th>\n",
              "      <th></th>\n",
              "    </tr>\n",
              "  </thead>\n",
              "  <tbody>\n",
              "    <tr>\n",
              "      <th>a</th>\n",
              "      <td>-1.014973</td>\n",
              "      <td>0.596709</td>\n",
              "    </tr>\n",
              "    <tr>\n",
              "      <th>b</th>\n",
              "      <td>0.094659</td>\n",
              "      <td>-0.173237</td>\n",
              "    </tr>\n",
              "  </tbody>\n",
              "</table>\n",
              "</div>"
            ],
            "text/plain": [
              "key        one       two\n",
              "key1                    \n",
              "a    -1.014973  0.596709\n",
              "b     0.094659 -0.173237"
            ]
          },
          "metadata": {},
          "execution_count": 6
        }
      ]
    },
    {
      "cell_type": "code",
      "metadata": {
        "colab": {
          "base_uri": "https://localhost:8080/"
        },
        "id": "NyP9_3lgKJI3",
        "outputId": "1d82ce2f-e356-4c41-ebab-1a8d95c4d490"
      },
      "source": [
        "states = np.array(['Ohio', 'California', 'California', 'Ohio', 'Ohio'])\n",
        "years = np.array([2005, 2005, 2006, 2005, 2006])\n",
        "df['data1'].groupby([states, years]).mean()"
      ],
      "execution_count": 7,
      "outputs": [
        {
          "output_type": "execute_result",
          "data": {
            "text/plain": [
              "California  2005    0.596709\n",
              "            2006    0.094659\n",
              "Ohio        2005   -0.562067\n",
              "            2006   -1.079050\n",
              "Name: data1, dtype: float64"
            ]
          },
          "metadata": {},
          "execution_count": 7
        }
      ]
    },
    {
      "cell_type": "code",
      "metadata": {
        "colab": {
          "base_uri": "https://localhost:8080/",
          "height": 0
        },
        "id": "qqmv_S46K6Wq",
        "outputId": "54042960-f9ea-4616-9395-4a0410754dcd"
      },
      "source": [
        "df.groupby('key1').mean()"
      ],
      "execution_count": 8,
      "outputs": [
        {
          "output_type": "execute_result",
          "data": {
            "text/html": [
              "<div>\n",
              "<style scoped>\n",
              "    .dataframe tbody tr th:only-of-type {\n",
              "        vertical-align: middle;\n",
              "    }\n",
              "\n",
              "    .dataframe tbody tr th {\n",
              "        vertical-align: top;\n",
              "    }\n",
              "\n",
              "    .dataframe thead th {\n",
              "        text-align: right;\n",
              "    }\n",
              "</style>\n",
              "<table border=\"1\" class=\"dataframe\">\n",
              "  <thead>\n",
              "    <tr style=\"text-align: right;\">\n",
              "      <th></th>\n",
              "      <th>data1</th>\n",
              "      <th>data2</th>\n",
              "    </tr>\n",
              "    <tr>\n",
              "      <th>key1</th>\n",
              "      <th></th>\n",
              "      <th></th>\n",
              "    </tr>\n",
              "  </thead>\n",
              "  <tbody>\n",
              "    <tr>\n",
              "      <th>a</th>\n",
              "      <td>-0.477746</td>\n",
              "      <td>-0.096487</td>\n",
              "    </tr>\n",
              "    <tr>\n",
              "      <th>b</th>\n",
              "      <td>-0.039289</td>\n",
              "      <td>1.104964</td>\n",
              "    </tr>\n",
              "  </tbody>\n",
              "</table>\n",
              "</div>"
            ],
            "text/plain": [
              "         data1     data2\n",
              "key1                    \n",
              "a    -0.477746 -0.096487\n",
              "b    -0.039289  1.104964"
            ]
          },
          "metadata": {},
          "execution_count": 8
        }
      ]
    },
    {
      "cell_type": "code",
      "metadata": {
        "colab": {
          "base_uri": "https://localhost:8080/",
          "height": 0
        },
        "id": "xGIKLGxeLPA_",
        "outputId": "b97fbcea-bb02-418b-ce81-734cde05b4f4"
      },
      "source": [
        "df.groupby(['key1', 'key']).mean()"
      ],
      "execution_count": 9,
      "outputs": [
        {
          "output_type": "execute_result",
          "data": {
            "text/html": [
              "<div>\n",
              "<style scoped>\n",
              "    .dataframe tbody tr th:only-of-type {\n",
              "        vertical-align: middle;\n",
              "    }\n",
              "\n",
              "    .dataframe tbody tr th {\n",
              "        vertical-align: top;\n",
              "    }\n",
              "\n",
              "    .dataframe thead th {\n",
              "        text-align: right;\n",
              "    }\n",
              "</style>\n",
              "<table border=\"1\" class=\"dataframe\">\n",
              "  <thead>\n",
              "    <tr style=\"text-align: right;\">\n",
              "      <th></th>\n",
              "      <th></th>\n",
              "      <th>data1</th>\n",
              "      <th>data2</th>\n",
              "    </tr>\n",
              "    <tr>\n",
              "      <th>key1</th>\n",
              "      <th>key</th>\n",
              "      <th></th>\n",
              "      <th></th>\n",
              "    </tr>\n",
              "  </thead>\n",
              "  <tbody>\n",
              "    <tr>\n",
              "      <th rowspan=\"2\" valign=\"top\">a</th>\n",
              "      <th>one</th>\n",
              "      <td>-1.014973</td>\n",
              "      <td>-0.234210</td>\n",
              "    </tr>\n",
              "    <tr>\n",
              "      <th>two</th>\n",
              "      <td>0.596709</td>\n",
              "      <td>0.178958</td>\n",
              "    </tr>\n",
              "    <tr>\n",
              "      <th rowspan=\"2\" valign=\"top\">b</th>\n",
              "      <th>one</th>\n",
              "      <td>0.094659</td>\n",
              "      <td>1.470432</td>\n",
              "    </tr>\n",
              "    <tr>\n",
              "      <th>two</th>\n",
              "      <td>-0.173237</td>\n",
              "      <td>0.739496</td>\n",
              "    </tr>\n",
              "  </tbody>\n",
              "</table>\n",
              "</div>"
            ],
            "text/plain": [
              "             data1     data2\n",
              "key1 key                    \n",
              "a    one -1.014973 -0.234210\n",
              "     two  0.596709  0.178958\n",
              "b    one  0.094659  1.470432\n",
              "     two -0.173237  0.739496"
            ]
          },
          "metadata": {},
          "execution_count": 9
        }
      ]
    },
    {
      "cell_type": "code",
      "metadata": {
        "colab": {
          "base_uri": "https://localhost:8080/"
        },
        "id": "hUxXkjRoLa-o",
        "outputId": "6ea4eab7-38de-4bbe-a260-617a26b1b8c1"
      },
      "source": [
        "df.groupby(['key1', 'key']).size()"
      ],
      "execution_count": 10,
      "outputs": [
        {
          "output_type": "execute_result",
          "data": {
            "text/plain": [
              "key1  key\n",
              "a     one    2\n",
              "      two    1\n",
              "b     one    1\n",
              "      two    1\n",
              "dtype: int64"
            ]
          },
          "metadata": {},
          "execution_count": 10
        }
      ]
    },
    {
      "cell_type": "markdown",
      "metadata": {
        "id": "8IstEpqZMFgE"
      },
      "source": [
        "**Iterando por grupos**"
      ]
    },
    {
      "cell_type": "code",
      "metadata": {
        "colab": {
          "base_uri": "https://localhost:8080/"
        },
        "id": "UdwDqUJsL_Qf",
        "outputId": "36e664be-3281-4e88-81d3-44e877e8b799"
      },
      "source": [
        "for nome, grupo in df.groupby('key1'):\n",
        "  print(nome)\n",
        "  print(grupo)"
      ],
      "execution_count": 11,
      "outputs": [
        {
          "output_type": "stream",
          "name": "stdout",
          "text": [
            "a\n",
            "  key1  key     data1     data2\n",
            "0    a  one -0.950897 -0.694694\n",
            "1    a  two  0.596709  0.178958\n",
            "4    a  one -1.079050  0.226275\n",
            "b\n",
            "  key1  key     data1     data2\n",
            "2    b  one  0.094659  1.470432\n",
            "3    b  two -0.173237  0.739496\n"
          ]
        }
      ]
    },
    {
      "cell_type": "code",
      "metadata": {
        "colab": {
          "base_uri": "https://localhost:8080/"
        },
        "id": "e-n1UWr8MaM6",
        "outputId": "bf1458cf-521c-4739-9278-31744fb48a03"
      },
      "source": [
        "for (k1,k2), grupo in df.groupby(['key1','key']):\n",
        "  print((k1,k2))\n",
        "  print(grupo)"
      ],
      "execution_count": 12,
      "outputs": [
        {
          "output_type": "stream",
          "name": "stdout",
          "text": [
            "('a', 'one')\n",
            "  key1  key     data1     data2\n",
            "0    a  one -0.950897 -0.694694\n",
            "4    a  one -1.079050  0.226275\n",
            "('a', 'two')\n",
            "  key1  key     data1     data2\n",
            "1    a  two  0.596709  0.178958\n",
            "('b', 'one')\n",
            "  key1  key     data1     data2\n",
            "2    b  one  0.094659  1.470432\n",
            "('b', 'two')\n",
            "  key1  key     data1     data2\n",
            "3    b  two -0.173237  0.739496\n"
          ]
        }
      ]
    },
    {
      "cell_type": "code",
      "metadata": {
        "colab": {
          "base_uri": "https://localhost:8080/",
          "height": 0
        },
        "id": "QQ21uSpNMtEH",
        "outputId": "89a1eb49-743c-423e-f6a1-a6fb64381a6c"
      },
      "source": [
        "#gerando dicionario com uma parte dos dados\n",
        "\n",
        "parte = dict(list(df.groupby('key1')))\n",
        "parte['b']"
      ],
      "execution_count": 13,
      "outputs": [
        {
          "output_type": "execute_result",
          "data": {
            "text/html": [
              "<div>\n",
              "<style scoped>\n",
              "    .dataframe tbody tr th:only-of-type {\n",
              "        vertical-align: middle;\n",
              "    }\n",
              "\n",
              "    .dataframe tbody tr th {\n",
              "        vertical-align: top;\n",
              "    }\n",
              "\n",
              "    .dataframe thead th {\n",
              "        text-align: right;\n",
              "    }\n",
              "</style>\n",
              "<table border=\"1\" class=\"dataframe\">\n",
              "  <thead>\n",
              "    <tr style=\"text-align: right;\">\n",
              "      <th></th>\n",
              "      <th>key1</th>\n",
              "      <th>key</th>\n",
              "      <th>data1</th>\n",
              "      <th>data2</th>\n",
              "    </tr>\n",
              "  </thead>\n",
              "  <tbody>\n",
              "    <tr>\n",
              "      <th>2</th>\n",
              "      <td>b</td>\n",
              "      <td>one</td>\n",
              "      <td>0.094659</td>\n",
              "      <td>1.470432</td>\n",
              "    </tr>\n",
              "    <tr>\n",
              "      <th>3</th>\n",
              "      <td>b</td>\n",
              "      <td>two</td>\n",
              "      <td>-0.173237</td>\n",
              "      <td>0.739496</td>\n",
              "    </tr>\n",
              "  </tbody>\n",
              "</table>\n",
              "</div>"
            ],
            "text/plain": [
              "  key1  key     data1     data2\n",
              "2    b  one  0.094659  1.470432\n",
              "3    b  two -0.173237  0.739496"
            ]
          },
          "metadata": {},
          "execution_count": 13
        }
      ]
    },
    {
      "cell_type": "code",
      "metadata": {
        "colab": {
          "base_uri": "https://localhost:8080/"
        },
        "id": "jk-lq2umNIzu",
        "outputId": "3aa2a555-df01-4506-e261-690cf86d3b0f"
      },
      "source": [
        "df.dtypes"
      ],
      "execution_count": 14,
      "outputs": [
        {
          "output_type": "execute_result",
          "data": {
            "text/plain": [
              "key1      object\n",
              "key       object\n",
              "data1    float64\n",
              "data2    float64\n",
              "dtype: object"
            ]
          },
          "metadata": {},
          "execution_count": 14
        }
      ]
    },
    {
      "cell_type": "code",
      "metadata": {
        "colab": {
          "base_uri": "https://localhost:8080/"
        },
        "id": "9nFWZy8qNV_f",
        "outputId": "8e419a7d-cd3f-4af0-eb08-2f0b8f28f0c0"
      },
      "source": [
        "grouped = df.groupby(df.dtypes, axis=1)\n",
        "for dtype, grupo in grouped:\n",
        "  print(dtype)\n",
        "  print(grupo)"
      ],
      "execution_count": 15,
      "outputs": [
        {
          "output_type": "stream",
          "name": "stdout",
          "text": [
            "float64\n",
            "      data1     data2\n",
            "0 -0.950897 -0.694694\n",
            "1  0.596709  0.178958\n",
            "2  0.094659  1.470432\n",
            "3 -0.173237  0.739496\n",
            "4 -1.079050  0.226275\n",
            "object\n",
            "  key1  key\n",
            "0    a  one\n",
            "1    a  two\n",
            "2    b  one\n",
            "3    b  two\n",
            "4    a  one\n"
          ]
        }
      ]
    },
    {
      "cell_type": "markdown",
      "metadata": {
        "id": "koShy4SKN6Nw"
      },
      "source": [
        "**Selecionando uma coluna ou um subconjunto de colunas**"
      ]
    },
    {
      "cell_type": "code",
      "metadata": {
        "id": "XF-CzIYtNkg3",
        "colab": {
          "base_uri": "https://localhost:8080/",
          "height": 0
        },
        "outputId": "35f4a72b-ec97-41bb-d16e-dc94b03ac135"
      },
      "source": [
        "df.groupby(['key1', 'key'])[['data2']].mean()"
      ],
      "execution_count": 16,
      "outputs": [
        {
          "output_type": "execute_result",
          "data": {
            "text/html": [
              "<div>\n",
              "<style scoped>\n",
              "    .dataframe tbody tr th:only-of-type {\n",
              "        vertical-align: middle;\n",
              "    }\n",
              "\n",
              "    .dataframe tbody tr th {\n",
              "        vertical-align: top;\n",
              "    }\n",
              "\n",
              "    .dataframe thead th {\n",
              "        text-align: right;\n",
              "    }\n",
              "</style>\n",
              "<table border=\"1\" class=\"dataframe\">\n",
              "  <thead>\n",
              "    <tr style=\"text-align: right;\">\n",
              "      <th></th>\n",
              "      <th></th>\n",
              "      <th>data2</th>\n",
              "    </tr>\n",
              "    <tr>\n",
              "      <th>key1</th>\n",
              "      <th>key</th>\n",
              "      <th></th>\n",
              "    </tr>\n",
              "  </thead>\n",
              "  <tbody>\n",
              "    <tr>\n",
              "      <th rowspan=\"2\" valign=\"top\">a</th>\n",
              "      <th>one</th>\n",
              "      <td>-0.234210</td>\n",
              "    </tr>\n",
              "    <tr>\n",
              "      <th>two</th>\n",
              "      <td>0.178958</td>\n",
              "    </tr>\n",
              "    <tr>\n",
              "      <th rowspan=\"2\" valign=\"top\">b</th>\n",
              "      <th>one</th>\n",
              "      <td>1.470432</td>\n",
              "    </tr>\n",
              "    <tr>\n",
              "      <th>two</th>\n",
              "      <td>0.739496</td>\n",
              "    </tr>\n",
              "  </tbody>\n",
              "</table>\n",
              "</div>"
            ],
            "text/plain": [
              "             data2\n",
              "key1 key          \n",
              "a    one -0.234210\n",
              "     two  0.178958\n",
              "b    one  1.470432\n",
              "     two  0.739496"
            ]
          },
          "metadata": {},
          "execution_count": 16
        }
      ]
    },
    {
      "cell_type": "code",
      "metadata": {
        "colab": {
          "base_uri": "https://localhost:8080/"
        },
        "id": "id3BVx0QQU5t",
        "outputId": "51971bea-be82-4c12-d03b-7dd3285bfa9a"
      },
      "source": [
        "s_grouped = df.groupby(['key1', 'key'])['data2']\n",
        "s_grouped"
      ],
      "execution_count": 17,
      "outputs": [
        {
          "output_type": "execute_result",
          "data": {
            "text/plain": [
              "<pandas.core.groupby.generic.SeriesGroupBy object at 0x7fabf7efc2d0>"
            ]
          },
          "metadata": {},
          "execution_count": 17
        }
      ]
    },
    {
      "cell_type": "code",
      "metadata": {
        "colab": {
          "base_uri": "https://localhost:8080/"
        },
        "id": "4TJ1_RZ7Ql3c",
        "outputId": "022ddbcd-4566-4fb0-b27a-2e9c610d6f17"
      },
      "source": [
        "s_grouped.mean()"
      ],
      "execution_count": 18,
      "outputs": [
        {
          "output_type": "execute_result",
          "data": {
            "text/plain": [
              "key1  key\n",
              "a     one   -0.234210\n",
              "      two    0.178958\n",
              "b     one    1.470432\n",
              "      two    0.739496\n",
              "Name: data2, dtype: float64"
            ]
          },
          "metadata": {},
          "execution_count": 18
        }
      ]
    },
    {
      "cell_type": "markdown",
      "metadata": {
        "id": "h7DK7KuzQt7V"
      },
      "source": [
        "**Agrupando com dicionário e séries**"
      ]
    },
    {
      "cell_type": "code",
      "metadata": {
        "id": "PF4c-i9jQpK8"
      },
      "source": [
        "people = pd.DataFrame(np.random.randn(5,5), columns=['a','b','c','d','e'], index=['Joe', 'Steve','Wes','Jim','Travis'])"
      ],
      "execution_count": 19,
      "outputs": []
    },
    {
      "cell_type": "code",
      "metadata": {
        "colab": {
          "base_uri": "https://localhost:8080/",
          "height": 0
        },
        "id": "duwWBJ7YSyG1",
        "outputId": "6d05bcdc-7ba6-4586-bc9b-a79e0473bcd4"
      },
      "source": [
        "people.iloc[2:3, [1,2]] = np.nan\n",
        "people"
      ],
      "execution_count": 20,
      "outputs": [
        {
          "output_type": "execute_result",
          "data": {
            "text/html": [
              "<div>\n",
              "<style scoped>\n",
              "    .dataframe tbody tr th:only-of-type {\n",
              "        vertical-align: middle;\n",
              "    }\n",
              "\n",
              "    .dataframe tbody tr th {\n",
              "        vertical-align: top;\n",
              "    }\n",
              "\n",
              "    .dataframe thead th {\n",
              "        text-align: right;\n",
              "    }\n",
              "</style>\n",
              "<table border=\"1\" class=\"dataframe\">\n",
              "  <thead>\n",
              "    <tr style=\"text-align: right;\">\n",
              "      <th></th>\n",
              "      <th>a</th>\n",
              "      <th>b</th>\n",
              "      <th>c</th>\n",
              "      <th>d</th>\n",
              "      <th>e</th>\n",
              "    </tr>\n",
              "  </thead>\n",
              "  <tbody>\n",
              "    <tr>\n",
              "      <th>Joe</th>\n",
              "      <td>0.474035</td>\n",
              "      <td>-1.204396</td>\n",
              "      <td>0.774253</td>\n",
              "      <td>-1.811567</td>\n",
              "      <td>-0.430256</td>\n",
              "    </tr>\n",
              "    <tr>\n",
              "      <th>Steve</th>\n",
              "      <td>0.069272</td>\n",
              "      <td>0.574580</td>\n",
              "      <td>0.078497</td>\n",
              "      <td>-0.438589</td>\n",
              "      <td>-0.282080</td>\n",
              "    </tr>\n",
              "    <tr>\n",
              "      <th>Wes</th>\n",
              "      <td>1.726387</td>\n",
              "      <td>NaN</td>\n",
              "      <td>NaN</td>\n",
              "      <td>1.761227</td>\n",
              "      <td>-0.721167</td>\n",
              "    </tr>\n",
              "    <tr>\n",
              "      <th>Jim</th>\n",
              "      <td>-0.758931</td>\n",
              "      <td>0.959213</td>\n",
              "      <td>0.250459</td>\n",
              "      <td>-0.937261</td>\n",
              "      <td>-0.888321</td>\n",
              "    </tr>\n",
              "    <tr>\n",
              "      <th>Travis</th>\n",
              "      <td>-0.676906</td>\n",
              "      <td>-1.551953</td>\n",
              "      <td>0.141208</td>\n",
              "      <td>1.481632</td>\n",
              "      <td>-0.180313</td>\n",
              "    </tr>\n",
              "  </tbody>\n",
              "</table>\n",
              "</div>"
            ],
            "text/plain": [
              "               a         b         c         d         e\n",
              "Joe     0.474035 -1.204396  0.774253 -1.811567 -0.430256\n",
              "Steve   0.069272  0.574580  0.078497 -0.438589 -0.282080\n",
              "Wes     1.726387       NaN       NaN  1.761227 -0.721167\n",
              "Jim    -0.758931  0.959213  0.250459 -0.937261 -0.888321\n",
              "Travis -0.676906 -1.551953  0.141208  1.481632 -0.180313"
            ]
          },
          "metadata": {},
          "execution_count": 20
        }
      ]
    },
    {
      "cell_type": "code",
      "metadata": {
        "id": "UhBC6xW7S-gl"
      },
      "source": [
        "#somar as colunas por grupo\n",
        "mapping = {'a': 'red', 'b':'red', 'c':'blue', 'd':'blue','e':'red','f':'orange'}"
      ],
      "execution_count": 21,
      "outputs": []
    },
    {
      "cell_type": "code",
      "metadata": {
        "colab": {
          "base_uri": "https://localhost:8080/",
          "height": 0
        },
        "id": "PIs_AYBcTb7M",
        "outputId": "38553550-0cc3-4cfb-a8af-8663111c3df7"
      },
      "source": [
        "by_columns = people.groupby(mapping, axis=1)\n",
        "by_columns.sum()"
      ],
      "execution_count": 22,
      "outputs": [
        {
          "output_type": "execute_result",
          "data": {
            "text/html": [
              "<div>\n",
              "<style scoped>\n",
              "    .dataframe tbody tr th:only-of-type {\n",
              "        vertical-align: middle;\n",
              "    }\n",
              "\n",
              "    .dataframe tbody tr th {\n",
              "        vertical-align: top;\n",
              "    }\n",
              "\n",
              "    .dataframe thead th {\n",
              "        text-align: right;\n",
              "    }\n",
              "</style>\n",
              "<table border=\"1\" class=\"dataframe\">\n",
              "  <thead>\n",
              "    <tr style=\"text-align: right;\">\n",
              "      <th></th>\n",
              "      <th>blue</th>\n",
              "      <th>red</th>\n",
              "    </tr>\n",
              "  </thead>\n",
              "  <tbody>\n",
              "    <tr>\n",
              "      <th>Joe</th>\n",
              "      <td>-1.037315</td>\n",
              "      <td>-1.160617</td>\n",
              "    </tr>\n",
              "    <tr>\n",
              "      <th>Steve</th>\n",
              "      <td>-0.360091</td>\n",
              "      <td>0.361772</td>\n",
              "    </tr>\n",
              "    <tr>\n",
              "      <th>Wes</th>\n",
              "      <td>1.761227</td>\n",
              "      <td>1.005220</td>\n",
              "    </tr>\n",
              "    <tr>\n",
              "      <th>Jim</th>\n",
              "      <td>-0.686802</td>\n",
              "      <td>-0.688039</td>\n",
              "    </tr>\n",
              "    <tr>\n",
              "      <th>Travis</th>\n",
              "      <td>1.622839</td>\n",
              "      <td>-2.409172</td>\n",
              "    </tr>\n",
              "  </tbody>\n",
              "</table>\n",
              "</div>"
            ],
            "text/plain": [
              "            blue       red\n",
              "Joe    -1.037315 -1.160617\n",
              "Steve  -0.360091  0.361772\n",
              "Wes     1.761227  1.005220\n",
              "Jim    -0.686802 -0.688039\n",
              "Travis  1.622839 -2.409172"
            ]
          },
          "metadata": {},
          "execution_count": 22
        }
      ]
    },
    {
      "cell_type": "code",
      "metadata": {
        "colab": {
          "base_uri": "https://localhost:8080/"
        },
        "id": "ZwoCWBWJTsAl",
        "outputId": "3147357f-30b0-4a96-e1c1-70b654a9fc98"
      },
      "source": [
        "map_series = pd.Series(mapping)\n",
        "map_series"
      ],
      "execution_count": 23,
      "outputs": [
        {
          "output_type": "execute_result",
          "data": {
            "text/plain": [
              "a       red\n",
              "b       red\n",
              "c      blue\n",
              "d      blue\n",
              "e       red\n",
              "f    orange\n",
              "dtype: object"
            ]
          },
          "metadata": {},
          "execution_count": 23
        }
      ]
    },
    {
      "cell_type": "code",
      "metadata": {
        "colab": {
          "base_uri": "https://localhost:8080/",
          "height": 0
        },
        "id": "yVbFIU0tT9C9",
        "outputId": "2097965e-304d-4bc6-f627-45e9ec30b815"
      },
      "source": [
        "people.groupby(map_series, axis=1).count()"
      ],
      "execution_count": 24,
      "outputs": [
        {
          "output_type": "execute_result",
          "data": {
            "text/html": [
              "<div>\n",
              "<style scoped>\n",
              "    .dataframe tbody tr th:only-of-type {\n",
              "        vertical-align: middle;\n",
              "    }\n",
              "\n",
              "    .dataframe tbody tr th {\n",
              "        vertical-align: top;\n",
              "    }\n",
              "\n",
              "    .dataframe thead th {\n",
              "        text-align: right;\n",
              "    }\n",
              "</style>\n",
              "<table border=\"1\" class=\"dataframe\">\n",
              "  <thead>\n",
              "    <tr style=\"text-align: right;\">\n",
              "      <th></th>\n",
              "      <th>blue</th>\n",
              "      <th>red</th>\n",
              "    </tr>\n",
              "  </thead>\n",
              "  <tbody>\n",
              "    <tr>\n",
              "      <th>Joe</th>\n",
              "      <td>2</td>\n",
              "      <td>3</td>\n",
              "    </tr>\n",
              "    <tr>\n",
              "      <th>Steve</th>\n",
              "      <td>2</td>\n",
              "      <td>3</td>\n",
              "    </tr>\n",
              "    <tr>\n",
              "      <th>Wes</th>\n",
              "      <td>1</td>\n",
              "      <td>2</td>\n",
              "    </tr>\n",
              "    <tr>\n",
              "      <th>Jim</th>\n",
              "      <td>2</td>\n",
              "      <td>3</td>\n",
              "    </tr>\n",
              "    <tr>\n",
              "      <th>Travis</th>\n",
              "      <td>2</td>\n",
              "      <td>3</td>\n",
              "    </tr>\n",
              "  </tbody>\n",
              "</table>\n",
              "</div>"
            ],
            "text/plain": [
              "        blue  red\n",
              "Joe        2    3\n",
              "Steve      2    3\n",
              "Wes        1    2\n",
              "Jim        2    3\n",
              "Travis     2    3"
            ]
          },
          "metadata": {},
          "execution_count": 24
        }
      ]
    },
    {
      "cell_type": "markdown",
      "metadata": {
        "id": "NL_UdJdCU6gL"
      },
      "source": [
        "**Agrupando com funções**"
      ]
    },
    {
      "cell_type": "code",
      "metadata": {
        "colab": {
          "base_uri": "https://localhost:8080/",
          "height": 0
        },
        "id": "7K2VloOaUGFH",
        "outputId": "7d02f898-9816-479b-8a48-8fabf7a7fbb8"
      },
      "source": [
        "#agrupando por tamanho de string (contando string do índice)\n",
        "people.groupby(len).sum()"
      ],
      "execution_count": 25,
      "outputs": [
        {
          "output_type": "execute_result",
          "data": {
            "text/html": [
              "<div>\n",
              "<style scoped>\n",
              "    .dataframe tbody tr th:only-of-type {\n",
              "        vertical-align: middle;\n",
              "    }\n",
              "\n",
              "    .dataframe tbody tr th {\n",
              "        vertical-align: top;\n",
              "    }\n",
              "\n",
              "    .dataframe thead th {\n",
              "        text-align: right;\n",
              "    }\n",
              "</style>\n",
              "<table border=\"1\" class=\"dataframe\">\n",
              "  <thead>\n",
              "    <tr style=\"text-align: right;\">\n",
              "      <th></th>\n",
              "      <th>a</th>\n",
              "      <th>b</th>\n",
              "      <th>c</th>\n",
              "      <th>d</th>\n",
              "      <th>e</th>\n",
              "    </tr>\n",
              "  </thead>\n",
              "  <tbody>\n",
              "    <tr>\n",
              "      <th>3</th>\n",
              "      <td>1.441492</td>\n",
              "      <td>-0.245184</td>\n",
              "      <td>1.024712</td>\n",
              "      <td>-0.987602</td>\n",
              "      <td>-2.039744</td>\n",
              "    </tr>\n",
              "    <tr>\n",
              "      <th>5</th>\n",
              "      <td>0.069272</td>\n",
              "      <td>0.574580</td>\n",
              "      <td>0.078497</td>\n",
              "      <td>-0.438589</td>\n",
              "      <td>-0.282080</td>\n",
              "    </tr>\n",
              "    <tr>\n",
              "      <th>6</th>\n",
              "      <td>-0.676906</td>\n",
              "      <td>-1.551953</td>\n",
              "      <td>0.141208</td>\n",
              "      <td>1.481632</td>\n",
              "      <td>-0.180313</td>\n",
              "    </tr>\n",
              "  </tbody>\n",
              "</table>\n",
              "</div>"
            ],
            "text/plain": [
              "          a         b         c         d         e\n",
              "3  1.441492 -0.245184  1.024712 -0.987602 -2.039744\n",
              "5  0.069272  0.574580  0.078497 -0.438589 -0.282080\n",
              "6 -0.676906 -1.551953  0.141208  1.481632 -0.180313"
            ]
          },
          "metadata": {},
          "execution_count": 25
        }
      ]
    },
    {
      "cell_type": "code",
      "metadata": {
        "colab": {
          "base_uri": "https://localhost:8080/",
          "height": 0
        },
        "id": "_uaIKzbnVQhl",
        "outputId": "8d984a54-0429-46e8-a206-11f6216f7d43"
      },
      "source": [
        "key_list = ['one', 'one', 'one','two','two']\n",
        "people.groupby([len, key_list]).min()"
      ],
      "execution_count": 26,
      "outputs": [
        {
          "output_type": "execute_result",
          "data": {
            "text/html": [
              "<div>\n",
              "<style scoped>\n",
              "    .dataframe tbody tr th:only-of-type {\n",
              "        vertical-align: middle;\n",
              "    }\n",
              "\n",
              "    .dataframe tbody tr th {\n",
              "        vertical-align: top;\n",
              "    }\n",
              "\n",
              "    .dataframe thead th {\n",
              "        text-align: right;\n",
              "    }\n",
              "</style>\n",
              "<table border=\"1\" class=\"dataframe\">\n",
              "  <thead>\n",
              "    <tr style=\"text-align: right;\">\n",
              "      <th></th>\n",
              "      <th></th>\n",
              "      <th>a</th>\n",
              "      <th>b</th>\n",
              "      <th>c</th>\n",
              "      <th>d</th>\n",
              "      <th>e</th>\n",
              "    </tr>\n",
              "  </thead>\n",
              "  <tbody>\n",
              "    <tr>\n",
              "      <th rowspan=\"2\" valign=\"top\">3</th>\n",
              "      <th>one</th>\n",
              "      <td>0.474035</td>\n",
              "      <td>-1.204396</td>\n",
              "      <td>0.774253</td>\n",
              "      <td>-1.811567</td>\n",
              "      <td>-0.721167</td>\n",
              "    </tr>\n",
              "    <tr>\n",
              "      <th>two</th>\n",
              "      <td>-0.758931</td>\n",
              "      <td>0.959213</td>\n",
              "      <td>0.250459</td>\n",
              "      <td>-0.937261</td>\n",
              "      <td>-0.888321</td>\n",
              "    </tr>\n",
              "    <tr>\n",
              "      <th>5</th>\n",
              "      <th>one</th>\n",
              "      <td>0.069272</td>\n",
              "      <td>0.574580</td>\n",
              "      <td>0.078497</td>\n",
              "      <td>-0.438589</td>\n",
              "      <td>-0.282080</td>\n",
              "    </tr>\n",
              "    <tr>\n",
              "      <th>6</th>\n",
              "      <th>two</th>\n",
              "      <td>-0.676906</td>\n",
              "      <td>-1.551953</td>\n",
              "      <td>0.141208</td>\n",
              "      <td>1.481632</td>\n",
              "      <td>-0.180313</td>\n",
              "    </tr>\n",
              "  </tbody>\n",
              "</table>\n",
              "</div>"
            ],
            "text/plain": [
              "              a         b         c         d         e\n",
              "3 one  0.474035 -1.204396  0.774253 -1.811567 -0.721167\n",
              "  two -0.758931  0.959213  0.250459 -0.937261 -0.888321\n",
              "5 one  0.069272  0.574580  0.078497 -0.438589 -0.282080\n",
              "6 two -0.676906 -1.551953  0.141208  1.481632 -0.180313"
            ]
          },
          "metadata": {},
          "execution_count": 26
        }
      ]
    },
    {
      "cell_type": "markdown",
      "metadata": {
        "id": "_WXXahtgV3wc"
      },
      "source": [
        "**Agrupando por níveis de índice**"
      ]
    },
    {
      "cell_type": "code",
      "metadata": {
        "colab": {
          "base_uri": "https://localhost:8080/",
          "height": 0
        },
        "id": "bwpSHlgiVnrM",
        "outputId": "7809bb00-3522-425f-ab06-482522f82705"
      },
      "source": [
        "columns = pd.MultiIndex.from_arrays([['US','US','US','JP','JP'], [1,3,5,1,3]], names=['cty','tenor'])\n",
        "hier_df = pd.DataFrame(np.random.randn(4,5), columns=columns)\n",
        "hier_df"
      ],
      "execution_count": 27,
      "outputs": [
        {
          "output_type": "execute_result",
          "data": {
            "text/html": [
              "<div>\n",
              "<style scoped>\n",
              "    .dataframe tbody tr th:only-of-type {\n",
              "        vertical-align: middle;\n",
              "    }\n",
              "\n",
              "    .dataframe tbody tr th {\n",
              "        vertical-align: top;\n",
              "    }\n",
              "\n",
              "    .dataframe thead tr th {\n",
              "        text-align: left;\n",
              "    }\n",
              "</style>\n",
              "<table border=\"1\" class=\"dataframe\">\n",
              "  <thead>\n",
              "    <tr>\n",
              "      <th>cty</th>\n",
              "      <th colspan=\"3\" halign=\"left\">US</th>\n",
              "      <th colspan=\"2\" halign=\"left\">JP</th>\n",
              "    </tr>\n",
              "    <tr>\n",
              "      <th>tenor</th>\n",
              "      <th>1</th>\n",
              "      <th>3</th>\n",
              "      <th>5</th>\n",
              "      <th>1</th>\n",
              "      <th>3</th>\n",
              "    </tr>\n",
              "  </thead>\n",
              "  <tbody>\n",
              "    <tr>\n",
              "      <th>0</th>\n",
              "      <td>-1.489621</td>\n",
              "      <td>-1.143690</td>\n",
              "      <td>-1.236613</td>\n",
              "      <td>0.037915</td>\n",
              "      <td>-0.082239</td>\n",
              "    </tr>\n",
              "    <tr>\n",
              "      <th>1</th>\n",
              "      <td>-0.461293</td>\n",
              "      <td>0.091006</td>\n",
              "      <td>-1.085946</td>\n",
              "      <td>0.566457</td>\n",
              "      <td>-0.550667</td>\n",
              "    </tr>\n",
              "    <tr>\n",
              "      <th>2</th>\n",
              "      <td>0.597845</td>\n",
              "      <td>-0.936193</td>\n",
              "      <td>0.174283</td>\n",
              "      <td>0.430452</td>\n",
              "      <td>-1.624372</td>\n",
              "    </tr>\n",
              "    <tr>\n",
              "      <th>3</th>\n",
              "      <td>-0.851736</td>\n",
              "      <td>-1.083951</td>\n",
              "      <td>-0.961886</td>\n",
              "      <td>-0.066014</td>\n",
              "      <td>0.800763</td>\n",
              "    </tr>\n",
              "  </tbody>\n",
              "</table>\n",
              "</div>"
            ],
            "text/plain": [
              "cty          US                            JP          \n",
              "tenor         1         3         5         1         3\n",
              "0     -1.489621 -1.143690 -1.236613  0.037915 -0.082239\n",
              "1     -0.461293  0.091006 -1.085946  0.566457 -0.550667\n",
              "2      0.597845 -0.936193  0.174283  0.430452 -1.624372\n",
              "3     -0.851736 -1.083951 -0.961886 -0.066014  0.800763"
            ]
          },
          "metadata": {},
          "execution_count": 27
        }
      ]
    },
    {
      "cell_type": "code",
      "metadata": {
        "colab": {
          "base_uri": "https://localhost:8080/",
          "height": 0
        },
        "id": "gnlnKEPrWao1",
        "outputId": "40fe973a-6164-47dc-da2d-3f1b6d748304"
      },
      "source": [
        "hier_df.groupby(level = 'cty', axis=1).count()"
      ],
      "execution_count": 28,
      "outputs": [
        {
          "output_type": "execute_result",
          "data": {
            "text/html": [
              "<div>\n",
              "<style scoped>\n",
              "    .dataframe tbody tr th:only-of-type {\n",
              "        vertical-align: middle;\n",
              "    }\n",
              "\n",
              "    .dataframe tbody tr th {\n",
              "        vertical-align: top;\n",
              "    }\n",
              "\n",
              "    .dataframe thead th {\n",
              "        text-align: right;\n",
              "    }\n",
              "</style>\n",
              "<table border=\"1\" class=\"dataframe\">\n",
              "  <thead>\n",
              "    <tr style=\"text-align: right;\">\n",
              "      <th>cty</th>\n",
              "      <th>JP</th>\n",
              "      <th>US</th>\n",
              "    </tr>\n",
              "  </thead>\n",
              "  <tbody>\n",
              "    <tr>\n",
              "      <th>0</th>\n",
              "      <td>2</td>\n",
              "      <td>3</td>\n",
              "    </tr>\n",
              "    <tr>\n",
              "      <th>1</th>\n",
              "      <td>2</td>\n",
              "      <td>3</td>\n",
              "    </tr>\n",
              "    <tr>\n",
              "      <th>2</th>\n",
              "      <td>2</td>\n",
              "      <td>3</td>\n",
              "    </tr>\n",
              "    <tr>\n",
              "      <th>3</th>\n",
              "      <td>2</td>\n",
              "      <td>3</td>\n",
              "    </tr>\n",
              "  </tbody>\n",
              "</table>\n",
              "</div>"
            ],
            "text/plain": [
              "cty  JP  US\n",
              "0     2   3\n",
              "1     2   3\n",
              "2     2   3\n",
              "3     2   3"
            ]
          },
          "metadata": {},
          "execution_count": 28
        }
      ]
    },
    {
      "cell_type": "markdown",
      "metadata": {
        "id": "LVeL875yXEw9"
      },
      "source": [
        "# Agregação de dados"
      ]
    },
    {
      "cell_type": "code",
      "metadata": {
        "id": "TpW8-G_8W4rk",
        "colab": {
          "base_uri": "https://localhost:8080/"
        },
        "outputId": "b650571e-695e-446a-bbf6-4eb7ada29caa"
      },
      "source": [
        "grouped = df.groupby('key1')\n",
        "grouped['data1'].quantile(0.9)"
      ],
      "execution_count": 31,
      "outputs": [
        {
          "output_type": "execute_result",
          "data": {
            "text/plain": [
              "key1\n",
              "a    0.287188\n",
              "b    0.067869\n",
              "Name: data1, dtype: float64"
            ]
          },
          "metadata": {},
          "execution_count": 31
        }
      ]
    },
    {
      "cell_type": "code",
      "metadata": {
        "colab": {
          "base_uri": "https://localhost:8080/",
          "height": 142
        },
        "id": "xEpN31tgKLRQ",
        "outputId": "a2285133-64a0-4390-f931-47f5a3389fb9"
      },
      "source": [
        "#Para usar uma função própria, utilize agg e passe a função entre parenteses\n",
        "def peak_to_peak(arr):\n",
        "  return arr.max() - arr.min()\n",
        "grouped.agg(peak_to_peak)"
      ],
      "execution_count": 34,
      "outputs": [
        {
          "output_type": "execute_result",
          "data": {
            "text/html": [
              "<div>\n",
              "<style scoped>\n",
              "    .dataframe tbody tr th:only-of-type {\n",
              "        vertical-align: middle;\n",
              "    }\n",
              "\n",
              "    .dataframe tbody tr th {\n",
              "        vertical-align: top;\n",
              "    }\n",
              "\n",
              "    .dataframe thead th {\n",
              "        text-align: right;\n",
              "    }\n",
              "</style>\n",
              "<table border=\"1\" class=\"dataframe\">\n",
              "  <thead>\n",
              "    <tr style=\"text-align: right;\">\n",
              "      <th></th>\n",
              "      <th>data1</th>\n",
              "      <th>data2</th>\n",
              "    </tr>\n",
              "    <tr>\n",
              "      <th>key1</th>\n",
              "      <th></th>\n",
              "      <th></th>\n",
              "    </tr>\n",
              "  </thead>\n",
              "  <tbody>\n",
              "    <tr>\n",
              "      <th>a</th>\n",
              "      <td>1.675759</td>\n",
              "      <td>0.920968</td>\n",
              "    </tr>\n",
              "    <tr>\n",
              "      <th>b</th>\n",
              "      <td>0.267895</td>\n",
              "      <td>0.730936</td>\n",
              "    </tr>\n",
              "  </tbody>\n",
              "</table>\n",
              "</div>"
            ],
            "text/plain": [
              "         data1     data2\n",
              "key1                    \n",
              "a     1.675759  0.920968\n",
              "b     0.267895  0.730936"
            ]
          },
          "metadata": {},
          "execution_count": 34
        }
      ]
    },
    {
      "cell_type": "code",
      "metadata": {
        "colab": {
          "base_uri": "https://localhost:8080/",
          "height": 192
        },
        "id": "B5MnIhFPKunE",
        "outputId": "af5facc1-ac1a-4145-b7f5-14545103818b"
      },
      "source": [
        "grouped.describe()"
      ],
      "execution_count": 35,
      "outputs": [
        {
          "output_type": "execute_result",
          "data": {
            "text/html": [
              "<div>\n",
              "<style scoped>\n",
              "    .dataframe tbody tr th:only-of-type {\n",
              "        vertical-align: middle;\n",
              "    }\n",
              "\n",
              "    .dataframe tbody tr th {\n",
              "        vertical-align: top;\n",
              "    }\n",
              "\n",
              "    .dataframe thead tr th {\n",
              "        text-align: left;\n",
              "    }\n",
              "\n",
              "    .dataframe thead tr:last-of-type th {\n",
              "        text-align: right;\n",
              "    }\n",
              "</style>\n",
              "<table border=\"1\" class=\"dataframe\">\n",
              "  <thead>\n",
              "    <tr>\n",
              "      <th></th>\n",
              "      <th colspan=\"8\" halign=\"left\">data1</th>\n",
              "      <th colspan=\"8\" halign=\"left\">data2</th>\n",
              "    </tr>\n",
              "    <tr>\n",
              "      <th></th>\n",
              "      <th>count</th>\n",
              "      <th>mean</th>\n",
              "      <th>std</th>\n",
              "      <th>min</th>\n",
              "      <th>25%</th>\n",
              "      <th>50%</th>\n",
              "      <th>75%</th>\n",
              "      <th>max</th>\n",
              "      <th>count</th>\n",
              "      <th>mean</th>\n",
              "      <th>std</th>\n",
              "      <th>min</th>\n",
              "      <th>25%</th>\n",
              "      <th>50%</th>\n",
              "      <th>75%</th>\n",
              "      <th>max</th>\n",
              "    </tr>\n",
              "    <tr>\n",
              "      <th>key1</th>\n",
              "      <th></th>\n",
              "      <th></th>\n",
              "      <th></th>\n",
              "      <th></th>\n",
              "      <th></th>\n",
              "      <th></th>\n",
              "      <th></th>\n",
              "      <th></th>\n",
              "      <th></th>\n",
              "      <th></th>\n",
              "      <th></th>\n",
              "      <th></th>\n",
              "      <th></th>\n",
              "      <th></th>\n",
              "      <th></th>\n",
              "      <th></th>\n",
              "    </tr>\n",
              "  </thead>\n",
              "  <tbody>\n",
              "    <tr>\n",
              "      <th>a</th>\n",
              "      <td>3.0</td>\n",
              "      <td>-0.477746</td>\n",
              "      <td>0.932709</td>\n",
              "      <td>-1.079050</td>\n",
              "      <td>-1.014973</td>\n",
              "      <td>-0.950897</td>\n",
              "      <td>-0.177094</td>\n",
              "      <td>0.596709</td>\n",
              "      <td>3.0</td>\n",
              "      <td>-0.096487</td>\n",
              "      <td>0.518602</td>\n",
              "      <td>-0.694694</td>\n",
              "      <td>-0.257868</td>\n",
              "      <td>0.178958</td>\n",
              "      <td>0.202616</td>\n",
              "      <td>0.226275</td>\n",
              "    </tr>\n",
              "    <tr>\n",
              "      <th>b</th>\n",
              "      <td>2.0</td>\n",
              "      <td>-0.039289</td>\n",
              "      <td>0.189431</td>\n",
              "      <td>-0.173237</td>\n",
              "      <td>-0.106263</td>\n",
              "      <td>-0.039289</td>\n",
              "      <td>0.027685</td>\n",
              "      <td>0.094659</td>\n",
              "      <td>2.0</td>\n",
              "      <td>1.104964</td>\n",
              "      <td>0.516850</td>\n",
              "      <td>0.739496</td>\n",
              "      <td>0.922230</td>\n",
              "      <td>1.104964</td>\n",
              "      <td>1.287698</td>\n",
              "      <td>1.470432</td>\n",
              "    </tr>\n",
              "  </tbody>\n",
              "</table>\n",
              "</div>"
            ],
            "text/plain": [
              "     data1                      ...     data2                    \n",
              "     count      mean       std  ...       50%       75%       max\n",
              "key1                            ...                              \n",
              "a      3.0 -0.477746  0.932709  ...  0.178958  0.202616  0.226275\n",
              "b      2.0 -0.039289  0.189431  ...  1.104964  1.287698  1.470432\n",
              "\n",
              "[2 rows x 16 columns]"
            ]
          },
          "metadata": {},
          "execution_count": 35
        }
      ]
    },
    {
      "cell_type": "markdown",
      "metadata": {
        "id": "Q8mdGzScLY9h"
      },
      "source": [
        "**Aplicação de função nas colunas e aplicação de várias funções**"
      ]
    },
    {
      "cell_type": "code",
      "metadata": {
        "id": "yXDSwvNvLQZW"
      },
      "source": [
        "tips = pd.read_csv('/content/drive/MyDrive/dados_pandas/pydata-book-2nd-edition/examples/tips.csv')"
      ],
      "execution_count": 36,
      "outputs": []
    },
    {
      "cell_type": "code",
      "metadata": {
        "colab": {
          "base_uri": "https://localhost:8080/",
          "height": 234
        },
        "id": "dGXF-nYxL2WT",
        "outputId": "74cf083c-1be6-4a13-a5f8-9f09a12030ef"
      },
      "source": [
        "#Acrescenta a porcentagem de gorjeta sobre o total da conta\n",
        "tips['tip_pct'] = tips['tip'] / tips['total_bill']\n",
        "tips[:6]"
      ],
      "execution_count": 37,
      "outputs": [
        {
          "output_type": "execute_result",
          "data": {
            "text/html": [
              "<div>\n",
              "<style scoped>\n",
              "    .dataframe tbody tr th:only-of-type {\n",
              "        vertical-align: middle;\n",
              "    }\n",
              "\n",
              "    .dataframe tbody tr th {\n",
              "        vertical-align: top;\n",
              "    }\n",
              "\n",
              "    .dataframe thead th {\n",
              "        text-align: right;\n",
              "    }\n",
              "</style>\n",
              "<table border=\"1\" class=\"dataframe\">\n",
              "  <thead>\n",
              "    <tr style=\"text-align: right;\">\n",
              "      <th></th>\n",
              "      <th>total_bill</th>\n",
              "      <th>tip</th>\n",
              "      <th>smoker</th>\n",
              "      <th>day</th>\n",
              "      <th>time</th>\n",
              "      <th>size</th>\n",
              "      <th>tip_pct</th>\n",
              "    </tr>\n",
              "  </thead>\n",
              "  <tbody>\n",
              "    <tr>\n",
              "      <th>0</th>\n",
              "      <td>16.99</td>\n",
              "      <td>1.01</td>\n",
              "      <td>No</td>\n",
              "      <td>Sun</td>\n",
              "      <td>Dinner</td>\n",
              "      <td>2</td>\n",
              "      <td>0.059447</td>\n",
              "    </tr>\n",
              "    <tr>\n",
              "      <th>1</th>\n",
              "      <td>10.34</td>\n",
              "      <td>1.66</td>\n",
              "      <td>No</td>\n",
              "      <td>Sun</td>\n",
              "      <td>Dinner</td>\n",
              "      <td>3</td>\n",
              "      <td>0.160542</td>\n",
              "    </tr>\n",
              "    <tr>\n",
              "      <th>2</th>\n",
              "      <td>21.01</td>\n",
              "      <td>3.50</td>\n",
              "      <td>No</td>\n",
              "      <td>Sun</td>\n",
              "      <td>Dinner</td>\n",
              "      <td>3</td>\n",
              "      <td>0.166587</td>\n",
              "    </tr>\n",
              "    <tr>\n",
              "      <th>3</th>\n",
              "      <td>23.68</td>\n",
              "      <td>3.31</td>\n",
              "      <td>No</td>\n",
              "      <td>Sun</td>\n",
              "      <td>Dinner</td>\n",
              "      <td>2</td>\n",
              "      <td>0.139780</td>\n",
              "    </tr>\n",
              "    <tr>\n",
              "      <th>4</th>\n",
              "      <td>24.59</td>\n",
              "      <td>3.61</td>\n",
              "      <td>No</td>\n",
              "      <td>Sun</td>\n",
              "      <td>Dinner</td>\n",
              "      <td>4</td>\n",
              "      <td>0.146808</td>\n",
              "    </tr>\n",
              "    <tr>\n",
              "      <th>5</th>\n",
              "      <td>25.29</td>\n",
              "      <td>4.71</td>\n",
              "      <td>No</td>\n",
              "      <td>Sun</td>\n",
              "      <td>Dinner</td>\n",
              "      <td>4</td>\n",
              "      <td>0.186240</td>\n",
              "    </tr>\n",
              "  </tbody>\n",
              "</table>\n",
              "</div>"
            ],
            "text/plain": [
              "   total_bill   tip smoker  day    time  size   tip_pct\n",
              "0       16.99  1.01     No  Sun  Dinner     2  0.059447\n",
              "1       10.34  1.66     No  Sun  Dinner     3  0.160542\n",
              "2       21.01  3.50     No  Sun  Dinner     3  0.166587\n",
              "3       23.68  3.31     No  Sun  Dinner     2  0.139780\n",
              "4       24.59  3.61     No  Sun  Dinner     4  0.146808\n",
              "5       25.29  4.71     No  Sun  Dinner     4  0.186240"
            ]
          },
          "metadata": {},
          "execution_count": 37
        }
      ]
    },
    {
      "cell_type": "code",
      "metadata": {
        "colab": {
          "base_uri": "https://localhost:8080/"
        },
        "id": "_HrEglL-MFNv",
        "outputId": "6254dc11-90bf-4ae4-bf26-72ada7f3964b"
      },
      "source": [
        "grouped = tips.groupby(['day','smoker'])\n",
        "grouped_pct = grouped['tip_pct']\n",
        "#É possivel passar uma função descritiva como string\n",
        "grouped_pct.agg('mean')"
      ],
      "execution_count": 42,
      "outputs": [
        {
          "output_type": "execute_result",
          "data": {
            "text/plain": [
              "day   smoker\n",
              "Fri   No        0.151650\n",
              "      Yes       0.174783\n",
              "Sat   No        0.158048\n",
              "      Yes       0.147906\n",
              "Sun   No        0.160113\n",
              "      Yes       0.187250\n",
              "Thur  No        0.160298\n",
              "      Yes       0.163863\n",
              "Name: tip_pct, dtype: float64"
            ]
          },
          "metadata": {},
          "execution_count": 42
        }
      ]
    },
    {
      "cell_type": "code",
      "metadata": {
        "colab": {
          "base_uri": "https://localhost:8080/",
          "height": 326
        },
        "id": "mfObzeigMoVT",
        "outputId": "b613aaa3-9c2a-49ed-befe-6b3e36813e61"
      },
      "source": [
        "grouped_pct.agg(['mean','std', peak_to_peak])"
      ],
      "execution_count": 43,
      "outputs": [
        {
          "output_type": "execute_result",
          "data": {
            "text/html": [
              "<div>\n",
              "<style scoped>\n",
              "    .dataframe tbody tr th:only-of-type {\n",
              "        vertical-align: middle;\n",
              "    }\n",
              "\n",
              "    .dataframe tbody tr th {\n",
              "        vertical-align: top;\n",
              "    }\n",
              "\n",
              "    .dataframe thead th {\n",
              "        text-align: right;\n",
              "    }\n",
              "</style>\n",
              "<table border=\"1\" class=\"dataframe\">\n",
              "  <thead>\n",
              "    <tr style=\"text-align: right;\">\n",
              "      <th></th>\n",
              "      <th></th>\n",
              "      <th>mean</th>\n",
              "      <th>std</th>\n",
              "      <th>peak_to_peak</th>\n",
              "    </tr>\n",
              "    <tr>\n",
              "      <th>day</th>\n",
              "      <th>smoker</th>\n",
              "      <th></th>\n",
              "      <th></th>\n",
              "      <th></th>\n",
              "    </tr>\n",
              "  </thead>\n",
              "  <tbody>\n",
              "    <tr>\n",
              "      <th rowspan=\"2\" valign=\"top\">Fri</th>\n",
              "      <th>No</th>\n",
              "      <td>0.151650</td>\n",
              "      <td>0.028123</td>\n",
              "      <td>0.067349</td>\n",
              "    </tr>\n",
              "    <tr>\n",
              "      <th>Yes</th>\n",
              "      <td>0.174783</td>\n",
              "      <td>0.051293</td>\n",
              "      <td>0.159925</td>\n",
              "    </tr>\n",
              "    <tr>\n",
              "      <th rowspan=\"2\" valign=\"top\">Sat</th>\n",
              "      <th>No</th>\n",
              "      <td>0.158048</td>\n",
              "      <td>0.039767</td>\n",
              "      <td>0.235193</td>\n",
              "    </tr>\n",
              "    <tr>\n",
              "      <th>Yes</th>\n",
              "      <td>0.147906</td>\n",
              "      <td>0.061375</td>\n",
              "      <td>0.290095</td>\n",
              "    </tr>\n",
              "    <tr>\n",
              "      <th rowspan=\"2\" valign=\"top\">Sun</th>\n",
              "      <th>No</th>\n",
              "      <td>0.160113</td>\n",
              "      <td>0.042347</td>\n",
              "      <td>0.193226</td>\n",
              "    </tr>\n",
              "    <tr>\n",
              "      <th>Yes</th>\n",
              "      <td>0.187250</td>\n",
              "      <td>0.154134</td>\n",
              "      <td>0.644685</td>\n",
              "    </tr>\n",
              "    <tr>\n",
              "      <th rowspan=\"2\" valign=\"top\">Thur</th>\n",
              "      <th>No</th>\n",
              "      <td>0.160298</td>\n",
              "      <td>0.038774</td>\n",
              "      <td>0.193350</td>\n",
              "    </tr>\n",
              "    <tr>\n",
              "      <th>Yes</th>\n",
              "      <td>0.163863</td>\n",
              "      <td>0.039389</td>\n",
              "      <td>0.151240</td>\n",
              "    </tr>\n",
              "  </tbody>\n",
              "</table>\n",
              "</div>"
            ],
            "text/plain": [
              "                 mean       std  peak_to_peak\n",
              "day  smoker                                  \n",
              "Fri  No      0.151650  0.028123      0.067349\n",
              "     Yes     0.174783  0.051293      0.159925\n",
              "Sat  No      0.158048  0.039767      0.235193\n",
              "     Yes     0.147906  0.061375      0.290095\n",
              "Sun  No      0.160113  0.042347      0.193226\n",
              "     Yes     0.187250  0.154134      0.644685\n",
              "Thur No      0.160298  0.038774      0.193350\n",
              "     Yes     0.163863  0.039389      0.151240"
            ]
          },
          "metadata": {},
          "execution_count": 43
        }
      ]
    },
    {
      "cell_type": "code",
      "metadata": {
        "colab": {
          "base_uri": "https://localhost:8080/",
          "height": 326
        },
        "id": "PVotR-vCNvTo",
        "outputId": "d317d728-89b6-43ca-9c8d-58969d3f33f4"
      },
      "source": [
        "grouped_pct.agg([('foo', 'mean'), ('bar', np.std)])"
      ],
      "execution_count": 44,
      "outputs": [
        {
          "output_type": "execute_result",
          "data": {
            "text/html": [
              "<div>\n",
              "<style scoped>\n",
              "    .dataframe tbody tr th:only-of-type {\n",
              "        vertical-align: middle;\n",
              "    }\n",
              "\n",
              "    .dataframe tbody tr th {\n",
              "        vertical-align: top;\n",
              "    }\n",
              "\n",
              "    .dataframe thead th {\n",
              "        text-align: right;\n",
              "    }\n",
              "</style>\n",
              "<table border=\"1\" class=\"dataframe\">\n",
              "  <thead>\n",
              "    <tr style=\"text-align: right;\">\n",
              "      <th></th>\n",
              "      <th></th>\n",
              "      <th>foo</th>\n",
              "      <th>bar</th>\n",
              "    </tr>\n",
              "    <tr>\n",
              "      <th>day</th>\n",
              "      <th>smoker</th>\n",
              "      <th></th>\n",
              "      <th></th>\n",
              "    </tr>\n",
              "  </thead>\n",
              "  <tbody>\n",
              "    <tr>\n",
              "      <th rowspan=\"2\" valign=\"top\">Fri</th>\n",
              "      <th>No</th>\n",
              "      <td>0.151650</td>\n",
              "      <td>0.028123</td>\n",
              "    </tr>\n",
              "    <tr>\n",
              "      <th>Yes</th>\n",
              "      <td>0.174783</td>\n",
              "      <td>0.051293</td>\n",
              "    </tr>\n",
              "    <tr>\n",
              "      <th rowspan=\"2\" valign=\"top\">Sat</th>\n",
              "      <th>No</th>\n",
              "      <td>0.158048</td>\n",
              "      <td>0.039767</td>\n",
              "    </tr>\n",
              "    <tr>\n",
              "      <th>Yes</th>\n",
              "      <td>0.147906</td>\n",
              "      <td>0.061375</td>\n",
              "    </tr>\n",
              "    <tr>\n",
              "      <th rowspan=\"2\" valign=\"top\">Sun</th>\n",
              "      <th>No</th>\n",
              "      <td>0.160113</td>\n",
              "      <td>0.042347</td>\n",
              "    </tr>\n",
              "    <tr>\n",
              "      <th>Yes</th>\n",
              "      <td>0.187250</td>\n",
              "      <td>0.154134</td>\n",
              "    </tr>\n",
              "    <tr>\n",
              "      <th rowspan=\"2\" valign=\"top\">Thur</th>\n",
              "      <th>No</th>\n",
              "      <td>0.160298</td>\n",
              "      <td>0.038774</td>\n",
              "    </tr>\n",
              "    <tr>\n",
              "      <th>Yes</th>\n",
              "      <td>0.163863</td>\n",
              "      <td>0.039389</td>\n",
              "    </tr>\n",
              "  </tbody>\n",
              "</table>\n",
              "</div>"
            ],
            "text/plain": [
              "                  foo       bar\n",
              "day  smoker                    \n",
              "Fri  No      0.151650  0.028123\n",
              "     Yes     0.174783  0.051293\n",
              "Sat  No      0.158048  0.039767\n",
              "     Yes     0.147906  0.061375\n",
              "Sun  No      0.160113  0.042347\n",
              "     Yes     0.187250  0.154134\n",
              "Thur No      0.160298  0.038774\n",
              "     Yes     0.163863  0.039389"
            ]
          },
          "metadata": {},
          "execution_count": 44
        }
      ]
    },
    {
      "cell_type": "code",
      "metadata": {
        "colab": {
          "base_uri": "https://localhost:8080/",
          "height": 410
        },
        "id": "X8q43jNCOq7N",
        "outputId": "325ec50b-fbef-4d73-930d-79b2630e217a"
      },
      "source": [
        "functions = ['count', 'mean', 'max']\n",
        "result = grouped['tip_pct', 'total_bill'].agg(functions)\n",
        "result"
      ],
      "execution_count": 45,
      "outputs": [
        {
          "output_type": "stream",
          "name": "stderr",
          "text": [
            "/usr/local/lib/python3.7/dist-packages/ipykernel_launcher.py:2: FutureWarning: Indexing with multiple keys (implicitly converted to a tuple of keys) will be deprecated, use a list instead.\n",
            "  \n"
          ]
        },
        {
          "output_type": "execute_result",
          "data": {
            "text/html": [
              "<div>\n",
              "<style scoped>\n",
              "    .dataframe tbody tr th:only-of-type {\n",
              "        vertical-align: middle;\n",
              "    }\n",
              "\n",
              "    .dataframe tbody tr th {\n",
              "        vertical-align: top;\n",
              "    }\n",
              "\n",
              "    .dataframe thead tr th {\n",
              "        text-align: left;\n",
              "    }\n",
              "\n",
              "    .dataframe thead tr:last-of-type th {\n",
              "        text-align: right;\n",
              "    }\n",
              "</style>\n",
              "<table border=\"1\" class=\"dataframe\">\n",
              "  <thead>\n",
              "    <tr>\n",
              "      <th></th>\n",
              "      <th></th>\n",
              "      <th colspan=\"3\" halign=\"left\">tip_pct</th>\n",
              "      <th colspan=\"3\" halign=\"left\">total_bill</th>\n",
              "    </tr>\n",
              "    <tr>\n",
              "      <th></th>\n",
              "      <th></th>\n",
              "      <th>count</th>\n",
              "      <th>mean</th>\n",
              "      <th>max</th>\n",
              "      <th>count</th>\n",
              "      <th>mean</th>\n",
              "      <th>max</th>\n",
              "    </tr>\n",
              "    <tr>\n",
              "      <th>day</th>\n",
              "      <th>smoker</th>\n",
              "      <th></th>\n",
              "      <th></th>\n",
              "      <th></th>\n",
              "      <th></th>\n",
              "      <th></th>\n",
              "      <th></th>\n",
              "    </tr>\n",
              "  </thead>\n",
              "  <tbody>\n",
              "    <tr>\n",
              "      <th rowspan=\"2\" valign=\"top\">Fri</th>\n",
              "      <th>No</th>\n",
              "      <td>4</td>\n",
              "      <td>0.151650</td>\n",
              "      <td>0.187735</td>\n",
              "      <td>4</td>\n",
              "      <td>18.420000</td>\n",
              "      <td>22.75</td>\n",
              "    </tr>\n",
              "    <tr>\n",
              "      <th>Yes</th>\n",
              "      <td>15</td>\n",
              "      <td>0.174783</td>\n",
              "      <td>0.263480</td>\n",
              "      <td>15</td>\n",
              "      <td>16.813333</td>\n",
              "      <td>40.17</td>\n",
              "    </tr>\n",
              "    <tr>\n",
              "      <th rowspan=\"2\" valign=\"top\">Sat</th>\n",
              "      <th>No</th>\n",
              "      <td>45</td>\n",
              "      <td>0.158048</td>\n",
              "      <td>0.291990</td>\n",
              "      <td>45</td>\n",
              "      <td>19.661778</td>\n",
              "      <td>48.33</td>\n",
              "    </tr>\n",
              "    <tr>\n",
              "      <th>Yes</th>\n",
              "      <td>42</td>\n",
              "      <td>0.147906</td>\n",
              "      <td>0.325733</td>\n",
              "      <td>42</td>\n",
              "      <td>21.276667</td>\n",
              "      <td>50.81</td>\n",
              "    </tr>\n",
              "    <tr>\n",
              "      <th rowspan=\"2\" valign=\"top\">Sun</th>\n",
              "      <th>No</th>\n",
              "      <td>57</td>\n",
              "      <td>0.160113</td>\n",
              "      <td>0.252672</td>\n",
              "      <td>57</td>\n",
              "      <td>20.506667</td>\n",
              "      <td>48.17</td>\n",
              "    </tr>\n",
              "    <tr>\n",
              "      <th>Yes</th>\n",
              "      <td>19</td>\n",
              "      <td>0.187250</td>\n",
              "      <td>0.710345</td>\n",
              "      <td>19</td>\n",
              "      <td>24.120000</td>\n",
              "      <td>45.35</td>\n",
              "    </tr>\n",
              "    <tr>\n",
              "      <th rowspan=\"2\" valign=\"top\">Thur</th>\n",
              "      <th>No</th>\n",
              "      <td>45</td>\n",
              "      <td>0.160298</td>\n",
              "      <td>0.266312</td>\n",
              "      <td>45</td>\n",
              "      <td>17.113111</td>\n",
              "      <td>41.19</td>\n",
              "    </tr>\n",
              "    <tr>\n",
              "      <th>Yes</th>\n",
              "      <td>17</td>\n",
              "      <td>0.163863</td>\n",
              "      <td>0.241255</td>\n",
              "      <td>17</td>\n",
              "      <td>19.190588</td>\n",
              "      <td>43.11</td>\n",
              "    </tr>\n",
              "  </tbody>\n",
              "</table>\n",
              "</div>"
            ],
            "text/plain": [
              "            tip_pct                     total_bill                  \n",
              "              count      mean       max      count       mean    max\n",
              "day  smoker                                                         \n",
              "Fri  No           4  0.151650  0.187735          4  18.420000  22.75\n",
              "     Yes         15  0.174783  0.263480         15  16.813333  40.17\n",
              "Sat  No          45  0.158048  0.291990         45  19.661778  48.33\n",
              "     Yes         42  0.147906  0.325733         42  21.276667  50.81\n",
              "Sun  No          57  0.160113  0.252672         57  20.506667  48.17\n",
              "     Yes         19  0.187250  0.710345         19  24.120000  45.35\n",
              "Thur No          45  0.160298  0.266312         45  17.113111  41.19\n",
              "     Yes         17  0.163863  0.241255         17  19.190588  43.11"
            ]
          },
          "metadata": {},
          "execution_count": 45
        }
      ]
    },
    {
      "cell_type": "code",
      "metadata": {
        "colab": {
          "base_uri": "https://localhost:8080/",
          "height": 326
        },
        "id": "y3i0qFj1PDy8",
        "outputId": "efcbc6a3-d78f-4250-f80a-3b1e3722ed32"
      },
      "source": [
        "result['tip_pct']"
      ],
      "execution_count": 48,
      "outputs": [
        {
          "output_type": "execute_result",
          "data": {
            "text/html": [
              "<div>\n",
              "<style scoped>\n",
              "    .dataframe tbody tr th:only-of-type {\n",
              "        vertical-align: middle;\n",
              "    }\n",
              "\n",
              "    .dataframe tbody tr th {\n",
              "        vertical-align: top;\n",
              "    }\n",
              "\n",
              "    .dataframe thead th {\n",
              "        text-align: right;\n",
              "    }\n",
              "</style>\n",
              "<table border=\"1\" class=\"dataframe\">\n",
              "  <thead>\n",
              "    <tr style=\"text-align: right;\">\n",
              "      <th></th>\n",
              "      <th></th>\n",
              "      <th>count</th>\n",
              "      <th>mean</th>\n",
              "      <th>max</th>\n",
              "    </tr>\n",
              "    <tr>\n",
              "      <th>day</th>\n",
              "      <th>smoker</th>\n",
              "      <th></th>\n",
              "      <th></th>\n",
              "      <th></th>\n",
              "    </tr>\n",
              "  </thead>\n",
              "  <tbody>\n",
              "    <tr>\n",
              "      <th rowspan=\"2\" valign=\"top\">Fri</th>\n",
              "      <th>No</th>\n",
              "      <td>4</td>\n",
              "      <td>0.151650</td>\n",
              "      <td>0.187735</td>\n",
              "    </tr>\n",
              "    <tr>\n",
              "      <th>Yes</th>\n",
              "      <td>15</td>\n",
              "      <td>0.174783</td>\n",
              "      <td>0.263480</td>\n",
              "    </tr>\n",
              "    <tr>\n",
              "      <th rowspan=\"2\" valign=\"top\">Sat</th>\n",
              "      <th>No</th>\n",
              "      <td>45</td>\n",
              "      <td>0.158048</td>\n",
              "      <td>0.291990</td>\n",
              "    </tr>\n",
              "    <tr>\n",
              "      <th>Yes</th>\n",
              "      <td>42</td>\n",
              "      <td>0.147906</td>\n",
              "      <td>0.325733</td>\n",
              "    </tr>\n",
              "    <tr>\n",
              "      <th rowspan=\"2\" valign=\"top\">Sun</th>\n",
              "      <th>No</th>\n",
              "      <td>57</td>\n",
              "      <td>0.160113</td>\n",
              "      <td>0.252672</td>\n",
              "    </tr>\n",
              "    <tr>\n",
              "      <th>Yes</th>\n",
              "      <td>19</td>\n",
              "      <td>0.187250</td>\n",
              "      <td>0.710345</td>\n",
              "    </tr>\n",
              "    <tr>\n",
              "      <th rowspan=\"2\" valign=\"top\">Thur</th>\n",
              "      <th>No</th>\n",
              "      <td>45</td>\n",
              "      <td>0.160298</td>\n",
              "      <td>0.266312</td>\n",
              "    </tr>\n",
              "    <tr>\n",
              "      <th>Yes</th>\n",
              "      <td>17</td>\n",
              "      <td>0.163863</td>\n",
              "      <td>0.241255</td>\n",
              "    </tr>\n",
              "  </tbody>\n",
              "</table>\n",
              "</div>"
            ],
            "text/plain": [
              "             count      mean       max\n",
              "day  smoker                           \n",
              "Fri  No          4  0.151650  0.187735\n",
              "     Yes        15  0.174783  0.263480\n",
              "Sat  No         45  0.158048  0.291990\n",
              "     Yes        42  0.147906  0.325733\n",
              "Sun  No         57  0.160113  0.252672\n",
              "     Yes        19  0.187250  0.710345\n",
              "Thur No         45  0.160298  0.266312\n",
              "     Yes        17  0.163863  0.241255"
            ]
          },
          "metadata": {},
          "execution_count": 48
        }
      ]
    },
    {
      "cell_type": "code",
      "metadata": {
        "colab": {
          "base_uri": "https://localhost:8080/",
          "height": 410
        },
        "id": "HqPL0Hd8POYR",
        "outputId": "6e7abc8d-b645-4153-c5d0-051cdb24a6e3"
      },
      "source": [
        "#personalizar o nome das colunas\n",
        "ftuples = [('Durchschnitt', 'mean'), ('Abweichung', np.var)]\n",
        "grouped['tip_pct', 'total_bill'].agg(ftuples)"
      ],
      "execution_count": 49,
      "outputs": [
        {
          "output_type": "stream",
          "name": "stderr",
          "text": [
            "/usr/local/lib/python3.7/dist-packages/ipykernel_launcher.py:2: FutureWarning: Indexing with multiple keys (implicitly converted to a tuple of keys) will be deprecated, use a list instead.\n",
            "  \n"
          ]
        },
        {
          "output_type": "execute_result",
          "data": {
            "text/html": [
              "<div>\n",
              "<style scoped>\n",
              "    .dataframe tbody tr th:only-of-type {\n",
              "        vertical-align: middle;\n",
              "    }\n",
              "\n",
              "    .dataframe tbody tr th {\n",
              "        vertical-align: top;\n",
              "    }\n",
              "\n",
              "    .dataframe thead tr th {\n",
              "        text-align: left;\n",
              "    }\n",
              "\n",
              "    .dataframe thead tr:last-of-type th {\n",
              "        text-align: right;\n",
              "    }\n",
              "</style>\n",
              "<table border=\"1\" class=\"dataframe\">\n",
              "  <thead>\n",
              "    <tr>\n",
              "      <th></th>\n",
              "      <th></th>\n",
              "      <th colspan=\"2\" halign=\"left\">tip_pct</th>\n",
              "      <th colspan=\"2\" halign=\"left\">total_bill</th>\n",
              "    </tr>\n",
              "    <tr>\n",
              "      <th></th>\n",
              "      <th></th>\n",
              "      <th>Durchschnitt</th>\n",
              "      <th>Abweichung</th>\n",
              "      <th>Durchschnitt</th>\n",
              "      <th>Abweichung</th>\n",
              "    </tr>\n",
              "    <tr>\n",
              "      <th>day</th>\n",
              "      <th>smoker</th>\n",
              "      <th></th>\n",
              "      <th></th>\n",
              "      <th></th>\n",
              "      <th></th>\n",
              "    </tr>\n",
              "  </thead>\n",
              "  <tbody>\n",
              "    <tr>\n",
              "      <th rowspan=\"2\" valign=\"top\">Fri</th>\n",
              "      <th>No</th>\n",
              "      <td>0.151650</td>\n",
              "      <td>0.000791</td>\n",
              "      <td>18.420000</td>\n",
              "      <td>25.596333</td>\n",
              "    </tr>\n",
              "    <tr>\n",
              "      <th>Yes</th>\n",
              "      <td>0.174783</td>\n",
              "      <td>0.002631</td>\n",
              "      <td>16.813333</td>\n",
              "      <td>82.562438</td>\n",
              "    </tr>\n",
              "    <tr>\n",
              "      <th rowspan=\"2\" valign=\"top\">Sat</th>\n",
              "      <th>No</th>\n",
              "      <td>0.158048</td>\n",
              "      <td>0.001581</td>\n",
              "      <td>19.661778</td>\n",
              "      <td>79.908965</td>\n",
              "    </tr>\n",
              "    <tr>\n",
              "      <th>Yes</th>\n",
              "      <td>0.147906</td>\n",
              "      <td>0.003767</td>\n",
              "      <td>21.276667</td>\n",
              "      <td>101.387535</td>\n",
              "    </tr>\n",
              "    <tr>\n",
              "      <th rowspan=\"2\" valign=\"top\">Sun</th>\n",
              "      <th>No</th>\n",
              "      <td>0.160113</td>\n",
              "      <td>0.001793</td>\n",
              "      <td>20.506667</td>\n",
              "      <td>66.099980</td>\n",
              "    </tr>\n",
              "    <tr>\n",
              "      <th>Yes</th>\n",
              "      <td>0.187250</td>\n",
              "      <td>0.023757</td>\n",
              "      <td>24.120000</td>\n",
              "      <td>109.046044</td>\n",
              "    </tr>\n",
              "    <tr>\n",
              "      <th rowspan=\"2\" valign=\"top\">Thur</th>\n",
              "      <th>No</th>\n",
              "      <td>0.160298</td>\n",
              "      <td>0.001503</td>\n",
              "      <td>17.113111</td>\n",
              "      <td>59.625081</td>\n",
              "    </tr>\n",
              "    <tr>\n",
              "      <th>Yes</th>\n",
              "      <td>0.163863</td>\n",
              "      <td>0.001551</td>\n",
              "      <td>19.190588</td>\n",
              "      <td>69.808518</td>\n",
              "    </tr>\n",
              "  </tbody>\n",
              "</table>\n",
              "</div>"
            ],
            "text/plain": [
              "                 tip_pct              total_bill            \n",
              "            Durchschnitt Abweichung Durchschnitt  Abweichung\n",
              "day  smoker                                                 \n",
              "Fri  No         0.151650   0.000791    18.420000   25.596333\n",
              "     Yes        0.174783   0.002631    16.813333   82.562438\n",
              "Sat  No         0.158048   0.001581    19.661778   79.908965\n",
              "     Yes        0.147906   0.003767    21.276667  101.387535\n",
              "Sun  No         0.160113   0.001793    20.506667   66.099980\n",
              "     Yes        0.187250   0.023757    24.120000  109.046044\n",
              "Thur No         0.160298   0.001503    17.113111   59.625081\n",
              "     Yes        0.163863   0.001551    19.190588   69.808518"
            ]
          },
          "metadata": {},
          "execution_count": 49
        }
      ]
    },
    {
      "cell_type": "code",
      "metadata": {
        "colab": {
          "base_uri": "https://localhost:8080/",
          "height": 326
        },
        "id": "3he26al5Pk9E",
        "outputId": "cebf01cf-3e34-4280-f34a-fd1b2710e146"
      },
      "source": [
        "grouped.agg({'tip': np.max, 'size':'sum'})"
      ],
      "execution_count": 50,
      "outputs": [
        {
          "output_type": "execute_result",
          "data": {
            "text/html": [
              "<div>\n",
              "<style scoped>\n",
              "    .dataframe tbody tr th:only-of-type {\n",
              "        vertical-align: middle;\n",
              "    }\n",
              "\n",
              "    .dataframe tbody tr th {\n",
              "        vertical-align: top;\n",
              "    }\n",
              "\n",
              "    .dataframe thead th {\n",
              "        text-align: right;\n",
              "    }\n",
              "</style>\n",
              "<table border=\"1\" class=\"dataframe\">\n",
              "  <thead>\n",
              "    <tr style=\"text-align: right;\">\n",
              "      <th></th>\n",
              "      <th></th>\n",
              "      <th>tip</th>\n",
              "      <th>size</th>\n",
              "    </tr>\n",
              "    <tr>\n",
              "      <th>day</th>\n",
              "      <th>smoker</th>\n",
              "      <th></th>\n",
              "      <th></th>\n",
              "    </tr>\n",
              "  </thead>\n",
              "  <tbody>\n",
              "    <tr>\n",
              "      <th rowspan=\"2\" valign=\"top\">Fri</th>\n",
              "      <th>No</th>\n",
              "      <td>3.50</td>\n",
              "      <td>9</td>\n",
              "    </tr>\n",
              "    <tr>\n",
              "      <th>Yes</th>\n",
              "      <td>4.73</td>\n",
              "      <td>31</td>\n",
              "    </tr>\n",
              "    <tr>\n",
              "      <th rowspan=\"2\" valign=\"top\">Sat</th>\n",
              "      <th>No</th>\n",
              "      <td>9.00</td>\n",
              "      <td>115</td>\n",
              "    </tr>\n",
              "    <tr>\n",
              "      <th>Yes</th>\n",
              "      <td>10.00</td>\n",
              "      <td>104</td>\n",
              "    </tr>\n",
              "    <tr>\n",
              "      <th rowspan=\"2\" valign=\"top\">Sun</th>\n",
              "      <th>No</th>\n",
              "      <td>6.00</td>\n",
              "      <td>167</td>\n",
              "    </tr>\n",
              "    <tr>\n",
              "      <th>Yes</th>\n",
              "      <td>6.50</td>\n",
              "      <td>49</td>\n",
              "    </tr>\n",
              "    <tr>\n",
              "      <th rowspan=\"2\" valign=\"top\">Thur</th>\n",
              "      <th>No</th>\n",
              "      <td>6.70</td>\n",
              "      <td>112</td>\n",
              "    </tr>\n",
              "    <tr>\n",
              "      <th>Yes</th>\n",
              "      <td>5.00</td>\n",
              "      <td>40</td>\n",
              "    </tr>\n",
              "  </tbody>\n",
              "</table>\n",
              "</div>"
            ],
            "text/plain": [
              "               tip  size\n",
              "day  smoker             \n",
              "Fri  No       3.50     9\n",
              "     Yes      4.73    31\n",
              "Sat  No       9.00   115\n",
              "     Yes     10.00   104\n",
              "Sun  No       6.00   167\n",
              "     Yes      6.50    49\n",
              "Thur No       6.70   112\n",
              "     Yes      5.00    40"
            ]
          },
          "metadata": {},
          "execution_count": 50
        }
      ]
    },
    {
      "cell_type": "code",
      "metadata": {
        "colab": {
          "base_uri": "https://localhost:8080/",
          "height": 357
        },
        "id": "fMSJfX24P-U5",
        "outputId": "b88ac075-353b-4689-a5a7-8e89f010e520"
      },
      "source": [
        "grouped.agg({'tip_pct':['min','max','mean','std'], 'size': 'sum'})"
      ],
      "execution_count": 51,
      "outputs": [
        {
          "output_type": "execute_result",
          "data": {
            "text/html": [
              "<div>\n",
              "<style scoped>\n",
              "    .dataframe tbody tr th:only-of-type {\n",
              "        vertical-align: middle;\n",
              "    }\n",
              "\n",
              "    .dataframe tbody tr th {\n",
              "        vertical-align: top;\n",
              "    }\n",
              "\n",
              "    .dataframe thead tr th {\n",
              "        text-align: left;\n",
              "    }\n",
              "\n",
              "    .dataframe thead tr:last-of-type th {\n",
              "        text-align: right;\n",
              "    }\n",
              "</style>\n",
              "<table border=\"1\" class=\"dataframe\">\n",
              "  <thead>\n",
              "    <tr>\n",
              "      <th></th>\n",
              "      <th></th>\n",
              "      <th colspan=\"4\" halign=\"left\">tip_pct</th>\n",
              "      <th>size</th>\n",
              "    </tr>\n",
              "    <tr>\n",
              "      <th></th>\n",
              "      <th></th>\n",
              "      <th>min</th>\n",
              "      <th>max</th>\n",
              "      <th>mean</th>\n",
              "      <th>std</th>\n",
              "      <th>sum</th>\n",
              "    </tr>\n",
              "    <tr>\n",
              "      <th>day</th>\n",
              "      <th>smoker</th>\n",
              "      <th></th>\n",
              "      <th></th>\n",
              "      <th></th>\n",
              "      <th></th>\n",
              "      <th></th>\n",
              "    </tr>\n",
              "  </thead>\n",
              "  <tbody>\n",
              "    <tr>\n",
              "      <th rowspan=\"2\" valign=\"top\">Fri</th>\n",
              "      <th>No</th>\n",
              "      <td>0.120385</td>\n",
              "      <td>0.187735</td>\n",
              "      <td>0.151650</td>\n",
              "      <td>0.028123</td>\n",
              "      <td>9</td>\n",
              "    </tr>\n",
              "    <tr>\n",
              "      <th>Yes</th>\n",
              "      <td>0.103555</td>\n",
              "      <td>0.263480</td>\n",
              "      <td>0.174783</td>\n",
              "      <td>0.051293</td>\n",
              "      <td>31</td>\n",
              "    </tr>\n",
              "    <tr>\n",
              "      <th rowspan=\"2\" valign=\"top\">Sat</th>\n",
              "      <th>No</th>\n",
              "      <td>0.056797</td>\n",
              "      <td>0.291990</td>\n",
              "      <td>0.158048</td>\n",
              "      <td>0.039767</td>\n",
              "      <td>115</td>\n",
              "    </tr>\n",
              "    <tr>\n",
              "      <th>Yes</th>\n",
              "      <td>0.035638</td>\n",
              "      <td>0.325733</td>\n",
              "      <td>0.147906</td>\n",
              "      <td>0.061375</td>\n",
              "      <td>104</td>\n",
              "    </tr>\n",
              "    <tr>\n",
              "      <th rowspan=\"2\" valign=\"top\">Sun</th>\n",
              "      <th>No</th>\n",
              "      <td>0.059447</td>\n",
              "      <td>0.252672</td>\n",
              "      <td>0.160113</td>\n",
              "      <td>0.042347</td>\n",
              "      <td>167</td>\n",
              "    </tr>\n",
              "    <tr>\n",
              "      <th>Yes</th>\n",
              "      <td>0.065660</td>\n",
              "      <td>0.710345</td>\n",
              "      <td>0.187250</td>\n",
              "      <td>0.154134</td>\n",
              "      <td>49</td>\n",
              "    </tr>\n",
              "    <tr>\n",
              "      <th rowspan=\"2\" valign=\"top\">Thur</th>\n",
              "      <th>No</th>\n",
              "      <td>0.072961</td>\n",
              "      <td>0.266312</td>\n",
              "      <td>0.160298</td>\n",
              "      <td>0.038774</td>\n",
              "      <td>112</td>\n",
              "    </tr>\n",
              "    <tr>\n",
              "      <th>Yes</th>\n",
              "      <td>0.090014</td>\n",
              "      <td>0.241255</td>\n",
              "      <td>0.163863</td>\n",
              "      <td>0.039389</td>\n",
              "      <td>40</td>\n",
              "    </tr>\n",
              "  </tbody>\n",
              "</table>\n",
              "</div>"
            ],
            "text/plain": [
              "              tip_pct                               size\n",
              "                  min       max      mean       std  sum\n",
              "day  smoker                                             \n",
              "Fri  No      0.120385  0.187735  0.151650  0.028123    9\n",
              "     Yes     0.103555  0.263480  0.174783  0.051293   31\n",
              "Sat  No      0.056797  0.291990  0.158048  0.039767  115\n",
              "     Yes     0.035638  0.325733  0.147906  0.061375  104\n",
              "Sun  No      0.059447  0.252672  0.160113  0.042347  167\n",
              "     Yes     0.065660  0.710345  0.187250  0.154134   49\n",
              "Thur No      0.072961  0.266312  0.160298  0.038774  112\n",
              "     Yes     0.090014  0.241255  0.163863  0.039389   40"
            ]
          },
          "metadata": {},
          "execution_count": 51
        }
      ]
    },
    {
      "cell_type": "markdown",
      "metadata": {
        "id": "CbI-BHdOQdI9"
      },
      "source": [
        "**Devolvendo dados agregados sem índice de linha**"
      ]
    },
    {
      "cell_type": "code",
      "metadata": {
        "colab": {
          "base_uri": "https://localhost:8080/",
          "height": 295
        },
        "id": "oGG9jw_UQSUg",
        "outputId": "42207a7e-d7e0-46df-dd8e-25c4f37f387c"
      },
      "source": [
        "tips.groupby(['day','smoker'], as_index=False).mean()"
      ],
      "execution_count": 52,
      "outputs": [
        {
          "output_type": "execute_result",
          "data": {
            "text/html": [
              "<div>\n",
              "<style scoped>\n",
              "    .dataframe tbody tr th:only-of-type {\n",
              "        vertical-align: middle;\n",
              "    }\n",
              "\n",
              "    .dataframe tbody tr th {\n",
              "        vertical-align: top;\n",
              "    }\n",
              "\n",
              "    .dataframe thead th {\n",
              "        text-align: right;\n",
              "    }\n",
              "</style>\n",
              "<table border=\"1\" class=\"dataframe\">\n",
              "  <thead>\n",
              "    <tr style=\"text-align: right;\">\n",
              "      <th></th>\n",
              "      <th>day</th>\n",
              "      <th>smoker</th>\n",
              "      <th>total_bill</th>\n",
              "      <th>tip</th>\n",
              "      <th>size</th>\n",
              "      <th>tip_pct</th>\n",
              "    </tr>\n",
              "  </thead>\n",
              "  <tbody>\n",
              "    <tr>\n",
              "      <th>0</th>\n",
              "      <td>Fri</td>\n",
              "      <td>No</td>\n",
              "      <td>18.420000</td>\n",
              "      <td>2.812500</td>\n",
              "      <td>2.250000</td>\n",
              "      <td>0.151650</td>\n",
              "    </tr>\n",
              "    <tr>\n",
              "      <th>1</th>\n",
              "      <td>Fri</td>\n",
              "      <td>Yes</td>\n",
              "      <td>16.813333</td>\n",
              "      <td>2.714000</td>\n",
              "      <td>2.066667</td>\n",
              "      <td>0.174783</td>\n",
              "    </tr>\n",
              "    <tr>\n",
              "      <th>2</th>\n",
              "      <td>Sat</td>\n",
              "      <td>No</td>\n",
              "      <td>19.661778</td>\n",
              "      <td>3.102889</td>\n",
              "      <td>2.555556</td>\n",
              "      <td>0.158048</td>\n",
              "    </tr>\n",
              "    <tr>\n",
              "      <th>3</th>\n",
              "      <td>Sat</td>\n",
              "      <td>Yes</td>\n",
              "      <td>21.276667</td>\n",
              "      <td>2.875476</td>\n",
              "      <td>2.476190</td>\n",
              "      <td>0.147906</td>\n",
              "    </tr>\n",
              "    <tr>\n",
              "      <th>4</th>\n",
              "      <td>Sun</td>\n",
              "      <td>No</td>\n",
              "      <td>20.506667</td>\n",
              "      <td>3.167895</td>\n",
              "      <td>2.929825</td>\n",
              "      <td>0.160113</td>\n",
              "    </tr>\n",
              "    <tr>\n",
              "      <th>5</th>\n",
              "      <td>Sun</td>\n",
              "      <td>Yes</td>\n",
              "      <td>24.120000</td>\n",
              "      <td>3.516842</td>\n",
              "      <td>2.578947</td>\n",
              "      <td>0.187250</td>\n",
              "    </tr>\n",
              "    <tr>\n",
              "      <th>6</th>\n",
              "      <td>Thur</td>\n",
              "      <td>No</td>\n",
              "      <td>17.113111</td>\n",
              "      <td>2.673778</td>\n",
              "      <td>2.488889</td>\n",
              "      <td>0.160298</td>\n",
              "    </tr>\n",
              "    <tr>\n",
              "      <th>7</th>\n",
              "      <td>Thur</td>\n",
              "      <td>Yes</td>\n",
              "      <td>19.190588</td>\n",
              "      <td>3.030000</td>\n",
              "      <td>2.352941</td>\n",
              "      <td>0.163863</td>\n",
              "    </tr>\n",
              "  </tbody>\n",
              "</table>\n",
              "</div>"
            ],
            "text/plain": [
              "    day smoker  total_bill       tip      size   tip_pct\n",
              "0   Fri     No   18.420000  2.812500  2.250000  0.151650\n",
              "1   Fri    Yes   16.813333  2.714000  2.066667  0.174783\n",
              "2   Sat     No   19.661778  3.102889  2.555556  0.158048\n",
              "3   Sat    Yes   21.276667  2.875476  2.476190  0.147906\n",
              "4   Sun     No   20.506667  3.167895  2.929825  0.160113\n",
              "5   Sun    Yes   24.120000  3.516842  2.578947  0.187250\n",
              "6  Thur     No   17.113111  2.673778  2.488889  0.160298\n",
              "7  Thur    Yes   19.190588  3.030000  2.352941  0.163863"
            ]
          },
          "metadata": {},
          "execution_count": 52
        }
      ]
    },
    {
      "cell_type": "markdown",
      "metadata": {
        "id": "0NsjGndQQ_Kk"
      },
      "source": [
        "# Método apply: separar-aplicar-combinar genérico"
      ]
    }
  ]
}