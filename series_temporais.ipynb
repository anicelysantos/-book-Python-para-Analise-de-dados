{
  "nbformat": 4,
  "nbformat_minor": 0,
  "metadata": {
    "colab": {
      "name": "series_temporais.ipynb",
      "provenance": [],
      "mount_file_id": "1NGN9Q0YlDAOCzavIQz0fNJX6Y8dRSX5w",
      "authorship_tag": "ABX9TyNG4iZbI8fnV6kk84EmFkcj",
      "include_colab_link": true
    },
    "kernelspec": {
      "name": "python3",
      "display_name": "Python 3"
    },
    "language_info": {
      "name": "python"
    }
  },
  "cells": [
    {
      "cell_type": "markdown",
      "metadata": {
        "id": "view-in-github",
        "colab_type": "text"
      },
      "source": [
        "<a href=\"https://colab.research.google.com/github/anicelysantos/book-python-para-analise-de-dados/blob/main/series_temporais.ipynb\" target=\"_parent\"><img src=\"https://colab.research.google.com/assets/colab-badge.svg\" alt=\"Open In Colab\"/></a>"
      ]
    },
    {
      "cell_type": "markdown",
      "metadata": {
        "id": "qU3s08R17TBT"
      },
      "source": [
        "*Estudos do livro \"Python para análise de dados\" cap. 11*"
      ]
    },
    {
      "cell_type": "markdown",
      "metadata": {
        "id": "Rt3Hpvhv8pZM"
      },
      "source": [
        "# **Imports**"
      ]
    },
    {
      "cell_type": "code",
      "metadata": {
        "id": "roRvEA4N8q9E"
      },
      "source": [
        "import pandas as pd\n",
        "import numpy as np\n",
        "from datetime import datetime\n",
        "from datetime import timedelta\n",
        "from dateutil.parser import parse\n",
        "from pandas.tseries.offsets import Hour, Minute\n",
        "from pandas.tseries.offsets import Day, MonthEnd\n",
        "import pytz\n",
        "from pandas.tseries.offsets import Hour\n",
        "import matplotlib.pyplot as plt\n",
        "from scipy.stats import percentileofscore"
      ],
      "execution_count": 172,
      "outputs": []
    },
    {
      "cell_type": "markdown",
      "metadata": {
        "id": "nILNYgEB8VpL"
      },
      "source": [
        "# **Tipos de dados e ferramentas para data e hora**"
      ]
    },
    {
      "cell_type": "code",
      "metadata": {
        "colab": {
          "base_uri": "https://localhost:8080/"
        },
        "id": "aAlqzcaU7OhZ",
        "outputId": "4f3db20a-ec4b-4bc1-8aa0-48529c386700"
      },
      "source": [
        "now = datetime.now()\n",
        "now"
      ],
      "execution_count": 2,
      "outputs": [
        {
          "output_type": "execute_result",
          "data": {
            "text/plain": [
              "datetime.datetime(2021, 9, 29, 14, 42, 13, 469784)"
            ]
          },
          "metadata": {},
          "execution_count": 2
        }
      ]
    },
    {
      "cell_type": "code",
      "metadata": {
        "colab": {
          "base_uri": "https://localhost:8080/"
        },
        "id": "fXnwbs2E83ZQ",
        "outputId": "2e4450ee-14a6-4605-c1fc-848363bb4827"
      },
      "source": [
        "#now.year, now.month, now.day\n",
        "now.day, now.month, now.year"
      ],
      "execution_count": 3,
      "outputs": [
        {
          "output_type": "execute_result",
          "data": {
            "text/plain": [
              "(29, 9, 2021)"
            ]
          },
          "metadata": {},
          "execution_count": 3
        }
      ]
    },
    {
      "cell_type": "code",
      "metadata": {
        "colab": {
          "base_uri": "https://localhost:8080/"
        },
        "id": "7RJyhdKY9DmX",
        "outputId": "a0ca43ba-e0bc-4225-fa92-eea3a37caa55"
      },
      "source": [
        "#import lá em cima timedelta\n",
        "#timedelta mostra a diferença de tempo entre dois objetos datetime\n",
        "\n",
        "delta = datetime(2011, 1, 7) - datetime(2008, 6, 24, 8, 15)\n",
        "delta"
      ],
      "execution_count": 4,
      "outputs": [
        {
          "output_type": "execute_result",
          "data": {
            "text/plain": [
              "datetime.timedelta(days=926, seconds=56700)"
            ]
          },
          "metadata": {},
          "execution_count": 4
        }
      ]
    },
    {
      "cell_type": "code",
      "metadata": {
        "colab": {
          "base_uri": "https://localhost:8080/"
        },
        "id": "Z9Gm9gv-9eFV",
        "outputId": "314b5b36-23a2-4ef5-a10e-08e482ccbb44"
      },
      "source": [
        "delta.days"
      ],
      "execution_count": 5,
      "outputs": [
        {
          "output_type": "execute_result",
          "data": {
            "text/plain": [
              "926"
            ]
          },
          "metadata": {},
          "execution_count": 5
        }
      ]
    },
    {
      "cell_type": "code",
      "metadata": {
        "colab": {
          "base_uri": "https://localhost:8080/"
        },
        "id": "XiE945pD9lwd",
        "outputId": "d19c39ee-2484-460e-bdb5-0871d76372b8"
      },
      "source": [
        "delta.seconds"
      ],
      "execution_count": 6,
      "outputs": [
        {
          "output_type": "execute_result",
          "data": {
            "text/plain": [
              "56700"
            ]
          },
          "metadata": {},
          "execution_count": 6
        }
      ]
    },
    {
      "cell_type": "code",
      "metadata": {
        "colab": {
          "base_uri": "https://localhost:8080/"
        },
        "id": "4_DiakAV9sbo",
        "outputId": "cc52282a-fd8f-4bc5-9923-fa70e12aed07"
      },
      "source": [
        "start = datetime(2011,1,7)\n",
        "start + timedelta(12)"
      ],
      "execution_count": 7,
      "outputs": [
        {
          "output_type": "execute_result",
          "data": {
            "text/plain": [
              "datetime.datetime(2011, 1, 19, 0, 0)"
            ]
          },
          "metadata": {},
          "execution_count": 7
        }
      ]
    },
    {
      "cell_type": "code",
      "metadata": {
        "colab": {
          "base_uri": "https://localhost:8080/"
        },
        "id": "UqVlOTKD-T1W",
        "outputId": "649af5ef-c97e-496b-e77a-4cc0d1e06a19"
      },
      "source": [
        "start - 2 * timedelta(12)\n"
      ],
      "execution_count": 8,
      "outputs": [
        {
          "output_type": "execute_result",
          "data": {
            "text/plain": [
              "datetime.datetime(2010, 12, 14, 0, 0)"
            ]
          },
          "metadata": {},
          "execution_count": 8
        }
      ]
    },
    {
      "cell_type": "markdown",
      "metadata": {
        "id": "SQrMWxQgDauW"
      },
      "source": [
        "**Conversão entre string e datetime**"
      ]
    },
    {
      "cell_type": "code",
      "metadata": {
        "colab": {
          "base_uri": "https://localhost:8080/",
          "height": 0
        },
        "id": "kEkoELlM-34z",
        "outputId": "fd2cb43c-3fdd-4747-a79c-573f5d2374df"
      },
      "source": [
        "stamp = datetime(2011, 1, 3)\n",
        "str(stamp)"
      ],
      "execution_count": 9,
      "outputs": [
        {
          "output_type": "execute_result",
          "data": {
            "application/vnd.google.colaboratory.intrinsic+json": {
              "type": "string"
            },
            "text/plain": [
              "'2011-01-03 00:00:00'"
            ]
          },
          "metadata": {},
          "execution_count": 9
        }
      ]
    },
    {
      "cell_type": "code",
      "metadata": {
        "colab": {
          "base_uri": "https://localhost:8080/",
          "height": 0
        },
        "id": "1yS9ohZmHmEl",
        "outputId": "af01d1b9-7580-4f11-c633-fc9f6bd94c2f"
      },
      "source": [
        "#stamp.strftime('%Y-%m-%d')\n",
        "stamp.strftime('%F') #mesma coisa de cima"
      ],
      "execution_count": 10,
      "outputs": [
        {
          "output_type": "execute_result",
          "data": {
            "application/vnd.google.colaboratory.intrinsic+json": {
              "type": "string"
            },
            "text/plain": [
              "'2011-01-03'"
            ]
          },
          "metadata": {},
          "execution_count": 10
        }
      ]
    },
    {
      "cell_type": "code",
      "metadata": {
        "id": "PXFfZiLfH2KM"
      },
      "source": [
        "value = '2011-01-03'"
      ],
      "execution_count": 11,
      "outputs": []
    },
    {
      "cell_type": "code",
      "metadata": {
        "colab": {
          "base_uri": "https://localhost:8080/"
        },
        "id": "nS4qmiN_TA05",
        "outputId": "886c125c-5e9b-46a0-c696-2d3f4c0f451e"
      },
      "source": [
        "datetime.strptime(value, '%Y-%m-%d')"
      ],
      "execution_count": 12,
      "outputs": [
        {
          "output_type": "execute_result",
          "data": {
            "text/plain": [
              "datetime.datetime(2011, 1, 3, 0, 0)"
            ]
          },
          "metadata": {},
          "execution_count": 12
        }
      ]
    },
    {
      "cell_type": "code",
      "metadata": {
        "colab": {
          "base_uri": "https://localhost:8080/"
        },
        "id": "nnasMwKITE1m",
        "outputId": "f984be39-4018-4b49-9312-51a4e7643c70"
      },
      "source": [
        "datestrs = ['9/19/2021','9/20/2020']\n",
        "[datetime.strptime(x, '%m/%d/%Y') for x in datestrs]"
      ],
      "execution_count": 13,
      "outputs": [
        {
          "output_type": "execute_result",
          "data": {
            "text/plain": [
              "[datetime.datetime(2021, 9, 19, 0, 0), datetime.datetime(2020, 9, 20, 0, 0)]"
            ]
          },
          "metadata": {},
          "execution_count": 13
        }
      ]
    },
    {
      "cell_type": "code",
      "metadata": {
        "colab": {
          "base_uri": "https://localhost:8080/"
        },
        "id": "gpMcLaeNTpSq",
        "outputId": "63a4c099-93af-4afd-9f95-962e3ca6aeeb"
      },
      "source": [
        "#Import do parse lá no inicio\n",
        "parse('21-09-2021')"
      ],
      "execution_count": 14,
      "outputs": [
        {
          "output_type": "execute_result",
          "data": {
            "text/plain": [
              "datetime.datetime(2021, 9, 21, 0, 0)"
            ]
          },
          "metadata": {},
          "execution_count": 14
        }
      ]
    },
    {
      "cell_type": "code",
      "metadata": {
        "id": "c4MSEvVnUMKh",
        "colab": {
          "base_uri": "https://localhost:8080/"
        },
        "outputId": "f18d3031-82d6-4ab3-dce7-8cf73187306e"
      },
      "source": [
        "parse('Sep 21, 2021 09:02 AM')"
      ],
      "execution_count": 15,
      "outputs": [
        {
          "output_type": "execute_result",
          "data": {
            "text/plain": [
              "datetime.datetime(2021, 9, 21, 9, 2)"
            ]
          },
          "metadata": {},
          "execution_count": 15
        }
      ]
    },
    {
      "cell_type": "code",
      "metadata": {
        "colab": {
          "base_uri": "https://localhost:8080/"
        },
        "id": "5Hrvi8aiPQd8",
        "outputId": "d9e606a1-357a-4bad-a700-3052c7923edb"
      },
      "source": [
        "#Dia antes do mês, padrão Brasil\n",
        "parse('21/09/2021', dayfirst=True)"
      ],
      "execution_count": 16,
      "outputs": [
        {
          "output_type": "execute_result",
          "data": {
            "text/plain": [
              "datetime.datetime(2021, 9, 21, 0, 0)"
            ]
          },
          "metadata": {},
          "execution_count": 16
        }
      ]
    },
    {
      "cell_type": "code",
      "metadata": {
        "colab": {
          "base_uri": "https://localhost:8080/"
        },
        "id": "DHgtlE1IPZ0_",
        "outputId": "2bc03a41-be4c-4e3d-e12a-bee6f7b1eb15"
      },
      "source": [
        "datastrs = ['2021-09-21 09:04:00', '2021-09-21 09:05:00']\n",
        "pd.to_datetime(datastrs)"
      ],
      "execution_count": 17,
      "outputs": [
        {
          "output_type": "execute_result",
          "data": {
            "text/plain": [
              "DatetimeIndex(['2021-09-21 09:04:00', '2021-09-21 09:05:00'], dtype='datetime64[ns]', freq=None)"
            ]
          },
          "metadata": {},
          "execution_count": 17
        }
      ]
    },
    {
      "cell_type": "code",
      "metadata": {
        "colab": {
          "base_uri": "https://localhost:8080/"
        },
        "id": "v6l5X6OBP5Xh",
        "outputId": "2779b4fc-e174-487c-e48f-8f830e3ff32d"
      },
      "source": [
        "#Lidar com dados ausentes (None)\n",
        "idx = pd.to_datetime(datestrs + [None])\n",
        "idx"
      ],
      "execution_count": 18,
      "outputs": [
        {
          "output_type": "execute_result",
          "data": {
            "text/plain": [
              "DatetimeIndex(['2021-09-19', '2020-09-20', 'NaT'], dtype='datetime64[ns]', freq=None)"
            ]
          },
          "metadata": {},
          "execution_count": 18
        }
      ]
    },
    {
      "cell_type": "code",
      "metadata": {
        "colab": {
          "base_uri": "https://localhost:8080/"
        },
        "id": "GDl2vWwoQLWy",
        "outputId": "44cbfae7-a701-41f5-c0d4-b06f6fa3f033"
      },
      "source": [
        "#NaT é o valor nulo do pandas para tempo/data (dados de timestamp)\n",
        "idx[2]"
      ],
      "execution_count": 19,
      "outputs": [
        {
          "output_type": "execute_result",
          "data": {
            "text/plain": [
              "NaT"
            ]
          },
          "metadata": {},
          "execution_count": 19
        }
      ]
    },
    {
      "cell_type": "code",
      "metadata": {
        "colab": {
          "base_uri": "https://localhost:8080/"
        },
        "id": "8pciCTjdQbIU",
        "outputId": "e8fa26e2-22c1-4773-f6da-6ce3f61b145e"
      },
      "source": [
        "pd.isnull(idx)"
      ],
      "execution_count": 20,
      "outputs": [
        {
          "output_type": "execute_result",
          "data": {
            "text/plain": [
              "array([False, False,  True])"
            ]
          },
          "metadata": {},
          "execution_count": 20
        }
      ]
    },
    {
      "cell_type": "markdown",
      "metadata": {
        "id": "7XtK_VweRoDr"
      },
      "source": [
        "# **Básico sobre séries temporais**"
      ]
    },
    {
      "cell_type": "code",
      "metadata": {
        "id": "UVzkp-WUQdGX"
      },
      "source": [
        "#import datetime no inicio\n",
        "dates = [datetime(2011, 1, 2), datetime(2011, 1, 5), datetime(2011, 1, 7), datetime(2011, 1, 8), datetime(2011,1,10), datetime(2011, 1, 12)]"
      ],
      "execution_count": 21,
      "outputs": []
    },
    {
      "cell_type": "code",
      "metadata": {
        "colab": {
          "base_uri": "https://localhost:8080/"
        },
        "id": "6pBZ6Mq4UfU-",
        "outputId": "21261cd1-20ec-412a-962e-ca2e67363c48"
      },
      "source": [
        "ts = pd.Series(np.random.randn(6), index=dates)\n",
        "ts"
      ],
      "execution_count": 22,
      "outputs": [
        {
          "output_type": "execute_result",
          "data": {
            "text/plain": [
              "2011-01-02   -1.933076\n",
              "2011-01-05   -1.452877\n",
              "2011-01-07    1.622719\n",
              "2011-01-08   -1.211010\n",
              "2011-01-10    3.025180\n",
              "2011-01-12   -0.942912\n",
              "dtype: float64"
            ]
          },
          "metadata": {},
          "execution_count": 22
        }
      ]
    },
    {
      "cell_type": "code",
      "metadata": {
        "colab": {
          "base_uri": "https://localhost:8080/"
        },
        "id": "85_4AyetUmaW",
        "outputId": "ed06b7db-08f5-4d5b-ac1d-22a11f78afad"
      },
      "source": [
        "ts.index"
      ],
      "execution_count": 23,
      "outputs": [
        {
          "output_type": "execute_result",
          "data": {
            "text/plain": [
              "DatetimeIndex(['2011-01-02', '2011-01-05', '2011-01-07', '2011-01-08',\n",
              "               '2011-01-10', '2011-01-12'],\n",
              "              dtype='datetime64[ns]', freq=None)"
            ]
          },
          "metadata": {},
          "execution_count": 23
        }
      ]
    },
    {
      "cell_type": "code",
      "metadata": {
        "colab": {
          "base_uri": "https://localhost:8080/"
        },
        "id": "7AI5D0V2Ux8_",
        "outputId": "e43c4ae0-f2eb-4ae6-e40a-f3c08664637e"
      },
      "source": [
        "#[::2]seleciona um elemento a cada dois\n",
        "ts + ts[::2]"
      ],
      "execution_count": 24,
      "outputs": [
        {
          "output_type": "execute_result",
          "data": {
            "text/plain": [
              "2011-01-02   -3.866152\n",
              "2011-01-05         NaN\n",
              "2011-01-07    3.245439\n",
              "2011-01-08         NaN\n",
              "2011-01-10    6.050360\n",
              "2011-01-12         NaN\n",
              "dtype: float64"
            ]
          },
          "metadata": {},
          "execution_count": 24
        }
      ]
    },
    {
      "cell_type": "code",
      "metadata": {
        "colab": {
          "base_uri": "https://localhost:8080/"
        },
        "id": "AiUvtiD3U4UH",
        "outputId": "f79389db-bd9f-4334-b881-7579cad92320"
      },
      "source": [
        "ts.index.dtype"
      ],
      "execution_count": 25,
      "outputs": [
        {
          "output_type": "execute_result",
          "data": {
            "text/plain": [
              "dtype('<M8[ns]')"
            ]
          },
          "metadata": {},
          "execution_count": 25
        }
      ]
    },
    {
      "cell_type": "code",
      "metadata": {
        "colab": {
          "base_uri": "https://localhost:8080/"
        },
        "id": "w5z_7YThVJv3",
        "outputId": "604f10ba-2a24-4657-fa30-d09cd0ccb73c"
      },
      "source": [
        "stamp = ts.index[0]\n",
        "stamp"
      ],
      "execution_count": 26,
      "outputs": [
        {
          "output_type": "execute_result",
          "data": {
            "text/plain": [
              "Timestamp('2011-01-02 00:00:00')"
            ]
          },
          "metadata": {},
          "execution_count": 26
        }
      ]
    },
    {
      "cell_type": "markdown",
      "metadata": {
        "id": "BLRtURPFVbOy"
      },
      "source": [
        "**Indexação, seleção e geração de subconjuntos**"
      ]
    },
    {
      "cell_type": "code",
      "metadata": {
        "colab": {
          "base_uri": "https://localhost:8080/"
        },
        "id": "Vh0vpj3BVNWH",
        "outputId": "8a8c0022-e7a8-4d11-f85e-7b096c789692"
      },
      "source": [
        "stamp = ts.index[2]\n",
        "ts[stamp]"
      ],
      "execution_count": 27,
      "outputs": [
        {
          "output_type": "execute_result",
          "data": {
            "text/plain": [
              "1.6227192721434964"
            ]
          },
          "metadata": {},
          "execution_count": 27
        }
      ]
    },
    {
      "cell_type": "code",
      "metadata": {
        "colab": {
          "base_uri": "https://localhost:8080/"
        },
        "id": "HG1kMmGMVlrX",
        "outputId": "ca6d0c81-e9a3-4a53-d111-48b152e2445d"
      },
      "source": [
        "#Passar uma string para ser interpretada como data\n",
        "ts['1/10/2011']"
      ],
      "execution_count": 28,
      "outputs": [
        {
          "output_type": "execute_result",
          "data": {
            "text/plain": [
              "3.0251798442829108"
            ]
          },
          "metadata": {},
          "execution_count": 28
        }
      ]
    },
    {
      "cell_type": "code",
      "metadata": {
        "colab": {
          "base_uri": "https://localhost:8080/"
        },
        "id": "XFTGvpSKV_dg",
        "outputId": "51456441-ba77-4dc2-bc39-b4cf2e5d7262"
      },
      "source": [
        "ts['20110110']"
      ],
      "execution_count": 29,
      "outputs": [
        {
          "output_type": "execute_result",
          "data": {
            "text/plain": [
              "3.0251798442829108"
            ]
          },
          "metadata": {},
          "execution_count": 29
        }
      ]
    },
    {
      "cell_type": "code",
      "metadata": {
        "colab": {
          "base_uri": "https://localhost:8080/"
        },
        "id": "3BndCk-dWGQQ",
        "outputId": "571a5b59-5498-40dc-91a8-d53593e724a7"
      },
      "source": [
        "#series temporais mais longas podem selecionar o ano ou só o ano e o mês para trazer trechos do dataframe\n",
        "longer_ts = pd.Series(np.random.randn(1000), index=pd.date_range('1/1/2000', periods=1000))\n",
        "longer_ts"
      ],
      "execution_count": 30,
      "outputs": [
        {
          "output_type": "execute_result",
          "data": {
            "text/plain": [
              "2000-01-01    0.385550\n",
              "2000-01-02    1.571313\n",
              "2000-01-03   -0.831440\n",
              "2000-01-04    1.463855\n",
              "2000-01-05   -1.190571\n",
              "                ...   \n",
              "2002-09-22    0.885115\n",
              "2002-09-23   -1.181237\n",
              "2002-09-24    1.479000\n",
              "2002-09-25    0.886168\n",
              "2002-09-26   -1.795715\n",
              "Freq: D, Length: 1000, dtype: float64"
            ]
          },
          "metadata": {},
          "execution_count": 30
        }
      ]
    },
    {
      "cell_type": "code",
      "metadata": {
        "colab": {
          "base_uri": "https://localhost:8080/"
        },
        "id": "2_VeGWZYWlo7",
        "outputId": "0a1504c1-a6bf-4ecd-fa49-000f16b2c0cb"
      },
      "source": [
        "longer_ts['2001']"
      ],
      "execution_count": 31,
      "outputs": [
        {
          "output_type": "execute_result",
          "data": {
            "text/plain": [
              "2001-01-01   -0.412933\n",
              "2001-01-02    1.885075\n",
              "2001-01-03    0.830931\n",
              "2001-01-04   -1.034637\n",
              "2001-01-05   -1.450781\n",
              "                ...   \n",
              "2001-12-27    1.772479\n",
              "2001-12-28   -1.438299\n",
              "2001-12-29    0.351677\n",
              "2001-12-30    0.612232\n",
              "2001-12-31   -0.389150\n",
              "Freq: D, Length: 365, dtype: float64"
            ]
          },
          "metadata": {},
          "execution_count": 31
        }
      ]
    },
    {
      "cell_type": "code",
      "metadata": {
        "colab": {
          "base_uri": "https://localhost:8080/"
        },
        "id": "kDnha72PXCdX",
        "outputId": "c93b91e6-e3a9-4173-d38e-c483eadc3b28"
      },
      "source": [
        "longer_ts['2001-05']"
      ],
      "execution_count": 32,
      "outputs": [
        {
          "output_type": "execute_result",
          "data": {
            "text/plain": [
              "2001-05-01   -0.682597\n",
              "2001-05-02   -0.203115\n",
              "2001-05-03    0.444531\n",
              "2001-05-04   -0.274121\n",
              "2001-05-05   -0.937856\n",
              "2001-05-06   -0.371209\n",
              "2001-05-07   -0.033181\n",
              "2001-05-08    0.696940\n",
              "2001-05-09    0.679200\n",
              "2001-05-10   -0.342100\n",
              "2001-05-11   -1.070655\n",
              "2001-05-12    1.205764\n",
              "2001-05-13   -0.541569\n",
              "2001-05-14    0.860089\n",
              "2001-05-15    1.446006\n",
              "2001-05-16    0.243759\n",
              "2001-05-17    1.318241\n",
              "2001-05-18    1.322726\n",
              "2001-05-19    0.383467\n",
              "2001-05-20    1.108182\n",
              "2001-05-21   -0.353843\n",
              "2001-05-22   -0.103702\n",
              "2001-05-23    0.777501\n",
              "2001-05-24   -0.175938\n",
              "2001-05-25   -0.079864\n",
              "2001-05-26    0.489460\n",
              "2001-05-27   -0.851276\n",
              "2001-05-28    0.663445\n",
              "2001-05-29   -0.861190\n",
              "2001-05-30   -3.808455\n",
              "2001-05-31    0.001024\n",
              "Freq: D, dtype: float64"
            ]
          },
          "metadata": {},
          "execution_count": 32
        }
      ]
    },
    {
      "cell_type": "code",
      "metadata": {
        "colab": {
          "base_uri": "https://localhost:8080/"
        },
        "id": "LW8MBFEnXjgQ",
        "outputId": "5a5e4cb1-97f1-4a3b-cff0-fbd29fbd2a4b"
      },
      "source": [
        "ts[datetime(2011, 1, 7):]"
      ],
      "execution_count": 33,
      "outputs": [
        {
          "output_type": "execute_result",
          "data": {
            "text/plain": [
              "2011-01-07    1.622719\n",
              "2011-01-08   -1.211010\n",
              "2011-01-10    3.025180\n",
              "2011-01-12   -0.942912\n",
              "dtype: float64"
            ]
          },
          "metadata": {},
          "execution_count": 33
        }
      ]
    },
    {
      "cell_type": "code",
      "metadata": {
        "colab": {
          "base_uri": "https://localhost:8080/"
        },
        "id": "BaDHkiHKXspx",
        "outputId": "343307cc-50be-404a-bc14-b848e47727d6"
      },
      "source": [
        "ts"
      ],
      "execution_count": 34,
      "outputs": [
        {
          "output_type": "execute_result",
          "data": {
            "text/plain": [
              "2011-01-02   -1.933076\n",
              "2011-01-05   -1.452877\n",
              "2011-01-07    1.622719\n",
              "2011-01-08   -1.211010\n",
              "2011-01-10    3.025180\n",
              "2011-01-12   -0.942912\n",
              "dtype: float64"
            ]
          },
          "metadata": {},
          "execution_count": 34
        }
      ]
    },
    {
      "cell_type": "code",
      "metadata": {
        "colab": {
          "base_uri": "https://localhost:8080/"
        },
        "id": "hHOCmZS6Xxdh",
        "outputId": "ff0abc96-0823-4d07-d243-fe4a31c85440"
      },
      "source": [
        "ts['1/6/2011':'1/11/2011']"
      ],
      "execution_count": 35,
      "outputs": [
        {
          "output_type": "execute_result",
          "data": {
            "text/plain": [
              "2011-01-07    1.622719\n",
              "2011-01-08   -1.211010\n",
              "2011-01-10    3.025180\n",
              "dtype: float64"
            ]
          },
          "metadata": {},
          "execution_count": 35
        }
      ]
    },
    {
      "cell_type": "code",
      "metadata": {
        "colab": {
          "base_uri": "https://localhost:8080/"
        },
        "id": "9ZnQz6f_X6kH",
        "outputId": "8a8bd5f5-5b7b-4697-b052-07b2254db2e5"
      },
      "source": [
        "#Fatiar um periodo entre duas datas\n",
        "ts.truncate(after='1/9/2011')"
      ],
      "execution_count": 36,
      "outputs": [
        {
          "output_type": "execute_result",
          "data": {
            "text/plain": [
              "2011-01-02   -1.933076\n",
              "2011-01-05   -1.452877\n",
              "2011-01-07    1.622719\n",
              "2011-01-08   -1.211010\n",
              "dtype: float64"
            ]
          },
          "metadata": {},
          "execution_count": 36
        }
      ]
    },
    {
      "cell_type": "code",
      "metadata": {
        "id": "ho75e_B9YOHR"
      },
      "source": [
        "dates = pd.date_range('1/1/2000', periods=100, freq='W-WED')\n",
        "long_df = pd.DataFrame(np.random.randn(100,4), index=dates, columns=['Colorado', 'Texas', 'New York', 'Ohio'])"
      ],
      "execution_count": 37,
      "outputs": []
    },
    {
      "cell_type": "code",
      "metadata": {
        "colab": {
          "base_uri": "https://localhost:8080/",
          "height": 0
        },
        "id": "q3OIscIpYqi5",
        "outputId": "b7ff44af-d922-492a-e785-a49f0804c393"
      },
      "source": [
        "long_df.loc['5-2001']"
      ],
      "execution_count": 38,
      "outputs": [
        {
          "output_type": "execute_result",
          "data": {
            "text/html": [
              "<div>\n",
              "<style scoped>\n",
              "    .dataframe tbody tr th:only-of-type {\n",
              "        vertical-align: middle;\n",
              "    }\n",
              "\n",
              "    .dataframe tbody tr th {\n",
              "        vertical-align: top;\n",
              "    }\n",
              "\n",
              "    .dataframe thead th {\n",
              "        text-align: right;\n",
              "    }\n",
              "</style>\n",
              "<table border=\"1\" class=\"dataframe\">\n",
              "  <thead>\n",
              "    <tr style=\"text-align: right;\">\n",
              "      <th></th>\n",
              "      <th>Colorado</th>\n",
              "      <th>Texas</th>\n",
              "      <th>New York</th>\n",
              "      <th>Ohio</th>\n",
              "    </tr>\n",
              "  </thead>\n",
              "  <tbody>\n",
              "    <tr>\n",
              "      <th>2001-05-02</th>\n",
              "      <td>-0.492200</td>\n",
              "      <td>-0.201204</td>\n",
              "      <td>1.464712</td>\n",
              "      <td>-2.268789</td>\n",
              "    </tr>\n",
              "    <tr>\n",
              "      <th>2001-05-09</th>\n",
              "      <td>-0.969609</td>\n",
              "      <td>-1.394170</td>\n",
              "      <td>-2.324482</td>\n",
              "      <td>1.489545</td>\n",
              "    </tr>\n",
              "    <tr>\n",
              "      <th>2001-05-16</th>\n",
              "      <td>-1.248067</td>\n",
              "      <td>-0.979309</td>\n",
              "      <td>-1.211770</td>\n",
              "      <td>0.091756</td>\n",
              "    </tr>\n",
              "    <tr>\n",
              "      <th>2001-05-23</th>\n",
              "      <td>-1.119556</td>\n",
              "      <td>0.947442</td>\n",
              "      <td>0.163072</td>\n",
              "      <td>-0.443417</td>\n",
              "    </tr>\n",
              "    <tr>\n",
              "      <th>2001-05-30</th>\n",
              "      <td>-0.553086</td>\n",
              "      <td>-1.028214</td>\n",
              "      <td>-0.284450</td>\n",
              "      <td>-0.259256</td>\n",
              "    </tr>\n",
              "  </tbody>\n",
              "</table>\n",
              "</div>"
            ],
            "text/plain": [
              "            Colorado     Texas  New York      Ohio\n",
              "2001-05-02 -0.492200 -0.201204  1.464712 -2.268789\n",
              "2001-05-09 -0.969609 -1.394170 -2.324482  1.489545\n",
              "2001-05-16 -1.248067 -0.979309 -1.211770  0.091756\n",
              "2001-05-23 -1.119556  0.947442  0.163072 -0.443417\n",
              "2001-05-30 -0.553086 -1.028214 -0.284450 -0.259256"
            ]
          },
          "metadata": {},
          "execution_count": 38
        }
      ]
    },
    {
      "cell_type": "markdown",
      "metadata": {
        "id": "Z8L966ZHY76F"
      },
      "source": [
        "**Séries temporais com índices duplicados**"
      ]
    },
    {
      "cell_type": "code",
      "metadata": {
        "id": "afjWyItVYuQR"
      },
      "source": [
        "dates = pd.DatetimeIndex(['1/1/2000', '1/2/2000', '1/2/2000', '1/2/2000', '1/3/2000'])\n",
        "dup_ts = pd.Series(np.arange(5), index=dates)"
      ],
      "execution_count": 39,
      "outputs": []
    },
    {
      "cell_type": "code",
      "metadata": {
        "colab": {
          "base_uri": "https://localhost:8080/"
        },
        "id": "x1DA9E3jY3TK",
        "outputId": "dd784b13-6107-468f-d86a-be949d008c5a"
      },
      "source": [
        "dup_ts"
      ],
      "execution_count": 40,
      "outputs": [
        {
          "output_type": "execute_result",
          "data": {
            "text/plain": [
              "2000-01-01    0\n",
              "2000-01-02    1\n",
              "2000-01-02    2\n",
              "2000-01-02    3\n",
              "2000-01-03    4\n",
              "dtype: int64"
            ]
          },
          "metadata": {},
          "execution_count": 40
        }
      ]
    },
    {
      "cell_type": "code",
      "metadata": {
        "colab": {
          "base_uri": "https://localhost:8080/"
        },
        "id": "rzw6l3hsZY9B",
        "outputId": "95a60120-e8c2-41e2-aa98-775977ed9a90"
      },
      "source": [
        "dup_ts.index.is_unique"
      ],
      "execution_count": 41,
      "outputs": [
        {
          "output_type": "execute_result",
          "data": {
            "text/plain": [
              "False"
            ]
          },
          "metadata": {},
          "execution_count": 41
        }
      ]
    },
    {
      "cell_type": "code",
      "metadata": {
        "colab": {
          "base_uri": "https://localhost:8080/"
        },
        "id": "eGVfqaQlZlap",
        "outputId": "0337a331-979e-4ac9-b703-04bca9a94b56"
      },
      "source": [
        "dup_ts['1/3/2000']"
      ],
      "execution_count": 42,
      "outputs": [
        {
          "output_type": "execute_result",
          "data": {
            "text/plain": [
              "4"
            ]
          },
          "metadata": {},
          "execution_count": 42
        }
      ]
    },
    {
      "cell_type": "code",
      "metadata": {
        "colab": {
          "base_uri": "https://localhost:8080/"
        },
        "id": "5runIuRUaNxw",
        "outputId": "301fe03b-2058-497d-d646-b60e545b6fea"
      },
      "source": [
        "dup_ts['1/2/2000']"
      ],
      "execution_count": 43,
      "outputs": [
        {
          "output_type": "execute_result",
          "data": {
            "text/plain": [
              "2000-01-02    1\n",
              "2000-01-02    2\n",
              "2000-01-02    3\n",
              "dtype: int64"
            ]
          },
          "metadata": {},
          "execution_count": 43
        }
      ]
    },
    {
      "cell_type": "code",
      "metadata": {
        "colab": {
          "base_uri": "https://localhost:8080/"
        },
        "id": "PdagmST_aQ8e",
        "outputId": "f312ef0a-c912-41ea-8c10-2c240d188921"
      },
      "source": [
        "#agregar os dados únicos\n",
        "grouped = dup_ts.groupby(level=0)\n",
        "grouped.mean()"
      ],
      "execution_count": 44,
      "outputs": [
        {
          "output_type": "execute_result",
          "data": {
            "text/plain": [
              "2000-01-01    0\n",
              "2000-01-02    2\n",
              "2000-01-03    4\n",
              "dtype: int64"
            ]
          },
          "metadata": {},
          "execution_count": 44
        }
      ]
    },
    {
      "cell_type": "code",
      "metadata": {
        "colab": {
          "base_uri": "https://localhost:8080/"
        },
        "id": "1gTqzvekamHy",
        "outputId": "fd41847b-8323-4759-9c3f-613842acce6b"
      },
      "source": [
        "grouped.count()"
      ],
      "execution_count": 45,
      "outputs": [
        {
          "output_type": "execute_result",
          "data": {
            "text/plain": [
              "2000-01-01    1\n",
              "2000-01-02    3\n",
              "2000-01-03    1\n",
              "dtype: int64"
            ]
          },
          "metadata": {},
          "execution_count": 45
        }
      ]
    },
    {
      "cell_type": "markdown",
      "metadata": {
        "id": "3t0w1nQUa9y9"
      },
      "source": [
        "# **Intervalos de datas, frequências e deslocamentos**"
      ]
    },
    {
      "cell_type": "code",
      "metadata": {
        "colab": {
          "base_uri": "https://localhost:8080/"
        },
        "id": "3pAY_vgza4xh",
        "outputId": "85d67a94-0108-4096-97e2-6786d8477515"
      },
      "source": [
        "ts"
      ],
      "execution_count": 46,
      "outputs": [
        {
          "output_type": "execute_result",
          "data": {
            "text/plain": [
              "2011-01-02   -1.933076\n",
              "2011-01-05   -1.452877\n",
              "2011-01-07    1.622719\n",
              "2011-01-08   -1.211010\n",
              "2011-01-10    3.025180\n",
              "2011-01-12   -0.942912\n",
              "dtype: float64"
            ]
          },
          "metadata": {},
          "execution_count": 46
        }
      ]
    },
    {
      "cell_type": "code",
      "metadata": {
        "id": "yh5kJf_lbxo5"
      },
      "source": [
        "#String 'D' é o equivalente a frequência diária\n",
        "resampler = ts.resample('D')\n"
      ],
      "execution_count": 47,
      "outputs": []
    },
    {
      "cell_type": "markdown",
      "metadata": {
        "id": "aowxCCBpcIaF"
      },
      "source": [
        "**Gerando intervalos de datas**"
      ]
    },
    {
      "cell_type": "code",
      "metadata": {
        "colab": {
          "base_uri": "https://localhost:8080/"
        },
        "id": "Ts-VTmwsb2VB",
        "outputId": "6e38d895-5dfa-409a-ab89-500642370988"
      },
      "source": [
        "#pandas.date_range gera index com tamanho especifico\n",
        "index = pd.date_range('2012-04-01', '2012-06-01')\n",
        "index"
      ],
      "execution_count": 48,
      "outputs": [
        {
          "output_type": "execute_result",
          "data": {
            "text/plain": [
              "DatetimeIndex(['2012-04-01', '2012-04-02', '2012-04-03', '2012-04-04',\n",
              "               '2012-04-05', '2012-04-06', '2012-04-07', '2012-04-08',\n",
              "               '2012-04-09', '2012-04-10', '2012-04-11', '2012-04-12',\n",
              "               '2012-04-13', '2012-04-14', '2012-04-15', '2012-04-16',\n",
              "               '2012-04-17', '2012-04-18', '2012-04-19', '2012-04-20',\n",
              "               '2012-04-21', '2012-04-22', '2012-04-23', '2012-04-24',\n",
              "               '2012-04-25', '2012-04-26', '2012-04-27', '2012-04-28',\n",
              "               '2012-04-29', '2012-04-30', '2012-05-01', '2012-05-02',\n",
              "               '2012-05-03', '2012-05-04', '2012-05-05', '2012-05-06',\n",
              "               '2012-05-07', '2012-05-08', '2012-05-09', '2012-05-10',\n",
              "               '2012-05-11', '2012-05-12', '2012-05-13', '2012-05-14',\n",
              "               '2012-05-15', '2012-05-16', '2012-05-17', '2012-05-18',\n",
              "               '2012-05-19', '2012-05-20', '2012-05-21', '2012-05-22',\n",
              "               '2012-05-23', '2012-05-24', '2012-05-25', '2012-05-26',\n",
              "               '2012-05-27', '2012-05-28', '2012-05-29', '2012-05-30',\n",
              "               '2012-05-31', '2012-06-01'],\n",
              "              dtype='datetime64[ns]', freq='D')"
            ]
          },
          "metadata": {},
          "execution_count": 48
        }
      ]
    },
    {
      "cell_type": "code",
      "metadata": {
        "colab": {
          "base_uri": "https://localhost:8080/"
        },
        "id": "r0u6n9aIcgZd",
        "outputId": "cf268fcd-435c-40a6-af82-2e97c508c9ee"
      },
      "source": [
        "#Se passar só a data do inicio ou do fim, precisa passar o periodo\n",
        "pd.date_range(start='2021-08-01', periods=20)"
      ],
      "execution_count": 49,
      "outputs": [
        {
          "output_type": "execute_result",
          "data": {
            "text/plain": [
              "DatetimeIndex(['2021-08-01', '2021-08-02', '2021-08-03', '2021-08-04',\n",
              "               '2021-08-05', '2021-08-06', '2021-08-07', '2021-08-08',\n",
              "               '2021-08-09', '2021-08-10', '2021-08-11', '2021-08-12',\n",
              "               '2021-08-13', '2021-08-14', '2021-08-15', '2021-08-16',\n",
              "               '2021-08-17', '2021-08-18', '2021-08-19', '2021-08-20'],\n",
              "              dtype='datetime64[ns]', freq='D')"
            ]
          },
          "metadata": {},
          "execution_count": 49
        }
      ]
    },
    {
      "cell_type": "code",
      "metadata": {
        "colab": {
          "base_uri": "https://localhost:8080/"
        },
        "id": "Or8TX0mIeaY8",
        "outputId": "1cb076af-e346-4f09-da72-fbdf37b943f0"
      },
      "source": [
        "pd.date_range(end='2021-09-01', periods=20)"
      ],
      "execution_count": 50,
      "outputs": [
        {
          "output_type": "execute_result",
          "data": {
            "text/plain": [
              "DatetimeIndex(['2021-08-13', '2021-08-14', '2021-08-15', '2021-08-16',\n",
              "               '2021-08-17', '2021-08-18', '2021-08-19', '2021-08-20',\n",
              "               '2021-08-21', '2021-08-22', '2021-08-23', '2021-08-24',\n",
              "               '2021-08-25', '2021-08-26', '2021-08-27', '2021-08-28',\n",
              "               '2021-08-29', '2021-08-30', '2021-08-31', '2021-09-01'],\n",
              "              dtype='datetime64[ns]', freq='D')"
            ]
          },
          "metadata": {},
          "execution_count": 50
        }
      ]
    },
    {
      "cell_type": "code",
      "metadata": {
        "colab": {
          "base_uri": "https://localhost:8080/"
        },
        "id": "aK4Jm3bEemir",
        "outputId": "b2bfb127-4865-42c7-c2cf-0ccd29988551"
      },
      "source": [
        "#'BM' trás um trecho de data contendo o ultimo dia útil de cada mês\n",
        "pd.date_range('2020-01-01','2021-01-01', freq='BM')"
      ],
      "execution_count": 51,
      "outputs": [
        {
          "output_type": "execute_result",
          "data": {
            "text/plain": [
              "DatetimeIndex(['2020-01-31', '2020-02-28', '2020-03-31', '2020-04-30',\n",
              "               '2020-05-29', '2020-06-30', '2020-07-31', '2020-08-31',\n",
              "               '2020-09-30', '2020-10-30', '2020-11-30', '2020-12-31'],\n",
              "              dtype='datetime64[ns]', freq='BM')"
            ]
          },
          "metadata": {},
          "execution_count": 51
        }
      ]
    },
    {
      "cell_type": "code",
      "metadata": {
        "colab": {
          "base_uri": "https://localhost:8080/"
        },
        "id": "HOxFxfrLfY6o",
        "outputId": "12429fab-7a45-48f8-dd85-b8f362ff12b5"
      },
      "source": [
        "pd.date_range('2021-07-03 12:56:31', periods=5)"
      ],
      "execution_count": 52,
      "outputs": [
        {
          "output_type": "execute_result",
          "data": {
            "text/plain": [
              "DatetimeIndex(['2021-07-03 12:56:31', '2021-07-04 12:56:31',\n",
              "               '2021-07-05 12:56:31', '2021-07-06 12:56:31',\n",
              "               '2021-07-07 12:56:31'],\n",
              "              dtype='datetime64[ns]', freq='D')"
            ]
          },
          "metadata": {},
          "execution_count": 52
        }
      ]
    },
    {
      "cell_type": "code",
      "metadata": {
        "colab": {
          "base_uri": "https://localhost:8080/"
        },
        "id": "sPB-Q1VjgqbE",
        "outputId": "da1a7603-a877-478c-ce6a-a0723743b916"
      },
      "source": [
        "#normalizar horários com normalize\n",
        "pd.date_range('2021-08-02 12:56:31', periods=5, normalize=True)"
      ],
      "execution_count": 53,
      "outputs": [
        {
          "output_type": "execute_result",
          "data": {
            "text/plain": [
              "DatetimeIndex(['2021-08-02', '2021-08-03', '2021-08-04', '2021-08-05',\n",
              "               '2021-08-06'],\n",
              "              dtype='datetime64[ns]', freq='D')"
            ]
          },
          "metadata": {},
          "execution_count": 53
        }
      ]
    },
    {
      "cell_type": "markdown",
      "metadata": {
        "id": "SC29L4V3hc2p"
      },
      "source": [
        "**Frequências e offset de datas**"
      ]
    },
    {
      "cell_type": "code",
      "metadata": {
        "id": "YBXxzwaahaus",
        "colab": {
          "base_uri": "https://localhost:8080/"
        },
        "outputId": "2be1dadd-288c-46fe-bbf9-c6d98d749013"
      },
      "source": [
        "#Import Hour e Minute lá em cima\n",
        "hour = Hour()\n",
        "hour"
      ],
      "execution_count": 54,
      "outputs": [
        {
          "output_type": "execute_result",
          "data": {
            "text/plain": [
              "<Hour>"
            ]
          },
          "metadata": {},
          "execution_count": 54
        }
      ]
    },
    {
      "cell_type": "code",
      "metadata": {
        "colab": {
          "base_uri": "https://localhost:8080/"
        },
        "id": "4ZunGp3d2hdZ",
        "outputId": "437f6655-bd68-49e5-ca9b-b7f5c49e72bf"
      },
      "source": [
        "four_hours = Hour(4)\n",
        "four_hours"
      ],
      "execution_count": 55,
      "outputs": [
        {
          "output_type": "execute_result",
          "data": {
            "text/plain": [
              "<4 * Hours>"
            ]
          },
          "metadata": {},
          "execution_count": 55
        }
      ]
    },
    {
      "cell_type": "code",
      "metadata": {
        "colab": {
          "base_uri": "https://localhost:8080/"
        },
        "id": "vUa2abgG2rsC",
        "outputId": "c1143d78-ed14-49cf-f57a-6248a73c636a"
      },
      "source": [
        "pd.date_range('2000-01-01', '2001-01-03 23:59', freq='4h')"
      ],
      "execution_count": 56,
      "outputs": [
        {
          "output_type": "execute_result",
          "data": {
            "text/plain": [
              "DatetimeIndex(['2000-01-01 00:00:00', '2000-01-01 04:00:00',\n",
              "               '2000-01-01 08:00:00', '2000-01-01 12:00:00',\n",
              "               '2000-01-01 16:00:00', '2000-01-01 20:00:00',\n",
              "               '2000-01-02 00:00:00', '2000-01-02 04:00:00',\n",
              "               '2000-01-02 08:00:00', '2000-01-02 12:00:00',\n",
              "               ...\n",
              "               '2001-01-02 08:00:00', '2001-01-02 12:00:00',\n",
              "               '2001-01-02 16:00:00', '2001-01-02 20:00:00',\n",
              "               '2001-01-03 00:00:00', '2001-01-03 04:00:00',\n",
              "               '2001-01-03 08:00:00', '2001-01-03 12:00:00',\n",
              "               '2001-01-03 16:00:00', '2001-01-03 20:00:00'],\n",
              "              dtype='datetime64[ns]', length=2214, freq='4H')"
            ]
          },
          "metadata": {},
          "execution_count": 56
        }
      ]
    },
    {
      "cell_type": "code",
      "metadata": {
        "colab": {
          "base_uri": "https://localhost:8080/"
        },
        "id": "gSJZ-1YL3CFh",
        "outputId": "1d4f5208-10a8-4a7c-cdd7-a6ed8d045b17"
      },
      "source": [
        "Hour(2) + Minute(30)"
      ],
      "execution_count": 57,
      "outputs": [
        {
          "output_type": "execute_result",
          "data": {
            "text/plain": [
              "<150 * Minutes>"
            ]
          },
          "metadata": {},
          "execution_count": 57
        }
      ]
    },
    {
      "cell_type": "code",
      "metadata": {
        "colab": {
          "base_uri": "https://localhost:8080/"
        },
        "id": "rF2VBf_U3Vs5",
        "outputId": "c61e4233-e635-46fb-b780-896fd96f423b"
      },
      "source": [
        "pd.date_range('2000-01-01', periods=10, freq='1h30min')"
      ],
      "execution_count": 58,
      "outputs": [
        {
          "output_type": "execute_result",
          "data": {
            "text/plain": [
              "DatetimeIndex(['2000-01-01 00:00:00', '2000-01-01 01:30:00',\n",
              "               '2000-01-01 03:00:00', '2000-01-01 04:30:00',\n",
              "               '2000-01-01 06:00:00', '2000-01-01 07:30:00',\n",
              "               '2000-01-01 09:00:00', '2000-01-01 10:30:00',\n",
              "               '2000-01-01 12:00:00', '2000-01-01 13:30:00'],\n",
              "              dtype='datetime64[ns]', freq='90T')"
            ]
          },
          "metadata": {},
          "execution_count": 58
        }
      ]
    },
    {
      "cell_type": "markdown",
      "metadata": {
        "id": "ePXHbRb338ex"
      },
      "source": [
        "**Datas com a semana do mês**"
      ]
    },
    {
      "cell_type": "code",
      "metadata": {
        "colab": {
          "base_uri": "https://localhost:8080/"
        },
        "id": "si5a_UsP3k3h",
        "outputId": "71956240-1006-42ed-ab54-c7cd22419def"
      },
      "source": [
        "rng = pd.date_range('2020-01-01', '2020-09-01', freq='WOM-3FRI')\n",
        "list(rng)"
      ],
      "execution_count": 59,
      "outputs": [
        {
          "output_type": "execute_result",
          "data": {
            "text/plain": [
              "[Timestamp('2020-01-17 00:00:00', freq='WOM-3FRI'),\n",
              " Timestamp('2020-02-21 00:00:00', freq='WOM-3FRI'),\n",
              " Timestamp('2020-03-20 00:00:00', freq='WOM-3FRI'),\n",
              " Timestamp('2020-04-17 00:00:00', freq='WOM-3FRI'),\n",
              " Timestamp('2020-05-15 00:00:00', freq='WOM-3FRI'),\n",
              " Timestamp('2020-06-19 00:00:00', freq='WOM-3FRI'),\n",
              " Timestamp('2020-07-17 00:00:00', freq='WOM-3FRI'),\n",
              " Timestamp('2020-08-21 00:00:00', freq='WOM-3FRI')]"
            ]
          },
          "metadata": {},
          "execution_count": 59
        }
      ]
    },
    {
      "cell_type": "markdown",
      "metadata": {
        "id": "jtwEV5zO4XSU"
      },
      "source": [
        "**Deslocamento de datas (adiantando e atrasando)**"
      ]
    },
    {
      "cell_type": "code",
      "metadata": {
        "colab": {
          "base_uri": "https://localhost:8080/"
        },
        "id": "ZfiSsPnD4QZv",
        "outputId": "1396816a-e396-4532-f946-67d058659c2f"
      },
      "source": [
        "ts = pd.Series(np.random.randn(4), index=pd.date_range('1/1/2020', periods=4, freq='M'))\n",
        "ts"
      ],
      "execution_count": 60,
      "outputs": [
        {
          "output_type": "execute_result",
          "data": {
            "text/plain": [
              "2020-01-31   -0.516346\n",
              "2020-02-29    0.755197\n",
              "2020-03-31    0.860914\n",
              "2020-04-30   -0.173028\n",
              "Freq: M, dtype: float64"
            ]
          },
          "metadata": {},
          "execution_count": 60
        }
      ]
    },
    {
      "cell_type": "code",
      "metadata": {
        "colab": {
          "base_uri": "https://localhost:8080/"
        },
        "id": "xurt5lU446ib",
        "outputId": "05e7de7b-353a-42d9-afe0-48e727cfc823"
      },
      "source": [
        "ts.shift(2)"
      ],
      "execution_count": 61,
      "outputs": [
        {
          "output_type": "execute_result",
          "data": {
            "text/plain": [
              "2020-01-31         NaN\n",
              "2020-02-29         NaN\n",
              "2020-03-31   -0.516346\n",
              "2020-04-30    0.755197\n",
              "Freq: M, dtype: float64"
            ]
          },
          "metadata": {},
          "execution_count": 61
        }
      ]
    },
    {
      "cell_type": "code",
      "metadata": {
        "colab": {
          "base_uri": "https://localhost:8080/"
        },
        "id": "6vPRUloU6W0o",
        "outputId": "4adef02d-ef2e-4d1f-d105-602b8e0bec6c"
      },
      "source": [
        "ts.shift(-2)"
      ],
      "execution_count": 62,
      "outputs": [
        {
          "output_type": "execute_result",
          "data": {
            "text/plain": [
              "2020-01-31    0.860914\n",
              "2020-02-29   -0.173028\n",
              "2020-03-31         NaN\n",
              "2020-04-30         NaN\n",
              "Freq: M, dtype: float64"
            ]
          },
          "metadata": {},
          "execution_count": 62
        }
      ]
    },
    {
      "cell_type": "code",
      "metadata": {
        "colab": {
          "base_uri": "https://localhost:8080/"
        },
        "id": "eQW_vTr76a-o",
        "outputId": "de86e43d-41c1-4876-cb26-73818da3aa70"
      },
      "source": [
        "ts/ts.shift(1) - 1"
      ],
      "execution_count": 63,
      "outputs": [
        {
          "output_type": "execute_result",
          "data": {
            "text/plain": [
              "2020-01-31         NaN\n",
              "2020-02-29   -2.462578\n",
              "2020-03-31    0.139986\n",
              "2020-04-30   -1.200981\n",
              "Freq: M, dtype: float64"
            ]
          },
          "metadata": {},
          "execution_count": 63
        }
      ]
    },
    {
      "cell_type": "code",
      "metadata": {
        "colab": {
          "base_uri": "https://localhost:8080/"
        },
        "id": "o54eSDSC6sEg",
        "outputId": "e155b158-de96-446d-9276-290d8ffd3888"
      },
      "source": [
        "ts.shift(2,freq='M')"
      ],
      "execution_count": 64,
      "outputs": [
        {
          "output_type": "execute_result",
          "data": {
            "text/plain": [
              "2020-03-31   -0.516346\n",
              "2020-04-30    0.755197\n",
              "2020-05-31    0.860914\n",
              "2020-06-30   -0.173028\n",
              "Freq: M, dtype: float64"
            ]
          },
          "metadata": {},
          "execution_count": 64
        }
      ]
    },
    {
      "cell_type": "code",
      "metadata": {
        "colab": {
          "base_uri": "https://localhost:8080/"
        },
        "id": "cv91xZt76y0g",
        "outputId": "a78d59ef-c697-442a-f5c2-2bc41ade2ee4"
      },
      "source": [
        "ts.shift(3, freq='D')"
      ],
      "execution_count": 65,
      "outputs": [
        {
          "output_type": "execute_result",
          "data": {
            "text/plain": [
              "2020-02-03   -0.516346\n",
              "2020-03-03    0.755197\n",
              "2020-04-03    0.860914\n",
              "2020-05-03   -0.173028\n",
              "dtype: float64"
            ]
          },
          "metadata": {},
          "execution_count": 65
        }
      ]
    },
    {
      "cell_type": "code",
      "metadata": {
        "colab": {
          "base_uri": "https://localhost:8080/"
        },
        "id": "y-QIJOER67sw",
        "outputId": "64e0d15c-0957-4a78-b46f-9ad767188b32"
      },
      "source": [
        "ts.shift(1, freq='90T') #T é minutos"
      ],
      "execution_count": 66,
      "outputs": [
        {
          "output_type": "execute_result",
          "data": {
            "text/plain": [
              "2020-01-31 01:30:00   -0.516346\n",
              "2020-02-29 01:30:00    0.755197\n",
              "2020-03-31 01:30:00    0.860914\n",
              "2020-04-30 01:30:00   -0.173028\n",
              "dtype: float64"
            ]
          },
          "metadata": {},
          "execution_count": 66
        }
      ]
    },
    {
      "cell_type": "markdown",
      "metadata": {
        "id": "oRK-juVI7EyM"
      },
      "source": [
        "**Deslocando datas com offsets**"
      ]
    },
    {
      "cell_type": "code",
      "metadata": {
        "colab": {
          "base_uri": "https://localhost:8080/"
        },
        "id": "42nzV9-V7Aav",
        "outputId": "35123e43-c960-40fd-b317-c0f0855ce25a"
      },
      "source": [
        "#Import Day e MonthEnd lá em cima\n",
        "now = datetime(2011, 11, 17)\n",
        "now + 3 * Day()"
      ],
      "execution_count": 67,
      "outputs": [
        {
          "output_type": "execute_result",
          "data": {
            "text/plain": [
              "Timestamp('2011-11-20 00:00:00')"
            ]
          },
          "metadata": {},
          "execution_count": 67
        }
      ]
    },
    {
      "cell_type": "code",
      "metadata": {
        "colab": {
          "base_uri": "https://localhost:8080/"
        },
        "id": "893C5oRE7ty5",
        "outputId": "50275da3-000b-4b30-d3d1-98394b66a7c9"
      },
      "source": [
        "now + MonthEnd()"
      ],
      "execution_count": 68,
      "outputs": [
        {
          "output_type": "execute_result",
          "data": {
            "text/plain": [
              "Timestamp('2011-11-30 00:00:00')"
            ]
          },
          "metadata": {},
          "execution_count": 68
        }
      ]
    },
    {
      "cell_type": "code",
      "metadata": {
        "colab": {
          "base_uri": "https://localhost:8080/"
        },
        "id": "mSc8pznA720I",
        "outputId": "a72589bc-0b4b-4673-ac20-003d58809f51"
      },
      "source": [
        "now + MonthEnd(2)"
      ],
      "execution_count": 69,
      "outputs": [
        {
          "output_type": "execute_result",
          "data": {
            "text/plain": [
              "Timestamp('2011-12-31 00:00:00')"
            ]
          },
          "metadata": {},
          "execution_count": 69
        }
      ]
    },
    {
      "cell_type": "code",
      "metadata": {
        "id": "5rKq2f827674"
      },
      "source": [
        "offset = MonthEnd()"
      ],
      "execution_count": 70,
      "outputs": []
    },
    {
      "cell_type": "code",
      "metadata": {
        "colab": {
          "base_uri": "https://localhost:8080/"
        },
        "id": "0-Hn7fso8mXB",
        "outputId": "3276ccf8-a361-4897-ae52-6437e649500c"
      },
      "source": [
        "offset.rollforward(now)"
      ],
      "execution_count": 71,
      "outputs": [
        {
          "output_type": "execute_result",
          "data": {
            "text/plain": [
              "Timestamp('2011-11-30 00:00:00')"
            ]
          },
          "metadata": {},
          "execution_count": 71
        }
      ]
    },
    {
      "cell_type": "code",
      "metadata": {
        "colab": {
          "base_uri": "https://localhost:8080/"
        },
        "id": "r8OV70pp8qcY",
        "outputId": "dac5ec4e-94d8-443d-e7a9-307b68902950"
      },
      "source": [
        "offset.rollback(now)"
      ],
      "execution_count": 72,
      "outputs": [
        {
          "output_type": "execute_result",
          "data": {
            "text/plain": [
              "Timestamp('2011-10-31 00:00:00')"
            ]
          },
          "metadata": {},
          "execution_count": 72
        }
      ]
    },
    {
      "cell_type": "code",
      "metadata": {
        "colab": {
          "base_uri": "https://localhost:8080/"
        },
        "id": "YSGuegzn8wQN",
        "outputId": "7352e692-7137-477f-fbf7-b186b950f0e1"
      },
      "source": [
        "ts = pd.Series(np.random.randn(20), index=pd.date_range('1/15/2000', periods=20, freq='4d'))\n",
        "ts"
      ],
      "execution_count": 73,
      "outputs": [
        {
          "output_type": "execute_result",
          "data": {
            "text/plain": [
              "2000-01-15   -1.729046\n",
              "2000-01-19   -0.493801\n",
              "2000-01-23   -0.945703\n",
              "2000-01-27   -0.062944\n",
              "2000-01-31   -0.642015\n",
              "2000-02-04   -1.057596\n",
              "2000-02-08    1.209330\n",
              "2000-02-12    0.665733\n",
              "2000-02-16    1.625694\n",
              "2000-02-20   -0.357870\n",
              "2000-02-24    1.605608\n",
              "2000-02-28    0.110051\n",
              "2000-03-03   -1.007894\n",
              "2000-03-07    0.056647\n",
              "2000-03-11    1.541298\n",
              "2000-03-15   -0.051087\n",
              "2000-03-19   -0.929969\n",
              "2000-03-23   -0.158296\n",
              "2000-03-27   -1.224904\n",
              "2000-03-31   -0.754535\n",
              "Freq: 4D, dtype: float64"
            ]
          },
          "metadata": {},
          "execution_count": 73
        }
      ]
    },
    {
      "cell_type": "code",
      "metadata": {
        "colab": {
          "base_uri": "https://localhost:8080/"
        },
        "id": "AlkstcNX9HqY",
        "outputId": "c5f2f760-f552-4f8e-e0da-5ce25f6f3baa"
      },
      "source": [
        "ts.groupby(offset.rollforward).mean()"
      ],
      "execution_count": 74,
      "outputs": [
        {
          "output_type": "execute_result",
          "data": {
            "text/plain": [
              "2000-01-31   -0.774702\n",
              "2000-02-29    0.542993\n",
              "2000-03-31   -0.316092\n",
              "dtype: float64"
            ]
          },
          "metadata": {},
          "execution_count": 74
        }
      ]
    },
    {
      "cell_type": "code",
      "metadata": {
        "colab": {
          "base_uri": "https://localhost:8080/"
        },
        "id": "IPfBxigg9Vap",
        "outputId": "d86e58c5-9964-4d79-c0af-923917792c45"
      },
      "source": [
        "ts.resample('M').mean()"
      ],
      "execution_count": 75,
      "outputs": [
        {
          "output_type": "execute_result",
          "data": {
            "text/plain": [
              "2000-01-31   -0.774702\n",
              "2000-02-29    0.542993\n",
              "2000-03-31   -0.316092\n",
              "Freq: M, dtype: float64"
            ]
          },
          "metadata": {},
          "execution_count": 75
        }
      ]
    },
    {
      "cell_type": "markdown",
      "metadata": {
        "id": "4oPt5kdz9iXk"
      },
      "source": [
        "# **Tratamento de fusos horários**"
      ]
    },
    {
      "cell_type": "code",
      "metadata": {
        "colab": {
          "base_uri": "https://localhost:8080/"
        },
        "id": "TH-V7M4d9dvB",
        "outputId": "1833001f-bd46-41f3-cdcd-d31edafae58a"
      },
      "source": [
        "#Import pytz lá em cima\n",
        "#Encontrar o nome dos fusohorários\n",
        "pytz.common_timezones[-5:]"
      ],
      "execution_count": 76,
      "outputs": [
        {
          "output_type": "execute_result",
          "data": {
            "text/plain": [
              "['US/Eastern', 'US/Hawaii', 'US/Mountain', 'US/Pacific', 'UTC']"
            ]
          },
          "metadata": {},
          "execution_count": 76
        }
      ]
    },
    {
      "cell_type": "code",
      "metadata": {
        "colab": {
          "base_uri": "https://localhost:8080/"
        },
        "id": "H1yvMEVZ_aEj",
        "outputId": "d3f54655-e7f6-48d8-f325-ac5363263e48"
      },
      "source": [
        "#Obter um objeto de fuso horário\n",
        "tz = pytz.timezone('America/New_York')\n",
        "tz"
      ],
      "execution_count": 77,
      "outputs": [
        {
          "output_type": "execute_result",
          "data": {
            "text/plain": [
              "<DstTzInfo 'America/New_York' LMT-1 day, 19:04:00 STD>"
            ]
          },
          "metadata": {},
          "execution_count": 77
        }
      ]
    },
    {
      "cell_type": "markdown",
      "metadata": {
        "id": "n0K8QQh3AJ3l"
      },
      "source": [
        "**Localização e conversão dos fuso horários**"
      ]
    },
    {
      "cell_type": "code",
      "metadata": {
        "colab": {
          "base_uri": "https://localhost:8080/"
        },
        "id": "JTPbwpnbAEQ4",
        "outputId": "c4817190-181e-4081-e6fa-2a58eddeedeb"
      },
      "source": [
        "#Series temporais não consideram fuso horario por padrão\n",
        "rng = pd.date_range('3/9/2012 09:30', periods =6, freq='D')\n",
        "ts=pd.Series(np.random.randn(len(rng)), index=rng)\n",
        "ts"
      ],
      "execution_count": 78,
      "outputs": [
        {
          "output_type": "execute_result",
          "data": {
            "text/plain": [
              "2012-03-09 09:30:00   -2.209977\n",
              "2012-03-10 09:30:00    0.545634\n",
              "2012-03-11 09:30:00    0.416993\n",
              "2012-03-12 09:30:00   -0.086821\n",
              "2012-03-13 09:30:00   -1.028760\n",
              "2012-03-14 09:30:00   -0.305234\n",
              "Freq: D, dtype: float64"
            ]
          },
          "metadata": {},
          "execution_count": 78
        }
      ]
    },
    {
      "cell_type": "code",
      "metadata": {
        "colab": {
          "base_uri": "https://localhost:8080/"
        },
        "id": "DOSri5QTAlGL",
        "outputId": "ffd78bd1-ab7c-4764-a1ab-eb0d9c31e5e7"
      },
      "source": [
        "#Campo tz no índice é None\n",
        "print(ts.index.tz)"
      ],
      "execution_count": 79,
      "outputs": [
        {
          "output_type": "stream",
          "name": "stdout",
          "text": [
            "None\n"
          ]
        }
      ]
    },
    {
      "cell_type": "code",
      "metadata": {
        "colab": {
          "base_uri": "https://localhost:8080/"
        },
        "id": "L7lLSMZkA6wn",
        "outputId": "7b77596f-23c1-4cf8-b851-7a9a5332c875"
      },
      "source": [
        "pd.date_range('3/9/2012 9:30', periods=10, freq='D', tz='UTC')"
      ],
      "execution_count": 80,
      "outputs": [
        {
          "output_type": "execute_result",
          "data": {
            "text/plain": [
              "DatetimeIndex(['2012-03-09 09:30:00+00:00', '2012-03-10 09:30:00+00:00',\n",
              "               '2012-03-11 09:30:00+00:00', '2012-03-12 09:30:00+00:00',\n",
              "               '2012-03-13 09:30:00+00:00', '2012-03-14 09:30:00+00:00',\n",
              "               '2012-03-15 09:30:00+00:00', '2012-03-16 09:30:00+00:00',\n",
              "               '2012-03-17 09:30:00+00:00', '2012-03-18 09:30:00+00:00'],\n",
              "              dtype='datetime64[ns, UTC]', freq='D')"
            ]
          },
          "metadata": {},
          "execution_count": 80
        }
      ]
    },
    {
      "cell_type": "code",
      "metadata": {
        "colab": {
          "base_uri": "https://localhost:8080/"
        },
        "id": "ktHuzUlPBGNA",
        "outputId": "1d31332b-8fab-4208-8a39-18a9836a427f"
      },
      "source": [
        "ts"
      ],
      "execution_count": 81,
      "outputs": [
        {
          "output_type": "execute_result",
          "data": {
            "text/plain": [
              "2012-03-09 09:30:00   -2.209977\n",
              "2012-03-10 09:30:00    0.545634\n",
              "2012-03-11 09:30:00    0.416993\n",
              "2012-03-12 09:30:00   -0.086821\n",
              "2012-03-13 09:30:00   -1.028760\n",
              "2012-03-14 09:30:00   -0.305234\n",
              "Freq: D, dtype: float64"
            ]
          },
          "metadata": {},
          "execution_count": 81
        }
      ]
    },
    {
      "cell_type": "code",
      "metadata": {
        "colab": {
          "base_uri": "https://localhost:8080/"
        },
        "id": "A-8szPNyBkrH",
        "outputId": "2127be54-5394-4d8b-d38a-b67ff2961eff"
      },
      "source": [
        "ts_utc = ts.tz_localize('UTC')\n",
        "ts_utc"
      ],
      "execution_count": 82,
      "outputs": [
        {
          "output_type": "execute_result",
          "data": {
            "text/plain": [
              "2012-03-09 09:30:00+00:00   -2.209977\n",
              "2012-03-10 09:30:00+00:00    0.545634\n",
              "2012-03-11 09:30:00+00:00    0.416993\n",
              "2012-03-12 09:30:00+00:00   -0.086821\n",
              "2012-03-13 09:30:00+00:00   -1.028760\n",
              "2012-03-14 09:30:00+00:00   -0.305234\n",
              "Freq: D, dtype: float64"
            ]
          },
          "metadata": {},
          "execution_count": 82
        }
      ]
    },
    {
      "cell_type": "code",
      "metadata": {
        "colab": {
          "base_uri": "https://localhost:8080/"
        },
        "id": "w42p-msNBwIP",
        "outputId": "28088e42-80de-4173-9471-423eea95698d"
      },
      "source": [
        "ts_utc.index"
      ],
      "execution_count": 83,
      "outputs": [
        {
          "output_type": "execute_result",
          "data": {
            "text/plain": [
              "DatetimeIndex(['2012-03-09 09:30:00+00:00', '2012-03-10 09:30:00+00:00',\n",
              "               '2012-03-11 09:30:00+00:00', '2012-03-12 09:30:00+00:00',\n",
              "               '2012-03-13 09:30:00+00:00', '2012-03-14 09:30:00+00:00'],\n",
              "              dtype='datetime64[ns, UTC]', freq='D')"
            ]
          },
          "metadata": {},
          "execution_count": 83
        }
      ]
    },
    {
      "cell_type": "code",
      "metadata": {
        "colab": {
          "base_uri": "https://localhost:8080/"
        },
        "id": "WgDwNhcnB2Wn",
        "outputId": "27d8e614-6f1c-4d9c-b6eb-613014e663fa"
      },
      "source": [
        "#É possivel converter uma serie em outro fuso horário\n",
        "ts_utc.tz_convert('America/New_York')"
      ],
      "execution_count": 84,
      "outputs": [
        {
          "output_type": "execute_result",
          "data": {
            "text/plain": [
              "2012-03-09 04:30:00-05:00   -2.209977\n",
              "2012-03-10 04:30:00-05:00    0.545634\n",
              "2012-03-11 05:30:00-04:00    0.416993\n",
              "2012-03-12 05:30:00-04:00   -0.086821\n",
              "2012-03-13 05:30:00-04:00   -1.028760\n",
              "2012-03-14 05:30:00-04:00   -0.305234\n",
              "Freq: D, dtype: float64"
            ]
          },
          "metadata": {},
          "execution_count": 84
        }
      ]
    },
    {
      "cell_type": "code",
      "metadata": {
        "colab": {
          "base_uri": "https://localhost:8080/"
        },
        "id": "IaXMhP0pDfWu",
        "outputId": "2ece759a-7513-4d2a-82ec-29e35078e9df"
      },
      "source": [
        "#Mudando o fuso horário para o de Berlim\n",
        "\n",
        "ts_eastern = ts.tz_localize('America/New_York')\n",
        "ts_eastern.tz_convert('UTC')"
      ],
      "execution_count": 85,
      "outputs": [
        {
          "output_type": "execute_result",
          "data": {
            "text/plain": [
              "2012-03-09 14:30:00+00:00   -2.209977\n",
              "2012-03-10 14:30:00+00:00    0.545634\n",
              "2012-03-11 13:30:00+00:00    0.416993\n",
              "2012-03-12 13:30:00+00:00   -0.086821\n",
              "2012-03-13 13:30:00+00:00   -1.028760\n",
              "2012-03-14 13:30:00+00:00   -0.305234\n",
              "dtype: float64"
            ]
          },
          "metadata": {},
          "execution_count": 85
        }
      ]
    },
    {
      "cell_type": "code",
      "metadata": {
        "colab": {
          "base_uri": "https://localhost:8080/"
        },
        "id": "gZu6ukqKELv8",
        "outputId": "77a78882-ffc2-453c-e3d3-31b37e400184"
      },
      "source": [
        "ts_eastern.tz_convert('Europe/Berlin')"
      ],
      "execution_count": 86,
      "outputs": [
        {
          "output_type": "execute_result",
          "data": {
            "text/plain": [
              "2012-03-09 15:30:00+01:00   -2.209977\n",
              "2012-03-10 15:30:00+01:00    0.545634\n",
              "2012-03-11 14:30:00+01:00    0.416993\n",
              "2012-03-12 14:30:00+01:00   -0.086821\n",
              "2012-03-13 14:30:00+01:00   -1.028760\n",
              "2012-03-14 14:30:00+01:00   -0.305234\n",
              "dtype: float64"
            ]
          },
          "metadata": {},
          "execution_count": 86
        }
      ]
    },
    {
      "cell_type": "code",
      "metadata": {
        "colab": {
          "base_uri": "https://localhost:8080/"
        },
        "id": "_HMqe06JETOH",
        "outputId": "2ae2ab93-cb77-43a8-cbc2-d6c40ab60d67"
      },
      "source": [
        "ts.index.tz_localize('Asia/Shanghai')"
      ],
      "execution_count": 87,
      "outputs": [
        {
          "output_type": "execute_result",
          "data": {
            "text/plain": [
              "DatetimeIndex(['2012-03-09 09:30:00+08:00', '2012-03-10 09:30:00+08:00',\n",
              "               '2012-03-11 09:30:00+08:00', '2012-03-12 09:30:00+08:00',\n",
              "               '2012-03-13 09:30:00+08:00', '2012-03-14 09:30:00+08:00'],\n",
              "              dtype='datetime64[ns, Asia/Shanghai]', freq=None)"
            ]
          },
          "metadata": {},
          "execution_count": 87
        }
      ]
    },
    {
      "cell_type": "markdown",
      "metadata": {
        "id": "zb_-qWkHEojQ"
      },
      "source": [
        "**Operações com objetos Timestamp que consideram fuso horários**"
      ]
    },
    {
      "cell_type": "code",
      "metadata": {
        "id": "N1YIE_X8EgYP",
        "colab": {
          "base_uri": "https://localhost:8080/"
        },
        "outputId": "08eab617-c70c-4366-fcd8-6b98c1a49641"
      },
      "source": [
        "Stamp = pd.Timestamp('2011-03-12 04:00')\n",
        "stamp_utc = stamp.tz_localize('utc')\n",
        "stamp_utc.tz_convert('America/New_York')"
      ],
      "execution_count": 88,
      "outputs": [
        {
          "output_type": "execute_result",
          "data": {
            "text/plain": [
              "Timestamp('2011-01-06 19:00:00-0500', tz='America/New_York')"
            ]
          },
          "metadata": {},
          "execution_count": 88
        }
      ]
    },
    {
      "cell_type": "code",
      "metadata": {
        "colab": {
          "base_uri": "https://localhost:8080/"
        },
        "id": "3YdO32lTK-5m",
        "outputId": "1cbae339-75e7-4574-fd18-7e3b9d598529"
      },
      "source": [
        "#É possivel passar um fuso horário quando se cria um timestamp\n",
        "stamp_moscow = pd.Timestamp('2011-03-12 04:00', tz='Europe/Moscow')\n",
        "stamp_moscow"
      ],
      "execution_count": 89,
      "outputs": [
        {
          "output_type": "execute_result",
          "data": {
            "text/plain": [
              "Timestamp('2011-03-12 04:00:00+0300', tz='Europe/Moscow')"
            ]
          },
          "metadata": {},
          "execution_count": 89
        }
      ]
    },
    {
      "cell_type": "code",
      "metadata": {
        "colab": {
          "base_uri": "https://localhost:8080/"
        },
        "id": "M20CIlQCOIBO",
        "outputId": "4fccb677-b6df-4a41-99a9-9a7e34501ed6"
      },
      "source": [
        "#Timestampo armazena valor UTC em nanosegundos\n",
        "stamp_utc.value"
      ],
      "execution_count": 90,
      "outputs": [
        {
          "output_type": "execute_result",
          "data": {
            "text/plain": [
              "1294358400000000000"
            ]
          },
          "metadata": {},
          "execution_count": 90
        }
      ]
    },
    {
      "cell_type": "code",
      "metadata": {
        "colab": {
          "base_uri": "https://localhost:8080/"
        },
        "id": "Xl_jKy57Olv7",
        "outputId": "e7999082-28fe-4a08-8ecb-11cae52bf0c0"
      },
      "source": [
        "stamp_utc.tz_convert('America/New_York').value"
      ],
      "execution_count": 91,
      "outputs": [
        {
          "output_type": "execute_result",
          "data": {
            "text/plain": [
              "1294358400000000000"
            ]
          },
          "metadata": {},
          "execution_count": 91
        }
      ]
    },
    {
      "cell_type": "code",
      "metadata": {
        "colab": {
          "base_uri": "https://localhost:8080/"
        },
        "id": "oLBqHdZsOt2E",
        "outputId": "bcd31d64-a34e-4bff-b783-b1449024e441"
      },
      "source": [
        "#Offset respeita horário de verão, import Hour lá em cima\n",
        "#30 minutos antes de iniciar o horário de verão\n",
        "stamp = pd.Timestamp('2012-03-12 01:30', tz='US/Eastern')\n",
        "stamp"
      ],
      "execution_count": 92,
      "outputs": [
        {
          "output_type": "execute_result",
          "data": {
            "text/plain": [
              "Timestamp('2012-03-12 01:30:00-0400', tz='US/Eastern')"
            ]
          },
          "metadata": {},
          "execution_count": 92
        }
      ]
    },
    {
      "cell_type": "code",
      "metadata": {
        "colab": {
          "base_uri": "https://localhost:8080/"
        },
        "id": "a6qs6HqMQJZd",
        "outputId": "933e1ce8-f63e-4ecc-b43c-248a31327ab2"
      },
      "source": [
        "stamp + Hour()"
      ],
      "execution_count": 93,
      "outputs": [
        {
          "output_type": "execute_result",
          "data": {
            "text/plain": [
              "Timestamp('2012-03-12 02:30:00-0400', tz='US/Eastern')"
            ]
          },
          "metadata": {},
          "execution_count": 93
        }
      ]
    },
    {
      "cell_type": "code",
      "metadata": {
        "colab": {
          "base_uri": "https://localhost:8080/"
        },
        "id": "VXecXTeIQQHc",
        "outputId": "9aa95ff4-4a45-4b27-dad3-50b069c8ee6e"
      },
      "source": [
        "#30 minutos antes de sair do horário de verão\n",
        "stamp = pd.Timestamp('2012-11-04 00:30', tz='US/Eastern')\n",
        "stamp"
      ],
      "execution_count": 94,
      "outputs": [
        {
          "output_type": "execute_result",
          "data": {
            "text/plain": [
              "Timestamp('2012-11-04 00:30:00-0400', tz='US/Eastern')"
            ]
          },
          "metadata": {},
          "execution_count": 94
        }
      ]
    },
    {
      "cell_type": "code",
      "metadata": {
        "colab": {
          "base_uri": "https://localhost:8080/"
        },
        "id": "9e17V4fpQyx3",
        "outputId": "0b5502b8-0744-4a90-b0e7-cf14b9a5d77e"
      },
      "source": [
        "stamp + 2* Hour()"
      ],
      "execution_count": 95,
      "outputs": [
        {
          "output_type": "execute_result",
          "data": {
            "text/plain": [
              "Timestamp('2012-11-04 01:30:00-0500', tz='US/Eastern')"
            ]
          },
          "metadata": {},
          "execution_count": 95
        }
      ]
    },
    {
      "cell_type": "markdown",
      "metadata": {
        "id": "guBLiO-4Q638"
      },
      "source": [
        "**Operação entre fusos horários diferentes**"
      ]
    },
    {
      "cell_type": "code",
      "metadata": {
        "colab": {
          "base_uri": "https://localhost:8080/"
        },
        "id": "qPVV-vxrQ4-8",
        "outputId": "b54186b4-0366-44df-dc4e-0d0688bcf018"
      },
      "source": [
        "rng = pd.date_range('3/7/2012 9:30', periods=10, freq='B')\n",
        "ts = pd.Series(np.random.randn(len(rng)), index=rng)\n",
        "ts"
      ],
      "execution_count": 96,
      "outputs": [
        {
          "output_type": "execute_result",
          "data": {
            "text/plain": [
              "2012-03-07 09:30:00    0.114665\n",
              "2012-03-08 09:30:00    0.891402\n",
              "2012-03-09 09:30:00   -0.243792\n",
              "2012-03-12 09:30:00   -0.128829\n",
              "2012-03-13 09:30:00    0.579505\n",
              "2012-03-14 09:30:00   -0.491014\n",
              "2012-03-15 09:30:00    0.782552\n",
              "2012-03-16 09:30:00    0.348614\n",
              "2012-03-19 09:30:00    0.923066\n",
              "2012-03-20 09:30:00    0.517946\n",
              "Freq: B, dtype: float64"
            ]
          },
          "metadata": {},
          "execution_count": 96
        }
      ]
    },
    {
      "cell_type": "code",
      "metadata": {
        "colab": {
          "base_uri": "https://localhost:8080/"
        },
        "id": "3KAWgd30Vm9J",
        "outputId": "350345c4-dee9-4e8f-9fa9-beabaac7da75"
      },
      "source": [
        "ts1 = ts[:7].tz_localize('Europe/London')\n",
        "ts2 = ts1[2:].tz_convert('Europe/Moscow')\n",
        "result = ts1 + ts2\n",
        "result.index"
      ],
      "execution_count": 97,
      "outputs": [
        {
          "output_type": "execute_result",
          "data": {
            "text/plain": [
              "DatetimeIndex(['2012-03-07 09:30:00+00:00', '2012-03-08 09:30:00+00:00',\n",
              "               '2012-03-09 09:30:00+00:00', '2012-03-12 09:30:00+00:00',\n",
              "               '2012-03-13 09:30:00+00:00', '2012-03-14 09:30:00+00:00',\n",
              "               '2012-03-15 09:30:00+00:00'],\n",
              "              dtype='datetime64[ns, UTC]', freq=None)"
            ]
          },
          "metadata": {},
          "execution_count": 97
        }
      ]
    },
    {
      "cell_type": "markdown",
      "metadata": {
        "id": "Qq2SNrtcWI9g"
      },
      "source": [
        "# **Período e aritmética com períodos**"
      ]
    },
    {
      "cell_type": "code",
      "metadata": {
        "id": "HQVOKDEgV0K9",
        "colab": {
          "base_uri": "https://localhost:8080/"
        },
        "outputId": "c623de71-4f07-4671-9291-2de3c7a8290e"
      },
      "source": [
        "#Period representa dias, meses, trimestres ou anos\n",
        "p = pd.Period(2007, freq='A-DEC')\n",
        "p"
      ],
      "execution_count": 98,
      "outputs": [
        {
          "output_type": "execute_result",
          "data": {
            "text/plain": [
              "Period('2007', 'A-DEC')"
            ]
          },
          "metadata": {},
          "execution_count": 98
        }
      ]
    },
    {
      "cell_type": "code",
      "metadata": {
        "colab": {
          "base_uri": "https://localhost:8080/"
        },
        "id": "S3x3LIZ7s94m",
        "outputId": "aa921601-dc2d-41c9-95a4-d6629f5b2368"
      },
      "source": [
        "p + 5"
      ],
      "execution_count": 99,
      "outputs": [
        {
          "output_type": "execute_result",
          "data": {
            "text/plain": [
              "Period('2012', 'A-DEC')"
            ]
          },
          "metadata": {},
          "execution_count": 99
        }
      ]
    },
    {
      "cell_type": "code",
      "metadata": {
        "colab": {
          "base_uri": "https://localhost:8080/"
        },
        "id": "aVKsnMR_tKJE",
        "outputId": "9feb5573-8fef-4d9c-8591-f361c565c408"
      },
      "source": [
        "p - 2"
      ],
      "execution_count": 100,
      "outputs": [
        {
          "output_type": "execute_result",
          "data": {
            "text/plain": [
              "Period('2005', 'A-DEC')"
            ]
          },
          "metadata": {},
          "execution_count": 100
        }
      ]
    },
    {
      "cell_type": "code",
      "metadata": {
        "colab": {
          "base_uri": "https://localhost:8080/"
        },
        "id": "uB4WQC-BtLib",
        "outputId": "deaa1b3e-c863-443d-cdfc-8e7b467ccd84"
      },
      "source": [
        "pd.Period('2014', freq='A-DEC') - p"
      ],
      "execution_count": 101,
      "outputs": [
        {
          "output_type": "execute_result",
          "data": {
            "text/plain": [
              "<7 * YearEnds: month=12>"
            ]
          },
          "metadata": {},
          "execution_count": 101
        }
      ]
    },
    {
      "cell_type": "code",
      "metadata": {
        "colab": {
          "base_uri": "https://localhost:8080/"
        },
        "id": "CwSAlSkMtTva",
        "outputId": "da180507-4703-4b49-dd80-de18eb553643"
      },
      "source": [
        "#intervalos de periodos com period_range\n",
        "rng = pd.period_range('2000-01-01', '2000-06-30', freq='M')\n",
        "rng"
      ],
      "execution_count": 102,
      "outputs": [
        {
          "output_type": "execute_result",
          "data": {
            "text/plain": [
              "PeriodIndex(['2000-01', '2000-02', '2000-03', '2000-04', '2000-05', '2000-06'], dtype='period[M]', freq='M')"
            ]
          },
          "metadata": {},
          "execution_count": 102
        }
      ]
    },
    {
      "cell_type": "code",
      "metadata": {
        "colab": {
          "base_uri": "https://localhost:8080/"
        },
        "id": "rTiLX6oDtjhD",
        "outputId": "23cd2ab0-2e55-4d1d-efda-a97c38bca4fa"
      },
      "source": [
        "#PeriodIndex armazena uma sequência de períodos e pode ser usada como índice\n",
        "pd.Series(np.random.randn(6), index=rng)"
      ],
      "execution_count": 103,
      "outputs": [
        {
          "output_type": "execute_result",
          "data": {
            "text/plain": [
              "2000-01   -1.785448\n",
              "2000-02   -0.664815\n",
              "2000-03    0.610056\n",
              "2000-04   -0.673417\n",
              "2000-05    0.899425\n",
              "2000-06   -0.155731\n",
              "Freq: M, dtype: float64"
            ]
          },
          "metadata": {},
          "execution_count": 103
        }
      ]
    },
    {
      "cell_type": "code",
      "metadata": {
        "colab": {
          "base_uri": "https://localhost:8080/"
        },
        "id": "x0xCVzcut0cY",
        "outputId": "50eb7734-4031-4f59-9165-ec02af7a3eb9"
      },
      "source": [
        "#Pode ser usada com um array de string também\n",
        "\n",
        "values = ['2001Q3', '2002Q2', '2003Q1']\n",
        "index = pd.PeriodIndex(values, freq='Q-DEC')\n",
        "index"
      ],
      "execution_count": 104,
      "outputs": [
        {
          "output_type": "execute_result",
          "data": {
            "text/plain": [
              "PeriodIndex(['2001Q3', '2002Q2', '2003Q1'], dtype='period[Q-DEC]', freq='Q-DEC')"
            ]
          },
          "metadata": {},
          "execution_count": 104
        }
      ]
    },
    {
      "cell_type": "markdown",
      "metadata": {
        "id": "wLSKlPJDuPu9"
      },
      "source": [
        "**Conversão de frequência e períodos**"
      ]
    },
    {
      "cell_type": "code",
      "metadata": {
        "colab": {
          "base_uri": "https://localhost:8080/"
        },
        "id": "q6mDlMOouMUM",
        "outputId": "387990bc-96ad-46c5-bbf0-11e5ae348d5c"
      },
      "source": [
        "p = pd.Period('2007', freq='A-DEC')\n",
        "p"
      ],
      "execution_count": 105,
      "outputs": [
        {
          "output_type": "execute_result",
          "data": {
            "text/plain": [
              "Period('2007', 'A-DEC')"
            ]
          },
          "metadata": {},
          "execution_count": 105
        }
      ]
    },
    {
      "cell_type": "code",
      "metadata": {
        "colab": {
          "base_uri": "https://localhost:8080/"
        },
        "id": "mKMbRGGmucHD",
        "outputId": "2c1843fc-5213-4d66-fb62-61c4fecef914"
      },
      "source": [
        "p.asfreq('M', how='start')"
      ],
      "execution_count": 106,
      "outputs": [
        {
          "output_type": "execute_result",
          "data": {
            "text/plain": [
              "Period('2007-01', 'M')"
            ]
          },
          "metadata": {},
          "execution_count": 106
        }
      ]
    },
    {
      "cell_type": "code",
      "metadata": {
        "colab": {
          "base_uri": "https://localhost:8080/"
        },
        "id": "xJvE-yvPui_b",
        "outputId": "408c7c60-d5b1-4c35-e222-17c9ff3b9054"
      },
      "source": [
        "p.asfreq('M', how='end')"
      ],
      "execution_count": 107,
      "outputs": [
        {
          "output_type": "execute_result",
          "data": {
            "text/plain": [
              "Period('2007-12', 'M')"
            ]
          },
          "metadata": {},
          "execution_count": 107
        }
      ]
    },
    {
      "cell_type": "code",
      "metadata": {
        "colab": {
          "base_uri": "https://localhost:8080/"
        },
        "id": "9aygRwWvum5E",
        "outputId": "44c0b30a-397a-4ea2-f2cb-16e0d06d815f"
      },
      "source": [
        "#Ano fiscal que termine em um mês diferente de dezembro\n",
        "p = pd.Period('2007', freq='A-JUN')\n",
        "p"
      ],
      "execution_count": 108,
      "outputs": [
        {
          "output_type": "execute_result",
          "data": {
            "text/plain": [
              "Period('2007', 'A-JUN')"
            ]
          },
          "metadata": {},
          "execution_count": 108
        }
      ]
    },
    {
      "cell_type": "code",
      "metadata": {
        "colab": {
          "base_uri": "https://localhost:8080/"
        },
        "id": "9fVJGCrHu2fT",
        "outputId": "85b9fc99-6f12-4c1d-ebc4-5a4357fb190b"
      },
      "source": [
        "p.asfreq('M', 'start')"
      ],
      "execution_count": 109,
      "outputs": [
        {
          "output_type": "execute_result",
          "data": {
            "text/plain": [
              "Period('2006-07', 'M')"
            ]
          },
          "metadata": {},
          "execution_count": 109
        }
      ]
    },
    {
      "cell_type": "code",
      "metadata": {
        "colab": {
          "base_uri": "https://localhost:8080/"
        },
        "id": "4o4NEtzgu5_k",
        "outputId": "1803a643-9940-4e21-efd4-118ccd5d5207"
      },
      "source": [
        "p.asfreq('M', 'end')"
      ],
      "execution_count": 110,
      "outputs": [
        {
          "output_type": "execute_result",
          "data": {
            "text/plain": [
              "Period('2007-06', 'M')"
            ]
          },
          "metadata": {},
          "execution_count": 110
        }
      ]
    },
    {
      "cell_type": "code",
      "metadata": {
        "colab": {
          "base_uri": "https://localhost:8080/"
        },
        "id": "oWndt55Ru-19",
        "outputId": "6bb05abe-4cc5-4112-d326-244aa5fa1009"
      },
      "source": [
        "p = pd.Period('Aug-2007', 'M')\n",
        "p.asfreq('A-JUN')"
      ],
      "execution_count": 111,
      "outputs": [
        {
          "output_type": "execute_result",
          "data": {
            "text/plain": [
              "Period('2008', 'A-JUN')"
            ]
          },
          "metadata": {},
          "execution_count": 111
        }
      ]
    },
    {
      "cell_type": "code",
      "metadata": {
        "colab": {
          "base_uri": "https://localhost:8080/"
        },
        "id": "Vmyfa68PvXuj",
        "outputId": "29aa7433-eafa-4506-a691-9a5710925b93"
      },
      "source": [
        "rng = pd.period_range('2006', '2009', freq='A-DEC')\n",
        "ts = pd.Series(np.random.randn(len(rng)), index=rng)\n",
        "ts"
      ],
      "execution_count": 112,
      "outputs": [
        {
          "output_type": "execute_result",
          "data": {
            "text/plain": [
              "2006    0.618906\n",
              "2007   -1.641761\n",
              "2008   -0.040882\n",
              "2009   -0.566002\n",
              "Freq: A-DEC, dtype: float64"
            ]
          },
          "metadata": {},
          "execution_count": 112
        }
      ]
    },
    {
      "cell_type": "code",
      "metadata": {
        "colab": {
          "base_uri": "https://localhost:8080/"
        },
        "id": "iABQdGeHvn2D",
        "outputId": "03e162cf-0d81-4850-f729-cab0c019e793"
      },
      "source": [
        "ts.asfreq('M', how='start')"
      ],
      "execution_count": 113,
      "outputs": [
        {
          "output_type": "execute_result",
          "data": {
            "text/plain": [
              "2006-01    0.618906\n",
              "2007-01   -1.641761\n",
              "2008-01   -0.040882\n",
              "2009-01   -0.566002\n",
              "Freq: M, dtype: float64"
            ]
          },
          "metadata": {},
          "execution_count": 113
        }
      ]
    },
    {
      "cell_type": "code",
      "metadata": {
        "colab": {
          "base_uri": "https://localhost:8080/"
        },
        "id": "ZDW3LSnVv3ud",
        "outputId": "633a1e97-1b0e-4cd6-97d5-3d6b584cad20"
      },
      "source": [
        "#Se quiser o último dia útil de cada ano\n",
        "ts.asfreq('B', how='end')"
      ],
      "execution_count": 114,
      "outputs": [
        {
          "output_type": "execute_result",
          "data": {
            "text/plain": [
              "2006-12-29    0.618906\n",
              "2007-12-31   -1.641761\n",
              "2008-12-31   -0.040882\n",
              "2009-12-31   -0.566002\n",
              "Freq: B, dtype: float64"
            ]
          },
          "metadata": {},
          "execution_count": 114
        }
      ]
    },
    {
      "cell_type": "markdown",
      "metadata": {
        "id": "A-n50_hLwErY"
      },
      "source": [
        "**Frequências de períodos trimestrais**"
      ]
    },
    {
      "cell_type": "code",
      "metadata": {
        "id": "ZTC-chCuwCyE",
        "colab": {
          "base_uri": "https://localhost:8080/"
        },
        "outputId": "7325ec0f-d4ec-465a-d24c-939865cdb1f4"
      },
      "source": [
        "#O pandas aceita todas as possíveis frequências trimestrais\n",
        "\n",
        "p = pd.Period('2012Q4', freq='Q-JAN')\n",
        "p"
      ],
      "execution_count": 115,
      "outputs": [
        {
          "output_type": "execute_result",
          "data": {
            "text/plain": [
              "Period('2012Q4', 'Q-JAN')"
            ]
          },
          "metadata": {},
          "execution_count": 115
        }
      ]
    },
    {
      "cell_type": "code",
      "metadata": {
        "colab": {
          "base_uri": "https://localhost:8080/"
        },
        "id": "epaXk_E96jbU",
        "outputId": "c4f2d8d9-6190-44f2-f939-ca8062f87d11"
      },
      "source": [
        "#Convenção de diferentes frequências\n",
        "p.asfreq('D', 'start')"
      ],
      "execution_count": 116,
      "outputs": [
        {
          "output_type": "execute_result",
          "data": {
            "text/plain": [
              "Period('2011-11-01', 'D')"
            ]
          },
          "metadata": {},
          "execution_count": 116
        }
      ]
    },
    {
      "cell_type": "code",
      "metadata": {
        "colab": {
          "base_uri": "https://localhost:8080/"
        },
        "id": "utKsSKDn69Ma",
        "outputId": "ca71242a-2562-4f7e-fa64-bc1a4245f9ad"
      },
      "source": [
        "p.asfreq('D','end')"
      ],
      "execution_count": 117,
      "outputs": [
        {
          "output_type": "execute_result",
          "data": {
            "text/plain": [
              "Period('2012-01-31', 'D')"
            ]
          },
          "metadata": {},
          "execution_count": 117
        }
      ]
    },
    {
      "cell_type": "code",
      "metadata": {
        "colab": {
          "base_uri": "https://localhost:8080/"
        },
        "id": "bNMl2Q2e7Akh",
        "outputId": "3cd54a26-fa41-4b62-bad2-efc5ffebc980"
      },
      "source": [
        "#Timestamp das 16h do penultimo dia útil do trimestre\n",
        "p4pm = (p.asfreq('B','e') - 1).asfreq('T', 's') + 16 * 60\n",
        "p4pm"
      ],
      "execution_count": 118,
      "outputs": [
        {
          "output_type": "execute_result",
          "data": {
            "text/plain": [
              "Period('2012-01-30 16:00', 'T')"
            ]
          },
          "metadata": {},
          "execution_count": 118
        }
      ]
    },
    {
      "cell_type": "code",
      "metadata": {
        "colab": {
          "base_uri": "https://localhost:8080/"
        },
        "id": "luKuMAXK7X0B",
        "outputId": "af433cf4-1a25-4ac6-871c-6fb3e21f2319"
      },
      "source": [
        "#period_range para gerar intervalos trimestrais\n",
        "rng = pd.period_range('2011Q3','2012Q4', freq='Q-JAN')\n",
        "ts = pd.Series(np.arange(len(rng)), index=rng)\n",
        "ts"
      ],
      "execution_count": 119,
      "outputs": [
        {
          "output_type": "execute_result",
          "data": {
            "text/plain": [
              "2011Q3    0\n",
              "2011Q4    1\n",
              "2012Q1    2\n",
              "2012Q2    3\n",
              "2012Q3    4\n",
              "2012Q4    5\n",
              "Freq: Q-JAN, dtype: int64"
            ]
          },
          "metadata": {},
          "execution_count": 119
        }
      ]
    },
    {
      "cell_type": "code",
      "metadata": {
        "colab": {
          "base_uri": "https://localhost:8080/"
        },
        "id": "-YGewIFp70wq",
        "outputId": "5ff1a128-bec1-43c5-c81a-62c0af539774"
      },
      "source": [
        "new_rng = (rng.asfreq('B', 'e') - 1).asfreq('T','s') + 16 * 60\n",
        "ts.index = new_rng.to_timestamp()\n",
        "ts"
      ],
      "execution_count": 120,
      "outputs": [
        {
          "output_type": "execute_result",
          "data": {
            "text/plain": [
              "2010-10-28 16:00:00    0\n",
              "2011-01-28 16:00:00    1\n",
              "2011-04-28 16:00:00    2\n",
              "2011-07-28 16:00:00    3\n",
              "2011-10-28 16:00:00    4\n",
              "2012-01-30 16:00:00    5\n",
              "dtype: int64"
            ]
          },
          "metadata": {},
          "execution_count": 120
        }
      ]
    },
    {
      "cell_type": "markdown",
      "metadata": {
        "id": "P_rmGLcV8gGk"
      },
      "source": [
        "**Convertendo timestamps para períodos (e vice-versa)**"
      ]
    },
    {
      "cell_type": "code",
      "metadata": {
        "id": "phVOUHpR8ck4",
        "colab": {
          "base_uri": "https://localhost:8080/"
        },
        "outputId": "ee0aae5a-cacb-48d2-be9b-308e9d1bafef"
      },
      "source": [
        "#Series e Datasframe indexados por timestamps pode ser convertido para períodos com to_periodo\n",
        "\n",
        "rng = pd.date_range('2000-01-01', periods = 3, freq='M')\n",
        "ts = pd.Series(np.random.randn(3), index=rng)\n",
        "ts"
      ],
      "execution_count": 121,
      "outputs": [
        {
          "output_type": "execute_result",
          "data": {
            "text/plain": [
              "2000-01-31    1.345847\n",
              "2000-02-29   -0.057446\n",
              "2000-03-31    0.088987\n",
              "Freq: M, dtype: float64"
            ]
          },
          "metadata": {},
          "execution_count": 121
        }
      ]
    },
    {
      "cell_type": "code",
      "metadata": {
        "colab": {
          "base_uri": "https://localhost:8080/"
        },
        "id": "WLdZUSerNtmb",
        "outputId": "68810e0e-6b2f-44dd-f578-667ea278676d"
      },
      "source": [
        "pts = ts.to_period()\n",
        "pts"
      ],
      "execution_count": 122,
      "outputs": [
        {
          "output_type": "execute_result",
          "data": {
            "text/plain": [
              "2000-01    1.345847\n",
              "2000-02   -0.057446\n",
              "2000-03    0.088987\n",
              "Freq: M, dtype: float64"
            ]
          },
          "metadata": {},
          "execution_count": 122
        }
      ]
    },
    {
      "cell_type": "code",
      "metadata": {
        "colab": {
          "base_uri": "https://localhost:8080/"
        },
        "id": "oq8KDlubNz-5",
        "outputId": "af8ec455-1c4a-4ffe-ae3c-b33b9cebc00e"
      },
      "source": [
        "rng = pd.date_range('1/29/2000', periods=6, freq='D')\n",
        "ts2 = pd.Series(np.random.randn(6), index=rng)\n",
        "ts2"
      ],
      "execution_count": 123,
      "outputs": [
        {
          "output_type": "execute_result",
          "data": {
            "text/plain": [
              "2000-01-29   -2.510821\n",
              "2000-01-30    0.325387\n",
              "2000-01-31    1.018760\n",
              "2000-02-01    0.748452\n",
              "2000-02-02   -2.066466\n",
              "2000-02-03    1.115198\n",
              "Freq: D, dtype: float64"
            ]
          },
          "metadata": {},
          "execution_count": 123
        }
      ]
    },
    {
      "cell_type": "code",
      "metadata": {
        "colab": {
          "base_uri": "https://localhost:8080/"
        },
        "id": "BvRnvSfUOHLp",
        "outputId": "2b08521d-467a-4612-f9d1-073663c40851"
      },
      "source": [
        "ts2.to_period('M')"
      ],
      "execution_count": 124,
      "outputs": [
        {
          "output_type": "execute_result",
          "data": {
            "text/plain": [
              "2000-01   -2.510821\n",
              "2000-01    0.325387\n",
              "2000-01    1.018760\n",
              "2000-02    0.748452\n",
              "2000-02   -2.066466\n",
              "2000-02    1.115198\n",
              "Freq: M, dtype: float64"
            ]
          },
          "metadata": {},
          "execution_count": 124
        }
      ]
    },
    {
      "cell_type": "code",
      "metadata": {
        "colab": {
          "base_uri": "https://localhost:8080/"
        },
        "id": "R225gJm9OLsw",
        "outputId": "29e7de64-f705-479b-99dd-e7e11d1d2548"
      },
      "source": [
        "pts = ts2.to_period()\n",
        "pts"
      ],
      "execution_count": 125,
      "outputs": [
        {
          "output_type": "execute_result",
          "data": {
            "text/plain": [
              "2000-01-29   -2.510821\n",
              "2000-01-30    0.325387\n",
              "2000-01-31    1.018760\n",
              "2000-02-01    0.748452\n",
              "2000-02-02   -2.066466\n",
              "2000-02-03    1.115198\n",
              "Freq: D, dtype: float64"
            ]
          },
          "metadata": {},
          "execution_count": 125
        }
      ]
    },
    {
      "cell_type": "code",
      "metadata": {
        "colab": {
          "base_uri": "https://localhost:8080/"
        },
        "id": "rPNDk84sOWCS",
        "outputId": "a7b12113-786b-4c96-f2bc-ef4ae02e8937"
      },
      "source": [
        "pts.to_timestamp(how='end')"
      ],
      "execution_count": 126,
      "outputs": [
        {
          "output_type": "execute_result",
          "data": {
            "text/plain": [
              "2000-01-29 23:59:59.999999999   -2.510821\n",
              "2000-01-30 23:59:59.999999999    0.325387\n",
              "2000-01-31 23:59:59.999999999    1.018760\n",
              "2000-02-01 23:59:59.999999999    0.748452\n",
              "2000-02-02 23:59:59.999999999   -2.066466\n",
              "2000-02-03 23:59:59.999999999    1.115198\n",
              "Freq: D, dtype: float64"
            ]
          },
          "metadata": {},
          "execution_count": 126
        }
      ]
    },
    {
      "cell_type": "markdown",
      "metadata": {
        "id": "zfTvcizmOgWg"
      },
      "source": [
        "**Criando um PeriodIndex a partir de arrays**"
      ]
    },
    {
      "cell_type": "code",
      "metadata": {
        "colab": {
          "base_uri": "https://localhost:8080/",
          "height": 0
        },
        "id": "WquNDAS1OalR",
        "outputId": "71b3d90e-f804-4a02-f6e5-60db98c2abe1"
      },
      "source": [
        "data = pd.read_csv('/content/drive/MyDrive/dados_pandas/pydata-book-2nd-edition/examples/macrodata.csv')\n",
        "data.head(5)"
      ],
      "execution_count": 127,
      "outputs": [
        {
          "output_type": "execute_result",
          "data": {
            "text/html": [
              "<div>\n",
              "<style scoped>\n",
              "    .dataframe tbody tr th:only-of-type {\n",
              "        vertical-align: middle;\n",
              "    }\n",
              "\n",
              "    .dataframe tbody tr th {\n",
              "        vertical-align: top;\n",
              "    }\n",
              "\n",
              "    .dataframe thead th {\n",
              "        text-align: right;\n",
              "    }\n",
              "</style>\n",
              "<table border=\"1\" class=\"dataframe\">\n",
              "  <thead>\n",
              "    <tr style=\"text-align: right;\">\n",
              "      <th></th>\n",
              "      <th>year</th>\n",
              "      <th>quarter</th>\n",
              "      <th>realgdp</th>\n",
              "      <th>realcons</th>\n",
              "      <th>realinv</th>\n",
              "      <th>realgovt</th>\n",
              "      <th>realdpi</th>\n",
              "      <th>cpi</th>\n",
              "      <th>m1</th>\n",
              "      <th>tbilrate</th>\n",
              "      <th>unemp</th>\n",
              "      <th>pop</th>\n",
              "      <th>infl</th>\n",
              "      <th>realint</th>\n",
              "    </tr>\n",
              "  </thead>\n",
              "  <tbody>\n",
              "    <tr>\n",
              "      <th>0</th>\n",
              "      <td>1959.0</td>\n",
              "      <td>1.0</td>\n",
              "      <td>2710.349</td>\n",
              "      <td>1707.4</td>\n",
              "      <td>286.898</td>\n",
              "      <td>470.045</td>\n",
              "      <td>1886.9</td>\n",
              "      <td>28.98</td>\n",
              "      <td>139.7</td>\n",
              "      <td>2.82</td>\n",
              "      <td>5.8</td>\n",
              "      <td>177.146</td>\n",
              "      <td>0.00</td>\n",
              "      <td>0.00</td>\n",
              "    </tr>\n",
              "    <tr>\n",
              "      <th>1</th>\n",
              "      <td>1959.0</td>\n",
              "      <td>2.0</td>\n",
              "      <td>2778.801</td>\n",
              "      <td>1733.7</td>\n",
              "      <td>310.859</td>\n",
              "      <td>481.301</td>\n",
              "      <td>1919.7</td>\n",
              "      <td>29.15</td>\n",
              "      <td>141.7</td>\n",
              "      <td>3.08</td>\n",
              "      <td>5.1</td>\n",
              "      <td>177.830</td>\n",
              "      <td>2.34</td>\n",
              "      <td>0.74</td>\n",
              "    </tr>\n",
              "    <tr>\n",
              "      <th>2</th>\n",
              "      <td>1959.0</td>\n",
              "      <td>3.0</td>\n",
              "      <td>2775.488</td>\n",
              "      <td>1751.8</td>\n",
              "      <td>289.226</td>\n",
              "      <td>491.260</td>\n",
              "      <td>1916.4</td>\n",
              "      <td>29.35</td>\n",
              "      <td>140.5</td>\n",
              "      <td>3.82</td>\n",
              "      <td>5.3</td>\n",
              "      <td>178.657</td>\n",
              "      <td>2.74</td>\n",
              "      <td>1.09</td>\n",
              "    </tr>\n",
              "    <tr>\n",
              "      <th>3</th>\n",
              "      <td>1959.0</td>\n",
              "      <td>4.0</td>\n",
              "      <td>2785.204</td>\n",
              "      <td>1753.7</td>\n",
              "      <td>299.356</td>\n",
              "      <td>484.052</td>\n",
              "      <td>1931.3</td>\n",
              "      <td>29.37</td>\n",
              "      <td>140.0</td>\n",
              "      <td>4.33</td>\n",
              "      <td>5.6</td>\n",
              "      <td>179.386</td>\n",
              "      <td>0.27</td>\n",
              "      <td>4.06</td>\n",
              "    </tr>\n",
              "    <tr>\n",
              "      <th>4</th>\n",
              "      <td>1960.0</td>\n",
              "      <td>1.0</td>\n",
              "      <td>2847.699</td>\n",
              "      <td>1770.5</td>\n",
              "      <td>331.722</td>\n",
              "      <td>462.199</td>\n",
              "      <td>1955.5</td>\n",
              "      <td>29.54</td>\n",
              "      <td>139.6</td>\n",
              "      <td>3.50</td>\n",
              "      <td>5.2</td>\n",
              "      <td>180.007</td>\n",
              "      <td>2.31</td>\n",
              "      <td>1.19</td>\n",
              "    </tr>\n",
              "  </tbody>\n",
              "</table>\n",
              "</div>"
            ],
            "text/plain": [
              "     year  quarter   realgdp  realcons  ...  unemp      pop  infl  realint\n",
              "0  1959.0      1.0  2710.349    1707.4  ...    5.8  177.146  0.00     0.00\n",
              "1  1959.0      2.0  2778.801    1733.7  ...    5.1  177.830  2.34     0.74\n",
              "2  1959.0      3.0  2775.488    1751.8  ...    5.3  178.657  2.74     1.09\n",
              "3  1959.0      4.0  2785.204    1753.7  ...    5.6  179.386  0.27     4.06\n",
              "4  1960.0      1.0  2847.699    1770.5  ...    5.2  180.007  2.31     1.19\n",
              "\n",
              "[5 rows x 14 columns]"
            ]
          },
          "metadata": {},
          "execution_count": 127
        }
      ]
    },
    {
      "cell_type": "code",
      "metadata": {
        "colab": {
          "base_uri": "https://localhost:8080/"
        },
        "id": "X1R420dwO1LM",
        "outputId": "6c75c0a1-eb16-4b50-c37d-9e65bab73bb8"
      },
      "source": [
        "data.year"
      ],
      "execution_count": 128,
      "outputs": [
        {
          "output_type": "execute_result",
          "data": {
            "text/plain": [
              "0      1959.0\n",
              "1      1959.0\n",
              "2      1959.0\n",
              "3      1959.0\n",
              "4      1960.0\n",
              "        ...  \n",
              "198    2008.0\n",
              "199    2008.0\n",
              "200    2009.0\n",
              "201    2009.0\n",
              "202    2009.0\n",
              "Name: year, Length: 203, dtype: float64"
            ]
          },
          "metadata": {},
          "execution_count": 128
        }
      ]
    },
    {
      "cell_type": "code",
      "metadata": {
        "colab": {
          "base_uri": "https://localhost:8080/"
        },
        "id": "Mc6X1pEEQdp5",
        "outputId": "e5f9968b-1348-4d37-f032-c9b10cbd2831"
      },
      "source": [
        "data.quarter"
      ],
      "execution_count": 129,
      "outputs": [
        {
          "output_type": "execute_result",
          "data": {
            "text/plain": [
              "0      1.0\n",
              "1      2.0\n",
              "2      3.0\n",
              "3      4.0\n",
              "4      1.0\n",
              "      ... \n",
              "198    3.0\n",
              "199    4.0\n",
              "200    1.0\n",
              "201    2.0\n",
              "202    3.0\n",
              "Name: quarter, Length: 203, dtype: float64"
            ]
          },
          "metadata": {},
          "execution_count": 129
        }
      ]
    },
    {
      "cell_type": "code",
      "metadata": {
        "colab": {
          "base_uri": "https://localhost:8080/"
        },
        "id": "QWrFApQ4QhE6",
        "outputId": "6b21c7be-1180-4b15-9274-4c9cded4a7f8"
      },
      "source": [
        "index = pd.PeriodIndex(year=data.year, quarter=data.quarter, freq='Q-DEC')\n",
        "index"
      ],
      "execution_count": 130,
      "outputs": [
        {
          "output_type": "execute_result",
          "data": {
            "text/plain": [
              "PeriodIndex(['1959Q1', '1959Q2', '1959Q3', '1959Q4', '1960Q1', '1960Q2',\n",
              "             '1960Q3', '1960Q4', '1961Q1', '1961Q2',\n",
              "             ...\n",
              "             '2007Q2', '2007Q3', '2007Q4', '2008Q1', '2008Q2', '2008Q3',\n",
              "             '2008Q4', '2009Q1', '2009Q2', '2009Q3'],\n",
              "            dtype='period[Q-DEC]', length=203, freq='Q-DEC')"
            ]
          },
          "metadata": {},
          "execution_count": 130
        }
      ]
    },
    {
      "cell_type": "code",
      "metadata": {
        "colab": {
          "base_uri": "https://localhost:8080/"
        },
        "id": "BZtUVFBhQsq6",
        "outputId": "050ebc74-c0a3-494d-bed0-652e372f98db"
      },
      "source": [
        "data.index = index\n",
        "data.infl"
      ],
      "execution_count": 131,
      "outputs": [
        {
          "output_type": "execute_result",
          "data": {
            "text/plain": [
              "1959Q1    0.00\n",
              "1959Q2    2.34\n",
              "1959Q3    2.74\n",
              "1959Q4    0.27\n",
              "1960Q1    2.31\n",
              "          ... \n",
              "2008Q3   -3.16\n",
              "2008Q4   -8.79\n",
              "2009Q1    0.94\n",
              "2009Q2    3.37\n",
              "2009Q3    3.56\n",
              "Freq: Q-DEC, Name: infl, Length: 203, dtype: float64"
            ]
          },
          "metadata": {},
          "execution_count": 131
        }
      ]
    },
    {
      "cell_type": "markdown",
      "metadata": {
        "id": "gjjQy3yAQ5kN"
      },
      "source": [
        "# **Reamostrangem e conversão de frequências**"
      ]
    },
    {
      "cell_type": "code",
      "metadata": {
        "colab": {
          "base_uri": "https://localhost:8080/"
        },
        "id": "VQl9l2W-Q14h",
        "outputId": "42cc6a7d-2cb2-4369-936f-b91785f10833"
      },
      "source": [
        "rng = pd.date_range('2000-01-01', periods=100, freq='D')\n",
        "ts = pd.Series(np.random.randn(len(rng)), index=rng)\n",
        "ts"
      ],
      "execution_count": 132,
      "outputs": [
        {
          "output_type": "execute_result",
          "data": {
            "text/plain": [
              "2000-01-01   -0.212536\n",
              "2000-01-02    0.691524\n",
              "2000-01-03    0.230325\n",
              "2000-01-04    0.401778\n",
              "2000-01-05    0.654352\n",
              "                ...   \n",
              "2000-04-05    0.171337\n",
              "2000-04-06   -0.577415\n",
              "2000-04-07    1.171160\n",
              "2000-04-08   -0.572213\n",
              "2000-04-09    1.302626\n",
              "Freq: D, Length: 100, dtype: float64"
            ]
          },
          "metadata": {},
          "execution_count": 132
        }
      ]
    },
    {
      "cell_type": "code",
      "metadata": {
        "colab": {
          "base_uri": "https://localhost:8080/"
        },
        "id": "VTVF0Q33Rw7q",
        "outputId": "9ed4b9b8-4b7f-44b0-99c3-872abff56c94"
      },
      "source": [
        "ts.resample('M').mean()"
      ],
      "execution_count": 133,
      "outputs": [
        {
          "output_type": "execute_result",
          "data": {
            "text/plain": [
              "2000-01-31   -0.072263\n",
              "2000-02-29   -0.058578\n",
              "2000-03-31   -0.069150\n",
              "2000-04-30    0.005285\n",
              "Freq: M, dtype: float64"
            ]
          },
          "metadata": {},
          "execution_count": 133
        }
      ]
    },
    {
      "cell_type": "code",
      "metadata": {
        "colab": {
          "base_uri": "https://localhost:8080/"
        },
        "id": "v35Shi4fR4VZ",
        "outputId": "c7ebf8bf-0e44-441a-a1b8-2f9da8d1f807"
      },
      "source": [
        "ts.resample('M', kind='period').mean()"
      ],
      "execution_count": 134,
      "outputs": [
        {
          "output_type": "execute_result",
          "data": {
            "text/plain": [
              "2000-01   -0.072263\n",
              "2000-02   -0.058578\n",
              "2000-03   -0.069150\n",
              "2000-04    0.005285\n",
              "Freq: M, dtype: float64"
            ]
          },
          "metadata": {},
          "execution_count": 134
        }
      ]
    },
    {
      "cell_type": "markdown",
      "metadata": {
        "id": "NswneS9-STCX"
      },
      "source": [
        "**Downsampling**"
      ]
    },
    {
      "cell_type": "code",
      "metadata": {
        "colab": {
          "base_uri": "https://localhost:8080/"
        },
        "id": "UV0qpHhcR-da",
        "outputId": "599e9a85-3a54-4917-c7b3-c4a571918215"
      },
      "source": [
        "rng = pd.date_range('2000-01-01', periods=12, freq='T')\n",
        "ts = pd.Series(np.arange(12), index=rng)\n",
        "ts"
      ],
      "execution_count": 135,
      "outputs": [
        {
          "output_type": "execute_result",
          "data": {
            "text/plain": [
              "2000-01-01 00:00:00     0\n",
              "2000-01-01 00:01:00     1\n",
              "2000-01-01 00:02:00     2\n",
              "2000-01-01 00:03:00     3\n",
              "2000-01-01 00:04:00     4\n",
              "2000-01-01 00:05:00     5\n",
              "2000-01-01 00:06:00     6\n",
              "2000-01-01 00:07:00     7\n",
              "2000-01-01 00:08:00     8\n",
              "2000-01-01 00:09:00     9\n",
              "2000-01-01 00:10:00    10\n",
              "2000-01-01 00:11:00    11\n",
              "Freq: T, dtype: int64"
            ]
          },
          "metadata": {},
          "execution_count": 135
        }
      ]
    },
    {
      "cell_type": "code",
      "metadata": {
        "colab": {
          "base_uri": "https://localhost:8080/"
        },
        "id": "JititLChS2Xa",
        "outputId": "ecd30e6d-2f61-4cee-91c0-36cbf8808f50"
      },
      "source": [
        "ts.resample('5min', closed='right').sum()"
      ],
      "execution_count": 136,
      "outputs": [
        {
          "output_type": "execute_result",
          "data": {
            "text/plain": [
              "1999-12-31 23:55:00     0\n",
              "2000-01-01 00:00:00    15\n",
              "2000-01-01 00:05:00    40\n",
              "2000-01-01 00:10:00    11\n",
              "Freq: 5T, dtype: int64"
            ]
          },
          "metadata": {},
          "execution_count": 136
        }
      ]
    },
    {
      "cell_type": "code",
      "metadata": {
        "colab": {
          "base_uri": "https://localhost:8080/"
        },
        "id": "AGZJQ0iQTAKz",
        "outputId": "458b3fd2-3993-4c9a-960b-55705ce7da71"
      },
      "source": [
        "ts.resample('5min', closed='right', label='right').sum()"
      ],
      "execution_count": 137,
      "outputs": [
        {
          "output_type": "execute_result",
          "data": {
            "text/plain": [
              "2000-01-01 00:00:00     0\n",
              "2000-01-01 00:05:00    15\n",
              "2000-01-01 00:10:00    40\n",
              "2000-01-01 00:15:00    11\n",
              "Freq: 5T, dtype: int64"
            ]
          },
          "metadata": {},
          "execution_count": 137
        }
      ]
    },
    {
      "cell_type": "code",
      "metadata": {
        "colab": {
          "base_uri": "https://localhost:8080/"
        },
        "id": "Qyoch10iTq1j",
        "outputId": "4649856a-5182-47d2-f40a-e6290137621d"
      },
      "source": [
        "ts.resample('5min', closed='right', label='right', loffset='1s').sum()"
      ],
      "execution_count": 138,
      "outputs": [
        {
          "output_type": "stream",
          "name": "stderr",
          "text": [
            "/usr/local/lib/python3.7/dist-packages/ipykernel_launcher.py:1: FutureWarning: 'loffset' in .resample() and in Grouper() is deprecated.\n",
            "\n",
            ">>> df.resample(freq=\"3s\", loffset=\"8H\")\n",
            "\n",
            "becomes:\n",
            "\n",
            ">>> from pandas.tseries.frequencies import to_offset\n",
            ">>> df = df.resample(freq=\"3s\").mean()\n",
            ">>> df.index = df.index.to_timestamp() + to_offset(\"8H\")\n",
            "\n",
            "  \"\"\"Entry point for launching an IPython kernel.\n"
          ]
        },
        {
          "output_type": "execute_result",
          "data": {
            "text/plain": [
              "2000-01-01 00:00:01     0\n",
              "2000-01-01 00:05:01    15\n",
              "2000-01-01 00:10:01    40\n",
              "2000-01-01 00:15:01    11\n",
              "Freq: 5T, dtype: int64"
            ]
          },
          "metadata": {},
          "execution_count": 138
        }
      ]
    },
    {
      "cell_type": "markdown",
      "metadata": {
        "id": "vL0wb4w2UNI_"
      },
      "source": [
        "**Reamostragem OHLC (Open-High-Low-Close)**"
      ]
    },
    {
      "cell_type": "code",
      "metadata": {
        "colab": {
          "base_uri": "https://localhost:8080/",
          "height": 143
        },
        "id": "_gYtUDpiUAN8",
        "outputId": "1d8cf70f-00aa-4ceb-b018-9fb749b5d19a"
      },
      "source": [
        "ts.resample('5min').ohlc()"
      ],
      "execution_count": 139,
      "outputs": [
        {
          "output_type": "execute_result",
          "data": {
            "text/html": [
              "<div>\n",
              "<style scoped>\n",
              "    .dataframe tbody tr th:only-of-type {\n",
              "        vertical-align: middle;\n",
              "    }\n",
              "\n",
              "    .dataframe tbody tr th {\n",
              "        vertical-align: top;\n",
              "    }\n",
              "\n",
              "    .dataframe thead th {\n",
              "        text-align: right;\n",
              "    }\n",
              "</style>\n",
              "<table border=\"1\" class=\"dataframe\">\n",
              "  <thead>\n",
              "    <tr style=\"text-align: right;\">\n",
              "      <th></th>\n",
              "      <th>open</th>\n",
              "      <th>high</th>\n",
              "      <th>low</th>\n",
              "      <th>close</th>\n",
              "    </tr>\n",
              "  </thead>\n",
              "  <tbody>\n",
              "    <tr>\n",
              "      <th>2000-01-01 00:00:00</th>\n",
              "      <td>0</td>\n",
              "      <td>4</td>\n",
              "      <td>0</td>\n",
              "      <td>4</td>\n",
              "    </tr>\n",
              "    <tr>\n",
              "      <th>2000-01-01 00:05:00</th>\n",
              "      <td>5</td>\n",
              "      <td>9</td>\n",
              "      <td>5</td>\n",
              "      <td>9</td>\n",
              "    </tr>\n",
              "    <tr>\n",
              "      <th>2000-01-01 00:10:00</th>\n",
              "      <td>10</td>\n",
              "      <td>11</td>\n",
              "      <td>10</td>\n",
              "      <td>11</td>\n",
              "    </tr>\n",
              "  </tbody>\n",
              "</table>\n",
              "</div>"
            ],
            "text/plain": [
              "                     open  high  low  close\n",
              "2000-01-01 00:00:00     0     4    0      4\n",
              "2000-01-01 00:05:00     5     9    5      9\n",
              "2000-01-01 00:10:00    10    11   10     11"
            ]
          },
          "metadata": {},
          "execution_count": 139
        }
      ]
    },
    {
      "cell_type": "markdown",
      "metadata": {
        "id": "Yr11pp4ZUp5i"
      },
      "source": [
        "**Upsampling e interpolação**"
      ]
    },
    {
      "cell_type": "code",
      "metadata": {
        "colab": {
          "base_uri": "https://localhost:8080/",
          "height": 112
        },
        "id": "-LjN6FLRUm7C",
        "outputId": "a84ff7f8-302a-43b1-a5f3-666a22418a5d"
      },
      "source": [
        "frame = pd.DataFrame(np.random.randn(2,4), index=pd.date_range('1/1/2000', periods = 2, freq='W-WED'), columns=['Colorado', 'Texas', 'New York', 'Ohio'])\n",
        "frame"
      ],
      "execution_count": 140,
      "outputs": [
        {
          "output_type": "execute_result",
          "data": {
            "text/html": [
              "<div>\n",
              "<style scoped>\n",
              "    .dataframe tbody tr th:only-of-type {\n",
              "        vertical-align: middle;\n",
              "    }\n",
              "\n",
              "    .dataframe tbody tr th {\n",
              "        vertical-align: top;\n",
              "    }\n",
              "\n",
              "    .dataframe thead th {\n",
              "        text-align: right;\n",
              "    }\n",
              "</style>\n",
              "<table border=\"1\" class=\"dataframe\">\n",
              "  <thead>\n",
              "    <tr style=\"text-align: right;\">\n",
              "      <th></th>\n",
              "      <th>Colorado</th>\n",
              "      <th>Texas</th>\n",
              "      <th>New York</th>\n",
              "      <th>Ohio</th>\n",
              "    </tr>\n",
              "  </thead>\n",
              "  <tbody>\n",
              "    <tr>\n",
              "      <th>2000-01-05</th>\n",
              "      <td>-1.797204</td>\n",
              "      <td>0.408731</td>\n",
              "      <td>-1.234559</td>\n",
              "      <td>-0.872020</td>\n",
              "    </tr>\n",
              "    <tr>\n",
              "      <th>2000-01-12</th>\n",
              "      <td>1.082206</td>\n",
              "      <td>-1.118432</td>\n",
              "      <td>-1.866543</td>\n",
              "      <td>-0.832353</td>\n",
              "    </tr>\n",
              "  </tbody>\n",
              "</table>\n",
              "</div>"
            ],
            "text/plain": [
              "            Colorado     Texas  New York      Ohio\n",
              "2000-01-05 -1.797204  0.408731 -1.234559 -0.872020\n",
              "2000-01-12  1.082206 -1.118432 -1.866543 -0.832353"
            ]
          },
          "metadata": {},
          "execution_count": 140
        }
      ]
    },
    {
      "cell_type": "code",
      "metadata": {
        "colab": {
          "base_uri": "https://localhost:8080/",
          "height": 300
        },
        "id": "UcvOktyXVLn7",
        "outputId": "3cdc4243-4473-45d0-c88c-b0785d54c9dc"
      },
      "source": [
        "df_daily = frame.resample('D').asfreq()\n",
        "df_daily"
      ],
      "execution_count": 141,
      "outputs": [
        {
          "output_type": "execute_result",
          "data": {
            "text/html": [
              "<div>\n",
              "<style scoped>\n",
              "    .dataframe tbody tr th:only-of-type {\n",
              "        vertical-align: middle;\n",
              "    }\n",
              "\n",
              "    .dataframe tbody tr th {\n",
              "        vertical-align: top;\n",
              "    }\n",
              "\n",
              "    .dataframe thead th {\n",
              "        text-align: right;\n",
              "    }\n",
              "</style>\n",
              "<table border=\"1\" class=\"dataframe\">\n",
              "  <thead>\n",
              "    <tr style=\"text-align: right;\">\n",
              "      <th></th>\n",
              "      <th>Colorado</th>\n",
              "      <th>Texas</th>\n",
              "      <th>New York</th>\n",
              "      <th>Ohio</th>\n",
              "    </tr>\n",
              "  </thead>\n",
              "  <tbody>\n",
              "    <tr>\n",
              "      <th>2000-01-05</th>\n",
              "      <td>-1.797204</td>\n",
              "      <td>0.408731</td>\n",
              "      <td>-1.234559</td>\n",
              "      <td>-0.872020</td>\n",
              "    </tr>\n",
              "    <tr>\n",
              "      <th>2000-01-06</th>\n",
              "      <td>NaN</td>\n",
              "      <td>NaN</td>\n",
              "      <td>NaN</td>\n",
              "      <td>NaN</td>\n",
              "    </tr>\n",
              "    <tr>\n",
              "      <th>2000-01-07</th>\n",
              "      <td>NaN</td>\n",
              "      <td>NaN</td>\n",
              "      <td>NaN</td>\n",
              "      <td>NaN</td>\n",
              "    </tr>\n",
              "    <tr>\n",
              "      <th>2000-01-08</th>\n",
              "      <td>NaN</td>\n",
              "      <td>NaN</td>\n",
              "      <td>NaN</td>\n",
              "      <td>NaN</td>\n",
              "    </tr>\n",
              "    <tr>\n",
              "      <th>2000-01-09</th>\n",
              "      <td>NaN</td>\n",
              "      <td>NaN</td>\n",
              "      <td>NaN</td>\n",
              "      <td>NaN</td>\n",
              "    </tr>\n",
              "    <tr>\n",
              "      <th>2000-01-10</th>\n",
              "      <td>NaN</td>\n",
              "      <td>NaN</td>\n",
              "      <td>NaN</td>\n",
              "      <td>NaN</td>\n",
              "    </tr>\n",
              "    <tr>\n",
              "      <th>2000-01-11</th>\n",
              "      <td>NaN</td>\n",
              "      <td>NaN</td>\n",
              "      <td>NaN</td>\n",
              "      <td>NaN</td>\n",
              "    </tr>\n",
              "    <tr>\n",
              "      <th>2000-01-12</th>\n",
              "      <td>1.082206</td>\n",
              "      <td>-1.118432</td>\n",
              "      <td>-1.866543</td>\n",
              "      <td>-0.832353</td>\n",
              "    </tr>\n",
              "  </tbody>\n",
              "</table>\n",
              "</div>"
            ],
            "text/plain": [
              "            Colorado     Texas  New York      Ohio\n",
              "2000-01-05 -1.797204  0.408731 -1.234559 -0.872020\n",
              "2000-01-06       NaN       NaN       NaN       NaN\n",
              "2000-01-07       NaN       NaN       NaN       NaN\n",
              "2000-01-08       NaN       NaN       NaN       NaN\n",
              "2000-01-09       NaN       NaN       NaN       NaN\n",
              "2000-01-10       NaN       NaN       NaN       NaN\n",
              "2000-01-11       NaN       NaN       NaN       NaN\n",
              "2000-01-12  1.082206 -1.118432 -1.866543 -0.832353"
            ]
          },
          "metadata": {},
          "execution_count": 141
        }
      ]
    },
    {
      "cell_type": "code",
      "metadata": {
        "colab": {
          "base_uri": "https://localhost:8080/",
          "height": 300
        },
        "id": "34a-VxTUV0Lj",
        "outputId": "5022423b-926f-4e03-b119-1224e1a4ca81"
      },
      "source": [
        "#´preencher pra baixo\n",
        "\n",
        "frame.resample('D').ffill()"
      ],
      "execution_count": 142,
      "outputs": [
        {
          "output_type": "execute_result",
          "data": {
            "text/html": [
              "<div>\n",
              "<style scoped>\n",
              "    .dataframe tbody tr th:only-of-type {\n",
              "        vertical-align: middle;\n",
              "    }\n",
              "\n",
              "    .dataframe tbody tr th {\n",
              "        vertical-align: top;\n",
              "    }\n",
              "\n",
              "    .dataframe thead th {\n",
              "        text-align: right;\n",
              "    }\n",
              "</style>\n",
              "<table border=\"1\" class=\"dataframe\">\n",
              "  <thead>\n",
              "    <tr style=\"text-align: right;\">\n",
              "      <th></th>\n",
              "      <th>Colorado</th>\n",
              "      <th>Texas</th>\n",
              "      <th>New York</th>\n",
              "      <th>Ohio</th>\n",
              "    </tr>\n",
              "  </thead>\n",
              "  <tbody>\n",
              "    <tr>\n",
              "      <th>2000-01-05</th>\n",
              "      <td>-1.797204</td>\n",
              "      <td>0.408731</td>\n",
              "      <td>-1.234559</td>\n",
              "      <td>-0.872020</td>\n",
              "    </tr>\n",
              "    <tr>\n",
              "      <th>2000-01-06</th>\n",
              "      <td>-1.797204</td>\n",
              "      <td>0.408731</td>\n",
              "      <td>-1.234559</td>\n",
              "      <td>-0.872020</td>\n",
              "    </tr>\n",
              "    <tr>\n",
              "      <th>2000-01-07</th>\n",
              "      <td>-1.797204</td>\n",
              "      <td>0.408731</td>\n",
              "      <td>-1.234559</td>\n",
              "      <td>-0.872020</td>\n",
              "    </tr>\n",
              "    <tr>\n",
              "      <th>2000-01-08</th>\n",
              "      <td>-1.797204</td>\n",
              "      <td>0.408731</td>\n",
              "      <td>-1.234559</td>\n",
              "      <td>-0.872020</td>\n",
              "    </tr>\n",
              "    <tr>\n",
              "      <th>2000-01-09</th>\n",
              "      <td>-1.797204</td>\n",
              "      <td>0.408731</td>\n",
              "      <td>-1.234559</td>\n",
              "      <td>-0.872020</td>\n",
              "    </tr>\n",
              "    <tr>\n",
              "      <th>2000-01-10</th>\n",
              "      <td>-1.797204</td>\n",
              "      <td>0.408731</td>\n",
              "      <td>-1.234559</td>\n",
              "      <td>-0.872020</td>\n",
              "    </tr>\n",
              "    <tr>\n",
              "      <th>2000-01-11</th>\n",
              "      <td>-1.797204</td>\n",
              "      <td>0.408731</td>\n",
              "      <td>-1.234559</td>\n",
              "      <td>-0.872020</td>\n",
              "    </tr>\n",
              "    <tr>\n",
              "      <th>2000-01-12</th>\n",
              "      <td>1.082206</td>\n",
              "      <td>-1.118432</td>\n",
              "      <td>-1.866543</td>\n",
              "      <td>-0.832353</td>\n",
              "    </tr>\n",
              "  </tbody>\n",
              "</table>\n",
              "</div>"
            ],
            "text/plain": [
              "            Colorado     Texas  New York      Ohio\n",
              "2000-01-05 -1.797204  0.408731 -1.234559 -0.872020\n",
              "2000-01-06 -1.797204  0.408731 -1.234559 -0.872020\n",
              "2000-01-07 -1.797204  0.408731 -1.234559 -0.872020\n",
              "2000-01-08 -1.797204  0.408731 -1.234559 -0.872020\n",
              "2000-01-09 -1.797204  0.408731 -1.234559 -0.872020\n",
              "2000-01-10 -1.797204  0.408731 -1.234559 -0.872020\n",
              "2000-01-11 -1.797204  0.408731 -1.234559 -0.872020\n",
              "2000-01-12  1.082206 -1.118432 -1.866543 -0.832353"
            ]
          },
          "metadata": {},
          "execution_count": 142
        }
      ]
    },
    {
      "cell_type": "code",
      "metadata": {
        "colab": {
          "base_uri": "https://localhost:8080/",
          "height": 300
        },
        "id": "S9gvV1bZV_hC",
        "outputId": "36ffb4ae-2e24-40de-a0dd-2a938807cf1f"
      },
      "source": [
        "#É possivel preencher só uma parte\n",
        "\n",
        "frame.resample('D').ffill(limit=2)"
      ],
      "execution_count": 143,
      "outputs": [
        {
          "output_type": "execute_result",
          "data": {
            "text/html": [
              "<div>\n",
              "<style scoped>\n",
              "    .dataframe tbody tr th:only-of-type {\n",
              "        vertical-align: middle;\n",
              "    }\n",
              "\n",
              "    .dataframe tbody tr th {\n",
              "        vertical-align: top;\n",
              "    }\n",
              "\n",
              "    .dataframe thead th {\n",
              "        text-align: right;\n",
              "    }\n",
              "</style>\n",
              "<table border=\"1\" class=\"dataframe\">\n",
              "  <thead>\n",
              "    <tr style=\"text-align: right;\">\n",
              "      <th></th>\n",
              "      <th>Colorado</th>\n",
              "      <th>Texas</th>\n",
              "      <th>New York</th>\n",
              "      <th>Ohio</th>\n",
              "    </tr>\n",
              "  </thead>\n",
              "  <tbody>\n",
              "    <tr>\n",
              "      <th>2000-01-05</th>\n",
              "      <td>-1.797204</td>\n",
              "      <td>0.408731</td>\n",
              "      <td>-1.234559</td>\n",
              "      <td>-0.872020</td>\n",
              "    </tr>\n",
              "    <tr>\n",
              "      <th>2000-01-06</th>\n",
              "      <td>-1.797204</td>\n",
              "      <td>0.408731</td>\n",
              "      <td>-1.234559</td>\n",
              "      <td>-0.872020</td>\n",
              "    </tr>\n",
              "    <tr>\n",
              "      <th>2000-01-07</th>\n",
              "      <td>-1.797204</td>\n",
              "      <td>0.408731</td>\n",
              "      <td>-1.234559</td>\n",
              "      <td>-0.872020</td>\n",
              "    </tr>\n",
              "    <tr>\n",
              "      <th>2000-01-08</th>\n",
              "      <td>NaN</td>\n",
              "      <td>NaN</td>\n",
              "      <td>NaN</td>\n",
              "      <td>NaN</td>\n",
              "    </tr>\n",
              "    <tr>\n",
              "      <th>2000-01-09</th>\n",
              "      <td>NaN</td>\n",
              "      <td>NaN</td>\n",
              "      <td>NaN</td>\n",
              "      <td>NaN</td>\n",
              "    </tr>\n",
              "    <tr>\n",
              "      <th>2000-01-10</th>\n",
              "      <td>NaN</td>\n",
              "      <td>NaN</td>\n",
              "      <td>NaN</td>\n",
              "      <td>NaN</td>\n",
              "    </tr>\n",
              "    <tr>\n",
              "      <th>2000-01-11</th>\n",
              "      <td>NaN</td>\n",
              "      <td>NaN</td>\n",
              "      <td>NaN</td>\n",
              "      <td>NaN</td>\n",
              "    </tr>\n",
              "    <tr>\n",
              "      <th>2000-01-12</th>\n",
              "      <td>1.082206</td>\n",
              "      <td>-1.118432</td>\n",
              "      <td>-1.866543</td>\n",
              "      <td>-0.832353</td>\n",
              "    </tr>\n",
              "  </tbody>\n",
              "</table>\n",
              "</div>"
            ],
            "text/plain": [
              "            Colorado     Texas  New York      Ohio\n",
              "2000-01-05 -1.797204  0.408731 -1.234559 -0.872020\n",
              "2000-01-06 -1.797204  0.408731 -1.234559 -0.872020\n",
              "2000-01-07 -1.797204  0.408731 -1.234559 -0.872020\n",
              "2000-01-08       NaN       NaN       NaN       NaN\n",
              "2000-01-09       NaN       NaN       NaN       NaN\n",
              "2000-01-10       NaN       NaN       NaN       NaN\n",
              "2000-01-11       NaN       NaN       NaN       NaN\n",
              "2000-01-12  1.082206 -1.118432 -1.866543 -0.832353"
            ]
          },
          "metadata": {},
          "execution_count": 143
        }
      ]
    },
    {
      "cell_type": "code",
      "metadata": {
        "colab": {
          "base_uri": "https://localhost:8080/",
          "height": 112
        },
        "id": "C3HjW0ipWLNc",
        "outputId": "b0bceb01-aa0a-4e91-c122-1dca0edc3f56"
      },
      "source": [
        "frame.resample('W-THU').ffill()"
      ],
      "execution_count": 144,
      "outputs": [
        {
          "output_type": "execute_result",
          "data": {
            "text/html": [
              "<div>\n",
              "<style scoped>\n",
              "    .dataframe tbody tr th:only-of-type {\n",
              "        vertical-align: middle;\n",
              "    }\n",
              "\n",
              "    .dataframe tbody tr th {\n",
              "        vertical-align: top;\n",
              "    }\n",
              "\n",
              "    .dataframe thead th {\n",
              "        text-align: right;\n",
              "    }\n",
              "</style>\n",
              "<table border=\"1\" class=\"dataframe\">\n",
              "  <thead>\n",
              "    <tr style=\"text-align: right;\">\n",
              "      <th></th>\n",
              "      <th>Colorado</th>\n",
              "      <th>Texas</th>\n",
              "      <th>New York</th>\n",
              "      <th>Ohio</th>\n",
              "    </tr>\n",
              "  </thead>\n",
              "  <tbody>\n",
              "    <tr>\n",
              "      <th>2000-01-06</th>\n",
              "      <td>-1.797204</td>\n",
              "      <td>0.408731</td>\n",
              "      <td>-1.234559</td>\n",
              "      <td>-0.872020</td>\n",
              "    </tr>\n",
              "    <tr>\n",
              "      <th>2000-01-13</th>\n",
              "      <td>1.082206</td>\n",
              "      <td>-1.118432</td>\n",
              "      <td>-1.866543</td>\n",
              "      <td>-0.832353</td>\n",
              "    </tr>\n",
              "  </tbody>\n",
              "</table>\n",
              "</div>"
            ],
            "text/plain": [
              "            Colorado     Texas  New York      Ohio\n",
              "2000-01-06 -1.797204  0.408731 -1.234559 -0.872020\n",
              "2000-01-13  1.082206 -1.118432 -1.866543 -0.832353"
            ]
          },
          "metadata": {},
          "execution_count": 144
        }
      ]
    },
    {
      "cell_type": "markdown",
      "metadata": {
        "id": "U6rLH38eWZnP"
      },
      "source": [
        "**Reamostragem com períodos**"
      ]
    },
    {
      "cell_type": "code",
      "metadata": {
        "id": "71DMFSI0WVpL",
        "colab": {
          "base_uri": "https://localhost:8080/",
          "height": 206
        },
        "outputId": "fa93c0f5-a24a-433c-a115-9049f1149c64"
      },
      "source": [
        "frame = pd.DataFrame(np.random.randn(24,4), index=pd.period_range('1-2000','12-2001', freq='M'), columns=['Colorado','Texas','New York','Ohio'])\n",
        "frame[:5]"
      ],
      "execution_count": 145,
      "outputs": [
        {
          "output_type": "execute_result",
          "data": {
            "text/html": [
              "<div>\n",
              "<style scoped>\n",
              "    .dataframe tbody tr th:only-of-type {\n",
              "        vertical-align: middle;\n",
              "    }\n",
              "\n",
              "    .dataframe tbody tr th {\n",
              "        vertical-align: top;\n",
              "    }\n",
              "\n",
              "    .dataframe thead th {\n",
              "        text-align: right;\n",
              "    }\n",
              "</style>\n",
              "<table border=\"1\" class=\"dataframe\">\n",
              "  <thead>\n",
              "    <tr style=\"text-align: right;\">\n",
              "      <th></th>\n",
              "      <th>Colorado</th>\n",
              "      <th>Texas</th>\n",
              "      <th>New York</th>\n",
              "      <th>Ohio</th>\n",
              "    </tr>\n",
              "  </thead>\n",
              "  <tbody>\n",
              "    <tr>\n",
              "      <th>2000-01</th>\n",
              "      <td>1.185035</td>\n",
              "      <td>2.220361</td>\n",
              "      <td>0.596843</td>\n",
              "      <td>0.010126</td>\n",
              "    </tr>\n",
              "    <tr>\n",
              "      <th>2000-02</th>\n",
              "      <td>0.932278</td>\n",
              "      <td>0.156157</td>\n",
              "      <td>-0.303335</td>\n",
              "      <td>0.473456</td>\n",
              "    </tr>\n",
              "    <tr>\n",
              "      <th>2000-03</th>\n",
              "      <td>0.113861</td>\n",
              "      <td>0.984178</td>\n",
              "      <td>-0.167110</td>\n",
              "      <td>-2.486599</td>\n",
              "    </tr>\n",
              "    <tr>\n",
              "      <th>2000-04</th>\n",
              "      <td>1.011972</td>\n",
              "      <td>-1.082030</td>\n",
              "      <td>0.110739</td>\n",
              "      <td>2.397447</td>\n",
              "    </tr>\n",
              "    <tr>\n",
              "      <th>2000-05</th>\n",
              "      <td>0.261698</td>\n",
              "      <td>-0.380965</td>\n",
              "      <td>-0.180759</td>\n",
              "      <td>-0.897414</td>\n",
              "    </tr>\n",
              "  </tbody>\n",
              "</table>\n",
              "</div>"
            ],
            "text/plain": [
              "         Colorado     Texas  New York      Ohio\n",
              "2000-01  1.185035  2.220361  0.596843  0.010126\n",
              "2000-02  0.932278  0.156157 -0.303335  0.473456\n",
              "2000-03  0.113861  0.984178 -0.167110 -2.486599\n",
              "2000-04  1.011972 -1.082030  0.110739  2.397447\n",
              "2000-05  0.261698 -0.380965 -0.180759 -0.897414"
            ]
          },
          "metadata": {},
          "execution_count": 145
        }
      ]
    },
    {
      "cell_type": "code",
      "metadata": {
        "colab": {
          "base_uri": "https://localhost:8080/",
          "height": 112
        },
        "id": "se9K8V11AwYH",
        "outputId": "387dd82e-79c6-4adc-e551-ada60f2f455a"
      },
      "source": [
        "anual_frame = frame.resample('A-DEC').mean()\n",
        "anual_frame"
      ],
      "execution_count": 147,
      "outputs": [
        {
          "output_type": "execute_result",
          "data": {
            "text/html": [
              "<div>\n",
              "<style scoped>\n",
              "    .dataframe tbody tr th:only-of-type {\n",
              "        vertical-align: middle;\n",
              "    }\n",
              "\n",
              "    .dataframe tbody tr th {\n",
              "        vertical-align: top;\n",
              "    }\n",
              "\n",
              "    .dataframe thead th {\n",
              "        text-align: right;\n",
              "    }\n",
              "</style>\n",
              "<table border=\"1\" class=\"dataframe\">\n",
              "  <thead>\n",
              "    <tr style=\"text-align: right;\">\n",
              "      <th></th>\n",
              "      <th>Colorado</th>\n",
              "      <th>Texas</th>\n",
              "      <th>New York</th>\n",
              "      <th>Ohio</th>\n",
              "    </tr>\n",
              "  </thead>\n",
              "  <tbody>\n",
              "    <tr>\n",
              "      <th>2000</th>\n",
              "      <td>0.355145</td>\n",
              "      <td>0.223357</td>\n",
              "      <td>-0.168971</td>\n",
              "      <td>-0.115701</td>\n",
              "    </tr>\n",
              "    <tr>\n",
              "      <th>2001</th>\n",
              "      <td>0.314388</td>\n",
              "      <td>-0.535912</td>\n",
              "      <td>0.396423</td>\n",
              "      <td>-0.114194</td>\n",
              "    </tr>\n",
              "  </tbody>\n",
              "</table>\n",
              "</div>"
            ],
            "text/plain": [
              "      Colorado     Texas  New York      Ohio\n",
              "2000  0.355145  0.223357 -0.168971 -0.115701\n",
              "2001  0.314388 -0.535912  0.396423 -0.114194"
            ]
          },
          "metadata": {},
          "execution_count": 147
        }
      ]
    },
    {
      "cell_type": "code",
      "metadata": {
        "colab": {
          "base_uri": "https://localhost:8080/",
          "height": 300
        },
        "id": "5pw3Ed6mA6G1",
        "outputId": "3a2b84c8-ec3c-4ab5-fb98-2cb2ba4ba078"
      },
      "source": [
        "#Q-DEC: trimestral, com o ano terminando em dezembro\n",
        "\n",
        "anual_frame.resample('Q-DEC').ffill()"
      ],
      "execution_count": 148,
      "outputs": [
        {
          "output_type": "execute_result",
          "data": {
            "text/html": [
              "<div>\n",
              "<style scoped>\n",
              "    .dataframe tbody tr th:only-of-type {\n",
              "        vertical-align: middle;\n",
              "    }\n",
              "\n",
              "    .dataframe tbody tr th {\n",
              "        vertical-align: top;\n",
              "    }\n",
              "\n",
              "    .dataframe thead th {\n",
              "        text-align: right;\n",
              "    }\n",
              "</style>\n",
              "<table border=\"1\" class=\"dataframe\">\n",
              "  <thead>\n",
              "    <tr style=\"text-align: right;\">\n",
              "      <th></th>\n",
              "      <th>Colorado</th>\n",
              "      <th>Texas</th>\n",
              "      <th>New York</th>\n",
              "      <th>Ohio</th>\n",
              "    </tr>\n",
              "  </thead>\n",
              "  <tbody>\n",
              "    <tr>\n",
              "      <th>2000Q1</th>\n",
              "      <td>0.355145</td>\n",
              "      <td>0.223357</td>\n",
              "      <td>-0.168971</td>\n",
              "      <td>-0.115701</td>\n",
              "    </tr>\n",
              "    <tr>\n",
              "      <th>2000Q2</th>\n",
              "      <td>0.355145</td>\n",
              "      <td>0.223357</td>\n",
              "      <td>-0.168971</td>\n",
              "      <td>-0.115701</td>\n",
              "    </tr>\n",
              "    <tr>\n",
              "      <th>2000Q3</th>\n",
              "      <td>0.355145</td>\n",
              "      <td>0.223357</td>\n",
              "      <td>-0.168971</td>\n",
              "      <td>-0.115701</td>\n",
              "    </tr>\n",
              "    <tr>\n",
              "      <th>2000Q4</th>\n",
              "      <td>0.355145</td>\n",
              "      <td>0.223357</td>\n",
              "      <td>-0.168971</td>\n",
              "      <td>-0.115701</td>\n",
              "    </tr>\n",
              "    <tr>\n",
              "      <th>2001Q1</th>\n",
              "      <td>0.314388</td>\n",
              "      <td>-0.535912</td>\n",
              "      <td>0.396423</td>\n",
              "      <td>-0.114194</td>\n",
              "    </tr>\n",
              "    <tr>\n",
              "      <th>2001Q2</th>\n",
              "      <td>0.314388</td>\n",
              "      <td>-0.535912</td>\n",
              "      <td>0.396423</td>\n",
              "      <td>-0.114194</td>\n",
              "    </tr>\n",
              "    <tr>\n",
              "      <th>2001Q3</th>\n",
              "      <td>0.314388</td>\n",
              "      <td>-0.535912</td>\n",
              "      <td>0.396423</td>\n",
              "      <td>-0.114194</td>\n",
              "    </tr>\n",
              "    <tr>\n",
              "      <th>2001Q4</th>\n",
              "      <td>0.314388</td>\n",
              "      <td>-0.535912</td>\n",
              "      <td>0.396423</td>\n",
              "      <td>-0.114194</td>\n",
              "    </tr>\n",
              "  </tbody>\n",
              "</table>\n",
              "</div>"
            ],
            "text/plain": [
              "        Colorado     Texas  New York      Ohio\n",
              "2000Q1  0.355145  0.223357 -0.168971 -0.115701\n",
              "2000Q2  0.355145  0.223357 -0.168971 -0.115701\n",
              "2000Q3  0.355145  0.223357 -0.168971 -0.115701\n",
              "2000Q4  0.355145  0.223357 -0.168971 -0.115701\n",
              "2001Q1  0.314388 -0.535912  0.396423 -0.114194\n",
              "2001Q2  0.314388 -0.535912  0.396423 -0.114194\n",
              "2001Q3  0.314388 -0.535912  0.396423 -0.114194\n",
              "2001Q4  0.314388 -0.535912  0.396423 -0.114194"
            ]
          },
          "metadata": {},
          "execution_count": 148
        }
      ]
    },
    {
      "cell_type": "code",
      "metadata": {
        "colab": {
          "base_uri": "https://localhost:8080/",
          "height": 206
        },
        "id": "5SnNRCPUBOB-",
        "outputId": "8f0430ea-d6f2-4aca-9149-7ced991e4123"
      },
      "source": [
        "anual_frame.resample('Q-DEC', convention='end').ffill()"
      ],
      "execution_count": 149,
      "outputs": [
        {
          "output_type": "execute_result",
          "data": {
            "text/html": [
              "<div>\n",
              "<style scoped>\n",
              "    .dataframe tbody tr th:only-of-type {\n",
              "        vertical-align: middle;\n",
              "    }\n",
              "\n",
              "    .dataframe tbody tr th {\n",
              "        vertical-align: top;\n",
              "    }\n",
              "\n",
              "    .dataframe thead th {\n",
              "        text-align: right;\n",
              "    }\n",
              "</style>\n",
              "<table border=\"1\" class=\"dataframe\">\n",
              "  <thead>\n",
              "    <tr style=\"text-align: right;\">\n",
              "      <th></th>\n",
              "      <th>Colorado</th>\n",
              "      <th>Texas</th>\n",
              "      <th>New York</th>\n",
              "      <th>Ohio</th>\n",
              "    </tr>\n",
              "  </thead>\n",
              "  <tbody>\n",
              "    <tr>\n",
              "      <th>2000Q4</th>\n",
              "      <td>0.355145</td>\n",
              "      <td>0.223357</td>\n",
              "      <td>-0.168971</td>\n",
              "      <td>-0.115701</td>\n",
              "    </tr>\n",
              "    <tr>\n",
              "      <th>2001Q1</th>\n",
              "      <td>0.355145</td>\n",
              "      <td>0.223357</td>\n",
              "      <td>-0.168971</td>\n",
              "      <td>-0.115701</td>\n",
              "    </tr>\n",
              "    <tr>\n",
              "      <th>2001Q2</th>\n",
              "      <td>0.355145</td>\n",
              "      <td>0.223357</td>\n",
              "      <td>-0.168971</td>\n",
              "      <td>-0.115701</td>\n",
              "    </tr>\n",
              "    <tr>\n",
              "      <th>2001Q3</th>\n",
              "      <td>0.355145</td>\n",
              "      <td>0.223357</td>\n",
              "      <td>-0.168971</td>\n",
              "      <td>-0.115701</td>\n",
              "    </tr>\n",
              "    <tr>\n",
              "      <th>2001Q4</th>\n",
              "      <td>0.314388</td>\n",
              "      <td>-0.535912</td>\n",
              "      <td>0.396423</td>\n",
              "      <td>-0.114194</td>\n",
              "    </tr>\n",
              "  </tbody>\n",
              "</table>\n",
              "</div>"
            ],
            "text/plain": [
              "        Colorado     Texas  New York      Ohio\n",
              "2000Q4  0.355145  0.223357 -0.168971 -0.115701\n",
              "2001Q1  0.355145  0.223357 -0.168971 -0.115701\n",
              "2001Q2  0.355145  0.223357 -0.168971 -0.115701\n",
              "2001Q3  0.355145  0.223357 -0.168971 -0.115701\n",
              "2001Q4  0.314388 -0.535912  0.396423 -0.114194"
            ]
          },
          "metadata": {},
          "execution_count": 149
        }
      ]
    },
    {
      "cell_type": "code",
      "metadata": {
        "colab": {
          "base_uri": "https://localhost:8080/",
          "height": 300
        },
        "id": "uQLdKdVkBW4O",
        "outputId": "f8a6e6b8-3152-4d8c-aba8-647456c1fa7e"
      },
      "source": [
        "anual_frame.resample('Q-MAR').ffill()"
      ],
      "execution_count": 150,
      "outputs": [
        {
          "output_type": "execute_result",
          "data": {
            "text/html": [
              "<div>\n",
              "<style scoped>\n",
              "    .dataframe tbody tr th:only-of-type {\n",
              "        vertical-align: middle;\n",
              "    }\n",
              "\n",
              "    .dataframe tbody tr th {\n",
              "        vertical-align: top;\n",
              "    }\n",
              "\n",
              "    .dataframe thead th {\n",
              "        text-align: right;\n",
              "    }\n",
              "</style>\n",
              "<table border=\"1\" class=\"dataframe\">\n",
              "  <thead>\n",
              "    <tr style=\"text-align: right;\">\n",
              "      <th></th>\n",
              "      <th>Colorado</th>\n",
              "      <th>Texas</th>\n",
              "      <th>New York</th>\n",
              "      <th>Ohio</th>\n",
              "    </tr>\n",
              "  </thead>\n",
              "  <tbody>\n",
              "    <tr>\n",
              "      <th>2000Q4</th>\n",
              "      <td>0.355145</td>\n",
              "      <td>0.223357</td>\n",
              "      <td>-0.168971</td>\n",
              "      <td>-0.115701</td>\n",
              "    </tr>\n",
              "    <tr>\n",
              "      <th>2001Q1</th>\n",
              "      <td>0.355145</td>\n",
              "      <td>0.223357</td>\n",
              "      <td>-0.168971</td>\n",
              "      <td>-0.115701</td>\n",
              "    </tr>\n",
              "    <tr>\n",
              "      <th>2001Q2</th>\n",
              "      <td>0.355145</td>\n",
              "      <td>0.223357</td>\n",
              "      <td>-0.168971</td>\n",
              "      <td>-0.115701</td>\n",
              "    </tr>\n",
              "    <tr>\n",
              "      <th>2001Q3</th>\n",
              "      <td>0.355145</td>\n",
              "      <td>0.223357</td>\n",
              "      <td>-0.168971</td>\n",
              "      <td>-0.115701</td>\n",
              "    </tr>\n",
              "    <tr>\n",
              "      <th>2001Q4</th>\n",
              "      <td>0.314388</td>\n",
              "      <td>-0.535912</td>\n",
              "      <td>0.396423</td>\n",
              "      <td>-0.114194</td>\n",
              "    </tr>\n",
              "    <tr>\n",
              "      <th>2002Q1</th>\n",
              "      <td>0.314388</td>\n",
              "      <td>-0.535912</td>\n",
              "      <td>0.396423</td>\n",
              "      <td>-0.114194</td>\n",
              "    </tr>\n",
              "    <tr>\n",
              "      <th>2002Q2</th>\n",
              "      <td>0.314388</td>\n",
              "      <td>-0.535912</td>\n",
              "      <td>0.396423</td>\n",
              "      <td>-0.114194</td>\n",
              "    </tr>\n",
              "    <tr>\n",
              "      <th>2002Q3</th>\n",
              "      <td>0.314388</td>\n",
              "      <td>-0.535912</td>\n",
              "      <td>0.396423</td>\n",
              "      <td>-0.114194</td>\n",
              "    </tr>\n",
              "  </tbody>\n",
              "</table>\n",
              "</div>"
            ],
            "text/plain": [
              "        Colorado     Texas  New York      Ohio\n",
              "2000Q4  0.355145  0.223357 -0.168971 -0.115701\n",
              "2001Q1  0.355145  0.223357 -0.168971 -0.115701\n",
              "2001Q2  0.355145  0.223357 -0.168971 -0.115701\n",
              "2001Q3  0.355145  0.223357 -0.168971 -0.115701\n",
              "2001Q4  0.314388 -0.535912  0.396423 -0.114194\n",
              "2002Q1  0.314388 -0.535912  0.396423 -0.114194\n",
              "2002Q2  0.314388 -0.535912  0.396423 -0.114194\n",
              "2002Q3  0.314388 -0.535912  0.396423 -0.114194"
            ]
          },
          "metadata": {},
          "execution_count": 150
        }
      ]
    },
    {
      "cell_type": "markdown",
      "metadata": {
        "id": "I_GrlyL0D8Gt"
      },
      "source": [
        "# **Função de janela móvel**"
      ]
    },
    {
      "cell_type": "code",
      "metadata": {
        "id": "DKkXVkbSCXcO"
      },
      "source": [
        "close_px_all = pd.read_csv('/content/drive/MyDrive/dados_pandas/pydata-book-2nd-edition/examples/stock_px_2.csv', parse_dates=True, index_col=0)\n",
        "close_px = close_px_all[['AAPL','MSFT','XOM']]\n",
        "close_px = close_px.resample('B').ffill()"
      ],
      "execution_count": 151,
      "outputs": []
    },
    {
      "cell_type": "code",
      "metadata": {
        "colab": {
          "base_uri": "https://localhost:8080/",
          "height": 282
        },
        "id": "jr8gBt6GEg5Q",
        "outputId": "1c4521e7-9fc0-496f-f430-d18224be2088"
      },
      "source": [
        "close_px.AAPL.plot()"
      ],
      "execution_count": 152,
      "outputs": [
        {
          "output_type": "execute_result",
          "data": {
            "text/plain": [
              "<matplotlib.axes._subplots.AxesSubplot at 0x7fb2a9c5b910>"
            ]
          },
          "metadata": {},
          "execution_count": 152
        },
        {
          "output_type": "display_data",
          "data": {
            "image/png": "[encoded data removed]",
            "text/plain": [
              "<Figure size 432x288 with 1 Axes>"
            ]
          },
          "metadata": {
            "needs_background": "light"
          }
        }
      ]
    },
    {
      "cell_type": "code",
      "metadata": {
        "colab": {
          "base_uri": "https://localhost:8080/",
          "height": 282
        },
        "id": "m0xxbp-DEoym",
        "outputId": "123d488d-7236-45eb-ad01-3dee4a3e197d"
      },
      "source": [
        "#Preço da Apple com média móvel de 250 dias\n",
        "close_px.AAPL.rolling(250).mean().plot()"
      ],
      "execution_count": 153,
      "outputs": [
        {
          "output_type": "execute_result",
          "data": {
            "text/plain": [
              "<matplotlib.axes._subplots.AxesSubplot at 0x7fb2a967aa10>"
            ]
          },
          "metadata": {},
          "execution_count": 153
        },
        {
          "output_type": "display_data",
          "data": {
            "image/png": "[encoded data removed]",
            "text/plain": [
              "<Figure size 432x288 with 1 Axes>"
            ]
          },
          "metadata": {
            "needs_background": "light"
          }
        }
      ]
    },
    {
      "cell_type": "code",
      "metadata": {
        "colab": {
          "base_uri": "https://localhost:8080/"
        },
        "id": "WceTsHJKExA2",
        "outputId": "a8edf617-52d3-4168-b22a-5acb9c712caf"
      },
      "source": [
        "appl_std250 = close_px.AAPL.rolling(250, min_periods=10).std()\n",
        "appl_std250[5:12]"
      ],
      "execution_count": 154,
      "outputs": [
        {
          "output_type": "execute_result",
          "data": {
            "text/plain": [
              "2003-01-09         NaN\n",
              "2003-01-10         NaN\n",
              "2003-01-13         NaN\n",
              "2003-01-14         NaN\n",
              "2003-01-15    0.077496\n",
              "2003-01-16    0.074760\n",
              "2003-01-17    0.112368\n",
              "Freq: B, Name: AAPL, dtype: float64"
            ]
          },
          "metadata": {},
          "execution_count": 154
        }
      ]
    },
    {
      "cell_type": "code",
      "metadata": {
        "colab": {
          "base_uri": "https://localhost:8080/",
          "height": 282
        },
        "id": "_X5C79xhGSCe",
        "outputId": "04ada602-205a-4bbd-f287-3df3f352a151"
      },
      "source": [
        "appl_std250.plot()"
      ],
      "execution_count": 155,
      "outputs": [
        {
          "output_type": "execute_result",
          "data": {
            "text/plain": [
              "<matplotlib.axes._subplots.AxesSubplot at 0x7fb2a953cb10>"
            ]
          },
          "metadata": {},
          "execution_count": 155
        },
        {
          "output_type": "display_data",
          "data": {
            "image/png": "[encoded data removed]",
            "text/plain": [
              "<Figure size 432x288 with 1 Axes>"
            ]
          },
          "metadata": {
            "needs_background": "light"
          }
        }
      ]
    },
    {
      "cell_type": "code",
      "metadata": {
        "colab": {
          "base_uri": "https://localhost:8080/",
          "height": 282
        },
        "id": "W4tYm1lTGW6H",
        "outputId": "2deedcf6-dcbd-48ef-8dfd-1efd84043e53"
      },
      "source": [
        "expanding_mean = appl_std250.expanding().mean()\n",
        "close_px.rolling(60).mean().plot(logy=True)"
      ],
      "execution_count": 157,
      "outputs": [
        {
          "output_type": "execute_result",
          "data": {
            "text/plain": [
              "<matplotlib.axes._subplots.AxesSubplot at 0x7fb2a9402410>"
            ]
          },
          "metadata": {},
          "execution_count": 157
        },
        {
          "output_type": "display_data",
          "data": {
            "image/png": "[encoded data removed]",
            "text/plain": [
              "<Figure size 432x288 with 1 Axes>"
            ]
          },
          "metadata": {
            "needs_background": "light"
          }
        }
      ]
    },
    {
      "cell_type": "code",
      "metadata": {
        "colab": {
          "base_uri": "https://localhost:8080/",
          "height": 423
        },
        "id": "wTxUYDVnGn93",
        "outputId": "fce81eac-708d-48bb-e22b-47b969fb3749"
      },
      "source": [
        "#Calcular uma média móvel de 20 dias\n",
        "close_px.rolling('20D').mean()"
      ],
      "execution_count": 158,
      "outputs": [
        {
          "output_type": "execute_result",
          "data": {
            "text/html": [
              "<div>\n",
              "<style scoped>\n",
              "    .dataframe tbody tr th:only-of-type {\n",
              "        vertical-align: middle;\n",
              "    }\n",
              "\n",
              "    .dataframe tbody tr th {\n",
              "        vertical-align: top;\n",
              "    }\n",
              "\n",
              "    .dataframe thead th {\n",
              "        text-align: right;\n",
              "    }\n",
              "</style>\n",
              "<table border=\"1\" class=\"dataframe\">\n",
              "  <thead>\n",
              "    <tr style=\"text-align: right;\">\n",
              "      <th></th>\n",
              "      <th>AAPL</th>\n",
              "      <th>MSFT</th>\n",
              "      <th>XOM</th>\n",
              "    </tr>\n",
              "  </thead>\n",
              "  <tbody>\n",
              "    <tr>\n",
              "      <th>2003-01-02</th>\n",
              "      <td>7.400000</td>\n",
              "      <td>21.110000</td>\n",
              "      <td>29.220000</td>\n",
              "    </tr>\n",
              "    <tr>\n",
              "      <th>2003-01-03</th>\n",
              "      <td>7.425000</td>\n",
              "      <td>21.125000</td>\n",
              "      <td>29.230000</td>\n",
              "    </tr>\n",
              "    <tr>\n",
              "      <th>2003-01-06</th>\n",
              "      <td>7.433333</td>\n",
              "      <td>21.256667</td>\n",
              "      <td>29.473333</td>\n",
              "    </tr>\n",
              "    <tr>\n",
              "      <th>2003-01-07</th>\n",
              "      <td>7.432500</td>\n",
              "      <td>21.425000</td>\n",
              "      <td>29.342500</td>\n",
              "    </tr>\n",
              "    <tr>\n",
              "      <th>2003-01-08</th>\n",
              "      <td>7.402000</td>\n",
              "      <td>21.402000</td>\n",
              "      <td>29.240000</td>\n",
              "    </tr>\n",
              "    <tr>\n",
              "      <th>...</th>\n",
              "      <td>...</td>\n",
              "      <td>...</td>\n",
              "      <td>...</td>\n",
              "    </tr>\n",
              "    <tr>\n",
              "      <th>2011-10-10</th>\n",
              "      <td>389.351429</td>\n",
              "      <td>25.602143</td>\n",
              "      <td>72.527857</td>\n",
              "    </tr>\n",
              "    <tr>\n",
              "      <th>2011-10-11</th>\n",
              "      <td>388.505000</td>\n",
              "      <td>25.674286</td>\n",
              "      <td>72.835000</td>\n",
              "    </tr>\n",
              "    <tr>\n",
              "      <th>2011-10-12</th>\n",
              "      <td>388.531429</td>\n",
              "      <td>25.810000</td>\n",
              "      <td>73.400714</td>\n",
              "    </tr>\n",
              "    <tr>\n",
              "      <th>2011-10-13</th>\n",
              "      <td>388.826429</td>\n",
              "      <td>25.961429</td>\n",
              "      <td>73.905000</td>\n",
              "    </tr>\n",
              "    <tr>\n",
              "      <th>2011-10-14</th>\n",
              "      <td>391.038000</td>\n",
              "      <td>26.048667</td>\n",
              "      <td>74.185333</td>\n",
              "    </tr>\n",
              "  </tbody>\n",
              "</table>\n",
              "<p>2292 rows × 3 columns</p>\n",
              "</div>"
            ],
            "text/plain": [
              "                  AAPL       MSFT        XOM\n",
              "2003-01-02    7.400000  21.110000  29.220000\n",
              "2003-01-03    7.425000  21.125000  29.230000\n",
              "2003-01-06    7.433333  21.256667  29.473333\n",
              "2003-01-07    7.432500  21.425000  29.342500\n",
              "2003-01-08    7.402000  21.402000  29.240000\n",
              "...                ...        ...        ...\n",
              "2011-10-10  389.351429  25.602143  72.527857\n",
              "2011-10-11  388.505000  25.674286  72.835000\n",
              "2011-10-12  388.531429  25.810000  73.400714\n",
              "2011-10-13  388.826429  25.961429  73.905000\n",
              "2011-10-14  391.038000  26.048667  74.185333\n",
              "\n",
              "[2292 rows x 3 columns]"
            ]
          },
          "metadata": {},
          "execution_count": 158
        }
      ]
    },
    {
      "cell_type": "markdown",
      "metadata": {
        "id": "ceT8Eg4pHCvJ"
      },
      "source": [
        "**Funções exponencialmente ponderadas**"
      ]
    },
    {
      "cell_type": "code",
      "metadata": {
        "id": "gHbBIKqSJk5D"
      },
      "source": [
        "plt.figure()"
      ],
      "execution_count": null,
      "outputs": []
    },
    {
      "cell_type": "code",
      "metadata": {
        "colab": {
          "base_uri": "https://localhost:8080/",
          "height": 294
        },
        "id": "jS0W-POUHA6v",
        "outputId": "ddce061d-805d-4d59-995c-68cb2edf85c9"
      },
      "source": [
        "aapl_apx = close_px.AAPL['2006':'2007']\n",
        "ma60 = aapl_apx.rolling(30, min_periods = 20).mean()\n",
        "ewma60 = aapl_apx.ewm(span=30).mean()\n",
        "ma60.plot(style='k--', label='Simple MA')\n",
        "ewma60.plot(style='k-', label = 'EW MA')\n",
        "plt.legend()"
      ],
      "execution_count": 167,
      "outputs": [
        {
          "output_type": "execute_result",
          "data": {
            "text/plain": [
              "<matplotlib.legend.Legend at 0x7fb2a8ede790>"
            ]
          },
          "metadata": {},
          "execution_count": 167
        },
        {
          "output_type": "display_data",
          "data": {
            "image/png": "[encoded data removed]",
            "text/plain": [
              "<Figure size 432x288 with 1 Axes>"
            ]
          },
          "metadata": {
            "needs_background": "light"
          }
        }
      ]
    },
    {
      "cell_type": "markdown",
      "metadata": {
        "id": "-3hsiZrrKDjs"
      },
      "source": [
        "**Funções de janela móvel binárias**"
      ]
    },
    {
      "cell_type": "code",
      "metadata": {
        "colab": {
          "base_uri": "https://localhost:8080/",
          "height": 282
        },
        "id": "8_K3FeRSI36o",
        "outputId": "942a3098-5868-429f-abe2-1dfe605b562d"
      },
      "source": [
        "spx_px = close_px_all['SPX']\n",
        "spx_rets = spx_px.pct_change()\n",
        "returns = close_px.pct_change()\n",
        "\n",
        "#calculo de correlação entre o retorno de AAPL e o S&P 500 em seis meses\n",
        "corr = returns.AAPL.rolling(125, min_periods=100).corr(spx_rets)\n",
        "corr.plot()"
      ],
      "execution_count": 170,
      "outputs": [
        {
          "output_type": "execute_result",
          "data": {
            "text/plain": [
              "<matplotlib.axes._subplots.AxesSubplot at 0x7fb2a8e2c510>"
            ]
          },
          "metadata": {},
          "execution_count": 170
        },
        {
          "output_type": "display_data",
          "data": {
            "image/png": "[encoded data removed]",
            "text/plain": [
              "<Figure size 432x288 with 1 Axes>"
            ]
          },
          "metadata": {
            "needs_background": "light"
          }
        }
      ]
    },
    {
      "cell_type": "code",
      "metadata": {
        "colab": {
          "base_uri": "https://localhost:8080/",
          "height": 282
        },
        "id": "TnYMBIG5NF8A",
        "outputId": "f165d2b5-6dfe-452a-c8f0-f7f929820d64"
      },
      "source": [
        "#Correlações de retorno com S&P em seis meses\n",
        "\n",
        "corr = returns.rolling(125, min_periods=100).corr(spx_rets)\n",
        "corr.plot()"
      ],
      "execution_count": 171,
      "outputs": [
        {
          "output_type": "execute_result",
          "data": {
            "text/plain": [
              "<matplotlib.axes._subplots.AxesSubplot at 0x7fb2a8f1bc50>"
            ]
          },
          "metadata": {},
          "execution_count": 171
        },
        {
          "output_type": "display_data",
          "data": {
            "image/png": "[encoded data removed]",
            "text/plain": [
              "<Figure size 432x288 with 1 Axes>"
            ]
          },
          "metadata": {
            "needs_background": "light"
          }
        }
      ]
    },
    {
      "cell_type": "markdown",
      "metadata": {
        "id": "UuxFI4k7N2kS"
      },
      "source": [
        "**Funções de janela móvel definidas pelo usuário**"
      ]
    },
    {
      "cell_type": "code",
      "metadata": {
        "colab": {
          "base_uri": "https://localhost:8080/",
          "height": 282
        },
        "id": "BXotKv_7Ntao",
        "outputId": "e309fc74-e2ac-4037-da9a-ed06e8dbad54"
      },
      "source": [
        "#from scipy.stats import percentileofscore lá em cima\n",
        "#Classificação de percentil de 2% de retorno da AAPL durante uma janela de um ano\n",
        "score_at_2percent = lambda x: percentileofscore(x, 0.02)\n",
        "result = returns.AAPL.rolling(250).apply(score_at_2percent)\n",
        "result.plot()"
      ],
      "execution_count": 173,
      "outputs": [
        {
          "output_type": "execute_result",
          "data": {
            "text/plain": [
              "<matplotlib.axes._subplots.AxesSubplot at 0x7fb29aaa4250>"
            ]
          },
          "metadata": {},
          "execution_count": 173
        },
        {
          "output_type": "display_data",
          "data": {
            "image/png": "[encoded data removed]",
            "text/plain": [
              "<Figure size 432x288 with 1 Axes>"
            ]
          },
          "metadata": {
            "needs_background": "light"
          }
        }
      ]
    }
  ]
}