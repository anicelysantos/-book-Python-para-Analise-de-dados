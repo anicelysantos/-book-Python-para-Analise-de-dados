{
  "nbformat": 4,
  "nbformat_minor": 0,
  "metadata": {
    "colab": {
      "name": "series_temporais.ipynb",
      "provenance": [],
      "authorship_tag": "ABX9TyMtjLouthzLKO7lw2bQz0uh",
      "include_colab_link": true
    },
    "kernelspec": {
      "name": "python3",
      "display_name": "Python 3"
    },
    "language_info": {
      "name": "python"
    }
  },
  "cells": [
    {
      "cell_type": "markdown",
      "metadata": {
        "id": "view-in-github",
        "colab_type": "text"
      },
      "source": [
        "<a href=\"https://colab.research.google.com/github/anicelysantos/book-python-para-analise-de-dados/blob/main/series_temporais.ipynb\" target=\"_parent\"><img src=\"https://colab.research.google.com/assets/colab-badge.svg\" alt=\"Open In Colab\"/></a>"
      ]
    },
    {
      "cell_type": "markdown",
      "metadata": {
        "id": "qU3s08R17TBT"
      },
      "source": [
        "*Estudos do livro \"Python para análise de dados\" cap. 11*"
      ]
    },
    {
      "cell_type": "markdown",
      "metadata": {
        "id": "Rt3Hpvhv8pZM"
      },
      "source": [
        "# **Imports**"
      ]
    },
    {
      "cell_type": "code",
      "metadata": {
        "id": "roRvEA4N8q9E"
      },
      "source": [
        "import pandas as pd\n",
        "import numpy as np\n",
        "from datetime import datetime\n",
        "from datetime import timedelta\n",
        "from dateutil.parser import parse\n",
        "from pandas.tseries.offsets import Hour, Minute\n",
        "from pandas.tseries.offsets import Day, MonthEnd\n",
        "import pytz\n",
        "from pandas.tseries.offsets import Hour"
      ],
      "execution_count": 1,
      "outputs": []
    },
    {
      "cell_type": "markdown",
      "metadata": {
        "id": "nILNYgEB8VpL"
      },
      "source": [
        "# **Tipos de dados e ferramentas para data e hora**"
      ]
    },
    {
      "cell_type": "code",
      "metadata": {
        "colab": {
          "base_uri": "https://localhost:8080/"
        },
        "id": "aAlqzcaU7OhZ",
        "outputId": "ff10c31a-16b4-4e92-d3c1-0b2d3d5b1424"
      },
      "source": [
        "now = datetime.now()\n",
        "now"
      ],
      "execution_count": 2,
      "outputs": [
        {
          "output_type": "execute_result",
          "data": {
            "text/plain": [
              "datetime.datetime(2021, 9, 27, 20, 9, 4, 673982)"
            ]
          },
          "metadata": {},
          "execution_count": 2
        }
      ]
    },
    {
      "cell_type": "code",
      "metadata": {
        "colab": {
          "base_uri": "https://localhost:8080/"
        },
        "id": "fXnwbs2E83ZQ",
        "outputId": "eeca8d94-0525-4fa9-de08-98597a43f447"
      },
      "source": [
        "#now.year, now.month, now.day\n",
        "now.day, now.month, now.year"
      ],
      "execution_count": 3,
      "outputs": [
        {
          "output_type": "execute_result",
          "data": {
            "text/plain": [
              "(27, 9, 2021)"
            ]
          },
          "metadata": {},
          "execution_count": 3
        }
      ]
    },
    {
      "cell_type": "code",
      "metadata": {
        "colab": {
          "base_uri": "https://localhost:8080/"
        },
        "id": "7RJyhdKY9DmX",
        "outputId": "b3f1651f-3000-41ee-d7bf-0ac6d8a3178a"
      },
      "source": [
        "#import lá em cima timedelta\n",
        "#timedelta mostra a diferença de tempo entre dois objetos datetime\n",
        "\n",
        "delta = datetime(2011, 1, 7) - datetime(2008, 6, 24, 8, 15)\n",
        "delta"
      ],
      "execution_count": 4,
      "outputs": [
        {
          "output_type": "execute_result",
          "data": {
            "text/plain": [
              "datetime.timedelta(days=926, seconds=56700)"
            ]
          },
          "metadata": {},
          "execution_count": 4
        }
      ]
    },
    {
      "cell_type": "code",
      "metadata": {
        "colab": {
          "base_uri": "https://localhost:8080/"
        },
        "id": "Z9Gm9gv-9eFV",
        "outputId": "5cd8f047-a436-4456-a463-0c8310552284"
      },
      "source": [
        "delta.days"
      ],
      "execution_count": 5,
      "outputs": [
        {
          "output_type": "execute_result",
          "data": {
            "text/plain": [
              "926"
            ]
          },
          "metadata": {},
          "execution_count": 5
        }
      ]
    },
    {
      "cell_type": "code",
      "metadata": {
        "colab": {
          "base_uri": "https://localhost:8080/"
        },
        "id": "XiE945pD9lwd",
        "outputId": "5a81cb87-aca5-42d2-b04a-bd14cfef59fa"
      },
      "source": [
        "delta.seconds"
      ],
      "execution_count": 6,
      "outputs": [
        {
          "output_type": "execute_result",
          "data": {
            "text/plain": [
              "56700"
            ]
          },
          "metadata": {},
          "execution_count": 6
        }
      ]
    },
    {
      "cell_type": "code",
      "metadata": {
        "colab": {
          "base_uri": "https://localhost:8080/"
        },
        "id": "4_DiakAV9sbo",
        "outputId": "ccc1c2fb-0577-4dfb-9cb6-d5a8bd6bdcc1"
      },
      "source": [
        "start = datetime(2011,1,7)\n",
        "start + timedelta(12)"
      ],
      "execution_count": 7,
      "outputs": [
        {
          "output_type": "execute_result",
          "data": {
            "text/plain": [
              "datetime.datetime(2011, 1, 19, 0, 0)"
            ]
          },
          "metadata": {},
          "execution_count": 7
        }
      ]
    },
    {
      "cell_type": "code",
      "metadata": {
        "colab": {
          "base_uri": "https://localhost:8080/"
        },
        "id": "UqVlOTKD-T1W",
        "outputId": "b8efb3e8-a578-4f31-a00d-b5b70629b7dc"
      },
      "source": [
        "start - 2 * timedelta(12)\n"
      ],
      "execution_count": 8,
      "outputs": [
        {
          "output_type": "execute_result",
          "data": {
            "text/plain": [
              "datetime.datetime(2010, 12, 14, 0, 0)"
            ]
          },
          "metadata": {},
          "execution_count": 8
        }
      ]
    },
    {
      "cell_type": "markdown",
      "metadata": {
        "id": "SQrMWxQgDauW"
      },
      "source": [
        "**Conversão entre string e datetime**"
      ]
    },
    {
      "cell_type": "code",
      "metadata": {
        "colab": {
          "base_uri": "https://localhost:8080/",
          "height": 0
        },
        "id": "kEkoELlM-34z",
        "outputId": "de67baa6-db25-4cb2-aead-e8dc9baaacb4"
      },
      "source": [
        "stamp = datetime(2011, 1, 3)\n",
        "str(stamp)"
      ],
      "execution_count": 9,
      "outputs": [
        {
          "output_type": "execute_result",
          "data": {
            "application/vnd.google.colaboratory.intrinsic+json": {
              "type": "string"
            },
            "text/plain": [
              "'2011-01-03 00:00:00'"
            ]
          },
          "metadata": {},
          "execution_count": 9
        }
      ]
    },
    {
      "cell_type": "code",
      "metadata": {
        "colab": {
          "base_uri": "https://localhost:8080/",
          "height": 0
        },
        "id": "1yS9ohZmHmEl",
        "outputId": "5ac6cea4-5bbd-4f3a-f25a-d4aeb7866bce"
      },
      "source": [
        "#stamp.strftime('%Y-%m-%d')\n",
        "stamp.strftime('%F') #mesma coisa de cima"
      ],
      "execution_count": 10,
      "outputs": [
        {
          "output_type": "execute_result",
          "data": {
            "application/vnd.google.colaboratory.intrinsic+json": {
              "type": "string"
            },
            "text/plain": [
              "'2011-01-03'"
            ]
          },
          "metadata": {},
          "execution_count": 10
        }
      ]
    },
    {
      "cell_type": "code",
      "metadata": {
        "id": "PXFfZiLfH2KM"
      },
      "source": [
        "value = '2011-01-03'"
      ],
      "execution_count": 11,
      "outputs": []
    },
    {
      "cell_type": "code",
      "metadata": {
        "colab": {
          "base_uri": "https://localhost:8080/"
        },
        "id": "nS4qmiN_TA05",
        "outputId": "29b4f739-83ff-462a-a211-4b5144bf2c4b"
      },
      "source": [
        "datetime.strptime(value, '%Y-%m-%d')"
      ],
      "execution_count": 12,
      "outputs": [
        {
          "output_type": "execute_result",
          "data": {
            "text/plain": [
              "datetime.datetime(2011, 1, 3, 0, 0)"
            ]
          },
          "metadata": {},
          "execution_count": 12
        }
      ]
    },
    {
      "cell_type": "code",
      "metadata": {
        "colab": {
          "base_uri": "https://localhost:8080/"
        },
        "id": "nnasMwKITE1m",
        "outputId": "5d183e11-c752-4428-8da5-09de0da8b9dd"
      },
      "source": [
        "datestrs = ['9/19/2021','9/20/2020']\n",
        "[datetime.strptime(x, '%m/%d/%Y') for x in datestrs]"
      ],
      "execution_count": 13,
      "outputs": [
        {
          "output_type": "execute_result",
          "data": {
            "text/plain": [
              "[datetime.datetime(2021, 9, 19, 0, 0), datetime.datetime(2020, 9, 20, 0, 0)]"
            ]
          },
          "metadata": {},
          "execution_count": 13
        }
      ]
    },
    {
      "cell_type": "code",
      "metadata": {
        "colab": {
          "base_uri": "https://localhost:8080/"
        },
        "id": "gpMcLaeNTpSq",
        "outputId": "d6c512c9-5300-4536-8b59-79b5ab1712e9"
      },
      "source": [
        "#Import do parse lá no inicio\n",
        "parse('21-09-2021')"
      ],
      "execution_count": 14,
      "outputs": [
        {
          "output_type": "execute_result",
          "data": {
            "text/plain": [
              "datetime.datetime(2021, 9, 21, 0, 0)"
            ]
          },
          "metadata": {},
          "execution_count": 14
        }
      ]
    },
    {
      "cell_type": "code",
      "metadata": {
        "id": "c4MSEvVnUMKh",
        "colab": {
          "base_uri": "https://localhost:8080/"
        },
        "outputId": "3dd12f1f-e6cf-4999-fd00-b8f24d26997c"
      },
      "source": [
        "parse('Sep 21, 2021 09:02 AM')"
      ],
      "execution_count": 15,
      "outputs": [
        {
          "output_type": "execute_result",
          "data": {
            "text/plain": [
              "datetime.datetime(2021, 9, 21, 9, 2)"
            ]
          },
          "metadata": {},
          "execution_count": 15
        }
      ]
    },
    {
      "cell_type": "code",
      "metadata": {
        "colab": {
          "base_uri": "https://localhost:8080/"
        },
        "id": "5Hrvi8aiPQd8",
        "outputId": "68838e8b-6087-485d-a7de-961d829404ce"
      },
      "source": [
        "#Dia antes do mês, padrão Brasil\n",
        "parse('21/09/2021', dayfirst=True)"
      ],
      "execution_count": 16,
      "outputs": [
        {
          "output_type": "execute_result",
          "data": {
            "text/plain": [
              "datetime.datetime(2021, 9, 21, 0, 0)"
            ]
          },
          "metadata": {},
          "execution_count": 16
        }
      ]
    },
    {
      "cell_type": "code",
      "metadata": {
        "colab": {
          "base_uri": "https://localhost:8080/"
        },
        "id": "DHgtlE1IPZ0_",
        "outputId": "965ba958-ce79-4c91-f965-5fecc0a2b201"
      },
      "source": [
        "datastrs = ['2021-09-21 09:04:00', '2021-09-21 09:05:00']\n",
        "pd.to_datetime(datastrs)"
      ],
      "execution_count": 17,
      "outputs": [
        {
          "output_type": "execute_result",
          "data": {
            "text/plain": [
              "DatetimeIndex(['2021-09-21 09:04:00', '2021-09-21 09:05:00'], dtype='datetime64[ns]', freq=None)"
            ]
          },
          "metadata": {},
          "execution_count": 17
        }
      ]
    },
    {
      "cell_type": "code",
      "metadata": {
        "colab": {
          "base_uri": "https://localhost:8080/"
        },
        "id": "v6l5X6OBP5Xh",
        "outputId": "f31a1215-731f-405d-cf63-c5dbd4f3d4e0"
      },
      "source": [
        "#Lidar com dados ausentes (None)\n",
        "idx = pd.to_datetime(datestrs + [None])\n",
        "idx"
      ],
      "execution_count": 18,
      "outputs": [
        {
          "output_type": "execute_result",
          "data": {
            "text/plain": [
              "DatetimeIndex(['2021-09-19', '2020-09-20', 'NaT'], dtype='datetime64[ns]', freq=None)"
            ]
          },
          "metadata": {},
          "execution_count": 18
        }
      ]
    },
    {
      "cell_type": "code",
      "metadata": {
        "colab": {
          "base_uri": "https://localhost:8080/"
        },
        "id": "GDl2vWwoQLWy",
        "outputId": "400aa510-764d-4e15-c8c1-7b238899f002"
      },
      "source": [
        "#NaT é o valor nulo do pandas para tempo/data (dados de timestamp)\n",
        "idx[2]"
      ],
      "execution_count": 19,
      "outputs": [
        {
          "output_type": "execute_result",
          "data": {
            "text/plain": [
              "NaT"
            ]
          },
          "metadata": {},
          "execution_count": 19
        }
      ]
    },
    {
      "cell_type": "code",
      "metadata": {
        "colab": {
          "base_uri": "https://localhost:8080/"
        },
        "id": "8pciCTjdQbIU",
        "outputId": "99e245a5-8dc1-4e84-9820-d633c8366323"
      },
      "source": [
        "pd.isnull(idx)"
      ],
      "execution_count": 20,
      "outputs": [
        {
          "output_type": "execute_result",
          "data": {
            "text/plain": [
              "array([False, False,  True])"
            ]
          },
          "metadata": {},
          "execution_count": 20
        }
      ]
    },
    {
      "cell_type": "markdown",
      "metadata": {
        "id": "7XtK_VweRoDr"
      },
      "source": [
        "# **Básico sobre séries temporais**"
      ]
    },
    {
      "cell_type": "code",
      "metadata": {
        "id": "UVzkp-WUQdGX"
      },
      "source": [
        "#import datetime no inicio\n",
        "dates = [datetime(2011, 1, 2), datetime(2011, 1, 5), datetime(2011, 1, 7), datetime(2011, 1, 8), datetime(2011,1,10), datetime(2011, 1, 12)]"
      ],
      "execution_count": 21,
      "outputs": []
    },
    {
      "cell_type": "code",
      "metadata": {
        "colab": {
          "base_uri": "https://localhost:8080/"
        },
        "id": "6pBZ6Mq4UfU-",
        "outputId": "b5ab36d5-d833-4062-9a34-8fc1d67f3e10"
      },
      "source": [
        "ts = pd.Series(np.random.randn(6), index=dates)\n",
        "ts"
      ],
      "execution_count": 22,
      "outputs": [
        {
          "output_type": "execute_result",
          "data": {
            "text/plain": [
              "2011-01-02    0.037676\n",
              "2011-01-05   -0.730957\n",
              "2011-01-07    0.739686\n",
              "2011-01-08    0.472667\n",
              "2011-01-10   -1.454128\n",
              "2011-01-12   -0.426516\n",
              "dtype: float64"
            ]
          },
          "metadata": {},
          "execution_count": 22
        }
      ]
    },
    {
      "cell_type": "code",
      "metadata": {
        "colab": {
          "base_uri": "https://localhost:8080/"
        },
        "id": "85_4AyetUmaW",
        "outputId": "a7632a8a-564e-475e-83f1-02d38e86106e"
      },
      "source": [
        "ts.index"
      ],
      "execution_count": 23,
      "outputs": [
        {
          "output_type": "execute_result",
          "data": {
            "text/plain": [
              "DatetimeIndex(['2011-01-02', '2011-01-05', '2011-01-07', '2011-01-08',\n",
              "               '2011-01-10', '2011-01-12'],\n",
              "              dtype='datetime64[ns]', freq=None)"
            ]
          },
          "metadata": {},
          "execution_count": 23
        }
      ]
    },
    {
      "cell_type": "code",
      "metadata": {
        "colab": {
          "base_uri": "https://localhost:8080/"
        },
        "id": "7AI5D0V2Ux8_",
        "outputId": "cdbcf0af-a662-412f-f993-bbc29bd66b2a"
      },
      "source": [
        "#[::2]seleciona um elemento a cada dois\n",
        "ts + ts[::2]"
      ],
      "execution_count": 24,
      "outputs": [
        {
          "output_type": "execute_result",
          "data": {
            "text/plain": [
              "2011-01-02    0.075352\n",
              "2011-01-05         NaN\n",
              "2011-01-07    1.479373\n",
              "2011-01-08         NaN\n",
              "2011-01-10   -2.908255\n",
              "2011-01-12         NaN\n",
              "dtype: float64"
            ]
          },
          "metadata": {},
          "execution_count": 24
        }
      ]
    },
    {
      "cell_type": "code",
      "metadata": {
        "colab": {
          "base_uri": "https://localhost:8080/"
        },
        "id": "AiUvtiD3U4UH",
        "outputId": "65bc84fa-919e-405c-f0fa-fbb5e7c7cbc2"
      },
      "source": [
        "ts.index.dtype"
      ],
      "execution_count": 25,
      "outputs": [
        {
          "output_type": "execute_result",
          "data": {
            "text/plain": [
              "dtype('<M8[ns]')"
            ]
          },
          "metadata": {},
          "execution_count": 25
        }
      ]
    },
    {
      "cell_type": "code",
      "metadata": {
        "colab": {
          "base_uri": "https://localhost:8080/"
        },
        "id": "w5z_7YThVJv3",
        "outputId": "370bf5e9-e60d-483f-f188-bb4f3dc8b5b0"
      },
      "source": [
        "stamp = ts.index[0]\n",
        "stamp"
      ],
      "execution_count": 26,
      "outputs": [
        {
          "output_type": "execute_result",
          "data": {
            "text/plain": [
              "Timestamp('2011-01-02 00:00:00')"
            ]
          },
          "metadata": {},
          "execution_count": 26
        }
      ]
    },
    {
      "cell_type": "markdown",
      "metadata": {
        "id": "BLRtURPFVbOy"
      },
      "source": [
        "**Indexação, seleção e geração de subconjuntos**"
      ]
    },
    {
      "cell_type": "code",
      "metadata": {
        "colab": {
          "base_uri": "https://localhost:8080/"
        },
        "id": "Vh0vpj3BVNWH",
        "outputId": "4accb8a4-23e3-44d9-f934-4cb070733626"
      },
      "source": [
        "stamp = ts.index[2]\n",
        "ts[stamp]"
      ],
      "execution_count": 27,
      "outputs": [
        {
          "output_type": "execute_result",
          "data": {
            "text/plain": [
              "0.7396864384284597"
            ]
          },
          "metadata": {},
          "execution_count": 27
        }
      ]
    },
    {
      "cell_type": "code",
      "metadata": {
        "colab": {
          "base_uri": "https://localhost:8080/"
        },
        "id": "HG1kMmGMVlrX",
        "outputId": "07db75d4-97fb-4b30-c074-47782ab36f86"
      },
      "source": [
        "#Passar uma string para ser interpretada como data\n",
        "ts['1/10/2011']"
      ],
      "execution_count": 28,
      "outputs": [
        {
          "output_type": "execute_result",
          "data": {
            "text/plain": [
              "-1.4541275011644044"
            ]
          },
          "metadata": {},
          "execution_count": 28
        }
      ]
    },
    {
      "cell_type": "code",
      "metadata": {
        "colab": {
          "base_uri": "https://localhost:8080/"
        },
        "id": "XFTGvpSKV_dg",
        "outputId": "0064bc48-7b5b-4230-97f7-8e5e6ef79cb3"
      },
      "source": [
        "ts['20110110']"
      ],
      "execution_count": 29,
      "outputs": [
        {
          "output_type": "execute_result",
          "data": {
            "text/plain": [
              "-1.4541275011644044"
            ]
          },
          "metadata": {},
          "execution_count": 29
        }
      ]
    },
    {
      "cell_type": "code",
      "metadata": {
        "colab": {
          "base_uri": "https://localhost:8080/"
        },
        "id": "3BndCk-dWGQQ",
        "outputId": "388f84c3-463c-4393-f151-31563299f2b9"
      },
      "source": [
        "#series temporais mais longas podem selecionar o ano ou só o ano e o mês para trazer trechos do dataframe\n",
        "longer_ts = pd.Series(np.random.randn(1000), index=pd.date_range('1/1/2000', periods=1000))\n",
        "longer_ts"
      ],
      "execution_count": 30,
      "outputs": [
        {
          "output_type": "execute_result",
          "data": {
            "text/plain": [
              "2000-01-01    0.345352\n",
              "2000-01-02   -0.657533\n",
              "2000-01-03    0.966028\n",
              "2000-01-04    1.178269\n",
              "2000-01-05   -1.679227\n",
              "                ...   \n",
              "2002-09-22    0.720203\n",
              "2002-09-23    0.999825\n",
              "2002-09-24    0.015645\n",
              "2002-09-25   -0.181449\n",
              "2002-09-26   -0.709159\n",
              "Freq: D, Length: 1000, dtype: float64"
            ]
          },
          "metadata": {},
          "execution_count": 30
        }
      ]
    },
    {
      "cell_type": "code",
      "metadata": {
        "colab": {
          "base_uri": "https://localhost:8080/"
        },
        "id": "2_VeGWZYWlo7",
        "outputId": "a59dceb5-7850-4d0d-fa1d-ead11ffcb59a"
      },
      "source": [
        "longer_ts['2001']"
      ],
      "execution_count": 31,
      "outputs": [
        {
          "output_type": "execute_result",
          "data": {
            "text/plain": [
              "2001-01-01    0.423680\n",
              "2001-01-02   -2.588727\n",
              "2001-01-03   -1.018556\n",
              "2001-01-04   -0.508597\n",
              "2001-01-05    0.119995\n",
              "                ...   \n",
              "2001-12-27    0.098282\n",
              "2001-12-28    1.250695\n",
              "2001-12-29    1.830222\n",
              "2001-12-30    0.803103\n",
              "2001-12-31   -0.147787\n",
              "Freq: D, Length: 365, dtype: float64"
            ]
          },
          "metadata": {},
          "execution_count": 31
        }
      ]
    },
    {
      "cell_type": "code",
      "metadata": {
        "colab": {
          "base_uri": "https://localhost:8080/"
        },
        "id": "kDnha72PXCdX",
        "outputId": "50066b91-0652-4ae4-e0ee-adb5558688c3"
      },
      "source": [
        "longer_ts['2001-05']"
      ],
      "execution_count": 32,
      "outputs": [
        {
          "output_type": "execute_result",
          "data": {
            "text/plain": [
              "2001-05-01    0.180534\n",
              "2001-05-02    0.909021\n",
              "2001-05-03    0.453270\n",
              "2001-05-04   -1.637660\n",
              "2001-05-05   -1.370471\n",
              "2001-05-06    0.312683\n",
              "2001-05-07    0.605288\n",
              "2001-05-08    0.667059\n",
              "2001-05-09    0.762770\n",
              "2001-05-10   -0.789142\n",
              "2001-05-11   -0.159802\n",
              "2001-05-12    0.613159\n",
              "2001-05-13   -1.462208\n",
              "2001-05-14   -1.630556\n",
              "2001-05-15   -0.785318\n",
              "2001-05-16   -1.006796\n",
              "2001-05-17    0.846626\n",
              "2001-05-18   -0.614422\n",
              "2001-05-19    0.223397\n",
              "2001-05-20    1.026270\n",
              "2001-05-21    0.394856\n",
              "2001-05-22   -0.263937\n",
              "2001-05-23    0.350269\n",
              "2001-05-24   -0.737642\n",
              "2001-05-25   -1.461777\n",
              "2001-05-26    1.275087\n",
              "2001-05-27    0.319286\n",
              "2001-05-28   -1.242238\n",
              "2001-05-29    0.381428\n",
              "2001-05-30    0.972066\n",
              "2001-05-31   -0.753922\n",
              "Freq: D, dtype: float64"
            ]
          },
          "metadata": {},
          "execution_count": 32
        }
      ]
    },
    {
      "cell_type": "code",
      "metadata": {
        "colab": {
          "base_uri": "https://localhost:8080/"
        },
        "id": "LW8MBFEnXjgQ",
        "outputId": "d21e0e77-7575-4064-da18-6636b52e814a"
      },
      "source": [
        "ts[datetime(2011, 1, 7):]"
      ],
      "execution_count": 33,
      "outputs": [
        {
          "output_type": "execute_result",
          "data": {
            "text/plain": [
              "2011-01-07    0.739686\n",
              "2011-01-08    0.472667\n",
              "2011-01-10   -1.454128\n",
              "2011-01-12   -0.426516\n",
              "dtype: float64"
            ]
          },
          "metadata": {},
          "execution_count": 33
        }
      ]
    },
    {
      "cell_type": "code",
      "metadata": {
        "colab": {
          "base_uri": "https://localhost:8080/"
        },
        "id": "BaDHkiHKXspx",
        "outputId": "6dddfb07-4e07-43a8-9100-e7032dc87b78"
      },
      "source": [
        "ts"
      ],
      "execution_count": 34,
      "outputs": [
        {
          "output_type": "execute_result",
          "data": {
            "text/plain": [
              "2011-01-02    0.037676\n",
              "2011-01-05   -0.730957\n",
              "2011-01-07    0.739686\n",
              "2011-01-08    0.472667\n",
              "2011-01-10   -1.454128\n",
              "2011-01-12   -0.426516\n",
              "dtype: float64"
            ]
          },
          "metadata": {},
          "execution_count": 34
        }
      ]
    },
    {
      "cell_type": "code",
      "metadata": {
        "colab": {
          "base_uri": "https://localhost:8080/"
        },
        "id": "hHOCmZS6Xxdh",
        "outputId": "2818db3e-5d3b-4bef-9050-6ff4501ee08a"
      },
      "source": [
        "ts['1/6/2011':'1/11/2011']"
      ],
      "execution_count": 35,
      "outputs": [
        {
          "output_type": "execute_result",
          "data": {
            "text/plain": [
              "2011-01-07    0.739686\n",
              "2011-01-08    0.472667\n",
              "2011-01-10   -1.454128\n",
              "dtype: float64"
            ]
          },
          "metadata": {},
          "execution_count": 35
        }
      ]
    },
    {
      "cell_type": "code",
      "metadata": {
        "colab": {
          "base_uri": "https://localhost:8080/"
        },
        "id": "9ZnQz6f_X6kH",
        "outputId": "ac6ddc55-eb18-4021-a52e-ce556cebc815"
      },
      "source": [
        "#Fatiar um periodo entre duas datas\n",
        "ts.truncate(after='1/9/2011')"
      ],
      "execution_count": 36,
      "outputs": [
        {
          "output_type": "execute_result",
          "data": {
            "text/plain": [
              "2011-01-02    0.037676\n",
              "2011-01-05   -0.730957\n",
              "2011-01-07    0.739686\n",
              "2011-01-08    0.472667\n",
              "dtype: float64"
            ]
          },
          "metadata": {},
          "execution_count": 36
        }
      ]
    },
    {
      "cell_type": "code",
      "metadata": {
        "id": "ho75e_B9YOHR"
      },
      "source": [
        "dates = pd.date_range('1/1/2000', periods=100, freq='W-WED')\n",
        "long_df = pd.DataFrame(np.random.randn(100,4), index=dates, columns=['Colorado', 'Texas', 'New York', 'Ohio'])"
      ],
      "execution_count": 37,
      "outputs": []
    },
    {
      "cell_type": "code",
      "metadata": {
        "colab": {
          "base_uri": "https://localhost:8080/",
          "height": 0
        },
        "id": "q3OIscIpYqi5",
        "outputId": "6f0d3f62-949a-4f61-b8ca-94df251b72b9"
      },
      "source": [
        "long_df.loc['5-2001']"
      ],
      "execution_count": 38,
      "outputs": [
        {
          "output_type": "execute_result",
          "data": {
            "text/html": [
              "<div>\n",
              "<style scoped>\n",
              "    .dataframe tbody tr th:only-of-type {\n",
              "        vertical-align: middle;\n",
              "    }\n",
              "\n",
              "    .dataframe tbody tr th {\n",
              "        vertical-align: top;\n",
              "    }\n",
              "\n",
              "    .dataframe thead th {\n",
              "        text-align: right;\n",
              "    }\n",
              "</style>\n",
              "<table border=\"1\" class=\"dataframe\">\n",
              "  <thead>\n",
              "    <tr style=\"text-align: right;\">\n",
              "      <th></th>\n",
              "      <th>Colorado</th>\n",
              "      <th>Texas</th>\n",
              "      <th>New York</th>\n",
              "      <th>Ohio</th>\n",
              "    </tr>\n",
              "  </thead>\n",
              "  <tbody>\n",
              "    <tr>\n",
              "      <th>2001-05-02</th>\n",
              "      <td>0.484325</td>\n",
              "      <td>-0.692795</td>\n",
              "      <td>-0.468416</td>\n",
              "      <td>1.121328</td>\n",
              "    </tr>\n",
              "    <tr>\n",
              "      <th>2001-05-09</th>\n",
              "      <td>-1.956135</td>\n",
              "      <td>-1.072074</td>\n",
              "      <td>1.026506</td>\n",
              "      <td>-0.875629</td>\n",
              "    </tr>\n",
              "    <tr>\n",
              "      <th>2001-05-16</th>\n",
              "      <td>-0.501627</td>\n",
              "      <td>0.216300</td>\n",
              "      <td>-1.858686</td>\n",
              "      <td>-0.977568</td>\n",
              "    </tr>\n",
              "    <tr>\n",
              "      <th>2001-05-23</th>\n",
              "      <td>0.545253</td>\n",
              "      <td>0.534664</td>\n",
              "      <td>0.362267</td>\n",
              "      <td>-1.229669</td>\n",
              "    </tr>\n",
              "    <tr>\n",
              "      <th>2001-05-30</th>\n",
              "      <td>-0.762907</td>\n",
              "      <td>2.522385</td>\n",
              "      <td>0.532812</td>\n",
              "      <td>-2.293671</td>\n",
              "    </tr>\n",
              "  </tbody>\n",
              "</table>\n",
              "</div>"
            ],
            "text/plain": [
              "            Colorado     Texas  New York      Ohio\n",
              "2001-05-02  0.484325 -0.692795 -0.468416  1.121328\n",
              "2001-05-09 -1.956135 -1.072074  1.026506 -0.875629\n",
              "2001-05-16 -0.501627  0.216300 -1.858686 -0.977568\n",
              "2001-05-23  0.545253  0.534664  0.362267 -1.229669\n",
              "2001-05-30 -0.762907  2.522385  0.532812 -2.293671"
            ]
          },
          "metadata": {},
          "execution_count": 38
        }
      ]
    },
    {
      "cell_type": "markdown",
      "metadata": {
        "id": "Z8L966ZHY76F"
      },
      "source": [
        "**Séries temporais com índices duplicados**"
      ]
    },
    {
      "cell_type": "code",
      "metadata": {
        "id": "afjWyItVYuQR"
      },
      "source": [
        "dates = pd.DatetimeIndex(['1/1/2000', '1/2/2000', '1/2/2000', '1/2/2000', '1/3/2000'])\n",
        "dup_ts = pd.Series(np.arange(5), index=dates)"
      ],
      "execution_count": 39,
      "outputs": []
    },
    {
      "cell_type": "code",
      "metadata": {
        "colab": {
          "base_uri": "https://localhost:8080/"
        },
        "id": "x1DA9E3jY3TK",
        "outputId": "a7185edc-dcdc-41ce-ff3e-4dc70189f17c"
      },
      "source": [
        "dup_ts"
      ],
      "execution_count": 40,
      "outputs": [
        {
          "output_type": "execute_result",
          "data": {
            "text/plain": [
              "2000-01-01    0\n",
              "2000-01-02    1\n",
              "2000-01-02    2\n",
              "2000-01-02    3\n",
              "2000-01-03    4\n",
              "dtype: int64"
            ]
          },
          "metadata": {},
          "execution_count": 40
        }
      ]
    },
    {
      "cell_type": "code",
      "metadata": {
        "colab": {
          "base_uri": "https://localhost:8080/"
        },
        "id": "rzw6l3hsZY9B",
        "outputId": "069373f4-0129-4cfe-e381-6920205c1ec9"
      },
      "source": [
        "dup_ts.index.is_unique"
      ],
      "execution_count": 41,
      "outputs": [
        {
          "output_type": "execute_result",
          "data": {
            "text/plain": [
              "False"
            ]
          },
          "metadata": {},
          "execution_count": 41
        }
      ]
    },
    {
      "cell_type": "code",
      "metadata": {
        "colab": {
          "base_uri": "https://localhost:8080/"
        },
        "id": "eGVfqaQlZlap",
        "outputId": "e2bb1a46-bca9-4328-f395-d75531058e1e"
      },
      "source": [
        "dup_ts['1/3/2000']"
      ],
      "execution_count": 42,
      "outputs": [
        {
          "output_type": "execute_result",
          "data": {
            "text/plain": [
              "4"
            ]
          },
          "metadata": {},
          "execution_count": 42
        }
      ]
    },
    {
      "cell_type": "code",
      "metadata": {
        "colab": {
          "base_uri": "https://localhost:8080/"
        },
        "id": "5runIuRUaNxw",
        "outputId": "1d2503ba-72c3-4e10-fdaf-bec1145a9f9d"
      },
      "source": [
        "dup_ts['1/2/2000']"
      ],
      "execution_count": 43,
      "outputs": [
        {
          "output_type": "execute_result",
          "data": {
            "text/plain": [
              "2000-01-02    1\n",
              "2000-01-02    2\n",
              "2000-01-02    3\n",
              "dtype: int64"
            ]
          },
          "metadata": {},
          "execution_count": 43
        }
      ]
    },
    {
      "cell_type": "code",
      "metadata": {
        "colab": {
          "base_uri": "https://localhost:8080/"
        },
        "id": "PdagmST_aQ8e",
        "outputId": "547f6c47-9fa9-49f3-e2e8-ba81afaae96c"
      },
      "source": [
        "#agregar os dados únicos\n",
        "grouped = dup_ts.groupby(level=0)\n",
        "grouped.mean()"
      ],
      "execution_count": 44,
      "outputs": [
        {
          "output_type": "execute_result",
          "data": {
            "text/plain": [
              "2000-01-01    0\n",
              "2000-01-02    2\n",
              "2000-01-03    4\n",
              "dtype: int64"
            ]
          },
          "metadata": {},
          "execution_count": 44
        }
      ]
    },
    {
      "cell_type": "code",
      "metadata": {
        "colab": {
          "base_uri": "https://localhost:8080/"
        },
        "id": "1gTqzvekamHy",
        "outputId": "ff7a5acc-0ce3-424a-89c1-3f35c56ddf1a"
      },
      "source": [
        "grouped.count()"
      ],
      "execution_count": 45,
      "outputs": [
        {
          "output_type": "execute_result",
          "data": {
            "text/plain": [
              "2000-01-01    1\n",
              "2000-01-02    3\n",
              "2000-01-03    1\n",
              "dtype: int64"
            ]
          },
          "metadata": {},
          "execution_count": 45
        }
      ]
    },
    {
      "cell_type": "markdown",
      "metadata": {
        "id": "3t0w1nQUa9y9"
      },
      "source": [
        "# **Intervalos de datas, frequências e deslocamentos**"
      ]
    },
    {
      "cell_type": "code",
      "metadata": {
        "colab": {
          "base_uri": "https://localhost:8080/"
        },
        "id": "3pAY_vgza4xh",
        "outputId": "de425c30-ecaa-4881-f914-a5f719e4b2dc"
      },
      "source": [
        "ts"
      ],
      "execution_count": 46,
      "outputs": [
        {
          "output_type": "execute_result",
          "data": {
            "text/plain": [
              "2011-01-02    0.037676\n",
              "2011-01-05   -0.730957\n",
              "2011-01-07    0.739686\n",
              "2011-01-08    0.472667\n",
              "2011-01-10   -1.454128\n",
              "2011-01-12   -0.426516\n",
              "dtype: float64"
            ]
          },
          "metadata": {},
          "execution_count": 46
        }
      ]
    },
    {
      "cell_type": "code",
      "metadata": {
        "id": "yh5kJf_lbxo5"
      },
      "source": [
        "#String 'D' é o equivalente a frequência diária\n",
        "resampler = ts.resample('D')\n"
      ],
      "execution_count": 47,
      "outputs": []
    },
    {
      "cell_type": "markdown",
      "metadata": {
        "id": "aowxCCBpcIaF"
      },
      "source": [
        "**Gerando intervalos de datas**"
      ]
    },
    {
      "cell_type": "code",
      "metadata": {
        "colab": {
          "base_uri": "https://localhost:8080/"
        },
        "id": "Ts-VTmwsb2VB",
        "outputId": "9c8d60ab-9b8e-4621-d16c-e39173971fbe"
      },
      "source": [
        "#pandas.date_range gera index com tamanho especifico\n",
        "index = pd.date_range('2012-04-01', '2012-06-01')\n",
        "index"
      ],
      "execution_count": 48,
      "outputs": [
        {
          "output_type": "execute_result",
          "data": {
            "text/plain": [
              "DatetimeIndex(['2012-04-01', '2012-04-02', '2012-04-03', '2012-04-04',\n",
              "               '2012-04-05', '2012-04-06', '2012-04-07', '2012-04-08',\n",
              "               '2012-04-09', '2012-04-10', '2012-04-11', '2012-04-12',\n",
              "               '2012-04-13', '2012-04-14', '2012-04-15', '2012-04-16',\n",
              "               '2012-04-17', '2012-04-18', '2012-04-19', '2012-04-20',\n",
              "               '2012-04-21', '2012-04-22', '2012-04-23', '2012-04-24',\n",
              "               '2012-04-25', '2012-04-26', '2012-04-27', '2012-04-28',\n",
              "               '2012-04-29', '2012-04-30', '2012-05-01', '2012-05-02',\n",
              "               '2012-05-03', '2012-05-04', '2012-05-05', '2012-05-06',\n",
              "               '2012-05-07', '2012-05-08', '2012-05-09', '2012-05-10',\n",
              "               '2012-05-11', '2012-05-12', '2012-05-13', '2012-05-14',\n",
              "               '2012-05-15', '2012-05-16', '2012-05-17', '2012-05-18',\n",
              "               '2012-05-19', '2012-05-20', '2012-05-21', '2012-05-22',\n",
              "               '2012-05-23', '2012-05-24', '2012-05-25', '2012-05-26',\n",
              "               '2012-05-27', '2012-05-28', '2012-05-29', '2012-05-30',\n",
              "               '2012-05-31', '2012-06-01'],\n",
              "              dtype='datetime64[ns]', freq='D')"
            ]
          },
          "metadata": {},
          "execution_count": 48
        }
      ]
    },
    {
      "cell_type": "code",
      "metadata": {
        "colab": {
          "base_uri": "https://localhost:8080/"
        },
        "id": "r0u6n9aIcgZd",
        "outputId": "339a2e4c-eca3-4d53-b1b8-c493b67e328c"
      },
      "source": [
        "#Se passar só a data do inicio ou do fim, precisa passar o periodo\n",
        "pd.date_range(start='2021-08-01', periods=20)"
      ],
      "execution_count": 49,
      "outputs": [
        {
          "output_type": "execute_result",
          "data": {
            "text/plain": [
              "DatetimeIndex(['2021-08-01', '2021-08-02', '2021-08-03', '2021-08-04',\n",
              "               '2021-08-05', '2021-08-06', '2021-08-07', '2021-08-08',\n",
              "               '2021-08-09', '2021-08-10', '2021-08-11', '2021-08-12',\n",
              "               '2021-08-13', '2021-08-14', '2021-08-15', '2021-08-16',\n",
              "               '2021-08-17', '2021-08-18', '2021-08-19', '2021-08-20'],\n",
              "              dtype='datetime64[ns]', freq='D')"
            ]
          },
          "metadata": {},
          "execution_count": 49
        }
      ]
    },
    {
      "cell_type": "code",
      "metadata": {
        "colab": {
          "base_uri": "https://localhost:8080/"
        },
        "id": "Or8TX0mIeaY8",
        "outputId": "94dd7e98-390f-4c3c-8bd4-f9442a37073e"
      },
      "source": [
        "pd.date_range(end='2021-09-01', periods=20)"
      ],
      "execution_count": 50,
      "outputs": [
        {
          "output_type": "execute_result",
          "data": {
            "text/plain": [
              "DatetimeIndex(['2021-08-13', '2021-08-14', '2021-08-15', '2021-08-16',\n",
              "               '2021-08-17', '2021-08-18', '2021-08-19', '2021-08-20',\n",
              "               '2021-08-21', '2021-08-22', '2021-08-23', '2021-08-24',\n",
              "               '2021-08-25', '2021-08-26', '2021-08-27', '2021-08-28',\n",
              "               '2021-08-29', '2021-08-30', '2021-08-31', '2021-09-01'],\n",
              "              dtype='datetime64[ns]', freq='D')"
            ]
          },
          "metadata": {},
          "execution_count": 50
        }
      ]
    },
    {
      "cell_type": "code",
      "metadata": {
        "colab": {
          "base_uri": "https://localhost:8080/"
        },
        "id": "aK4Jm3bEemir",
        "outputId": "83fdf7b6-9eed-47a7-e206-84cc97a4bb5e"
      },
      "source": [
        "#'BM' trás um trecho de data contendo o ultimo dia útil de cada mês\n",
        "pd.date_range('2020-01-01','2021-01-01', freq='BM')"
      ],
      "execution_count": 51,
      "outputs": [
        {
          "output_type": "execute_result",
          "data": {
            "text/plain": [
              "DatetimeIndex(['2020-01-31', '2020-02-28', '2020-03-31', '2020-04-30',\n",
              "               '2020-05-29', '2020-06-30', '2020-07-31', '2020-08-31',\n",
              "               '2020-09-30', '2020-10-30', '2020-11-30', '2020-12-31'],\n",
              "              dtype='datetime64[ns]', freq='BM')"
            ]
          },
          "metadata": {},
          "execution_count": 51
        }
      ]
    },
    {
      "cell_type": "code",
      "metadata": {
        "colab": {
          "base_uri": "https://localhost:8080/"
        },
        "id": "HOxFxfrLfY6o",
        "outputId": "97d556c5-9347-476e-c40c-c74847dbd6ec"
      },
      "source": [
        "pd.date_range('2021-07-03 12:56:31', periods=5)"
      ],
      "execution_count": 52,
      "outputs": [
        {
          "output_type": "execute_result",
          "data": {
            "text/plain": [
              "DatetimeIndex(['2021-07-03 12:56:31', '2021-07-04 12:56:31',\n",
              "               '2021-07-05 12:56:31', '2021-07-06 12:56:31',\n",
              "               '2021-07-07 12:56:31'],\n",
              "              dtype='datetime64[ns]', freq='D')"
            ]
          },
          "metadata": {},
          "execution_count": 52
        }
      ]
    },
    {
      "cell_type": "code",
      "metadata": {
        "colab": {
          "base_uri": "https://localhost:8080/"
        },
        "id": "sPB-Q1VjgqbE",
        "outputId": "c2ca0ca4-6320-4d02-94ea-fdb03f0bee80"
      },
      "source": [
        "#normalizar horários com normalize\n",
        "pd.date_range('2021-08-02 12:56:31', periods=5, normalize=True)"
      ],
      "execution_count": 53,
      "outputs": [
        {
          "output_type": "execute_result",
          "data": {
            "text/plain": [
              "DatetimeIndex(['2021-08-02', '2021-08-03', '2021-08-04', '2021-08-05',\n",
              "               '2021-08-06'],\n",
              "              dtype='datetime64[ns]', freq='D')"
            ]
          },
          "metadata": {},
          "execution_count": 53
        }
      ]
    },
    {
      "cell_type": "markdown",
      "metadata": {
        "id": "SC29L4V3hc2p"
      },
      "source": [
        "**Frequências e offset de datas**"
      ]
    },
    {
      "cell_type": "code",
      "metadata": {
        "id": "YBXxzwaahaus",
        "colab": {
          "base_uri": "https://localhost:8080/"
        },
        "outputId": "07c4f3eb-aec8-4326-8df4-62648d6dad95"
      },
      "source": [
        "#Import Hour e Minute lá em cima\n",
        "hour = Hour()\n",
        "hour"
      ],
      "execution_count": 54,
      "outputs": [
        {
          "output_type": "execute_result",
          "data": {
            "text/plain": [
              "<Hour>"
            ]
          },
          "metadata": {},
          "execution_count": 54
        }
      ]
    },
    {
      "cell_type": "code",
      "metadata": {
        "colab": {
          "base_uri": "https://localhost:8080/"
        },
        "id": "4ZunGp3d2hdZ",
        "outputId": "fcc4331f-c80a-4696-804e-52d3ac3492d1"
      },
      "source": [
        "four_hours = Hour(4)\n",
        "four_hours"
      ],
      "execution_count": 55,
      "outputs": [
        {
          "output_type": "execute_result",
          "data": {
            "text/plain": [
              "<4 * Hours>"
            ]
          },
          "metadata": {},
          "execution_count": 55
        }
      ]
    },
    {
      "cell_type": "code",
      "metadata": {
        "colab": {
          "base_uri": "https://localhost:8080/"
        },
        "id": "vUa2abgG2rsC",
        "outputId": "96a29fae-66ec-4cf6-e251-11821d4642dc"
      },
      "source": [
        "pd.date_range('2000-01-01', '2001-01-03 23:59', freq='4h')"
      ],
      "execution_count": 56,
      "outputs": [
        {
          "output_type": "execute_result",
          "data": {
            "text/plain": [
              "DatetimeIndex(['2000-01-01 00:00:00', '2000-01-01 04:00:00',\n",
              "               '2000-01-01 08:00:00', '2000-01-01 12:00:00',\n",
              "               '2000-01-01 16:00:00', '2000-01-01 20:00:00',\n",
              "               '2000-01-02 00:00:00', '2000-01-02 04:00:00',\n",
              "               '2000-01-02 08:00:00', '2000-01-02 12:00:00',\n",
              "               ...\n",
              "               '2001-01-02 08:00:00', '2001-01-02 12:00:00',\n",
              "               '2001-01-02 16:00:00', '2001-01-02 20:00:00',\n",
              "               '2001-01-03 00:00:00', '2001-01-03 04:00:00',\n",
              "               '2001-01-03 08:00:00', '2001-01-03 12:00:00',\n",
              "               '2001-01-03 16:00:00', '2001-01-03 20:00:00'],\n",
              "              dtype='datetime64[ns]', length=2214, freq='4H')"
            ]
          },
          "metadata": {},
          "execution_count": 56
        }
      ]
    },
    {
      "cell_type": "code",
      "metadata": {
        "colab": {
          "base_uri": "https://localhost:8080/"
        },
        "id": "gSJZ-1YL3CFh",
        "outputId": "241fd418-c9f8-48a3-8cba-1730c2f3949e"
      },
      "source": [
        "Hour(2) + Minute(30)"
      ],
      "execution_count": 57,
      "outputs": [
        {
          "output_type": "execute_result",
          "data": {
            "text/plain": [
              "<150 * Minutes>"
            ]
          },
          "metadata": {},
          "execution_count": 57
        }
      ]
    },
    {
      "cell_type": "code",
      "metadata": {
        "colab": {
          "base_uri": "https://localhost:8080/"
        },
        "id": "rF2VBf_U3Vs5",
        "outputId": "f58dd793-a459-4645-c176-711264fad37a"
      },
      "source": [
        "pd.date_range('2000-01-01', periods=10, freq='1h30min')"
      ],
      "execution_count": 58,
      "outputs": [
        {
          "output_type": "execute_result",
          "data": {
            "text/plain": [
              "DatetimeIndex(['2000-01-01 00:00:00', '2000-01-01 01:30:00',\n",
              "               '2000-01-01 03:00:00', '2000-01-01 04:30:00',\n",
              "               '2000-01-01 06:00:00', '2000-01-01 07:30:00',\n",
              "               '2000-01-01 09:00:00', '2000-01-01 10:30:00',\n",
              "               '2000-01-01 12:00:00', '2000-01-01 13:30:00'],\n",
              "              dtype='datetime64[ns]', freq='90T')"
            ]
          },
          "metadata": {},
          "execution_count": 58
        }
      ]
    },
    {
      "cell_type": "markdown",
      "metadata": {
        "id": "ePXHbRb338ex"
      },
      "source": [
        "**Datas com a semana do mês**"
      ]
    },
    {
      "cell_type": "code",
      "metadata": {
        "colab": {
          "base_uri": "https://localhost:8080/"
        },
        "id": "si5a_UsP3k3h",
        "outputId": "fb8d4b8d-5421-469f-e42f-ed273ca38d11"
      },
      "source": [
        "rng = pd.date_range('2020-01-01', '2020-09-01', freq='WOM-3FRI')\n",
        "list(rng)"
      ],
      "execution_count": 59,
      "outputs": [
        {
          "output_type": "execute_result",
          "data": {
            "text/plain": [
              "[Timestamp('2020-01-17 00:00:00', freq='WOM-3FRI'),\n",
              " Timestamp('2020-02-21 00:00:00', freq='WOM-3FRI'),\n",
              " Timestamp('2020-03-20 00:00:00', freq='WOM-3FRI'),\n",
              " Timestamp('2020-04-17 00:00:00', freq='WOM-3FRI'),\n",
              " Timestamp('2020-05-15 00:00:00', freq='WOM-3FRI'),\n",
              " Timestamp('2020-06-19 00:00:00', freq='WOM-3FRI'),\n",
              " Timestamp('2020-07-17 00:00:00', freq='WOM-3FRI'),\n",
              " Timestamp('2020-08-21 00:00:00', freq='WOM-3FRI')]"
            ]
          },
          "metadata": {},
          "execution_count": 59
        }
      ]
    },
    {
      "cell_type": "markdown",
      "metadata": {
        "id": "jtwEV5zO4XSU"
      },
      "source": [
        "**Deslocamento de datas (adiantando e atrasando)**"
      ]
    },
    {
      "cell_type": "code",
      "metadata": {
        "colab": {
          "base_uri": "https://localhost:8080/"
        },
        "id": "ZfiSsPnD4QZv",
        "outputId": "4ef2231f-455a-4f89-d72f-d8f0f51c551c"
      },
      "source": [
        "ts = pd.Series(np.random.randn(4), index=pd.date_range('1/1/2020', periods=4, freq='M'))\n",
        "ts"
      ],
      "execution_count": 60,
      "outputs": [
        {
          "output_type": "execute_result",
          "data": {
            "text/plain": [
              "2020-01-31   -0.591824\n",
              "2020-02-29    0.093481\n",
              "2020-03-31    1.501106\n",
              "2020-04-30   -0.411648\n",
              "Freq: M, dtype: float64"
            ]
          },
          "metadata": {},
          "execution_count": 60
        }
      ]
    },
    {
      "cell_type": "code",
      "metadata": {
        "colab": {
          "base_uri": "https://localhost:8080/"
        },
        "id": "xurt5lU446ib",
        "outputId": "90c2d5f6-6ba7-45f7-f3ba-ef31be7ae47a"
      },
      "source": [
        "ts.shift(2)"
      ],
      "execution_count": 61,
      "outputs": [
        {
          "output_type": "execute_result",
          "data": {
            "text/plain": [
              "2020-01-31         NaN\n",
              "2020-02-29         NaN\n",
              "2020-03-31   -0.591824\n",
              "2020-04-30    0.093481\n",
              "Freq: M, dtype: float64"
            ]
          },
          "metadata": {},
          "execution_count": 61
        }
      ]
    },
    {
      "cell_type": "code",
      "metadata": {
        "colab": {
          "base_uri": "https://localhost:8080/"
        },
        "id": "6vPRUloU6W0o",
        "outputId": "fe2e8c52-f465-4bbf-ea07-edd5f359802d"
      },
      "source": [
        "ts.shift(-2)"
      ],
      "execution_count": 62,
      "outputs": [
        {
          "output_type": "execute_result",
          "data": {
            "text/plain": [
              "2020-01-31    1.501106\n",
              "2020-02-29   -0.411648\n",
              "2020-03-31         NaN\n",
              "2020-04-30         NaN\n",
              "Freq: M, dtype: float64"
            ]
          },
          "metadata": {},
          "execution_count": 62
        }
      ]
    },
    {
      "cell_type": "code",
      "metadata": {
        "colab": {
          "base_uri": "https://localhost:8080/"
        },
        "id": "eQW_vTr76a-o",
        "outputId": "6a18a238-139d-4535-d59f-41eec636c3c5"
      },
      "source": [
        "ts/ts.shift(1) - 1"
      ],
      "execution_count": 63,
      "outputs": [
        {
          "output_type": "execute_result",
          "data": {
            "text/plain": [
              "2020-01-31          NaN\n",
              "2020-02-29    -1.157954\n",
              "2020-03-31    15.057904\n",
              "2020-04-30    -1.274230\n",
              "Freq: M, dtype: float64"
            ]
          },
          "metadata": {},
          "execution_count": 63
        }
      ]
    },
    {
      "cell_type": "code",
      "metadata": {
        "colab": {
          "base_uri": "https://localhost:8080/"
        },
        "id": "o54eSDSC6sEg",
        "outputId": "92227290-7bf2-465c-89d2-edb6b7180272"
      },
      "source": [
        "ts.shift(2,freq='M')"
      ],
      "execution_count": 64,
      "outputs": [
        {
          "output_type": "execute_result",
          "data": {
            "text/plain": [
              "2020-03-31   -0.591824\n",
              "2020-04-30    0.093481\n",
              "2020-05-31    1.501106\n",
              "2020-06-30   -0.411648\n",
              "Freq: M, dtype: float64"
            ]
          },
          "metadata": {},
          "execution_count": 64
        }
      ]
    },
    {
      "cell_type": "code",
      "metadata": {
        "colab": {
          "base_uri": "https://localhost:8080/"
        },
        "id": "cv91xZt76y0g",
        "outputId": "1ad0b366-4341-4338-9ffb-da60e8828879"
      },
      "source": [
        "ts.shift(3, freq='D')"
      ],
      "execution_count": 65,
      "outputs": [
        {
          "output_type": "execute_result",
          "data": {
            "text/plain": [
              "2020-02-03   -0.591824\n",
              "2020-03-03    0.093481\n",
              "2020-04-03    1.501106\n",
              "2020-05-03   -0.411648\n",
              "dtype: float64"
            ]
          },
          "metadata": {},
          "execution_count": 65
        }
      ]
    },
    {
      "cell_type": "code",
      "metadata": {
        "colab": {
          "base_uri": "https://localhost:8080/"
        },
        "id": "y-QIJOER67sw",
        "outputId": "5c72084e-b996-4068-8bab-8fe04b38cee9"
      },
      "source": [
        "ts.shift(1, freq='90T') #T é minutos"
      ],
      "execution_count": 66,
      "outputs": [
        {
          "output_type": "execute_result",
          "data": {
            "text/plain": [
              "2020-01-31 01:30:00   -0.591824\n",
              "2020-02-29 01:30:00    0.093481\n",
              "2020-03-31 01:30:00    1.501106\n",
              "2020-04-30 01:30:00   -0.411648\n",
              "dtype: float64"
            ]
          },
          "metadata": {},
          "execution_count": 66
        }
      ]
    },
    {
      "cell_type": "markdown",
      "metadata": {
        "id": "oRK-juVI7EyM"
      },
      "source": [
        "**Deslocando datas com offsets**"
      ]
    },
    {
      "cell_type": "code",
      "metadata": {
        "colab": {
          "base_uri": "https://localhost:8080/"
        },
        "id": "42nzV9-V7Aav",
        "outputId": "bb0d6240-5c21-4680-c919-6527a9f48f47"
      },
      "source": [
        "#Import Day e MonthEnd lá em cima\n",
        "now = datetime(2011, 11, 17)\n",
        "now + 3 * Day()"
      ],
      "execution_count": 67,
      "outputs": [
        {
          "output_type": "execute_result",
          "data": {
            "text/plain": [
              "Timestamp('2011-11-20 00:00:00')"
            ]
          },
          "metadata": {},
          "execution_count": 67
        }
      ]
    },
    {
      "cell_type": "code",
      "metadata": {
        "colab": {
          "base_uri": "https://localhost:8080/"
        },
        "id": "893C5oRE7ty5",
        "outputId": "5fee7db0-40f3-4b4c-a4d4-146efe7b5c27"
      },
      "source": [
        "now + MonthEnd()"
      ],
      "execution_count": 68,
      "outputs": [
        {
          "output_type": "execute_result",
          "data": {
            "text/plain": [
              "Timestamp('2011-11-30 00:00:00')"
            ]
          },
          "metadata": {},
          "execution_count": 68
        }
      ]
    },
    {
      "cell_type": "code",
      "metadata": {
        "colab": {
          "base_uri": "https://localhost:8080/"
        },
        "id": "mSc8pznA720I",
        "outputId": "0b0935df-786d-4c0d-be62-fddff5383a5c"
      },
      "source": [
        "now + MonthEnd(2)"
      ],
      "execution_count": 69,
      "outputs": [
        {
          "output_type": "execute_result",
          "data": {
            "text/plain": [
              "Timestamp('2011-12-31 00:00:00')"
            ]
          },
          "metadata": {},
          "execution_count": 69
        }
      ]
    },
    {
      "cell_type": "code",
      "metadata": {
        "id": "5rKq2f827674"
      },
      "source": [
        "offset = MonthEnd()"
      ],
      "execution_count": 70,
      "outputs": []
    },
    {
      "cell_type": "code",
      "metadata": {
        "colab": {
          "base_uri": "https://localhost:8080/"
        },
        "id": "0-Hn7fso8mXB",
        "outputId": "3cce0237-a42c-4f2a-f64e-d645fbc635e8"
      },
      "source": [
        "offset.rollforward(now)"
      ],
      "execution_count": 71,
      "outputs": [
        {
          "output_type": "execute_result",
          "data": {
            "text/plain": [
              "Timestamp('2011-11-30 00:00:00')"
            ]
          },
          "metadata": {},
          "execution_count": 71
        }
      ]
    },
    {
      "cell_type": "code",
      "metadata": {
        "colab": {
          "base_uri": "https://localhost:8080/"
        },
        "id": "r8OV70pp8qcY",
        "outputId": "8697cb9c-354c-4dbe-a556-3a66847fcd1e"
      },
      "source": [
        "offset.rollback(now)"
      ],
      "execution_count": 72,
      "outputs": [
        {
          "output_type": "execute_result",
          "data": {
            "text/plain": [
              "Timestamp('2011-10-31 00:00:00')"
            ]
          },
          "metadata": {},
          "execution_count": 72
        }
      ]
    },
    {
      "cell_type": "code",
      "metadata": {
        "colab": {
          "base_uri": "https://localhost:8080/"
        },
        "id": "YSGuegzn8wQN",
        "outputId": "2a6d290b-3c99-407e-9d84-54b82827355c"
      },
      "source": [
        "ts = pd.Series(np.random.randn(20), index=pd.date_range('1/15/2000', periods=20, freq='4d'))\n",
        "ts"
      ],
      "execution_count": 73,
      "outputs": [
        {
          "output_type": "execute_result",
          "data": {
            "text/plain": [
              "2000-01-15   -2.204245\n",
              "2000-01-19   -0.931050\n",
              "2000-01-23    0.506771\n",
              "2000-01-27   -0.844160\n",
              "2000-01-31   -0.826886\n",
              "2000-02-04   -0.928665\n",
              "2000-02-08   -2.037135\n",
              "2000-02-12   -0.132975\n",
              "2000-02-16   -1.740567\n",
              "2000-02-20   -0.308607\n",
              "2000-02-24    1.537330\n",
              "2000-02-28   -1.297935\n",
              "2000-03-03   -0.990643\n",
              "2000-03-07    1.901409\n",
              "2000-03-11   -1.180134\n",
              "2000-03-15    0.166499\n",
              "2000-03-19    0.152618\n",
              "2000-03-23   -0.421901\n",
              "2000-03-27   -0.820885\n",
              "2000-03-31   -1.129319\n",
              "Freq: 4D, dtype: float64"
            ]
          },
          "metadata": {},
          "execution_count": 73
        }
      ]
    },
    {
      "cell_type": "code",
      "metadata": {
        "colab": {
          "base_uri": "https://localhost:8080/"
        },
        "id": "AlkstcNX9HqY",
        "outputId": "6e788299-098e-479e-de71-f7c9bed79489"
      },
      "source": [
        "ts.groupby(offset.rollforward).mean()"
      ],
      "execution_count": 74,
      "outputs": [
        {
          "output_type": "execute_result",
          "data": {
            "text/plain": [
              "2000-01-31   -0.859914\n",
              "2000-02-29   -0.701222\n",
              "2000-03-31   -0.290295\n",
              "dtype: float64"
            ]
          },
          "metadata": {},
          "execution_count": 74
        }
      ]
    },
    {
      "cell_type": "code",
      "metadata": {
        "colab": {
          "base_uri": "https://localhost:8080/"
        },
        "id": "IPfBxigg9Vap",
        "outputId": "872796a0-c1e7-421f-8494-eccf585c67e5"
      },
      "source": [
        "ts.resample('M').mean()"
      ],
      "execution_count": 75,
      "outputs": [
        {
          "output_type": "execute_result",
          "data": {
            "text/plain": [
              "2000-01-31   -0.859914\n",
              "2000-02-29   -0.701222\n",
              "2000-03-31   -0.290295\n",
              "Freq: M, dtype: float64"
            ]
          },
          "metadata": {},
          "execution_count": 75
        }
      ]
    },
    {
      "cell_type": "markdown",
      "metadata": {
        "id": "4oPt5kdz9iXk"
      },
      "source": [
        "# **Tratamento de fusos horários**"
      ]
    },
    {
      "cell_type": "code",
      "metadata": {
        "colab": {
          "base_uri": "https://localhost:8080/"
        },
        "id": "TH-V7M4d9dvB",
        "outputId": "5c00102a-5bf3-4ac7-b09e-e3e8e60fbdf6"
      },
      "source": [
        "#Import pytz lá em cima\n",
        "#Encontrar o nome dos fusohorários\n",
        "pytz.common_timezones[-5:]"
      ],
      "execution_count": 76,
      "outputs": [
        {
          "output_type": "execute_result",
          "data": {
            "text/plain": [
              "['US/Eastern', 'US/Hawaii', 'US/Mountain', 'US/Pacific', 'UTC']"
            ]
          },
          "metadata": {},
          "execution_count": 76
        }
      ]
    },
    {
      "cell_type": "code",
      "metadata": {
        "colab": {
          "base_uri": "https://localhost:8080/"
        },
        "id": "H1yvMEVZ_aEj",
        "outputId": "1a19d3ba-936e-4f8d-e22b-e14c21150af1"
      },
      "source": [
        "#Obter um objeto de fuso horário\n",
        "tz = pytz.timezone('America/New_York')\n",
        "tz"
      ],
      "execution_count": 77,
      "outputs": [
        {
          "output_type": "execute_result",
          "data": {
            "text/plain": [
              "<DstTzInfo 'America/New_York' LMT-1 day, 19:04:00 STD>"
            ]
          },
          "metadata": {},
          "execution_count": 77
        }
      ]
    },
    {
      "cell_type": "markdown",
      "metadata": {
        "id": "n0K8QQh3AJ3l"
      },
      "source": [
        "**Localização e conversão dos fuso horários**"
      ]
    },
    {
      "cell_type": "code",
      "metadata": {
        "colab": {
          "base_uri": "https://localhost:8080/"
        },
        "id": "JTPbwpnbAEQ4",
        "outputId": "e61a8a5a-aa29-4182-9b25-eeb7b6103d34"
      },
      "source": [
        "#Series temporais não consideram fuso horario por padrão\n",
        "rng = pd.date_range('3/9/2012 09:30', periods =6, freq='D')\n",
        "ts=pd.Series(np.random.randn(len(rng)), index=rng)\n",
        "ts"
      ],
      "execution_count": 78,
      "outputs": [
        {
          "output_type": "execute_result",
          "data": {
            "text/plain": [
              "2012-03-09 09:30:00   -2.262897\n",
              "2012-03-10 09:30:00   -0.360952\n",
              "2012-03-11 09:30:00    1.518279\n",
              "2012-03-12 09:30:00   -1.273875\n",
              "2012-03-13 09:30:00    0.803218\n",
              "2012-03-14 09:30:00    0.050970\n",
              "Freq: D, dtype: float64"
            ]
          },
          "metadata": {},
          "execution_count": 78
        }
      ]
    },
    {
      "cell_type": "code",
      "metadata": {
        "colab": {
          "base_uri": "https://localhost:8080/"
        },
        "id": "DOSri5QTAlGL",
        "outputId": "84c2bb56-4362-4eee-c197-058f94aa1349"
      },
      "source": [
        "#Campo tz no índice é None\n",
        "print(ts.index.tz)"
      ],
      "execution_count": 79,
      "outputs": [
        {
          "output_type": "stream",
          "name": "stdout",
          "text": [
            "None\n"
          ]
        }
      ]
    },
    {
      "cell_type": "code",
      "metadata": {
        "colab": {
          "base_uri": "https://localhost:8080/"
        },
        "id": "L7lLSMZkA6wn",
        "outputId": "34f9d451-c8f5-4da0-b7cf-db9d7e648504"
      },
      "source": [
        "pd.date_range('3/9/2012 9:30', periods=10, freq='D', tz='UTC')"
      ],
      "execution_count": 80,
      "outputs": [
        {
          "output_type": "execute_result",
          "data": {
            "text/plain": [
              "DatetimeIndex(['2012-03-09 09:30:00+00:00', '2012-03-10 09:30:00+00:00',\n",
              "               '2012-03-11 09:30:00+00:00', '2012-03-12 09:30:00+00:00',\n",
              "               '2012-03-13 09:30:00+00:00', '2012-03-14 09:30:00+00:00',\n",
              "               '2012-03-15 09:30:00+00:00', '2012-03-16 09:30:00+00:00',\n",
              "               '2012-03-17 09:30:00+00:00', '2012-03-18 09:30:00+00:00'],\n",
              "              dtype='datetime64[ns, UTC]', freq='D')"
            ]
          },
          "metadata": {},
          "execution_count": 80
        }
      ]
    },
    {
      "cell_type": "code",
      "metadata": {
        "colab": {
          "base_uri": "https://localhost:8080/"
        },
        "id": "ktHuzUlPBGNA",
        "outputId": "b0ba5680-b21e-406f-9331-23eab7fcb6ef"
      },
      "source": [
        "ts"
      ],
      "execution_count": 81,
      "outputs": [
        {
          "output_type": "execute_result",
          "data": {
            "text/plain": [
              "2012-03-09 09:30:00   -2.262897\n",
              "2012-03-10 09:30:00   -0.360952\n",
              "2012-03-11 09:30:00    1.518279\n",
              "2012-03-12 09:30:00   -1.273875\n",
              "2012-03-13 09:30:00    0.803218\n",
              "2012-03-14 09:30:00    0.050970\n",
              "Freq: D, dtype: float64"
            ]
          },
          "metadata": {},
          "execution_count": 81
        }
      ]
    },
    {
      "cell_type": "code",
      "metadata": {
        "colab": {
          "base_uri": "https://localhost:8080/"
        },
        "id": "A-8szPNyBkrH",
        "outputId": "5cf9f675-17de-490e-bb4c-84609c736a14"
      },
      "source": [
        "ts_utc = ts.tz_localize('UTC')\n",
        "ts_utc"
      ],
      "execution_count": 82,
      "outputs": [
        {
          "output_type": "execute_result",
          "data": {
            "text/plain": [
              "2012-03-09 09:30:00+00:00   -2.262897\n",
              "2012-03-10 09:30:00+00:00   -0.360952\n",
              "2012-03-11 09:30:00+00:00    1.518279\n",
              "2012-03-12 09:30:00+00:00   -1.273875\n",
              "2012-03-13 09:30:00+00:00    0.803218\n",
              "2012-03-14 09:30:00+00:00    0.050970\n",
              "Freq: D, dtype: float64"
            ]
          },
          "metadata": {},
          "execution_count": 82
        }
      ]
    },
    {
      "cell_type": "code",
      "metadata": {
        "colab": {
          "base_uri": "https://localhost:8080/"
        },
        "id": "w42p-msNBwIP",
        "outputId": "a5c1673f-aa59-4f4b-a80e-d4ef61612541"
      },
      "source": [
        "ts_utc.index"
      ],
      "execution_count": 83,
      "outputs": [
        {
          "output_type": "execute_result",
          "data": {
            "text/plain": [
              "DatetimeIndex(['2012-03-09 09:30:00+00:00', '2012-03-10 09:30:00+00:00',\n",
              "               '2012-03-11 09:30:00+00:00', '2012-03-12 09:30:00+00:00',\n",
              "               '2012-03-13 09:30:00+00:00', '2012-03-14 09:30:00+00:00'],\n",
              "              dtype='datetime64[ns, UTC]', freq='D')"
            ]
          },
          "metadata": {},
          "execution_count": 83
        }
      ]
    },
    {
      "cell_type": "code",
      "metadata": {
        "colab": {
          "base_uri": "https://localhost:8080/"
        },
        "id": "WgDwNhcnB2Wn",
        "outputId": "7bca896a-5dce-4660-bd11-c92a4bab4cf3"
      },
      "source": [
        "#É possivel converter uma serie em outro fuso horário\n",
        "ts_utc.tz_convert('America/New_York')"
      ],
      "execution_count": 84,
      "outputs": [
        {
          "output_type": "execute_result",
          "data": {
            "text/plain": [
              "2012-03-09 04:30:00-05:00   -2.262897\n",
              "2012-03-10 04:30:00-05:00   -0.360952\n",
              "2012-03-11 05:30:00-04:00    1.518279\n",
              "2012-03-12 05:30:00-04:00   -1.273875\n",
              "2012-03-13 05:30:00-04:00    0.803218\n",
              "2012-03-14 05:30:00-04:00    0.050970\n",
              "Freq: D, dtype: float64"
            ]
          },
          "metadata": {},
          "execution_count": 84
        }
      ]
    },
    {
      "cell_type": "code",
      "metadata": {
        "colab": {
          "base_uri": "https://localhost:8080/"
        },
        "id": "IaXMhP0pDfWu",
        "outputId": "a542ee40-15ce-4034-e04e-42e9d83291e8"
      },
      "source": [
        "#Mudando o fuso horário para o de Berlim\n",
        "\n",
        "ts_eastern = ts.tz_localize('America/New_York')\n",
        "ts_eastern.tz_convert('UTC')"
      ],
      "execution_count": 85,
      "outputs": [
        {
          "output_type": "execute_result",
          "data": {
            "text/plain": [
              "2012-03-09 14:30:00+00:00   -2.262897\n",
              "2012-03-10 14:30:00+00:00   -0.360952\n",
              "2012-03-11 13:30:00+00:00    1.518279\n",
              "2012-03-12 13:30:00+00:00   -1.273875\n",
              "2012-03-13 13:30:00+00:00    0.803218\n",
              "2012-03-14 13:30:00+00:00    0.050970\n",
              "dtype: float64"
            ]
          },
          "metadata": {},
          "execution_count": 85
        }
      ]
    },
    {
      "cell_type": "code",
      "metadata": {
        "colab": {
          "base_uri": "https://localhost:8080/"
        },
        "id": "gZu6ukqKELv8",
        "outputId": "8792ee37-3bdf-42d3-d785-9ad6fdf4f89c"
      },
      "source": [
        "ts_eastern.tz_convert('Europe/Berlin')"
      ],
      "execution_count": 86,
      "outputs": [
        {
          "output_type": "execute_result",
          "data": {
            "text/plain": [
              "2012-03-09 15:30:00+01:00   -2.262897\n",
              "2012-03-10 15:30:00+01:00   -0.360952\n",
              "2012-03-11 14:30:00+01:00    1.518279\n",
              "2012-03-12 14:30:00+01:00   -1.273875\n",
              "2012-03-13 14:30:00+01:00    0.803218\n",
              "2012-03-14 14:30:00+01:00    0.050970\n",
              "dtype: float64"
            ]
          },
          "metadata": {},
          "execution_count": 86
        }
      ]
    },
    {
      "cell_type": "code",
      "metadata": {
        "colab": {
          "base_uri": "https://localhost:8080/"
        },
        "id": "_HMqe06JETOH",
        "outputId": "5e7b18a9-ed7f-4a89-b617-5d8d4c539e12"
      },
      "source": [
        "ts.index.tz_localize('Asia/Shanghai')"
      ],
      "execution_count": 87,
      "outputs": [
        {
          "output_type": "execute_result",
          "data": {
            "text/plain": [
              "DatetimeIndex(['2012-03-09 09:30:00+08:00', '2012-03-10 09:30:00+08:00',\n",
              "               '2012-03-11 09:30:00+08:00', '2012-03-12 09:30:00+08:00',\n",
              "               '2012-03-13 09:30:00+08:00', '2012-03-14 09:30:00+08:00'],\n",
              "              dtype='datetime64[ns, Asia/Shanghai]', freq=None)"
            ]
          },
          "metadata": {},
          "execution_count": 87
        }
      ]
    },
    {
      "cell_type": "markdown",
      "metadata": {
        "id": "zb_-qWkHEojQ"
      },
      "source": [
        "**Operações com objetos Timestamp que consideram fuso horários**"
      ]
    },
    {
      "cell_type": "code",
      "metadata": {
        "id": "N1YIE_X8EgYP",
        "colab": {
          "base_uri": "https://localhost:8080/"
        },
        "outputId": "e02d2361-da93-42ac-8ae2-a5020f602d88"
      },
      "source": [
        "Stamp = pd.Timestamp('2011-03-12 04:00')\n",
        "stamp_utc = stamp.tz_localize('utc')\n",
        "stamp_utc.tz_convert('America/New_York')"
      ],
      "execution_count": 88,
      "outputs": [
        {
          "output_type": "execute_result",
          "data": {
            "text/plain": [
              "Timestamp('2011-01-06 19:00:00-0500', tz='America/New_York')"
            ]
          },
          "metadata": {},
          "execution_count": 88
        }
      ]
    },
    {
      "cell_type": "code",
      "metadata": {
        "colab": {
          "base_uri": "https://localhost:8080/"
        },
        "id": "3YdO32lTK-5m",
        "outputId": "a860f5e3-130a-4619-fe82-f627f043f096"
      },
      "source": [
        "#É possivel passar um fuso horário quando se cria um timestamp\n",
        "stamp_moscow = pd.Timestamp('2011-03-12 04:00', tz='Europe/Moscow')\n",
        "stamp_moscow"
      ],
      "execution_count": 89,
      "outputs": [
        {
          "output_type": "execute_result",
          "data": {
            "text/plain": [
              "Timestamp('2011-03-12 04:00:00+0300', tz='Europe/Moscow')"
            ]
          },
          "metadata": {},
          "execution_count": 89
        }
      ]
    },
    {
      "cell_type": "code",
      "metadata": {
        "colab": {
          "base_uri": "https://localhost:8080/"
        },
        "id": "M20CIlQCOIBO",
        "outputId": "18048d45-52ea-49fc-8e88-d02aea831ecb"
      },
      "source": [
        "#Timestampo armazena valor UTC em nanosegundos\n",
        "stamp_utc.value"
      ],
      "execution_count": 90,
      "outputs": [
        {
          "output_type": "execute_result",
          "data": {
            "text/plain": [
              "1294358400000000000"
            ]
          },
          "metadata": {},
          "execution_count": 90
        }
      ]
    },
    {
      "cell_type": "code",
      "metadata": {
        "colab": {
          "base_uri": "https://localhost:8080/"
        },
        "id": "Xl_jKy57Olv7",
        "outputId": "362fce82-5b13-4791-e29b-76fdc2b7b182"
      },
      "source": [
        "stamp_utc.tz_convert('America/New_York').value"
      ],
      "execution_count": 91,
      "outputs": [
        {
          "output_type": "execute_result",
          "data": {
            "text/plain": [
              "1294358400000000000"
            ]
          },
          "metadata": {},
          "execution_count": 91
        }
      ]
    },
    {
      "cell_type": "code",
      "metadata": {
        "colab": {
          "base_uri": "https://localhost:8080/"
        },
        "id": "oLBqHdZsOt2E",
        "outputId": "eb25dfa6-d461-4efd-acc8-2007f2d51334"
      },
      "source": [
        "#Offset respeita horário de verão, import Hour lá em cima\n",
        "#30 minutos antes de iniciar o horário de verão\n",
        "stamp = pd.Timestamp('2012-03-12 01:30', tz='US/Eastern')\n",
        "stamp"
      ],
      "execution_count": 92,
      "outputs": [
        {
          "output_type": "execute_result",
          "data": {
            "text/plain": [
              "Timestamp('2012-03-12 01:30:00-0400', tz='US/Eastern')"
            ]
          },
          "metadata": {},
          "execution_count": 92
        }
      ]
    },
    {
      "cell_type": "code",
      "metadata": {
        "colab": {
          "base_uri": "https://localhost:8080/"
        },
        "id": "a6qs6HqMQJZd",
        "outputId": "b6caa660-860e-4a38-dcba-4b3a53399189"
      },
      "source": [
        "stamp + Hour()"
      ],
      "execution_count": 93,
      "outputs": [
        {
          "output_type": "execute_result",
          "data": {
            "text/plain": [
              "Timestamp('2012-03-12 02:30:00-0400', tz='US/Eastern')"
            ]
          },
          "metadata": {},
          "execution_count": 93
        }
      ]
    },
    {
      "cell_type": "code",
      "metadata": {
        "colab": {
          "base_uri": "https://localhost:8080/"
        },
        "id": "VXecXTeIQQHc",
        "outputId": "f3a17878-5702-4c11-ac00-c0fbc506f5cf"
      },
      "source": [
        "#30 minutos antes de sair do horário de verão\n",
        "stamp = pd.Timestamp('2012-11-04 00:30', tz='US/Eastern')\n",
        "stamp"
      ],
      "execution_count": 94,
      "outputs": [
        {
          "output_type": "execute_result",
          "data": {
            "text/plain": [
              "Timestamp('2012-11-04 00:30:00-0400', tz='US/Eastern')"
            ]
          },
          "metadata": {},
          "execution_count": 94
        }
      ]
    },
    {
      "cell_type": "code",
      "metadata": {
        "colab": {
          "base_uri": "https://localhost:8080/"
        },
        "id": "9e17V4fpQyx3",
        "outputId": "409b8dc9-f6b8-4cba-eb61-29d983c05712"
      },
      "source": [
        "stamp + 2* Hour()"
      ],
      "execution_count": 95,
      "outputs": [
        {
          "output_type": "execute_result",
          "data": {
            "text/plain": [
              "Timestamp('2012-11-04 01:30:00-0500', tz='US/Eastern')"
            ]
          },
          "metadata": {},
          "execution_count": 95
        }
      ]
    },
    {
      "cell_type": "markdown",
      "metadata": {
        "id": "guBLiO-4Q638"
      },
      "source": [
        "**Operação entre fusos horários diferentes**"
      ]
    },
    {
      "cell_type": "code",
      "metadata": {
        "colab": {
          "base_uri": "https://localhost:8080/"
        },
        "id": "qPVV-vxrQ4-8",
        "outputId": "47ee481f-bd12-43a5-93b5-1546749819b1"
      },
      "source": [
        "rng = pd.date_range('3/7/2012 9:30', periods=10, freq='B')\n",
        "ts = pd.Series(np.random.randn(len(rng)), index=rng)\n",
        "ts"
      ],
      "execution_count": 96,
      "outputs": [
        {
          "output_type": "execute_result",
          "data": {
            "text/plain": [
              "2012-03-07 09:30:00   -0.393051\n",
              "2012-03-08 09:30:00    0.911900\n",
              "2012-03-09 09:30:00   -0.861800\n",
              "2012-03-12 09:30:00   -0.961996\n",
              "2012-03-13 09:30:00   -0.131893\n",
              "2012-03-14 09:30:00   -1.263883\n",
              "2012-03-15 09:30:00   -1.435366\n",
              "2012-03-16 09:30:00    0.568496\n",
              "2012-03-19 09:30:00   -1.175449\n",
              "2012-03-20 09:30:00    1.131360\n",
              "Freq: B, dtype: float64"
            ]
          },
          "metadata": {},
          "execution_count": 96
        }
      ]
    },
    {
      "cell_type": "code",
      "metadata": {
        "colab": {
          "base_uri": "https://localhost:8080/"
        },
        "id": "3KAWgd30Vm9J",
        "outputId": "acd9433c-12e6-4364-96f4-86e9fd6e956f"
      },
      "source": [
        "ts1 = ts[:7].tz_localize('Europe/London')\n",
        "ts2 = ts1[2:].tz_convert('Europe/Moscow')\n",
        "result = ts1 + ts2\n",
        "result.index"
      ],
      "execution_count": 97,
      "outputs": [
        {
          "output_type": "execute_result",
          "data": {
            "text/plain": [
              "DatetimeIndex(['2012-03-07 09:30:00+00:00', '2012-03-08 09:30:00+00:00',\n",
              "               '2012-03-09 09:30:00+00:00', '2012-03-12 09:30:00+00:00',\n",
              "               '2012-03-13 09:30:00+00:00', '2012-03-14 09:30:00+00:00',\n",
              "               '2012-03-15 09:30:00+00:00'],\n",
              "              dtype='datetime64[ns, UTC]', freq=None)"
            ]
          },
          "metadata": {},
          "execution_count": 97
        }
      ]
    },
    {
      "cell_type": "markdown",
      "metadata": {
        "id": "Qq2SNrtcWI9g"
      },
      "source": [
        "# **Período e aritmética com períodos**"
      ]
    },
    {
      "cell_type": "code",
      "metadata": {
        "id": "HQVOKDEgV0K9",
        "colab": {
          "base_uri": "https://localhost:8080/"
        },
        "outputId": "01a373aa-e8f7-4c0b-d9cc-a0d999fb119e"
      },
      "source": [
        "#Period representa dias, meses, trimestres ou anos\n",
        "p = pd.Period(2007, freq='A-DEC')\n",
        "p"
      ],
      "execution_count": 98,
      "outputs": [
        {
          "output_type": "execute_result",
          "data": {
            "text/plain": [
              "Period('2007', 'A-DEC')"
            ]
          },
          "metadata": {},
          "execution_count": 98
        }
      ]
    },
    {
      "cell_type": "code",
      "metadata": {
        "colab": {
          "base_uri": "https://localhost:8080/"
        },
        "id": "S3x3LIZ7s94m",
        "outputId": "50a657ee-e9fc-4bec-e211-29644e4ea6ac"
      },
      "source": [
        "p + 5"
      ],
      "execution_count": 99,
      "outputs": [
        {
          "output_type": "execute_result",
          "data": {
            "text/plain": [
              "Period('2012', 'A-DEC')"
            ]
          },
          "metadata": {},
          "execution_count": 99
        }
      ]
    },
    {
      "cell_type": "code",
      "metadata": {
        "colab": {
          "base_uri": "https://localhost:8080/"
        },
        "id": "aVKsnMR_tKJE",
        "outputId": "804d7eed-27a9-44f8-f7ac-2aa8e5eb8907"
      },
      "source": [
        "p - 2"
      ],
      "execution_count": 100,
      "outputs": [
        {
          "output_type": "execute_result",
          "data": {
            "text/plain": [
              "Period('2005', 'A-DEC')"
            ]
          },
          "metadata": {},
          "execution_count": 100
        }
      ]
    },
    {
      "cell_type": "code",
      "metadata": {
        "colab": {
          "base_uri": "https://localhost:8080/"
        },
        "id": "uB4WQC-BtLib",
        "outputId": "33b0f498-b735-473c-8267-fb61eef10ed4"
      },
      "source": [
        "pd.Period('2014', freq='A-DEC') - p"
      ],
      "execution_count": 101,
      "outputs": [
        {
          "output_type": "execute_result",
          "data": {
            "text/plain": [
              "<7 * YearEnds: month=12>"
            ]
          },
          "metadata": {},
          "execution_count": 101
        }
      ]
    },
    {
      "cell_type": "code",
      "metadata": {
        "colab": {
          "base_uri": "https://localhost:8080/"
        },
        "id": "CwSAlSkMtTva",
        "outputId": "2b771185-9448-46d1-a66c-bc93433ff737"
      },
      "source": [
        "#intervalos de periodos com period_range\n",
        "rng = pd.period_range('2000-01-01', '2000-06-30', freq='M')\n",
        "rng"
      ],
      "execution_count": 102,
      "outputs": [
        {
          "output_type": "execute_result",
          "data": {
            "text/plain": [
              "PeriodIndex(['2000-01', '2000-02', '2000-03', '2000-04', '2000-05', '2000-06'], dtype='period[M]', freq='M')"
            ]
          },
          "metadata": {},
          "execution_count": 102
        }
      ]
    },
    {
      "cell_type": "code",
      "metadata": {
        "colab": {
          "base_uri": "https://localhost:8080/"
        },
        "id": "rTiLX6oDtjhD",
        "outputId": "6c6568f5-4d54-4c12-c218-2d48a09f35bb"
      },
      "source": [
        "#PeriodIndex armazena uma sequência de períodos e pode ser usada como índice\n",
        "pd.Series(np.random.randn(6), index=rng)"
      ],
      "execution_count": 103,
      "outputs": [
        {
          "output_type": "execute_result",
          "data": {
            "text/plain": [
              "2000-01   -1.968118\n",
              "2000-02    0.257519\n",
              "2000-03   -1.542819\n",
              "2000-04    0.123077\n",
              "2000-05    1.376744\n",
              "2000-06   -1.022784\n",
              "Freq: M, dtype: float64"
            ]
          },
          "metadata": {},
          "execution_count": 103
        }
      ]
    },
    {
      "cell_type": "code",
      "metadata": {
        "colab": {
          "base_uri": "https://localhost:8080/"
        },
        "id": "x0xCVzcut0cY",
        "outputId": "038e65d6-c070-46b9-f940-b87f087937de"
      },
      "source": [
        "#Pode ser usada com um array de string também\n",
        "\n",
        "values = ['2001Q3', '2002Q2', '2003Q1']\n",
        "index = pd.PeriodIndex(values, freq='Q-DEC')\n",
        "index"
      ],
      "execution_count": 104,
      "outputs": [
        {
          "output_type": "execute_result",
          "data": {
            "text/plain": [
              "PeriodIndex(['2001Q3', '2002Q2', '2003Q1'], dtype='period[Q-DEC]', freq='Q-DEC')"
            ]
          },
          "metadata": {},
          "execution_count": 104
        }
      ]
    },
    {
      "cell_type": "markdown",
      "metadata": {
        "id": "wLSKlPJDuPu9"
      },
      "source": [
        "**Conversão de frequência e períodos**"
      ]
    },
    {
      "cell_type": "code",
      "metadata": {
        "colab": {
          "base_uri": "https://localhost:8080/"
        },
        "id": "q6mDlMOouMUM",
        "outputId": "985bea1d-defe-4a70-98f6-e49b246be76d"
      },
      "source": [
        "p = pd.Period('2007', freq='A-DEC')\n",
        "p"
      ],
      "execution_count": 105,
      "outputs": [
        {
          "output_type": "execute_result",
          "data": {
            "text/plain": [
              "Period('2007', 'A-DEC')"
            ]
          },
          "metadata": {},
          "execution_count": 105
        }
      ]
    },
    {
      "cell_type": "code",
      "metadata": {
        "colab": {
          "base_uri": "https://localhost:8080/"
        },
        "id": "mKMbRGGmucHD",
        "outputId": "bff129e0-d25a-423f-ae62-872b0ea4a609"
      },
      "source": [
        "p.asfreq('M', how='start')"
      ],
      "execution_count": 106,
      "outputs": [
        {
          "output_type": "execute_result",
          "data": {
            "text/plain": [
              "Period('2007-01', 'M')"
            ]
          },
          "metadata": {},
          "execution_count": 106
        }
      ]
    },
    {
      "cell_type": "code",
      "metadata": {
        "colab": {
          "base_uri": "https://localhost:8080/"
        },
        "id": "xJvE-yvPui_b",
        "outputId": "2dbabda5-06c1-49c4-a6ba-128f059e3dbf"
      },
      "source": [
        "p.asfreq('M', how='end')"
      ],
      "execution_count": 107,
      "outputs": [
        {
          "output_type": "execute_result",
          "data": {
            "text/plain": [
              "Period('2007-12', 'M')"
            ]
          },
          "metadata": {},
          "execution_count": 107
        }
      ]
    },
    {
      "cell_type": "code",
      "metadata": {
        "colab": {
          "base_uri": "https://localhost:8080/"
        },
        "id": "9aygRwWvum5E",
        "outputId": "9b6a71b4-6d85-481b-bc5e-423e712e538f"
      },
      "source": [
        "#Ano fiscal que termine em um mês diferente de dezembro\n",
        "p = pd.Period('2007', freq='A-JUN')\n",
        "p"
      ],
      "execution_count": 108,
      "outputs": [
        {
          "output_type": "execute_result",
          "data": {
            "text/plain": [
              "Period('2007', 'A-JUN')"
            ]
          },
          "metadata": {},
          "execution_count": 108
        }
      ]
    },
    {
      "cell_type": "code",
      "metadata": {
        "colab": {
          "base_uri": "https://localhost:8080/"
        },
        "id": "9fVJGCrHu2fT",
        "outputId": "234408d1-beec-44d1-d6cd-8b9ecba8d6e7"
      },
      "source": [
        "p.asfreq('M', 'start')"
      ],
      "execution_count": 109,
      "outputs": [
        {
          "output_type": "execute_result",
          "data": {
            "text/plain": [
              "Period('2006-07', 'M')"
            ]
          },
          "metadata": {},
          "execution_count": 109
        }
      ]
    },
    {
      "cell_type": "code",
      "metadata": {
        "colab": {
          "base_uri": "https://localhost:8080/"
        },
        "id": "4o4NEtzgu5_k",
        "outputId": "666bffef-33e8-425d-d038-45eb63989eab"
      },
      "source": [
        "p.asfreq('M', 'end')"
      ],
      "execution_count": 110,
      "outputs": [
        {
          "output_type": "execute_result",
          "data": {
            "text/plain": [
              "Period('2007-06', 'M')"
            ]
          },
          "metadata": {},
          "execution_count": 110
        }
      ]
    },
    {
      "cell_type": "code",
      "metadata": {
        "colab": {
          "base_uri": "https://localhost:8080/"
        },
        "id": "oWndt55Ru-19",
        "outputId": "f001eabc-32d5-445b-de12-8b2bf4d88192"
      },
      "source": [
        "p = pd.Period('Aug-2007', 'M')\n",
        "p.asfreq('A-JUN')"
      ],
      "execution_count": 111,
      "outputs": [
        {
          "output_type": "execute_result",
          "data": {
            "text/plain": [
              "Period('2008', 'A-JUN')"
            ]
          },
          "metadata": {},
          "execution_count": 111
        }
      ]
    },
    {
      "cell_type": "code",
      "metadata": {
        "colab": {
          "base_uri": "https://localhost:8080/"
        },
        "id": "Vmyfa68PvXuj",
        "outputId": "d6f5325c-777d-45fd-f04b-62bfcfff4fcb"
      },
      "source": [
        "rng = pd.period_range('2006', '2009', freq='A-DEC')\n",
        "ts = pd.Series(np.random.randn(len(rng)), index=rng)\n",
        "ts"
      ],
      "execution_count": 112,
      "outputs": [
        {
          "output_type": "execute_result",
          "data": {
            "text/plain": [
              "2006   -0.153480\n",
              "2007   -1.637302\n",
              "2008   -1.240679\n",
              "2009    0.010849\n",
              "Freq: A-DEC, dtype: float64"
            ]
          },
          "metadata": {},
          "execution_count": 112
        }
      ]
    },
    {
      "cell_type": "code",
      "metadata": {
        "colab": {
          "base_uri": "https://localhost:8080/"
        },
        "id": "iABQdGeHvn2D",
        "outputId": "700bb46b-91e6-45fb-f266-a2549b43ba41"
      },
      "source": [
        "ts.asfreq('M', how='start')"
      ],
      "execution_count": 113,
      "outputs": [
        {
          "output_type": "execute_result",
          "data": {
            "text/plain": [
              "2006-01   -0.153480\n",
              "2007-01   -1.637302\n",
              "2008-01   -1.240679\n",
              "2009-01    0.010849\n",
              "Freq: M, dtype: float64"
            ]
          },
          "metadata": {},
          "execution_count": 113
        }
      ]
    },
    {
      "cell_type": "code",
      "metadata": {
        "colab": {
          "base_uri": "https://localhost:8080/"
        },
        "id": "ZDW3LSnVv3ud",
        "outputId": "681d2433-a453-44b7-fa8a-12551360b7ff"
      },
      "source": [
        "#Se quiser o último dia útil de cada ano\n",
        "ts.asfreq('B', how='end')"
      ],
      "execution_count": 114,
      "outputs": [
        {
          "output_type": "execute_result",
          "data": {
            "text/plain": [
              "2006-12-29   -0.153480\n",
              "2007-12-31   -1.637302\n",
              "2008-12-31   -1.240679\n",
              "2009-12-31    0.010849\n",
              "Freq: B, dtype: float64"
            ]
          },
          "metadata": {},
          "execution_count": 114
        }
      ]
    },
    {
      "cell_type": "markdown",
      "metadata": {
        "id": "A-n50_hLwErY"
      },
      "source": [
        "**Frequências de períodos trimestrais**"
      ]
    },
    {
      "cell_type": "code",
      "metadata": {
        "id": "ZTC-chCuwCyE",
        "colab": {
          "base_uri": "https://localhost:8080/"
        },
        "outputId": "68e79ccb-3895-4d0e-ba03-b96049383d29"
      },
      "source": [
        "#O pandas aceita todas as possíveis frequências trimestrais\n",
        "\n",
        "p = pd.Period('2012Q4', freq='Q-JAN')\n",
        "p"
      ],
      "execution_count": 115,
      "outputs": [
        {
          "output_type": "execute_result",
          "data": {
            "text/plain": [
              "Period('2012Q4', 'Q-JAN')"
            ]
          },
          "metadata": {},
          "execution_count": 115
        }
      ]
    },
    {
      "cell_type": "code",
      "metadata": {
        "colab": {
          "base_uri": "https://localhost:8080/"
        },
        "id": "epaXk_E96jbU",
        "outputId": "a434989a-2708-46f9-c9aa-25a996bc4449"
      },
      "source": [
        "#Convenção de diferentes frequências\n",
        "p.asfreq('D', 'start')"
      ],
      "execution_count": 116,
      "outputs": [
        {
          "output_type": "execute_result",
          "data": {
            "text/plain": [
              "Period('2011-11-01', 'D')"
            ]
          },
          "metadata": {},
          "execution_count": 116
        }
      ]
    },
    {
      "cell_type": "code",
      "metadata": {
        "colab": {
          "base_uri": "https://localhost:8080/"
        },
        "id": "utKsSKDn69Ma",
        "outputId": "3c8fedc3-ba94-4682-85a7-d8fd3548a30c"
      },
      "source": [
        "p.asfreq('D','end')"
      ],
      "execution_count": 117,
      "outputs": [
        {
          "output_type": "execute_result",
          "data": {
            "text/plain": [
              "Period('2012-01-31', 'D')"
            ]
          },
          "metadata": {},
          "execution_count": 117
        }
      ]
    },
    {
      "cell_type": "code",
      "metadata": {
        "colab": {
          "base_uri": "https://localhost:8080/"
        },
        "id": "bNMl2Q2e7Akh",
        "outputId": "1949e442-203d-4f25-af76-1162f4981cc0"
      },
      "source": [
        "#Timestamp das 16h do penultimo dia útil do trimestre\n",
        "p4pm = (p.asfreq('B','e') - 1).asfreq('T', 's') + 16 * 60\n",
        "p4pm"
      ],
      "execution_count": 118,
      "outputs": [
        {
          "output_type": "execute_result",
          "data": {
            "text/plain": [
              "Period('2012-01-30 16:00', 'T')"
            ]
          },
          "metadata": {},
          "execution_count": 118
        }
      ]
    },
    {
      "cell_type": "code",
      "metadata": {
        "colab": {
          "base_uri": "https://localhost:8080/"
        },
        "id": "luKuMAXK7X0B",
        "outputId": "9b2e59e7-eaa2-4d56-f1d2-919b02544704"
      },
      "source": [
        "#period_range para gerar intervalos trimestrais\n",
        "rng = pd.period_range('2011Q3','2012Q4', freq='Q-JAN')\n",
        "ts = pd.Series(np.arange(len(rng)), index=rng)\n",
        "ts"
      ],
      "execution_count": 120,
      "outputs": [
        {
          "output_type": "execute_result",
          "data": {
            "text/plain": [
              "2011Q3    0\n",
              "2011Q4    1\n",
              "2012Q1    2\n",
              "2012Q2    3\n",
              "2012Q3    4\n",
              "2012Q4    5\n",
              "Freq: Q-JAN, dtype: int64"
            ]
          },
          "metadata": {},
          "execution_count": 120
        }
      ]
    },
    {
      "cell_type": "code",
      "metadata": {
        "colab": {
          "base_uri": "https://localhost:8080/"
        },
        "id": "-YGewIFp70wq",
        "outputId": "7dba23b6-884f-4ee4-8cab-dfc04652a9a8"
      },
      "source": [
        "new_rng = (rng.asfreq('B', 'e') - 1).asfreq('T','s') + 16 * 60\n",
        "ts.index = new_rng.to_timestamp()\n",
        "ts"
      ],
      "execution_count": 121,
      "outputs": [
        {
          "output_type": "execute_result",
          "data": {
            "text/plain": [
              "2010-10-28 16:00:00    0\n",
              "2011-01-28 16:00:00    1\n",
              "2011-04-28 16:00:00    2\n",
              "2011-07-28 16:00:00    3\n",
              "2011-10-28 16:00:00    4\n",
              "2012-01-30 16:00:00    5\n",
              "dtype: int64"
            ]
          },
          "metadata": {},
          "execution_count": 121
        }
      ]
    },
    {
      "cell_type": "markdown",
      "metadata": {
        "id": "P_rmGLcV8gGk"
      },
      "source": [
        "**Convertendo timestamps para períodos (e vice-versa)**"
      ]
    },
    {
      "cell_type": "code",
      "metadata": {
        "id": "phVOUHpR8ck4"
      },
      "source": [
        ""
      ],
      "execution_count": null,
      "outputs": []
    }
  ]
}