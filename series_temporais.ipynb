{
  "nbformat": 4,
  "nbformat_minor": 0,
  "metadata": {
    "colab": {
      "name": "series_temporais.ipynb",
      "provenance": [],
      "authorship_tag": "ABX9TyOZ4sIG1KatEgtK34rh5e/s",
      "include_colab_link": true
    },
    "kernelspec": {
      "name": "python3",
      "display_name": "Python 3"
    },
    "language_info": {
      "name": "python"
    }
  },
  "cells": [
    {
      "cell_type": "markdown",
      "metadata": {
        "id": "view-in-github",
        "colab_type": "text"
      },
      "source": [
        "<a href=\"https://colab.research.google.com/github/anicelysantos/book-python-para-analise-de-dados/blob/main/series_temporais.ipynb\" target=\"_parent\"><img src=\"https://colab.research.google.com/assets/colab-badge.svg\" alt=\"Open In Colab\"/></a>"
      ]
    },
    {
      "cell_type": "markdown",
      "metadata": {
        "id": "qU3s08R17TBT"
      },
      "source": [
        "*Estudos do livro \"Python para análise de dados\" cap. 11*"
      ]
    },
    {
      "cell_type": "markdown",
      "metadata": {
        "id": "Rt3Hpvhv8pZM"
      },
      "source": [
        "# **Imports**"
      ]
    },
    {
      "cell_type": "code",
      "metadata": {
        "id": "roRvEA4N8q9E"
      },
      "source": [
        "import pandas as pd\n",
        "import numpy as np\n",
        "from datetime import datetime\n",
        "from datetime import timedelta\n",
        "from dateutil.parser import parse\n",
        "from pandas.tseries.offsets import Hour, Minute\n",
        "from pandas.tseries.offsets import Day, MonthEnd\n",
        "import pytz\n",
        "from pandas.tseries.offsets import Hour"
      ],
      "execution_count": 121,
      "outputs": []
    },
    {
      "cell_type": "markdown",
      "metadata": {
        "id": "nILNYgEB8VpL"
      },
      "source": [
        "# **Tipos de dados e ferramentas para data e hora**"
      ]
    },
    {
      "cell_type": "code",
      "metadata": {
        "colab": {
          "base_uri": "https://localhost:8080/"
        },
        "id": "aAlqzcaU7OhZ",
        "outputId": "111b4104-ec54-4bf3-c437-3c8121afb484"
      },
      "source": [
        "now = datetime.now()\n",
        "now"
      ],
      "execution_count": null,
      "outputs": [
        {
          "output_type": "execute_result",
          "data": {
            "text/plain": [
              "datetime.datetime(2021, 9, 23, 13, 29, 13, 172509)"
            ]
          },
          "metadata": {},
          "execution_count": 2
        }
      ]
    },
    {
      "cell_type": "code",
      "metadata": {
        "colab": {
          "base_uri": "https://localhost:8080/"
        },
        "id": "fXnwbs2E83ZQ",
        "outputId": "b0a67b1a-2692-48d9-96d1-cc4a7f8e9c6e"
      },
      "source": [
        "#now.year, now.month, now.day\n",
        "now.day, now.month, now.year"
      ],
      "execution_count": null,
      "outputs": [
        {
          "output_type": "execute_result",
          "data": {
            "text/plain": [
              "(23, 9, 2021)"
            ]
          },
          "metadata": {},
          "execution_count": 3
        }
      ]
    },
    {
      "cell_type": "code",
      "metadata": {
        "colab": {
          "base_uri": "https://localhost:8080/"
        },
        "id": "7RJyhdKY9DmX",
        "outputId": "41fc6e6d-5774-4a36-fb31-e0a192e1f71e"
      },
      "source": [
        "#import lá em cima timedelta\n",
        "#timedelta mostra a diferença de tempo entre dois objetos datetime\n",
        "\n",
        "delta = datetime(2011, 1, 7) - datetime(2008, 6, 24, 8, 15)\n",
        "delta"
      ],
      "execution_count": null,
      "outputs": [
        {
          "output_type": "execute_result",
          "data": {
            "text/plain": [
              "datetime.timedelta(days=926, seconds=56700)"
            ]
          },
          "metadata": {},
          "execution_count": 4
        }
      ]
    },
    {
      "cell_type": "code",
      "metadata": {
        "colab": {
          "base_uri": "https://localhost:8080/"
        },
        "id": "Z9Gm9gv-9eFV",
        "outputId": "d3c09a19-919e-406f-f611-6bb49ebd1299"
      },
      "source": [
        "delta.days"
      ],
      "execution_count": null,
      "outputs": [
        {
          "output_type": "execute_result",
          "data": {
            "text/plain": [
              "926"
            ]
          },
          "metadata": {},
          "execution_count": 5
        }
      ]
    },
    {
      "cell_type": "code",
      "metadata": {
        "colab": {
          "base_uri": "https://localhost:8080/"
        },
        "id": "XiE945pD9lwd",
        "outputId": "3134977d-37e7-4504-98ab-4a73632e0f77"
      },
      "source": [
        "delta.seconds"
      ],
      "execution_count": null,
      "outputs": [
        {
          "output_type": "execute_result",
          "data": {
            "text/plain": [
              "56700"
            ]
          },
          "metadata": {},
          "execution_count": 6
        }
      ]
    },
    {
      "cell_type": "code",
      "metadata": {
        "colab": {
          "base_uri": "https://localhost:8080/"
        },
        "id": "4_DiakAV9sbo",
        "outputId": "4e3362ef-c2ef-4048-f8dc-e222e598fa7d"
      },
      "source": [
        "start = datetime(2011,1,7)\n",
        "start + timedelta(12)"
      ],
      "execution_count": null,
      "outputs": [
        {
          "output_type": "execute_result",
          "data": {
            "text/plain": [
              "datetime.datetime(2011, 1, 19, 0, 0)"
            ]
          },
          "metadata": {},
          "execution_count": 7
        }
      ]
    },
    {
      "cell_type": "code",
      "metadata": {
        "colab": {
          "base_uri": "https://localhost:8080/"
        },
        "id": "UqVlOTKD-T1W",
        "outputId": "f50d940e-a995-4b8c-a3cd-dcfc7b60819b"
      },
      "source": [
        "start - 2 * timedelta(12)\n"
      ],
      "execution_count": null,
      "outputs": [
        {
          "output_type": "execute_result",
          "data": {
            "text/plain": [
              "datetime.datetime(2010, 12, 14, 0, 0)"
            ]
          },
          "metadata": {},
          "execution_count": 8
        }
      ]
    },
    {
      "cell_type": "markdown",
      "metadata": {
        "id": "SQrMWxQgDauW"
      },
      "source": [
        "**Conversão entre string e datetime**"
      ]
    },
    {
      "cell_type": "code",
      "metadata": {
        "colab": {
          "base_uri": "https://localhost:8080/"
        },
        "id": "kEkoELlM-34z",
        "outputId": "c373ab4c-38cd-44f5-b93d-7a92166db923"
      },
      "source": [
        "stamp = datetime(2011, 1, 3)\n",
        "str(stamp)"
      ],
      "execution_count": null,
      "outputs": [
        {
          "output_type": "execute_result",
          "data": {
            "application/vnd.google.colaboratory.intrinsic+json": {
              "type": "string"
            },
            "text/plain": [
              "'2011-01-03 00:00:00'"
            ]
          },
          "metadata": {},
          "execution_count": 9
        }
      ]
    },
    {
      "cell_type": "code",
      "metadata": {
        "colab": {
          "base_uri": "https://localhost:8080/"
        },
        "id": "1yS9ohZmHmEl",
        "outputId": "bdb12011-8e3c-4d35-96aa-3eb01f9b944b"
      },
      "source": [
        "#stamp.strftime('%Y-%m-%d')\n",
        "stamp.strftime('%F') #mesma coisa de cima"
      ],
      "execution_count": null,
      "outputs": [
        {
          "output_type": "execute_result",
          "data": {
            "application/vnd.google.colaboratory.intrinsic+json": {
              "type": "string"
            },
            "text/plain": [
              "'2011-01-03'"
            ]
          },
          "metadata": {},
          "execution_count": 10
        }
      ]
    },
    {
      "cell_type": "code",
      "metadata": {
        "id": "PXFfZiLfH2KM"
      },
      "source": [
        "value = '2011-01-03'"
      ],
      "execution_count": null,
      "outputs": []
    },
    {
      "cell_type": "code",
      "metadata": {
        "colab": {
          "base_uri": "https://localhost:8080/"
        },
        "id": "nS4qmiN_TA05",
        "outputId": "438f9197-c70f-4cf5-976e-f5c829ddee5c"
      },
      "source": [
        "datetime.strptime(value, '%Y-%m-%d')"
      ],
      "execution_count": null,
      "outputs": [
        {
          "output_type": "execute_result",
          "data": {
            "text/plain": [
              "datetime.datetime(2011, 1, 3, 0, 0)"
            ]
          },
          "metadata": {},
          "execution_count": 12
        }
      ]
    },
    {
      "cell_type": "code",
      "metadata": {
        "colab": {
          "base_uri": "https://localhost:8080/"
        },
        "id": "nnasMwKITE1m",
        "outputId": "8338381a-a6cd-42eb-e239-d32f1e8b21c3"
      },
      "source": [
        "datestrs = ['9/19/2021','9/20/2020']\n",
        "[datetime.strptime(x, '%m/%d/%Y') for x in datestrs]"
      ],
      "execution_count": null,
      "outputs": [
        {
          "output_type": "execute_result",
          "data": {
            "text/plain": [
              "[datetime.datetime(2021, 9, 19, 0, 0), datetime.datetime(2020, 9, 20, 0, 0)]"
            ]
          },
          "metadata": {},
          "execution_count": 13
        }
      ]
    },
    {
      "cell_type": "code",
      "metadata": {
        "colab": {
          "base_uri": "https://localhost:8080/"
        },
        "id": "gpMcLaeNTpSq",
        "outputId": "c25042cd-0752-4258-adb1-b4bce7286c7c"
      },
      "source": [
        "#Import do parse lá no inicio\n",
        "parse('21-09-2021')"
      ],
      "execution_count": null,
      "outputs": [
        {
          "output_type": "execute_result",
          "data": {
            "text/plain": [
              "datetime.datetime(2021, 9, 21, 0, 0)"
            ]
          },
          "metadata": {},
          "execution_count": 14
        }
      ]
    },
    {
      "cell_type": "code",
      "metadata": {
        "id": "c4MSEvVnUMKh",
        "colab": {
          "base_uri": "https://localhost:8080/"
        },
        "outputId": "a8d9bd7f-1079-4e19-fb95-b1bfaa70936a"
      },
      "source": [
        "parse('Sep 21, 2021 09:02 AM')"
      ],
      "execution_count": null,
      "outputs": [
        {
          "output_type": "execute_result",
          "data": {
            "text/plain": [
              "datetime.datetime(2021, 9, 21, 9, 2)"
            ]
          },
          "metadata": {},
          "execution_count": 15
        }
      ]
    },
    {
      "cell_type": "code",
      "metadata": {
        "colab": {
          "base_uri": "https://localhost:8080/"
        },
        "id": "5Hrvi8aiPQd8",
        "outputId": "f5115a77-47f0-4b04-fdf0-4d99851e4e08"
      },
      "source": [
        "#Dia antes do mês, padrão Brasil\n",
        "parse('21/09/2021', dayfirst=True)"
      ],
      "execution_count": null,
      "outputs": [
        {
          "output_type": "execute_result",
          "data": {
            "text/plain": [
              "datetime.datetime(2021, 9, 21, 0, 0)"
            ]
          },
          "metadata": {},
          "execution_count": 16
        }
      ]
    },
    {
      "cell_type": "code",
      "metadata": {
        "colab": {
          "base_uri": "https://localhost:8080/"
        },
        "id": "DHgtlE1IPZ0_",
        "outputId": "34b75c61-df87-4449-f802-7794b9b9ae79"
      },
      "source": [
        "datastrs = ['2021-09-21 09:04:00', '2021-09-21 09:05:00']\n",
        "pd.to_datetime(datastrs)"
      ],
      "execution_count": null,
      "outputs": [
        {
          "output_type": "execute_result",
          "data": {
            "text/plain": [
              "DatetimeIndex(['2021-09-21 09:04:00', '2021-09-21 09:05:00'], dtype='datetime64[ns]', freq=None)"
            ]
          },
          "metadata": {},
          "execution_count": 17
        }
      ]
    },
    {
      "cell_type": "code",
      "metadata": {
        "colab": {
          "base_uri": "https://localhost:8080/"
        },
        "id": "v6l5X6OBP5Xh",
        "outputId": "b32f1bc5-c52b-4f11-ad43-14fba5d86c9a"
      },
      "source": [
        "#Lidar com dados ausentes (None)\n",
        "idx = pd.to_datetime(datestrs + [None])\n",
        "idx"
      ],
      "execution_count": null,
      "outputs": [
        {
          "output_type": "execute_result",
          "data": {
            "text/plain": [
              "DatetimeIndex(['2021-09-19', '2020-09-20', 'NaT'], dtype='datetime64[ns]', freq=None)"
            ]
          },
          "metadata": {},
          "execution_count": 18
        }
      ]
    },
    {
      "cell_type": "code",
      "metadata": {
        "colab": {
          "base_uri": "https://localhost:8080/"
        },
        "id": "GDl2vWwoQLWy",
        "outputId": "f3502d6c-619e-4c7e-9dea-892f0988e81d"
      },
      "source": [
        "#NaT é o valor nulo do pandas para tempo/data (dados de timestamp)\n",
        "idx[2]"
      ],
      "execution_count": null,
      "outputs": [
        {
          "output_type": "execute_result",
          "data": {
            "text/plain": [
              "NaT"
            ]
          },
          "metadata": {},
          "execution_count": 19
        }
      ]
    },
    {
      "cell_type": "code",
      "metadata": {
        "colab": {
          "base_uri": "https://localhost:8080/"
        },
        "id": "8pciCTjdQbIU",
        "outputId": "4944c152-63cc-47b3-cff2-78820785d053"
      },
      "source": [
        "pd.isnull(idx)"
      ],
      "execution_count": null,
      "outputs": [
        {
          "output_type": "execute_result",
          "data": {
            "text/plain": [
              "array([False, False,  True])"
            ]
          },
          "metadata": {},
          "execution_count": 20
        }
      ]
    },
    {
      "cell_type": "markdown",
      "metadata": {
        "id": "7XtK_VweRoDr"
      },
      "source": [
        "# **Básico sobre séries temporais**"
      ]
    },
    {
      "cell_type": "code",
      "metadata": {
        "id": "UVzkp-WUQdGX"
      },
      "source": [
        "#import datetime no inicio\n",
        "dates = [datetime(2011, 1, 2), datetime(2011, 1, 5), datetime(2011, 1, 7), datetime(2011, 1, 8), datetime(2011,1,10), datetime(2011, 1, 12)]"
      ],
      "execution_count": null,
      "outputs": []
    },
    {
      "cell_type": "code",
      "metadata": {
        "colab": {
          "base_uri": "https://localhost:8080/"
        },
        "id": "6pBZ6Mq4UfU-",
        "outputId": "1f6a8a6d-5956-4056-9715-f9f2e413410b"
      },
      "source": [
        "ts = pd.Series(np.random.randn(6), index=dates)\n",
        "ts"
      ],
      "execution_count": null,
      "outputs": [
        {
          "output_type": "execute_result",
          "data": {
            "text/plain": [
              "2011-01-02   -0.684071\n",
              "2011-01-05    0.081168\n",
              "2011-01-07   -1.106606\n",
              "2011-01-08    1.353748\n",
              "2011-01-10   -0.530924\n",
              "2011-01-12    1.887462\n",
              "dtype: float64"
            ]
          },
          "metadata": {},
          "execution_count": 22
        }
      ]
    },
    {
      "cell_type": "code",
      "metadata": {
        "colab": {
          "base_uri": "https://localhost:8080/"
        },
        "id": "85_4AyetUmaW",
        "outputId": "2ff2a4c8-e80c-48ec-fedd-d7690b696b4b"
      },
      "source": [
        "ts.index"
      ],
      "execution_count": null,
      "outputs": [
        {
          "output_type": "execute_result",
          "data": {
            "text/plain": [
              "DatetimeIndex(['2011-01-02', '2011-01-05', '2011-01-07', '2011-01-08',\n",
              "               '2011-01-10', '2011-01-12'],\n",
              "              dtype='datetime64[ns]', freq=None)"
            ]
          },
          "metadata": {},
          "execution_count": 23
        }
      ]
    },
    {
      "cell_type": "code",
      "metadata": {
        "colab": {
          "base_uri": "https://localhost:8080/"
        },
        "id": "7AI5D0V2Ux8_",
        "outputId": "516e3490-b13f-48de-d052-650419e8c1b5"
      },
      "source": [
        "#[::2]seleciona um elemento a cada dois\n",
        "ts + ts[::2]"
      ],
      "execution_count": null,
      "outputs": [
        {
          "output_type": "execute_result",
          "data": {
            "text/plain": [
              "2011-01-02   -1.368142\n",
              "2011-01-05         NaN\n",
              "2011-01-07   -2.213212\n",
              "2011-01-08         NaN\n",
              "2011-01-10   -1.061847\n",
              "2011-01-12         NaN\n",
              "dtype: float64"
            ]
          },
          "metadata": {},
          "execution_count": 24
        }
      ]
    },
    {
      "cell_type": "code",
      "metadata": {
        "colab": {
          "base_uri": "https://localhost:8080/"
        },
        "id": "AiUvtiD3U4UH",
        "outputId": "17c02353-3ba8-428d-af22-4a27a695f5ac"
      },
      "source": [
        "ts.index.dtype"
      ],
      "execution_count": null,
      "outputs": [
        {
          "output_type": "execute_result",
          "data": {
            "text/plain": [
              "dtype('<M8[ns]')"
            ]
          },
          "metadata": {},
          "execution_count": 25
        }
      ]
    },
    {
      "cell_type": "code",
      "metadata": {
        "colab": {
          "base_uri": "https://localhost:8080/"
        },
        "id": "w5z_7YThVJv3",
        "outputId": "71362a19-7d4b-41cf-e1fb-8308e56f7c2b"
      },
      "source": [
        "stamp = ts.index[0]\n",
        "stamp"
      ],
      "execution_count": null,
      "outputs": [
        {
          "output_type": "execute_result",
          "data": {
            "text/plain": [
              "Timestamp('2011-01-02 00:00:00')"
            ]
          },
          "metadata": {},
          "execution_count": 26
        }
      ]
    },
    {
      "cell_type": "markdown",
      "metadata": {
        "id": "BLRtURPFVbOy"
      },
      "source": [
        "**Indexação, seleção e geração de subconjuntos**"
      ]
    },
    {
      "cell_type": "code",
      "metadata": {
        "colab": {
          "base_uri": "https://localhost:8080/"
        },
        "id": "Vh0vpj3BVNWH",
        "outputId": "e5a2ba29-1fba-4f90-d14d-ebeb60ec6aa0"
      },
      "source": [
        "stamp = ts.index[2]\n",
        "ts[stamp]"
      ],
      "execution_count": null,
      "outputs": [
        {
          "output_type": "execute_result",
          "data": {
            "text/plain": [
              "-1.1066061780998508"
            ]
          },
          "metadata": {},
          "execution_count": 27
        }
      ]
    },
    {
      "cell_type": "code",
      "metadata": {
        "colab": {
          "base_uri": "https://localhost:8080/"
        },
        "id": "HG1kMmGMVlrX",
        "outputId": "ba7d01aa-ab15-4913-d359-fcecf8cc0c25"
      },
      "source": [
        "#Passar uma string para ser interpretada como data\n",
        "ts['1/10/2011']"
      ],
      "execution_count": null,
      "outputs": [
        {
          "output_type": "execute_result",
          "data": {
            "text/plain": [
              "-0.530923652479331"
            ]
          },
          "metadata": {},
          "execution_count": 28
        }
      ]
    },
    {
      "cell_type": "code",
      "metadata": {
        "colab": {
          "base_uri": "https://localhost:8080/"
        },
        "id": "XFTGvpSKV_dg",
        "outputId": "4f3cb938-64e0-4c6f-d2aa-5ba5726a1727"
      },
      "source": [
        "ts['20110110']"
      ],
      "execution_count": null,
      "outputs": [
        {
          "output_type": "execute_result",
          "data": {
            "text/plain": [
              "-0.530923652479331"
            ]
          },
          "metadata": {},
          "execution_count": 29
        }
      ]
    },
    {
      "cell_type": "code",
      "metadata": {
        "colab": {
          "base_uri": "https://localhost:8080/"
        },
        "id": "3BndCk-dWGQQ",
        "outputId": "40833017-ec7c-4050-94cc-25da9b233133"
      },
      "source": [
        "#series temporais mais longas podem selecionar o ano ou só o ano e o mês para trazer trechos do dataframe\n",
        "longer_ts = pd.Series(np.random.randn(1000), index=pd.date_range('1/1/2000', periods=1000))\n",
        "longer_ts"
      ],
      "execution_count": null,
      "outputs": [
        {
          "output_type": "execute_result",
          "data": {
            "text/plain": [
              "2000-01-01    0.199748\n",
              "2000-01-02    1.260583\n",
              "2000-01-03   -1.892064\n",
              "2000-01-04   -0.280157\n",
              "2000-01-05   -0.182719\n",
              "                ...   \n",
              "2002-09-22    0.550165\n",
              "2002-09-23    0.557361\n",
              "2002-09-24   -0.392346\n",
              "2002-09-25    1.958250\n",
              "2002-09-26    2.116483\n",
              "Freq: D, Length: 1000, dtype: float64"
            ]
          },
          "metadata": {},
          "execution_count": 30
        }
      ]
    },
    {
      "cell_type": "code",
      "metadata": {
        "colab": {
          "base_uri": "https://localhost:8080/"
        },
        "id": "2_VeGWZYWlo7",
        "outputId": "d71d2921-c5ec-4d04-8ce1-78304a07c9f1"
      },
      "source": [
        "longer_ts['2001']"
      ],
      "execution_count": null,
      "outputs": [
        {
          "output_type": "execute_result",
          "data": {
            "text/plain": [
              "2001-01-01   -0.335982\n",
              "2001-01-02   -1.338210\n",
              "2001-01-03   -0.267116\n",
              "2001-01-04   -1.065923\n",
              "2001-01-05   -1.497908\n",
              "                ...   \n",
              "2001-12-27    0.084817\n",
              "2001-12-28   -0.619236\n",
              "2001-12-29   -1.090974\n",
              "2001-12-30   -0.163828\n",
              "2001-12-31   -0.728719\n",
              "Freq: D, Length: 365, dtype: float64"
            ]
          },
          "metadata": {},
          "execution_count": 31
        }
      ]
    },
    {
      "cell_type": "code",
      "metadata": {
        "colab": {
          "base_uri": "https://localhost:8080/"
        },
        "id": "kDnha72PXCdX",
        "outputId": "05dcc578-d5b2-4983-ffc0-fa1e6fc9a775"
      },
      "source": [
        "longer_ts['2001-05']"
      ],
      "execution_count": null,
      "outputs": [
        {
          "output_type": "execute_result",
          "data": {
            "text/plain": [
              "2001-05-01    1.869002\n",
              "2001-05-02    1.467071\n",
              "2001-05-03   -0.628286\n",
              "2001-05-04    0.713497\n",
              "2001-05-05    0.394756\n",
              "2001-05-06   -1.709258\n",
              "2001-05-07   -1.214505\n",
              "2001-05-08    2.366634\n",
              "2001-05-09    0.007984\n",
              "2001-05-10    1.860136\n",
              "2001-05-11   -0.550236\n",
              "2001-05-12   -0.559171\n",
              "2001-05-13    0.442912\n",
              "2001-05-14    1.268620\n",
              "2001-05-15   -0.735149\n",
              "2001-05-16    1.167073\n",
              "2001-05-17   -2.038632\n",
              "2001-05-18    0.348276\n",
              "2001-05-19    1.997680\n",
              "2001-05-20    0.059078\n",
              "2001-05-21    0.012315\n",
              "2001-05-22    0.592081\n",
              "2001-05-23   -1.111719\n",
              "2001-05-24   -0.298991\n",
              "2001-05-25   -0.008758\n",
              "2001-05-26    0.727762\n",
              "2001-05-27    0.788274\n",
              "2001-05-28    0.182244\n",
              "2001-05-29    0.249627\n",
              "2001-05-30    3.162677\n",
              "2001-05-31   -0.207069\n",
              "Freq: D, dtype: float64"
            ]
          },
          "metadata": {},
          "execution_count": 32
        }
      ]
    },
    {
      "cell_type": "code",
      "metadata": {
        "colab": {
          "base_uri": "https://localhost:8080/"
        },
        "id": "LW8MBFEnXjgQ",
        "outputId": "0522c54c-cc2c-4098-af21-cb3da0ee76b5"
      },
      "source": [
        "ts[datetime(2011, 1, 7):]"
      ],
      "execution_count": null,
      "outputs": [
        {
          "output_type": "execute_result",
          "data": {
            "text/plain": [
              "2011-01-07   -1.106606\n",
              "2011-01-08    1.353748\n",
              "2011-01-10   -0.530924\n",
              "2011-01-12    1.887462\n",
              "dtype: float64"
            ]
          },
          "metadata": {},
          "execution_count": 33
        }
      ]
    },
    {
      "cell_type": "code",
      "metadata": {
        "colab": {
          "base_uri": "https://localhost:8080/"
        },
        "id": "BaDHkiHKXspx",
        "outputId": "635dc11c-16c2-43bd-9aea-928f7a6e070b"
      },
      "source": [
        "ts"
      ],
      "execution_count": null,
      "outputs": [
        {
          "output_type": "execute_result",
          "data": {
            "text/plain": [
              "2011-01-02   -0.684071\n",
              "2011-01-05    0.081168\n",
              "2011-01-07   -1.106606\n",
              "2011-01-08    1.353748\n",
              "2011-01-10   -0.530924\n",
              "2011-01-12    1.887462\n",
              "dtype: float64"
            ]
          },
          "metadata": {},
          "execution_count": 34
        }
      ]
    },
    {
      "cell_type": "code",
      "metadata": {
        "colab": {
          "base_uri": "https://localhost:8080/"
        },
        "id": "hHOCmZS6Xxdh",
        "outputId": "1209e661-c37c-4a3c-91a2-535d26739a67"
      },
      "source": [
        "ts['1/6/2011':'1/11/2011']"
      ],
      "execution_count": null,
      "outputs": [
        {
          "output_type": "execute_result",
          "data": {
            "text/plain": [
              "2011-01-07   -1.106606\n",
              "2011-01-08    1.353748\n",
              "2011-01-10   -0.530924\n",
              "dtype: float64"
            ]
          },
          "metadata": {},
          "execution_count": 35
        }
      ]
    },
    {
      "cell_type": "code",
      "metadata": {
        "colab": {
          "base_uri": "https://localhost:8080/"
        },
        "id": "9ZnQz6f_X6kH",
        "outputId": "b48e1c97-706c-4796-a418-4dc0a86226ca"
      },
      "source": [
        "#Fatiar um periodo entre duas datas\n",
        "ts.truncate(after='1/9/2011')"
      ],
      "execution_count": null,
      "outputs": [
        {
          "output_type": "execute_result",
          "data": {
            "text/plain": [
              "2011-01-02   -0.684071\n",
              "2011-01-05    0.081168\n",
              "2011-01-07   -1.106606\n",
              "2011-01-08    1.353748\n",
              "dtype: float64"
            ]
          },
          "metadata": {},
          "execution_count": 36
        }
      ]
    },
    {
      "cell_type": "code",
      "metadata": {
        "id": "ho75e_B9YOHR"
      },
      "source": [
        "dates = pd.date_range('1/1/2000', periods=100, freq='W-WED')\n",
        "long_df = pd.DataFrame(np.random.randn(100,4), index=dates, columns=['Colorado', 'Texas', 'New York', 'Ohio'])"
      ],
      "execution_count": null,
      "outputs": []
    },
    {
      "cell_type": "code",
      "metadata": {
        "colab": {
          "base_uri": "https://localhost:8080/"
        },
        "id": "q3OIscIpYqi5",
        "outputId": "e187be64-e934-4e98-bd2e-3a184abe0164"
      },
      "source": [
        "long_df.loc['5-2001']"
      ],
      "execution_count": null,
      "outputs": [
        {
          "output_type": "execute_result",
          "data": {
            "text/html": [
              "<div>\n",
              "<style scoped>\n",
              "    .dataframe tbody tr th:only-of-type {\n",
              "        vertical-align: middle;\n",
              "    }\n",
              "\n",
              "    .dataframe tbody tr th {\n",
              "        vertical-align: top;\n",
              "    }\n",
              "\n",
              "    .dataframe thead th {\n",
              "        text-align: right;\n",
              "    }\n",
              "</style>\n",
              "<table border=\"1\" class=\"dataframe\">\n",
              "  <thead>\n",
              "    <tr style=\"text-align: right;\">\n",
              "      <th></th>\n",
              "      <th>Colorado</th>\n",
              "      <th>Texas</th>\n",
              "      <th>New York</th>\n",
              "      <th>Ohio</th>\n",
              "    </tr>\n",
              "  </thead>\n",
              "  <tbody>\n",
              "    <tr>\n",
              "      <th>2001-05-02</th>\n",
              "      <td>-0.451923</td>\n",
              "      <td>-0.733515</td>\n",
              "      <td>0.279948</td>\n",
              "      <td>-0.959145</td>\n",
              "    </tr>\n",
              "    <tr>\n",
              "      <th>2001-05-09</th>\n",
              "      <td>-0.599619</td>\n",
              "      <td>-0.071136</td>\n",
              "      <td>0.608583</td>\n",
              "      <td>1.035421</td>\n",
              "    </tr>\n",
              "    <tr>\n",
              "      <th>2001-05-16</th>\n",
              "      <td>1.280251</td>\n",
              "      <td>0.185831</td>\n",
              "      <td>-0.967143</td>\n",
              "      <td>-1.470001</td>\n",
              "    </tr>\n",
              "    <tr>\n",
              "      <th>2001-05-23</th>\n",
              "      <td>1.103447</td>\n",
              "      <td>-0.385917</td>\n",
              "      <td>-0.197072</td>\n",
              "      <td>0.208652</td>\n",
              "    </tr>\n",
              "    <tr>\n",
              "      <th>2001-05-30</th>\n",
              "      <td>1.021483</td>\n",
              "      <td>1.050951</td>\n",
              "      <td>0.723737</td>\n",
              "      <td>1.067807</td>\n",
              "    </tr>\n",
              "  </tbody>\n",
              "</table>\n",
              "</div>"
            ],
            "text/plain": [
              "            Colorado     Texas  New York      Ohio\n",
              "2001-05-02 -0.451923 -0.733515  0.279948 -0.959145\n",
              "2001-05-09 -0.599619 -0.071136  0.608583  1.035421\n",
              "2001-05-16  1.280251  0.185831 -0.967143 -1.470001\n",
              "2001-05-23  1.103447 -0.385917 -0.197072  0.208652\n",
              "2001-05-30  1.021483  1.050951  0.723737  1.067807"
            ]
          },
          "metadata": {},
          "execution_count": 38
        }
      ]
    },
    {
      "cell_type": "markdown",
      "metadata": {
        "id": "Z8L966ZHY76F"
      },
      "source": [
        "**Séries temporais com índices duplicados**"
      ]
    },
    {
      "cell_type": "code",
      "metadata": {
        "id": "afjWyItVYuQR"
      },
      "source": [
        "dates = pd.DatetimeIndex(['1/1/2000', '1/2/2000', '1/2/2000', '1/2/2000', '1/3/2000'])\n",
        "dup_ts = pd.Series(np.arange(5), index=dates)"
      ],
      "execution_count": null,
      "outputs": []
    },
    {
      "cell_type": "code",
      "metadata": {
        "colab": {
          "base_uri": "https://localhost:8080/"
        },
        "id": "x1DA9E3jY3TK",
        "outputId": "ea92bb05-8759-4bb7-9bd3-ce59e1171cb5"
      },
      "source": [
        "dup_ts"
      ],
      "execution_count": null,
      "outputs": [
        {
          "output_type": "execute_result",
          "data": {
            "text/plain": [
              "2000-01-01    0\n",
              "2000-01-02    1\n",
              "2000-01-02    2\n",
              "2000-01-02    3\n",
              "2000-01-03    4\n",
              "dtype: int64"
            ]
          },
          "metadata": {},
          "execution_count": 40
        }
      ]
    },
    {
      "cell_type": "code",
      "metadata": {
        "colab": {
          "base_uri": "https://localhost:8080/"
        },
        "id": "rzw6l3hsZY9B",
        "outputId": "c9c83605-76c4-443f-87e6-d8262b0e2659"
      },
      "source": [
        "dup_ts.index.is_unique"
      ],
      "execution_count": null,
      "outputs": [
        {
          "output_type": "execute_result",
          "data": {
            "text/plain": [
              "False"
            ]
          },
          "metadata": {},
          "execution_count": 41
        }
      ]
    },
    {
      "cell_type": "code",
      "metadata": {
        "colab": {
          "base_uri": "https://localhost:8080/"
        },
        "id": "eGVfqaQlZlap",
        "outputId": "6fe130e0-ab05-4fdf-f6ad-7b01a9a6c07f"
      },
      "source": [
        "dup_ts['1/3/2000']"
      ],
      "execution_count": null,
      "outputs": [
        {
          "output_type": "execute_result",
          "data": {
            "text/plain": [
              "4"
            ]
          },
          "metadata": {},
          "execution_count": 42
        }
      ]
    },
    {
      "cell_type": "code",
      "metadata": {
        "colab": {
          "base_uri": "https://localhost:8080/"
        },
        "id": "5runIuRUaNxw",
        "outputId": "dbb968dc-c078-4391-bccb-4d23cddcb4af"
      },
      "source": [
        "dup_ts['1/2/2000']"
      ],
      "execution_count": null,
      "outputs": [
        {
          "output_type": "execute_result",
          "data": {
            "text/plain": [
              "2000-01-02    1\n",
              "2000-01-02    2\n",
              "2000-01-02    3\n",
              "dtype: int64"
            ]
          },
          "metadata": {},
          "execution_count": 43
        }
      ]
    },
    {
      "cell_type": "code",
      "metadata": {
        "colab": {
          "base_uri": "https://localhost:8080/"
        },
        "id": "PdagmST_aQ8e",
        "outputId": "f1ccaa22-408c-4e9c-9400-dd8fef4c6eee"
      },
      "source": [
        "#agregar os dados únicos\n",
        "grouped = dup_ts.groupby(level=0)\n",
        "grouped.mean()"
      ],
      "execution_count": null,
      "outputs": [
        {
          "output_type": "execute_result",
          "data": {
            "text/plain": [
              "2000-01-01    0\n",
              "2000-01-02    2\n",
              "2000-01-03    4\n",
              "dtype: int64"
            ]
          },
          "metadata": {},
          "execution_count": 44
        }
      ]
    },
    {
      "cell_type": "code",
      "metadata": {
        "colab": {
          "base_uri": "https://localhost:8080/"
        },
        "id": "1gTqzvekamHy",
        "outputId": "7a46c7a5-3b72-45f5-aebd-7d561cdb7016"
      },
      "source": [
        "grouped.count()"
      ],
      "execution_count": null,
      "outputs": [
        {
          "output_type": "execute_result",
          "data": {
            "text/plain": [
              "2000-01-01    1\n",
              "2000-01-02    3\n",
              "2000-01-03    1\n",
              "dtype: int64"
            ]
          },
          "metadata": {},
          "execution_count": 45
        }
      ]
    },
    {
      "cell_type": "markdown",
      "metadata": {
        "id": "3t0w1nQUa9y9"
      },
      "source": [
        "# **Intervalos de datas, frequências e deslocamentos**"
      ]
    },
    {
      "cell_type": "code",
      "metadata": {
        "colab": {
          "base_uri": "https://localhost:8080/"
        },
        "id": "3pAY_vgza4xh",
        "outputId": "e17fa12f-a837-4389-d1b3-7d1aa4d140e8"
      },
      "source": [
        "ts"
      ],
      "execution_count": null,
      "outputs": [
        {
          "output_type": "execute_result",
          "data": {
            "text/plain": [
              "2011-01-02   -0.684071\n",
              "2011-01-05    0.081168\n",
              "2011-01-07   -1.106606\n",
              "2011-01-08    1.353748\n",
              "2011-01-10   -0.530924\n",
              "2011-01-12    1.887462\n",
              "dtype: float64"
            ]
          },
          "metadata": {},
          "execution_count": 46
        }
      ]
    },
    {
      "cell_type": "code",
      "metadata": {
        "id": "yh5kJf_lbxo5"
      },
      "source": [
        "#String 'D' é o equivalente a frequência diária\n",
        "resampler = ts.resample('D')\n"
      ],
      "execution_count": null,
      "outputs": []
    },
    {
      "cell_type": "markdown",
      "metadata": {
        "id": "aowxCCBpcIaF"
      },
      "source": [
        "**Gerando intervalos de datas**"
      ]
    },
    {
      "cell_type": "code",
      "metadata": {
        "colab": {
          "base_uri": "https://localhost:8080/"
        },
        "id": "Ts-VTmwsb2VB",
        "outputId": "31ab9ff3-5b7a-4f7a-fa4d-5fac75bda418"
      },
      "source": [
        "#pandas.date_range gera index com tamanho especifico\n",
        "index = pd.date_range('2012-04-01', '2012-06-01')\n",
        "index"
      ],
      "execution_count": null,
      "outputs": [
        {
          "output_type": "execute_result",
          "data": {
            "text/plain": [
              "DatetimeIndex(['2012-04-01', '2012-04-02', '2012-04-03', '2012-04-04',\n",
              "               '2012-04-05', '2012-04-06', '2012-04-07', '2012-04-08',\n",
              "               '2012-04-09', '2012-04-10', '2012-04-11', '2012-04-12',\n",
              "               '2012-04-13', '2012-04-14', '2012-04-15', '2012-04-16',\n",
              "               '2012-04-17', '2012-04-18', '2012-04-19', '2012-04-20',\n",
              "               '2012-04-21', '2012-04-22', '2012-04-23', '2012-04-24',\n",
              "               '2012-04-25', '2012-04-26', '2012-04-27', '2012-04-28',\n",
              "               '2012-04-29', '2012-04-30', '2012-05-01', '2012-05-02',\n",
              "               '2012-05-03', '2012-05-04', '2012-05-05', '2012-05-06',\n",
              "               '2012-05-07', '2012-05-08', '2012-05-09', '2012-05-10',\n",
              "               '2012-05-11', '2012-05-12', '2012-05-13', '2012-05-14',\n",
              "               '2012-05-15', '2012-05-16', '2012-05-17', '2012-05-18',\n",
              "               '2012-05-19', '2012-05-20', '2012-05-21', '2012-05-22',\n",
              "               '2012-05-23', '2012-05-24', '2012-05-25', '2012-05-26',\n",
              "               '2012-05-27', '2012-05-28', '2012-05-29', '2012-05-30',\n",
              "               '2012-05-31', '2012-06-01'],\n",
              "              dtype='datetime64[ns]', freq='D')"
            ]
          },
          "metadata": {},
          "execution_count": 48
        }
      ]
    },
    {
      "cell_type": "code",
      "metadata": {
        "colab": {
          "base_uri": "https://localhost:8080/"
        },
        "id": "r0u6n9aIcgZd",
        "outputId": "b68f098b-13c5-41d4-aa40-7f36747477a2"
      },
      "source": [
        "#Se passar só a data do inicio ou do fim, precisa passar o periodo\n",
        "pd.date_range(start='2021-08-01', periods=20)"
      ],
      "execution_count": null,
      "outputs": [
        {
          "output_type": "execute_result",
          "data": {
            "text/plain": [
              "DatetimeIndex(['2021-08-01', '2021-08-02', '2021-08-03', '2021-08-04',\n",
              "               '2021-08-05', '2021-08-06', '2021-08-07', '2021-08-08',\n",
              "               '2021-08-09', '2021-08-10', '2021-08-11', '2021-08-12',\n",
              "               '2021-08-13', '2021-08-14', '2021-08-15', '2021-08-16',\n",
              "               '2021-08-17', '2021-08-18', '2021-08-19', '2021-08-20'],\n",
              "              dtype='datetime64[ns]', freq='D')"
            ]
          },
          "metadata": {},
          "execution_count": 49
        }
      ]
    },
    {
      "cell_type": "code",
      "metadata": {
        "colab": {
          "base_uri": "https://localhost:8080/"
        },
        "id": "Or8TX0mIeaY8",
        "outputId": "1e775982-90ae-4a34-c3e2-3ae4b51bd43c"
      },
      "source": [
        "pd.date_range(end='2021-09-01', periods=20)"
      ],
      "execution_count": null,
      "outputs": [
        {
          "output_type": "execute_result",
          "data": {
            "text/plain": [
              "DatetimeIndex(['2021-08-13', '2021-08-14', '2021-08-15', '2021-08-16',\n",
              "               '2021-08-17', '2021-08-18', '2021-08-19', '2021-08-20',\n",
              "               '2021-08-21', '2021-08-22', '2021-08-23', '2021-08-24',\n",
              "               '2021-08-25', '2021-08-26', '2021-08-27', '2021-08-28',\n",
              "               '2021-08-29', '2021-08-30', '2021-08-31', '2021-09-01'],\n",
              "              dtype='datetime64[ns]', freq='D')"
            ]
          },
          "metadata": {},
          "execution_count": 50
        }
      ]
    },
    {
      "cell_type": "code",
      "metadata": {
        "colab": {
          "base_uri": "https://localhost:8080/"
        },
        "id": "aK4Jm3bEemir",
        "outputId": "3047ff6f-3185-4ed0-af6e-153ebf357dd1"
      },
      "source": [
        "#'BM' trás um trecho de data contendo o ultimo dia útil de cada mês\n",
        "pd.date_range('2020-01-01','2021-01-01', freq='BM')"
      ],
      "execution_count": null,
      "outputs": [
        {
          "output_type": "execute_result",
          "data": {
            "text/plain": [
              "DatetimeIndex(['2020-01-31', '2020-02-28', '2020-03-31', '2020-04-30',\n",
              "               '2020-05-29', '2020-06-30', '2020-07-31', '2020-08-31',\n",
              "               '2020-09-30', '2020-10-30', '2020-11-30', '2020-12-31'],\n",
              "              dtype='datetime64[ns]', freq='BM')"
            ]
          },
          "metadata": {},
          "execution_count": 51
        }
      ]
    },
    {
      "cell_type": "code",
      "metadata": {
        "colab": {
          "base_uri": "https://localhost:8080/"
        },
        "id": "HOxFxfrLfY6o",
        "outputId": "d48a1677-6e4a-4711-caf2-8e528dd9bc7c"
      },
      "source": [
        "pd.date_range('2021-07-03 12:56:31', periods=5)"
      ],
      "execution_count": null,
      "outputs": [
        {
          "output_type": "execute_result",
          "data": {
            "text/plain": [
              "DatetimeIndex(['2021-07-03 12:56:31', '2021-07-04 12:56:31',\n",
              "               '2021-07-05 12:56:31', '2021-07-06 12:56:31',\n",
              "               '2021-07-07 12:56:31'],\n",
              "              dtype='datetime64[ns]', freq='D')"
            ]
          },
          "metadata": {},
          "execution_count": 52
        }
      ]
    },
    {
      "cell_type": "code",
      "metadata": {
        "colab": {
          "base_uri": "https://localhost:8080/"
        },
        "id": "sPB-Q1VjgqbE",
        "outputId": "2e649345-c239-48f5-ae29-68f421975faa"
      },
      "source": [
        "#normalizar horários com normalize\n",
        "pd.date_range('2021-08-02 12:56:31', periods=5, normalize=True)"
      ],
      "execution_count": null,
      "outputs": [
        {
          "output_type": "execute_result",
          "data": {
            "text/plain": [
              "DatetimeIndex(['2021-08-02', '2021-08-03', '2021-08-04', '2021-08-05',\n",
              "               '2021-08-06'],\n",
              "              dtype='datetime64[ns]', freq='D')"
            ]
          },
          "metadata": {},
          "execution_count": 53
        }
      ]
    },
    {
      "cell_type": "markdown",
      "metadata": {
        "id": "SC29L4V3hc2p"
      },
      "source": [
        "**Frequências e offset de datas**"
      ]
    },
    {
      "cell_type": "code",
      "metadata": {
        "id": "YBXxzwaahaus",
        "colab": {
          "base_uri": "https://localhost:8080/"
        },
        "outputId": "9629888a-0b8b-466d-911f-1acf961f2800"
      },
      "source": [
        "#Import Hour e Minute lá em cima\n",
        "hour = Hour()\n",
        "hour"
      ],
      "execution_count": null,
      "outputs": [
        {
          "output_type": "execute_result",
          "data": {
            "text/plain": [
              "<Hour>"
            ]
          },
          "metadata": {},
          "execution_count": 55
        }
      ]
    },
    {
      "cell_type": "code",
      "metadata": {
        "colab": {
          "base_uri": "https://localhost:8080/"
        },
        "id": "4ZunGp3d2hdZ",
        "outputId": "975d94a3-e44f-4942-8621-4da288e5e6e7"
      },
      "source": [
        "four_hours = Hour(4)\n",
        "four_hours"
      ],
      "execution_count": null,
      "outputs": [
        {
          "output_type": "execute_result",
          "data": {
            "text/plain": [
              "<4 * Hours>"
            ]
          },
          "metadata": {},
          "execution_count": 57
        }
      ]
    },
    {
      "cell_type": "code",
      "metadata": {
        "colab": {
          "base_uri": "https://localhost:8080/"
        },
        "id": "vUa2abgG2rsC",
        "outputId": "a2f3b542-25fc-4ee6-e6e2-0ada4ae54642"
      },
      "source": [
        "pd.date_range('2000-01-01', '2001-01-03 23:59', freq='4h')"
      ],
      "execution_count": null,
      "outputs": [
        {
          "output_type": "execute_result",
          "data": {
            "text/plain": [
              "DatetimeIndex(['2000-01-01 00:00:00', '2000-01-01 04:00:00',\n",
              "               '2000-01-01 08:00:00', '2000-01-01 12:00:00',\n",
              "               '2000-01-01 16:00:00', '2000-01-01 20:00:00',\n",
              "               '2000-01-02 00:00:00', '2000-01-02 04:00:00',\n",
              "               '2000-01-02 08:00:00', '2000-01-02 12:00:00',\n",
              "               ...\n",
              "               '2001-01-02 08:00:00', '2001-01-02 12:00:00',\n",
              "               '2001-01-02 16:00:00', '2001-01-02 20:00:00',\n",
              "               '2001-01-03 00:00:00', '2001-01-03 04:00:00',\n",
              "               '2001-01-03 08:00:00', '2001-01-03 12:00:00',\n",
              "               '2001-01-03 16:00:00', '2001-01-03 20:00:00'],\n",
              "              dtype='datetime64[ns]', length=2214, freq='4H')"
            ]
          },
          "metadata": {},
          "execution_count": 58
        }
      ]
    },
    {
      "cell_type": "code",
      "metadata": {
        "colab": {
          "base_uri": "https://localhost:8080/"
        },
        "id": "gSJZ-1YL3CFh",
        "outputId": "bad73b1b-a7f1-410c-9593-9a64a159897a"
      },
      "source": [
        "Hour(2) + Minute(30)"
      ],
      "execution_count": null,
      "outputs": [
        {
          "output_type": "execute_result",
          "data": {
            "text/plain": [
              "<150 * Minutes>"
            ]
          },
          "metadata": {},
          "execution_count": 59
        }
      ]
    },
    {
      "cell_type": "code",
      "metadata": {
        "colab": {
          "base_uri": "https://localhost:8080/"
        },
        "id": "rF2VBf_U3Vs5",
        "outputId": "8dcc0ca1-4c62-47ee-e245-ba994d0d316e"
      },
      "source": [
        "pd.date_range('2000-01-01', periods=10, freq='1h30min')"
      ],
      "execution_count": null,
      "outputs": [
        {
          "output_type": "execute_result",
          "data": {
            "text/plain": [
              "DatetimeIndex(['2000-01-01 00:00:00', '2000-01-01 01:30:00',\n",
              "               '2000-01-01 03:00:00', '2000-01-01 04:30:00',\n",
              "               '2000-01-01 06:00:00', '2000-01-01 07:30:00',\n",
              "               '2000-01-01 09:00:00', '2000-01-01 10:30:00',\n",
              "               '2000-01-01 12:00:00', '2000-01-01 13:30:00'],\n",
              "              dtype='datetime64[ns]', freq='90T')"
            ]
          },
          "metadata": {},
          "execution_count": 60
        }
      ]
    },
    {
      "cell_type": "markdown",
      "metadata": {
        "id": "ePXHbRb338ex"
      },
      "source": [
        "**Datas com a semana do mês**"
      ]
    },
    {
      "cell_type": "code",
      "metadata": {
        "colab": {
          "base_uri": "https://localhost:8080/"
        },
        "id": "si5a_UsP3k3h",
        "outputId": "1602bcbc-8180-4365-faad-ca722adc12c3"
      },
      "source": [
        "rng = pd.date_range('2020-01-01', '2020-09-01', freq='WOM-3FRI')\n",
        "list(rng)"
      ],
      "execution_count": null,
      "outputs": [
        {
          "output_type": "execute_result",
          "data": {
            "text/plain": [
              "[Timestamp('2020-01-17 00:00:00', freq='WOM-3FRI'),\n",
              " Timestamp('2020-02-21 00:00:00', freq='WOM-3FRI'),\n",
              " Timestamp('2020-03-20 00:00:00', freq='WOM-3FRI'),\n",
              " Timestamp('2020-04-17 00:00:00', freq='WOM-3FRI'),\n",
              " Timestamp('2020-05-15 00:00:00', freq='WOM-3FRI'),\n",
              " Timestamp('2020-06-19 00:00:00', freq='WOM-3FRI'),\n",
              " Timestamp('2020-07-17 00:00:00', freq='WOM-3FRI'),\n",
              " Timestamp('2020-08-21 00:00:00', freq='WOM-3FRI')]"
            ]
          },
          "metadata": {},
          "execution_count": 61
        }
      ]
    },
    {
      "cell_type": "markdown",
      "metadata": {
        "id": "jtwEV5zO4XSU"
      },
      "source": [
        "**Deslocamento de datas (adiantando e atrasando)**"
      ]
    },
    {
      "cell_type": "code",
      "metadata": {
        "colab": {
          "base_uri": "https://localhost:8080/"
        },
        "id": "ZfiSsPnD4QZv",
        "outputId": "1698dd08-751e-48c7-b526-7db2e6315060"
      },
      "source": [
        "ts = pd.Series(np.random.randn(4), index=pd.date_range('1/1/2020', periods=4, freq='M'))\n",
        "ts"
      ],
      "execution_count": null,
      "outputs": [
        {
          "output_type": "execute_result",
          "data": {
            "text/plain": [
              "2020-01-31    1.654308\n",
              "2020-02-29    0.704188\n",
              "2020-03-31   -1.012582\n",
              "2020-04-30   -0.807274\n",
              "Freq: M, dtype: float64"
            ]
          },
          "metadata": {},
          "execution_count": 62
        }
      ]
    },
    {
      "cell_type": "code",
      "metadata": {
        "colab": {
          "base_uri": "https://localhost:8080/"
        },
        "id": "xurt5lU446ib",
        "outputId": "a285f17d-cf7f-4033-8063-78bf1a9de84c"
      },
      "source": [
        "ts.shift(2)"
      ],
      "execution_count": null,
      "outputs": [
        {
          "output_type": "execute_result",
          "data": {
            "text/plain": [
              "2020-01-31         NaN\n",
              "2020-02-29         NaN\n",
              "2020-03-31    1.654308\n",
              "2020-04-30    0.704188\n",
              "Freq: M, dtype: float64"
            ]
          },
          "metadata": {},
          "execution_count": 63
        }
      ]
    },
    {
      "cell_type": "code",
      "metadata": {
        "colab": {
          "base_uri": "https://localhost:8080/"
        },
        "id": "6vPRUloU6W0o",
        "outputId": "c69743f9-49fb-4fc7-9f37-294fd4b2a79d"
      },
      "source": [
        "ts.shift(-2)"
      ],
      "execution_count": null,
      "outputs": [
        {
          "output_type": "execute_result",
          "data": {
            "text/plain": [
              "2020-01-31   -1.012582\n",
              "2020-02-29   -0.807274\n",
              "2020-03-31         NaN\n",
              "2020-04-30         NaN\n",
              "Freq: M, dtype: float64"
            ]
          },
          "metadata": {},
          "execution_count": 64
        }
      ]
    },
    {
      "cell_type": "code",
      "metadata": {
        "colab": {
          "base_uri": "https://localhost:8080/"
        },
        "id": "eQW_vTr76a-o",
        "outputId": "9d359480-fa2d-413e-9b18-578d3c122205"
      },
      "source": [
        "ts/ts.shift(1) - 1"
      ],
      "execution_count": null,
      "outputs": [
        {
          "output_type": "execute_result",
          "data": {
            "text/plain": [
              "2020-01-31         NaN\n",
              "2020-02-29   -0.574331\n",
              "2020-03-31   -2.437942\n",
              "2020-04-30   -0.202756\n",
              "Freq: M, dtype: float64"
            ]
          },
          "metadata": {},
          "execution_count": 65
        }
      ]
    },
    {
      "cell_type": "code",
      "metadata": {
        "colab": {
          "base_uri": "https://localhost:8080/"
        },
        "id": "o54eSDSC6sEg",
        "outputId": "64f342a3-a51f-4c1b-94b8-b69ad5b6b346"
      },
      "source": [
        "ts.shift(2,freq='M')"
      ],
      "execution_count": null,
      "outputs": [
        {
          "output_type": "execute_result",
          "data": {
            "text/plain": [
              "2020-03-31    1.654308\n",
              "2020-04-30    0.704188\n",
              "2020-05-31   -1.012582\n",
              "2020-06-30   -0.807274\n",
              "Freq: M, dtype: float64"
            ]
          },
          "metadata": {},
          "execution_count": 66
        }
      ]
    },
    {
      "cell_type": "code",
      "metadata": {
        "colab": {
          "base_uri": "https://localhost:8080/"
        },
        "id": "cv91xZt76y0g",
        "outputId": "b901d790-d0bd-4f8b-8fb5-058942f9d1b3"
      },
      "source": [
        "ts.shift(3, freq='D')"
      ],
      "execution_count": null,
      "outputs": [
        {
          "output_type": "execute_result",
          "data": {
            "text/plain": [
              "2020-02-03    1.654308\n",
              "2020-03-03    0.704188\n",
              "2020-04-03   -1.012582\n",
              "2020-05-03   -0.807274\n",
              "dtype: float64"
            ]
          },
          "metadata": {},
          "execution_count": 67
        }
      ]
    },
    {
      "cell_type": "code",
      "metadata": {
        "colab": {
          "base_uri": "https://localhost:8080/"
        },
        "id": "y-QIJOER67sw",
        "outputId": "c563b05a-a285-4243-b03e-67c8e392df2a"
      },
      "source": [
        "ts.shift(1, freq='90T') #T é minutos"
      ],
      "execution_count": null,
      "outputs": [
        {
          "output_type": "execute_result",
          "data": {
            "text/plain": [
              "2020-01-31 01:30:00    1.654308\n",
              "2020-02-29 01:30:00    0.704188\n",
              "2020-03-31 01:30:00   -1.012582\n",
              "2020-04-30 01:30:00   -0.807274\n",
              "dtype: float64"
            ]
          },
          "metadata": {},
          "execution_count": 68
        }
      ]
    },
    {
      "cell_type": "markdown",
      "metadata": {
        "id": "oRK-juVI7EyM"
      },
      "source": [
        "**Deslocando datas com offsets**"
      ]
    },
    {
      "cell_type": "code",
      "metadata": {
        "colab": {
          "base_uri": "https://localhost:8080/"
        },
        "id": "42nzV9-V7Aav",
        "outputId": "fbde232f-fcd6-450c-8eb9-d239630c4151"
      },
      "source": [
        "#Import Day e MonthEnd lá em cima\n",
        "now = datetime(2011, 11, 17)\n",
        "now + 3 * Day()"
      ],
      "execution_count": null,
      "outputs": [
        {
          "output_type": "execute_result",
          "data": {
            "text/plain": [
              "Timestamp('2011-11-20 00:00:00')"
            ]
          },
          "metadata": {},
          "execution_count": 71
        }
      ]
    },
    {
      "cell_type": "code",
      "metadata": {
        "colab": {
          "base_uri": "https://localhost:8080/"
        },
        "id": "893C5oRE7ty5",
        "outputId": "6ebde8af-c010-49eb-bbf8-7ee4c8c93ff1"
      },
      "source": [
        "now + MonthEnd()"
      ],
      "execution_count": null,
      "outputs": [
        {
          "output_type": "execute_result",
          "data": {
            "text/plain": [
              "Timestamp('2011-11-30 00:00:00')"
            ]
          },
          "metadata": {},
          "execution_count": 72
        }
      ]
    },
    {
      "cell_type": "code",
      "metadata": {
        "colab": {
          "base_uri": "https://localhost:8080/"
        },
        "id": "mSc8pznA720I",
        "outputId": "9a97fd47-9f90-43b0-91f9-1e2c64d86fa0"
      },
      "source": [
        "now + MonthEnd(2)"
      ],
      "execution_count": null,
      "outputs": [
        {
          "output_type": "execute_result",
          "data": {
            "text/plain": [
              "Timestamp('2011-12-31 00:00:00')"
            ]
          },
          "metadata": {},
          "execution_count": 73
        }
      ]
    },
    {
      "cell_type": "code",
      "metadata": {
        "id": "5rKq2f827674"
      },
      "source": [
        "offset = MonthEnd()"
      ],
      "execution_count": null,
      "outputs": []
    },
    {
      "cell_type": "code",
      "metadata": {
        "colab": {
          "base_uri": "https://localhost:8080/"
        },
        "id": "0-Hn7fso8mXB",
        "outputId": "bfe5c2b8-9617-4704-ce70-871740a7d905"
      },
      "source": [
        "offset.rollforward(now)"
      ],
      "execution_count": null,
      "outputs": [
        {
          "output_type": "execute_result",
          "data": {
            "text/plain": [
              "Timestamp('2011-11-30 00:00:00')"
            ]
          },
          "metadata": {},
          "execution_count": 75
        }
      ]
    },
    {
      "cell_type": "code",
      "metadata": {
        "colab": {
          "base_uri": "https://localhost:8080/"
        },
        "id": "r8OV70pp8qcY",
        "outputId": "2bafbc4a-a751-46dd-f1fe-cef30df118ad"
      },
      "source": [
        "offset.rollback(now)"
      ],
      "execution_count": null,
      "outputs": [
        {
          "output_type": "execute_result",
          "data": {
            "text/plain": [
              "Timestamp('2011-10-31 00:00:00')"
            ]
          },
          "metadata": {},
          "execution_count": 76
        }
      ]
    },
    {
      "cell_type": "code",
      "metadata": {
        "colab": {
          "base_uri": "https://localhost:8080/"
        },
        "id": "YSGuegzn8wQN",
        "outputId": "739c7765-fe2c-4077-d508-248efa4ef4f2"
      },
      "source": [
        "ts = pd.Series(np.random.randn(20), index=pd.date_range('1/15/2000', periods=20, freq='4d'))\n",
        "ts"
      ],
      "execution_count": null,
      "outputs": [
        {
          "output_type": "execute_result",
          "data": {
            "text/plain": [
              "2000-01-15   -0.094457\n",
              "2000-01-19    1.800217\n",
              "2000-01-23   -0.735293\n",
              "2000-01-27   -2.209752\n",
              "2000-01-31    0.867398\n",
              "2000-02-04    1.254965\n",
              "2000-02-08    1.004025\n",
              "2000-02-12    0.246823\n",
              "2000-02-16   -0.492568\n",
              "2000-02-20    0.580840\n",
              "2000-02-24   -0.946012\n",
              "2000-02-28   -1.538934\n",
              "2000-03-03   -0.317310\n",
              "2000-03-07   -0.068492\n",
              "2000-03-11   -0.688859\n",
              "2000-03-15    0.724098\n",
              "2000-03-19    0.338351\n",
              "2000-03-23   -0.454508\n",
              "2000-03-27    0.807206\n",
              "2000-03-31    0.969676\n",
              "Freq: 4D, dtype: float64"
            ]
          },
          "metadata": {},
          "execution_count": 77
        }
      ]
    },
    {
      "cell_type": "code",
      "metadata": {
        "colab": {
          "base_uri": "https://localhost:8080/"
        },
        "id": "AlkstcNX9HqY",
        "outputId": "92e87610-43be-4c92-8300-97ed030b3dab"
      },
      "source": [
        "ts.groupby(offset.rollforward).mean()"
      ],
      "execution_count": null,
      "outputs": [
        {
          "output_type": "execute_result",
          "data": {
            "text/plain": [
              "2000-01-31   -0.074377\n",
              "2000-02-29    0.015591\n",
              "2000-03-31    0.163770\n",
              "dtype: float64"
            ]
          },
          "metadata": {},
          "execution_count": 78
        }
      ]
    },
    {
      "cell_type": "code",
      "metadata": {
        "colab": {
          "base_uri": "https://localhost:8080/"
        },
        "id": "IPfBxigg9Vap",
        "outputId": "15707c73-347b-4634-f1b2-22c2b0ff3289"
      },
      "source": [
        "ts.resample('M').mean()"
      ],
      "execution_count": null,
      "outputs": [
        {
          "output_type": "execute_result",
          "data": {
            "text/plain": [
              "2000-01-31   -0.074377\n",
              "2000-02-29    0.015591\n",
              "2000-03-31    0.163770\n",
              "Freq: M, dtype: float64"
            ]
          },
          "metadata": {},
          "execution_count": 79
        }
      ]
    },
    {
      "cell_type": "markdown",
      "metadata": {
        "id": "4oPt5kdz9iXk"
      },
      "source": [
        "# **Tratamento de fusos horários**"
      ]
    },
    {
      "cell_type": "code",
      "metadata": {
        "colab": {
          "base_uri": "https://localhost:8080/"
        },
        "id": "TH-V7M4d9dvB",
        "outputId": "db7d7276-4e15-47ab-88fd-bdda1c5a3da1"
      },
      "source": [
        "#Import pytz lá em cima\n",
        "#Encontrar o nome dos fusohorários\n",
        "pytz.common_timezones[-5:]"
      ],
      "execution_count": null,
      "outputs": [
        {
          "output_type": "execute_result",
          "data": {
            "text/plain": [
              "['US/Eastern', 'US/Hawaii', 'US/Mountain', 'US/Pacific', 'UTC']"
            ]
          },
          "metadata": {},
          "execution_count": 81
        }
      ]
    },
    {
      "cell_type": "code",
      "metadata": {
        "colab": {
          "base_uri": "https://localhost:8080/"
        },
        "id": "H1yvMEVZ_aEj",
        "outputId": "08e8e277-bf82-4559-c2b4-2c5c21db8739"
      },
      "source": [
        "#Obter um objeto de fuso horário\n",
        "tz = pytz.timezone('America/New_York')\n",
        "tz"
      ],
      "execution_count": null,
      "outputs": [
        {
          "output_type": "execute_result",
          "data": {
            "text/plain": [
              "<DstTzInfo 'America/New_York' LMT-1 day, 19:04:00 STD>"
            ]
          },
          "metadata": {},
          "execution_count": 82
        }
      ]
    },
    {
      "cell_type": "markdown",
      "metadata": {
        "id": "n0K8QQh3AJ3l"
      },
      "source": [
        "**Localização e conversão dos fuso horários**"
      ]
    },
    {
      "cell_type": "code",
      "metadata": {
        "colab": {
          "base_uri": "https://localhost:8080/"
        },
        "id": "JTPbwpnbAEQ4",
        "outputId": "b6ab9259-031f-4919-a097-ce38b049e82b"
      },
      "source": [
        "#Series temporais não consideram fuso horario por padrão\n",
        "rng = pd.date_range('3/9/2012 09:30', periods =6, freq='D')\n",
        "ts=pd.Series(np.random.randn(len(rng)), index=rng)\n",
        "ts"
      ],
      "execution_count": null,
      "outputs": [
        {
          "output_type": "execute_result",
          "data": {
            "text/plain": [
              "2012-03-09 09:30:00    0.308918\n",
              "2012-03-10 09:30:00   -0.822430\n",
              "2012-03-11 09:30:00    0.630512\n",
              "2012-03-12 09:30:00   -0.390624\n",
              "2012-03-13 09:30:00    0.900467\n",
              "2012-03-14 09:30:00   -0.006649\n",
              "Freq: D, dtype: float64"
            ]
          },
          "metadata": {},
          "execution_count": 97
        }
      ]
    },
    {
      "cell_type": "code",
      "metadata": {
        "colab": {
          "base_uri": "https://localhost:8080/"
        },
        "id": "DOSri5QTAlGL",
        "outputId": "e8fadc67-fef3-40c2-fb9d-3ce09b9a2a32"
      },
      "source": [
        "#Campo tz no índice é None\n",
        "print(ts.index.tz)"
      ],
      "execution_count": null,
      "outputs": [
        {
          "output_type": "stream",
          "name": "stdout",
          "text": [
            "None\n"
          ]
        }
      ]
    },
    {
      "cell_type": "code",
      "metadata": {
        "colab": {
          "base_uri": "https://localhost:8080/"
        },
        "id": "L7lLSMZkA6wn",
        "outputId": "29286d56-0ac1-42c2-9cfa-41b97b49e8ba"
      },
      "source": [
        "pd.date_range('3/9/2012 9:30', periods=10, freq='D', tz='UTC')"
      ],
      "execution_count": null,
      "outputs": [
        {
          "output_type": "execute_result",
          "data": {
            "text/plain": [
              "DatetimeIndex(['2012-03-09 09:30:00+00:00', '2012-03-10 09:30:00+00:00',\n",
              "               '2012-03-11 09:30:00+00:00', '2012-03-12 09:30:00+00:00',\n",
              "               '2012-03-13 09:30:00+00:00', '2012-03-14 09:30:00+00:00',\n",
              "               '2012-03-15 09:30:00+00:00', '2012-03-16 09:30:00+00:00',\n",
              "               '2012-03-17 09:30:00+00:00', '2012-03-18 09:30:00+00:00'],\n",
              "              dtype='datetime64[ns, UTC]', freq='D')"
            ]
          },
          "metadata": {},
          "execution_count": 99
        }
      ]
    },
    {
      "cell_type": "code",
      "metadata": {
        "colab": {
          "base_uri": "https://localhost:8080/"
        },
        "id": "ktHuzUlPBGNA",
        "outputId": "9676fcdf-bc3c-40b7-89e8-753d65e07cb4"
      },
      "source": [
        "ts"
      ],
      "execution_count": null,
      "outputs": [
        {
          "output_type": "execute_result",
          "data": {
            "text/plain": [
              "2012-03-09 09:30:00    0.308918\n",
              "2012-03-10 09:30:00   -0.822430\n",
              "2012-03-11 09:30:00    0.630512\n",
              "2012-03-12 09:30:00   -0.390624\n",
              "2012-03-13 09:30:00    0.900467\n",
              "2012-03-14 09:30:00   -0.006649\n",
              "Freq: D, dtype: float64"
            ]
          },
          "metadata": {},
          "execution_count": 101
        }
      ]
    },
    {
      "cell_type": "code",
      "metadata": {
        "colab": {
          "base_uri": "https://localhost:8080/"
        },
        "id": "A-8szPNyBkrH",
        "outputId": "a6314e6a-b781-4612-d2b2-599702f4b9be"
      },
      "source": [
        "ts_utc = ts.tz_localize('UTC')\n",
        "ts_utc"
      ],
      "execution_count": null,
      "outputs": [
        {
          "output_type": "execute_result",
          "data": {
            "text/plain": [
              "2012-03-09 09:30:00+00:00    0.308918\n",
              "2012-03-10 09:30:00+00:00   -0.822430\n",
              "2012-03-11 09:30:00+00:00    0.630512\n",
              "2012-03-12 09:30:00+00:00   -0.390624\n",
              "2012-03-13 09:30:00+00:00    0.900467\n",
              "2012-03-14 09:30:00+00:00   -0.006649\n",
              "Freq: D, dtype: float64"
            ]
          },
          "metadata": {},
          "execution_count": 102
        }
      ]
    },
    {
      "cell_type": "code",
      "metadata": {
        "colab": {
          "base_uri": "https://localhost:8080/"
        },
        "id": "w42p-msNBwIP",
        "outputId": "37d52245-722e-496f-f1a9-0850cb9696e4"
      },
      "source": [
        "ts_utc.index"
      ],
      "execution_count": null,
      "outputs": [
        {
          "output_type": "execute_result",
          "data": {
            "text/plain": [
              "DatetimeIndex(['2012-03-09 09:30:00+00:00', '2012-03-10 09:30:00+00:00',\n",
              "               '2012-03-11 09:30:00+00:00', '2012-03-12 09:30:00+00:00',\n",
              "               '2012-03-13 09:30:00+00:00', '2012-03-14 09:30:00+00:00'],\n",
              "              dtype='datetime64[ns, UTC]', freq='D')"
            ]
          },
          "metadata": {},
          "execution_count": 103
        }
      ]
    },
    {
      "cell_type": "code",
      "metadata": {
        "colab": {
          "base_uri": "https://localhost:8080/"
        },
        "id": "WgDwNhcnB2Wn",
        "outputId": "12e6ab8c-3bef-4801-91d6-f3872cbdf6d9"
      },
      "source": [
        "#É possivel converter uma serie em outro fuso horário\n",
        "ts_utc.tz_convert('America/New_York')"
      ],
      "execution_count": null,
      "outputs": [
        {
          "output_type": "execute_result",
          "data": {
            "text/plain": [
              "2012-03-09 04:30:00-05:00    0.308918\n",
              "2012-03-10 04:30:00-05:00   -0.822430\n",
              "2012-03-11 05:30:00-04:00    0.630512\n",
              "2012-03-12 05:30:00-04:00   -0.390624\n",
              "2012-03-13 05:30:00-04:00    0.900467\n",
              "2012-03-14 05:30:00-04:00   -0.006649\n",
              "Freq: D, dtype: float64"
            ]
          },
          "metadata": {},
          "execution_count": 104
        }
      ]
    },
    {
      "cell_type": "code",
      "metadata": {
        "colab": {
          "base_uri": "https://localhost:8080/"
        },
        "id": "IaXMhP0pDfWu",
        "outputId": "b3bdc68c-6f49-45ed-ee1f-77c11deaa7ed"
      },
      "source": [
        "#Mudando o fuso horário para o de Berlim\n",
        "\n",
        "ts_eastern = ts.tz_localize('America/New_York')\n",
        "ts_eastern.tz_convert('UTC')"
      ],
      "execution_count": null,
      "outputs": [
        {
          "output_type": "execute_result",
          "data": {
            "text/plain": [
              "2012-03-09 14:30:00+00:00    0.308918\n",
              "2012-03-10 14:30:00+00:00   -0.822430\n",
              "2012-03-11 13:30:00+00:00    0.630512\n",
              "2012-03-12 13:30:00+00:00   -0.390624\n",
              "2012-03-13 13:30:00+00:00    0.900467\n",
              "2012-03-14 13:30:00+00:00   -0.006649\n",
              "dtype: float64"
            ]
          },
          "metadata": {},
          "execution_count": 105
        }
      ]
    },
    {
      "cell_type": "code",
      "metadata": {
        "colab": {
          "base_uri": "https://localhost:8080/"
        },
        "id": "gZu6ukqKELv8",
        "outputId": "70963bcd-3737-43b1-e908-f3158f236c5d"
      },
      "source": [
        "ts_eastern.tz_convert('Europe/Berlin')"
      ],
      "execution_count": null,
      "outputs": [
        {
          "output_type": "execute_result",
          "data": {
            "text/plain": [
              "2012-03-09 15:30:00+01:00    0.308918\n",
              "2012-03-10 15:30:00+01:00   -0.822430\n",
              "2012-03-11 14:30:00+01:00    0.630512\n",
              "2012-03-12 14:30:00+01:00   -0.390624\n",
              "2012-03-13 14:30:00+01:00    0.900467\n",
              "2012-03-14 14:30:00+01:00   -0.006649\n",
              "dtype: float64"
            ]
          },
          "metadata": {},
          "execution_count": 107
        }
      ]
    },
    {
      "cell_type": "code",
      "metadata": {
        "colab": {
          "base_uri": "https://localhost:8080/"
        },
        "id": "_HMqe06JETOH",
        "outputId": "5654496d-b762-4ac3-e521-f1649201b8a6"
      },
      "source": [
        "ts.index.tz_localize('Asia/Shanghai')"
      ],
      "execution_count": null,
      "outputs": [
        {
          "output_type": "execute_result",
          "data": {
            "text/plain": [
              "DatetimeIndex(['2012-03-09 09:30:00+08:00', '2012-03-10 09:30:00+08:00',\n",
              "               '2012-03-11 09:30:00+08:00', '2012-03-12 09:30:00+08:00',\n",
              "               '2012-03-13 09:30:00+08:00', '2012-03-14 09:30:00+08:00'],\n",
              "              dtype='datetime64[ns, Asia/Shanghai]', freq=None)"
            ]
          },
          "metadata": {},
          "execution_count": 108
        }
      ]
    },
    {
      "cell_type": "markdown",
      "metadata": {
        "id": "zb_-qWkHEojQ"
      },
      "source": [
        "**Operações com objetos Timestamp que consideram fuso horários**"
      ]
    },
    {
      "cell_type": "code",
      "metadata": {
        "id": "N1YIE_X8EgYP",
        "colab": {
          "base_uri": "https://localhost:8080/"
        },
        "outputId": "61652cdc-c5af-4d64-e23e-31e2da9e04a4"
      },
      "source": [
        "Stamp = pd.Timestamp('2011-03-12 04:00')\n",
        "stamp_utc = stamp.tz_localize('utc')\n",
        "stamp_utc.tz_convert('America/New_York')"
      ],
      "execution_count": 113,
      "outputs": [
        {
          "output_type": "execute_result",
          "data": {
            "text/plain": [
              "Timestamp('2011-01-06 19:00:00-0500', tz='America/New_York')"
            ]
          },
          "metadata": {},
          "execution_count": 113
        }
      ]
    },
    {
      "cell_type": "code",
      "metadata": {
        "colab": {
          "base_uri": "https://localhost:8080/"
        },
        "id": "3YdO32lTK-5m",
        "outputId": "f123ac0d-043c-4dee-80e1-23b66779fe1e"
      },
      "source": [
        "#É possivel passar um fuso horário quando se cria um timestamp\n",
        "stamp_moscow = pd.Timestamp('2011-03-12 04:00', tz='Europe/Moscow')\n",
        "stamp_moscow"
      ],
      "execution_count": 116,
      "outputs": [
        {
          "output_type": "execute_result",
          "data": {
            "text/plain": [
              "Timestamp('2011-03-12 04:00:00+0300', tz='Europe/Moscow')"
            ]
          },
          "metadata": {},
          "execution_count": 116
        }
      ]
    },
    {
      "cell_type": "code",
      "metadata": {
        "colab": {
          "base_uri": "https://localhost:8080/"
        },
        "id": "M20CIlQCOIBO",
        "outputId": "8cab1459-c6f9-4358-daef-e2401dcc5d4d"
      },
      "source": [
        "#Timestampo armazena valor UTC em nanosegundos\n",
        "stamp_utc.value"
      ],
      "execution_count": 117,
      "outputs": [
        {
          "output_type": "execute_result",
          "data": {
            "text/plain": [
              "1294358400000000000"
            ]
          },
          "metadata": {},
          "execution_count": 117
        }
      ]
    },
    {
      "cell_type": "code",
      "metadata": {
        "colab": {
          "base_uri": "https://localhost:8080/"
        },
        "id": "Xl_jKy57Olv7",
        "outputId": "0e57c8f3-a844-4f0d-d480-57023e0f0d3e"
      },
      "source": [
        "stamp_utc.tz_convert('America/New_York').value"
      ],
      "execution_count": 118,
      "outputs": [
        {
          "output_type": "execute_result",
          "data": {
            "text/plain": [
              "1294358400000000000"
            ]
          },
          "metadata": {},
          "execution_count": 118
        }
      ]
    },
    {
      "cell_type": "code",
      "metadata": {
        "colab": {
          "base_uri": "https://localhost:8080/"
        },
        "id": "oLBqHdZsOt2E",
        "outputId": "98226e4b-7c85-4368-85e4-fec12e1f69b3"
      },
      "source": [
        "#Offset respeita horário de verão, import Hour lá em cima\n",
        "#30 minutos antes de iniciar o horário de verão\n",
        "stamp = pd.Timestamp('2012-03-12 01:30', tz='US/Eastern')\n",
        "stamp"
      ],
      "execution_count": 119,
      "outputs": [
        {
          "output_type": "execute_result",
          "data": {
            "text/plain": [
              "Timestamp('2012-03-12 01:30:00-0400', tz='US/Eastern')"
            ]
          },
          "metadata": {},
          "execution_count": 119
        }
      ]
    },
    {
      "cell_type": "code",
      "metadata": {
        "colab": {
          "base_uri": "https://localhost:8080/"
        },
        "id": "a6qs6HqMQJZd",
        "outputId": "ce7e7531-8c50-48b8-ba03-a191d44dd281"
      },
      "source": [
        "stamp + Hour()"
      ],
      "execution_count": 120,
      "outputs": [
        {
          "output_type": "execute_result",
          "data": {
            "text/plain": [
              "Timestamp('2012-03-12 02:30:00-0400', tz='US/Eastern')"
            ]
          },
          "metadata": {},
          "execution_count": 120
        }
      ]
    },
    {
      "cell_type": "code",
      "metadata": {
        "colab": {
          "base_uri": "https://localhost:8080/"
        },
        "id": "VXecXTeIQQHc",
        "outputId": "e0d46eca-ec95-4143-f93c-3b332967c4d1"
      },
      "source": [
        "#30 minutos antes de sair do horário de verão\n",
        "stamp = pd.Timestamp('2012-11-04 00:30', tz='US/Eastern')\n",
        "stamp"
      ],
      "execution_count": 123,
      "outputs": [
        {
          "output_type": "execute_result",
          "data": {
            "text/plain": [
              "Timestamp('2012-11-04 00:30:00-0400', tz='US/Eastern')"
            ]
          },
          "metadata": {},
          "execution_count": 123
        }
      ]
    },
    {
      "cell_type": "code",
      "metadata": {
        "colab": {
          "base_uri": "https://localhost:8080/"
        },
        "id": "9e17V4fpQyx3",
        "outputId": "6a5cd273-d3dd-4c61-d1a8-26e55a546830"
      },
      "source": [
        "stamp + 2* Hour()"
      ],
      "execution_count": 124,
      "outputs": [
        {
          "output_type": "execute_result",
          "data": {
            "text/plain": [
              "Timestamp('2012-11-04 01:30:00-0500', tz='US/Eastern')"
            ]
          },
          "metadata": {},
          "execution_count": 124
        }
      ]
    },
    {
      "cell_type": "markdown",
      "metadata": {
        "id": "guBLiO-4Q638"
      },
      "source": [
        "**Operação entre fusos horários diferentes**"
      ]
    },
    {
      "cell_type": "code",
      "metadata": {
        "colab": {
          "base_uri": "https://localhost:8080/"
        },
        "id": "qPVV-vxrQ4-8",
        "outputId": "628bb047-d525-462b-d13a-a49ca83c79ec"
      },
      "source": [
        "rng = pd.date_range('3/7/2012 9:30', periods=10, freq='B')\n",
        "ts = pd.Series(np.random.randn(len(rng)), index=rng)\n",
        "ts"
      ],
      "execution_count": 125,
      "outputs": [
        {
          "output_type": "execute_result",
          "data": {
            "text/plain": [
              "2012-03-07 09:30:00   -0.810006\n",
              "2012-03-08 09:30:00   -0.879523\n",
              "2012-03-09 09:30:00   -1.347900\n",
              "2012-03-12 09:30:00    1.270644\n",
              "2012-03-13 09:30:00    0.739971\n",
              "2012-03-14 09:30:00   -0.066495\n",
              "2012-03-15 09:30:00    1.316009\n",
              "2012-03-16 09:30:00    0.201217\n",
              "2012-03-19 09:30:00   -0.106845\n",
              "2012-03-20 09:30:00   -1.226962\n",
              "Freq: B, dtype: float64"
            ]
          },
          "metadata": {},
          "execution_count": 125
        }
      ]
    },
    {
      "cell_type": "code",
      "metadata": {
        "colab": {
          "base_uri": "https://localhost:8080/"
        },
        "id": "3KAWgd30Vm9J",
        "outputId": "95771bb7-a32a-4bd6-9c21-ef58fdbdc002"
      },
      "source": [
        "ts1 = ts[:7].tz_localize('Europe/London')\n",
        "ts2 = ts1[2:].tz_convert('Europe/Moscow')\n",
        "result = ts1 + ts2\n",
        "result.index"
      ],
      "execution_count": 127,
      "outputs": [
        {
          "output_type": "execute_result",
          "data": {
            "text/plain": [
              "DatetimeIndex(['2012-03-07 09:30:00+00:00', '2012-03-08 09:30:00+00:00',\n",
              "               '2012-03-09 09:30:00+00:00', '2012-03-12 09:30:00+00:00',\n",
              "               '2012-03-13 09:30:00+00:00', '2012-03-14 09:30:00+00:00',\n",
              "               '2012-03-15 09:30:00+00:00'],\n",
              "              dtype='datetime64[ns, UTC]', freq=None)"
            ]
          },
          "metadata": {},
          "execution_count": 127
        }
      ]
    },
    {
      "cell_type": "markdown",
      "metadata": {
        "id": "Qq2SNrtcWI9g"
      },
      "source": [
        "# **Período e aritmética com períodos**"
      ]
    },
    {
      "cell_type": "code",
      "metadata": {
        "id": "HQVOKDEgV0K9"
      },
      "source": [
        ""
      ],
      "execution_count": null,
      "outputs": []
    }
  ]
}