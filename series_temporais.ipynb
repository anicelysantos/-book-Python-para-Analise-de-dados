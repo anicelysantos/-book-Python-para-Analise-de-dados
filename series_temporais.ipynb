{
  "nbformat": 4,
  "nbformat_minor": 0,
  "metadata": {
    "colab": {
      "name": "series_temporais.ipynb",
      "provenance": [],
      "authorship_tag": "ABX9TyPZwSxFPTmU2APNO1y6NKj0",
      "include_colab_link": true
    },
    "kernelspec": {
      "name": "python3",
      "display_name": "Python 3"
    },
    "language_info": {
      "name": "python"
    }
  },
  "cells": [
    {
      "cell_type": "markdown",
      "metadata": {
        "id": "view-in-github",
        "colab_type": "text"
      },
      "source": [
        "<a href=\"https://colab.research.google.com/github/anicelysantos/book-python-para-analise-de-dados/blob/main/series_temporais.ipynb\" target=\"_parent\"><img src=\"https://colab.research.google.com/assets/colab-badge.svg\" alt=\"Open In Colab\"/></a>"
      ]
    },
    {
      "cell_type": "markdown",
      "metadata": {
        "id": "qU3s08R17TBT"
      },
      "source": [
        "*Estudos do livro \"Python para análise de dados\" cap. 11*"
      ]
    },
    {
      "cell_type": "markdown",
      "metadata": {
        "id": "Rt3Hpvhv8pZM"
      },
      "source": [
        "# **Imports**"
      ]
    },
    {
      "cell_type": "code",
      "metadata": {
        "id": "roRvEA4N8q9E"
      },
      "source": [
        "import pandas as pd\n",
        "import numpy as np\n",
        "from datetime import datetime\n",
        "from datetime import timedelta\n",
        "from dateutil.parser import parse"
      ],
      "execution_count": 2,
      "outputs": []
    },
    {
      "cell_type": "markdown",
      "metadata": {
        "id": "nILNYgEB8VpL"
      },
      "source": [
        "# **Tipos de dados e ferramentas para data e hora**"
      ]
    },
    {
      "cell_type": "code",
      "metadata": {
        "colab": {
          "base_uri": "https://localhost:8080/"
        },
        "id": "aAlqzcaU7OhZ",
        "outputId": "71f6f6b2-bafb-4739-995f-1d4c02c2317a"
      },
      "source": [
        "now = datetime.now()\n",
        "now"
      ],
      "execution_count": 3,
      "outputs": [
        {
          "output_type": "execute_result",
          "data": {
            "text/plain": [
              "datetime.datetime(2021, 9, 22, 11, 41, 41, 665579)"
            ]
          },
          "metadata": {},
          "execution_count": 3
        }
      ]
    },
    {
      "cell_type": "code",
      "metadata": {
        "colab": {
          "base_uri": "https://localhost:8080/"
        },
        "id": "fXnwbs2E83ZQ",
        "outputId": "e9e0c2ac-f87b-4bb1-a157-152e433f6702"
      },
      "source": [
        "#now.year, now.month, now.day\n",
        "now.day, now.month, now.year"
      ],
      "execution_count": 4,
      "outputs": [
        {
          "output_type": "execute_result",
          "data": {
            "text/plain": [
              "(22, 9, 2021)"
            ]
          },
          "metadata": {},
          "execution_count": 4
        }
      ]
    },
    {
      "cell_type": "code",
      "metadata": {
        "colab": {
          "base_uri": "https://localhost:8080/"
        },
        "id": "7RJyhdKY9DmX",
        "outputId": "18969663-31b6-4f0f-ba51-9c5d3f59d888"
      },
      "source": [
        "#import lá em cima timedelta\n",
        "#timedelta mostra a diferença de tempo entre dois objetos datetime\n",
        "\n",
        "delta = datetime(2011, 1, 7) - datetime(2008, 6, 24, 8, 15)\n",
        "delta"
      ],
      "execution_count": 5,
      "outputs": [
        {
          "output_type": "execute_result",
          "data": {
            "text/plain": [
              "datetime.timedelta(days=926, seconds=56700)"
            ]
          },
          "metadata": {},
          "execution_count": 5
        }
      ]
    },
    {
      "cell_type": "code",
      "metadata": {
        "colab": {
          "base_uri": "https://localhost:8080/"
        },
        "id": "Z9Gm9gv-9eFV",
        "outputId": "c11ebe4f-8ec9-4cc7-88c0-03f36caf55a6"
      },
      "source": [
        "delta.days"
      ],
      "execution_count": 6,
      "outputs": [
        {
          "output_type": "execute_result",
          "data": {
            "text/plain": [
              "926"
            ]
          },
          "metadata": {},
          "execution_count": 6
        }
      ]
    },
    {
      "cell_type": "code",
      "metadata": {
        "colab": {
          "base_uri": "https://localhost:8080/"
        },
        "id": "XiE945pD9lwd",
        "outputId": "9363e3e6-8ff8-420c-c9a0-1381142474dd"
      },
      "source": [
        "delta.seconds"
      ],
      "execution_count": 7,
      "outputs": [
        {
          "output_type": "execute_result",
          "data": {
            "text/plain": [
              "56700"
            ]
          },
          "metadata": {},
          "execution_count": 7
        }
      ]
    },
    {
      "cell_type": "code",
      "metadata": {
        "colab": {
          "base_uri": "https://localhost:8080/"
        },
        "id": "4_DiakAV9sbo",
        "outputId": "23bd8aca-a489-436f-a29d-49536a2f26f9"
      },
      "source": [
        "start = datetime(2011,1,7)\n",
        "start + timedelta(12)"
      ],
      "execution_count": 8,
      "outputs": [
        {
          "output_type": "execute_result",
          "data": {
            "text/plain": [
              "datetime.datetime(2011, 1, 19, 0, 0)"
            ]
          },
          "metadata": {},
          "execution_count": 8
        }
      ]
    },
    {
      "cell_type": "code",
      "metadata": {
        "colab": {
          "base_uri": "https://localhost:8080/"
        },
        "id": "UqVlOTKD-T1W",
        "outputId": "fefd7eeb-d64f-43cb-878e-de9ce3ec0cf3"
      },
      "source": [
        "start - 2 * timedelta(12)\n"
      ],
      "execution_count": 9,
      "outputs": [
        {
          "output_type": "execute_result",
          "data": {
            "text/plain": [
              "datetime.datetime(2010, 12, 14, 0, 0)"
            ]
          },
          "metadata": {},
          "execution_count": 9
        }
      ]
    },
    {
      "cell_type": "markdown",
      "metadata": {
        "id": "SQrMWxQgDauW"
      },
      "source": [
        "**Conversão entre string e datetime**"
      ]
    },
    {
      "cell_type": "code",
      "metadata": {
        "colab": {
          "base_uri": "https://localhost:8080/",
          "height": 35
        },
        "id": "kEkoELlM-34z",
        "outputId": "dee16a6a-4b6e-480f-8f54-c0d53b8e9692"
      },
      "source": [
        "stamp = datetime(2011, 1, 3)\n",
        "str(stamp)"
      ],
      "execution_count": 10,
      "outputs": [
        {
          "output_type": "execute_result",
          "data": {
            "application/vnd.google.colaboratory.intrinsic+json": {
              "type": "string"
            },
            "text/plain": [
              "'2011-01-03 00:00:00'"
            ]
          },
          "metadata": {},
          "execution_count": 10
        }
      ]
    },
    {
      "cell_type": "code",
      "metadata": {
        "colab": {
          "base_uri": "https://localhost:8080/",
          "height": 35
        },
        "id": "1yS9ohZmHmEl",
        "outputId": "4aac8581-a5bf-43e2-8493-ee7116d90e61"
      },
      "source": [
        "#stamp.strftime('%Y-%m-%d')\n",
        "stamp.strftime('%F') #mesma coisa de cima"
      ],
      "execution_count": 11,
      "outputs": [
        {
          "output_type": "execute_result",
          "data": {
            "application/vnd.google.colaboratory.intrinsic+json": {
              "type": "string"
            },
            "text/plain": [
              "'2011-01-03'"
            ]
          },
          "metadata": {},
          "execution_count": 11
        }
      ]
    },
    {
      "cell_type": "code",
      "metadata": {
        "id": "PXFfZiLfH2KM"
      },
      "source": [
        "value = '2011-01-03'"
      ],
      "execution_count": 12,
      "outputs": []
    },
    {
      "cell_type": "code",
      "metadata": {
        "colab": {
          "base_uri": "https://localhost:8080/"
        },
        "id": "nS4qmiN_TA05",
        "outputId": "4cf50fe8-c7d0-4d29-c510-21a8beb069a0"
      },
      "source": [
        "datetime.strptime(value, '%Y-%m-%d')"
      ],
      "execution_count": 13,
      "outputs": [
        {
          "output_type": "execute_result",
          "data": {
            "text/plain": [
              "datetime.datetime(2011, 1, 3, 0, 0)"
            ]
          },
          "metadata": {},
          "execution_count": 13
        }
      ]
    },
    {
      "cell_type": "code",
      "metadata": {
        "colab": {
          "base_uri": "https://localhost:8080/"
        },
        "id": "nnasMwKITE1m",
        "outputId": "d2e82807-7879-4b3e-cf68-95a65b48a098"
      },
      "source": [
        "datestrs = ['9/19/2021','9/20/2020']\n",
        "[datetime.strptime(x, '%m/%d/%Y') for x in datestrs]"
      ],
      "execution_count": 14,
      "outputs": [
        {
          "output_type": "execute_result",
          "data": {
            "text/plain": [
              "[datetime.datetime(2021, 9, 19, 0, 0), datetime.datetime(2020, 9, 20, 0, 0)]"
            ]
          },
          "metadata": {},
          "execution_count": 14
        }
      ]
    },
    {
      "cell_type": "code",
      "metadata": {
        "colab": {
          "base_uri": "https://localhost:8080/"
        },
        "id": "gpMcLaeNTpSq",
        "outputId": "6e8c3ca7-ba2b-437f-d40c-f4b0b34eb221"
      },
      "source": [
        "#Import do parse lá no inicio\n",
        "parse('21-09-2021')"
      ],
      "execution_count": 15,
      "outputs": [
        {
          "output_type": "execute_result",
          "data": {
            "text/plain": [
              "datetime.datetime(2021, 9, 21, 0, 0)"
            ]
          },
          "metadata": {},
          "execution_count": 15
        }
      ]
    },
    {
      "cell_type": "code",
      "metadata": {
        "id": "c4MSEvVnUMKh",
        "colab": {
          "base_uri": "https://localhost:8080/"
        },
        "outputId": "1aa0f02d-11c5-4ff7-bcbc-092030426292"
      },
      "source": [
        "parse('Sep 21, 2021 09:02 AM')"
      ],
      "execution_count": 16,
      "outputs": [
        {
          "output_type": "execute_result",
          "data": {
            "text/plain": [
              "datetime.datetime(2021, 9, 21, 9, 2)"
            ]
          },
          "metadata": {},
          "execution_count": 16
        }
      ]
    },
    {
      "cell_type": "code",
      "metadata": {
        "colab": {
          "base_uri": "https://localhost:8080/"
        },
        "id": "5Hrvi8aiPQd8",
        "outputId": "a2206c06-5908-4a6f-b71f-670105ad622b"
      },
      "source": [
        "#Dia antes do mês, padrão Brasil\n",
        "parse('21/09/2021', dayfirst=True)"
      ],
      "execution_count": 17,
      "outputs": [
        {
          "output_type": "execute_result",
          "data": {
            "text/plain": [
              "datetime.datetime(2021, 9, 21, 0, 0)"
            ]
          },
          "metadata": {},
          "execution_count": 17
        }
      ]
    },
    {
      "cell_type": "code",
      "metadata": {
        "colab": {
          "base_uri": "https://localhost:8080/"
        },
        "id": "DHgtlE1IPZ0_",
        "outputId": "26787d6f-2fbd-4378-f81a-27a5f3b3c5da"
      },
      "source": [
        "datastrs = ['2021-09-21 09:04:00', '2021-09-21 09:05:00']\n",
        "pd.to_datetime(datastrs)"
      ],
      "execution_count": 18,
      "outputs": [
        {
          "output_type": "execute_result",
          "data": {
            "text/plain": [
              "DatetimeIndex(['2021-09-21 09:04:00', '2021-09-21 09:05:00'], dtype='datetime64[ns]', freq=None)"
            ]
          },
          "metadata": {},
          "execution_count": 18
        }
      ]
    },
    {
      "cell_type": "code",
      "metadata": {
        "colab": {
          "base_uri": "https://localhost:8080/"
        },
        "id": "v6l5X6OBP5Xh",
        "outputId": "ded6f218-040a-43f4-eac0-5a36e36025bd"
      },
      "source": [
        "#Lidar com dados ausentes (None)\n",
        "idx = pd.to_datetime(datestrs + [None])\n",
        "idx"
      ],
      "execution_count": 19,
      "outputs": [
        {
          "output_type": "execute_result",
          "data": {
            "text/plain": [
              "DatetimeIndex(['2021-09-19', '2020-09-20', 'NaT'], dtype='datetime64[ns]', freq=None)"
            ]
          },
          "metadata": {},
          "execution_count": 19
        }
      ]
    },
    {
      "cell_type": "code",
      "metadata": {
        "colab": {
          "base_uri": "https://localhost:8080/"
        },
        "id": "GDl2vWwoQLWy",
        "outputId": "e3a8ac59-c453-480a-cad6-44999dbe5d4e"
      },
      "source": [
        "#NaT é o valor nulo do pandas para tempo/data (dados de timestamp)\n",
        "idx[2]"
      ],
      "execution_count": 20,
      "outputs": [
        {
          "output_type": "execute_result",
          "data": {
            "text/plain": [
              "NaT"
            ]
          },
          "metadata": {},
          "execution_count": 20
        }
      ]
    },
    {
      "cell_type": "code",
      "metadata": {
        "colab": {
          "base_uri": "https://localhost:8080/"
        },
        "id": "8pciCTjdQbIU",
        "outputId": "d67aa01c-755c-4480-dced-a458746e34ca"
      },
      "source": [
        "pd.isnull(idx)"
      ],
      "execution_count": 21,
      "outputs": [
        {
          "output_type": "execute_result",
          "data": {
            "text/plain": [
              "array([False, False,  True])"
            ]
          },
          "metadata": {},
          "execution_count": 21
        }
      ]
    },
    {
      "cell_type": "markdown",
      "metadata": {
        "id": "7XtK_VweRoDr"
      },
      "source": [
        "# **Básico sobre séries temporais**"
      ]
    },
    {
      "cell_type": "code",
      "metadata": {
        "id": "UVzkp-WUQdGX"
      },
      "source": [
        "#import datetime no inicio\n",
        "dates = [datetime(2011, 1, 2), datetime(2011, 1, 5), datetime(2011, 1, 7), datetime(2011, 1, 8), datetime(2011,1,10), datetime(2011, 1, 12)]"
      ],
      "execution_count": 22,
      "outputs": []
    },
    {
      "cell_type": "code",
      "metadata": {
        "colab": {
          "base_uri": "https://localhost:8080/"
        },
        "id": "6pBZ6Mq4UfU-",
        "outputId": "73e0544e-3a91-436a-e28c-cd8476f7023d"
      },
      "source": [
        "ts = pd.Series(np.random.randn(6), index=dates)\n",
        "ts"
      ],
      "execution_count": 24,
      "outputs": [
        {
          "output_type": "execute_result",
          "data": {
            "text/plain": [
              "2011-01-02   -0.049043\n",
              "2011-01-05    0.597614\n",
              "2011-01-07   -0.897128\n",
              "2011-01-08    0.042157\n",
              "2011-01-10   -0.373992\n",
              "2011-01-12    1.908332\n",
              "dtype: float64"
            ]
          },
          "metadata": {},
          "execution_count": 24
        }
      ]
    },
    {
      "cell_type": "code",
      "metadata": {
        "colab": {
          "base_uri": "https://localhost:8080/"
        },
        "id": "85_4AyetUmaW",
        "outputId": "8ae927c4-d8e7-4ee0-e916-2263205ad7a7"
      },
      "source": [
        "ts.index"
      ],
      "execution_count": 25,
      "outputs": [
        {
          "output_type": "execute_result",
          "data": {
            "text/plain": [
              "DatetimeIndex(['2011-01-02', '2011-01-05', '2011-01-07', '2011-01-08',\n",
              "               '2011-01-10', '2011-01-12'],\n",
              "              dtype='datetime64[ns]', freq=None)"
            ]
          },
          "metadata": {},
          "execution_count": 25
        }
      ]
    },
    {
      "cell_type": "code",
      "metadata": {
        "colab": {
          "base_uri": "https://localhost:8080/"
        },
        "id": "7AI5D0V2Ux8_",
        "outputId": "ef6a7a08-6e1c-48fa-929e-be5328d1ad1e"
      },
      "source": [
        "#[::2]seleciona um elemento a cada dois\n",
        "ts + ts[::2]"
      ],
      "execution_count": 26,
      "outputs": [
        {
          "output_type": "execute_result",
          "data": {
            "text/plain": [
              "2011-01-02   -0.098085\n",
              "2011-01-05         NaN\n",
              "2011-01-07   -1.794256\n",
              "2011-01-08         NaN\n",
              "2011-01-10   -0.747985\n",
              "2011-01-12         NaN\n",
              "dtype: float64"
            ]
          },
          "metadata": {},
          "execution_count": 26
        }
      ]
    },
    {
      "cell_type": "code",
      "metadata": {
        "colab": {
          "base_uri": "https://localhost:8080/"
        },
        "id": "AiUvtiD3U4UH",
        "outputId": "ad571080-65b6-4e9d-c034-c647ee66bfcf"
      },
      "source": [
        "ts.index.dtype"
      ],
      "execution_count": 27,
      "outputs": [
        {
          "output_type": "execute_result",
          "data": {
            "text/plain": [
              "dtype('<M8[ns]')"
            ]
          },
          "metadata": {},
          "execution_count": 27
        }
      ]
    },
    {
      "cell_type": "code",
      "metadata": {
        "colab": {
          "base_uri": "https://localhost:8080/"
        },
        "id": "w5z_7YThVJv3",
        "outputId": "5d3930db-4ff7-400e-976a-7ef0f8ee2657"
      },
      "source": [
        "stamp = ts.index[0]\n",
        "stamp"
      ],
      "execution_count": 29,
      "outputs": [
        {
          "output_type": "execute_result",
          "data": {
            "text/plain": [
              "Timestamp('2011-01-02 00:00:00')"
            ]
          },
          "metadata": {},
          "execution_count": 29
        }
      ]
    },
    {
      "cell_type": "markdown",
      "metadata": {
        "id": "BLRtURPFVbOy"
      },
      "source": [
        "**Indexação, seleção e geração de subconjuntos**"
      ]
    },
    {
      "cell_type": "code",
      "metadata": {
        "colab": {
          "base_uri": "https://localhost:8080/"
        },
        "id": "Vh0vpj3BVNWH",
        "outputId": "d221b0ed-569c-44a4-dae6-074c59796f0f"
      },
      "source": [
        "stamp = ts.index[2]\n",
        "ts[stamp]"
      ],
      "execution_count": 31,
      "outputs": [
        {
          "output_type": "execute_result",
          "data": {
            "text/plain": [
              "Timestamp('2011-01-07 00:00:00')"
            ]
          },
          "metadata": {},
          "execution_count": 31
        }
      ]
    },
    {
      "cell_type": "code",
      "metadata": {
        "colab": {
          "base_uri": "https://localhost:8080/"
        },
        "id": "HG1kMmGMVlrX",
        "outputId": "adee3c0c-3302-4537-ad39-97364c084530"
      },
      "source": [
        "#Passar uma string para ser interpretada como data\n",
        "ts['1/10/2011']"
      ],
      "execution_count": 32,
      "outputs": [
        {
          "output_type": "execute_result",
          "data": {
            "text/plain": [
              "-0.3739923245232917"
            ]
          },
          "metadata": {},
          "execution_count": 32
        }
      ]
    },
    {
      "cell_type": "code",
      "metadata": {
        "colab": {
          "base_uri": "https://localhost:8080/"
        },
        "id": "XFTGvpSKV_dg",
        "outputId": "53fd4323-59a7-4f35-f1f7-23aa7cd686fd"
      },
      "source": [
        "ts['20110110']"
      ],
      "execution_count": 33,
      "outputs": [
        {
          "output_type": "execute_result",
          "data": {
            "text/plain": [
              "-0.3739923245232917"
            ]
          },
          "metadata": {},
          "execution_count": 33
        }
      ]
    },
    {
      "cell_type": "code",
      "metadata": {
        "colab": {
          "base_uri": "https://localhost:8080/"
        },
        "id": "3BndCk-dWGQQ",
        "outputId": "21736c54-66ea-4894-8b9b-7ec58c57b3e7"
      },
      "source": [
        "#series temporais mais longas podem selecionar o ano ou só o ano e o mês para trazer trechos do dataframe\n",
        "longer_ts = pd.Series(np.random.randn(1000), index=pd.date_range('1/1/2000', periods=1000))\n",
        "longer_ts"
      ],
      "execution_count": 34,
      "outputs": [
        {
          "output_type": "execute_result",
          "data": {
            "text/plain": [
              "2000-01-01    0.813868\n",
              "2000-01-02   -0.554250\n",
              "2000-01-03    0.095744\n",
              "2000-01-04   -0.940219\n",
              "2000-01-05    0.170331\n",
              "                ...   \n",
              "2002-09-22   -0.558318\n",
              "2002-09-23    1.310893\n",
              "2002-09-24    1.646768\n",
              "2002-09-25   -1.336099\n",
              "2002-09-26    1.658198\n",
              "Freq: D, Length: 1000, dtype: float64"
            ]
          },
          "metadata": {},
          "execution_count": 34
        }
      ]
    },
    {
      "cell_type": "code",
      "metadata": {
        "colab": {
          "base_uri": "https://localhost:8080/"
        },
        "id": "2_VeGWZYWlo7",
        "outputId": "958975a8-d54b-4aba-92f5-354a115ecd25"
      },
      "source": [
        "longer_ts['2001']"
      ],
      "execution_count": 35,
      "outputs": [
        {
          "output_type": "execute_result",
          "data": {
            "text/plain": [
              "2001-01-01   -1.170078\n",
              "2001-01-02    1.251340\n",
              "2001-01-03   -0.373497\n",
              "2001-01-04   -0.424516\n",
              "2001-01-05   -0.177810\n",
              "                ...   \n",
              "2001-12-27    0.518535\n",
              "2001-12-28    0.126788\n",
              "2001-12-29   -2.686233\n",
              "2001-12-30   -0.832038\n",
              "2001-12-31   -1.159397\n",
              "Freq: D, Length: 365, dtype: float64"
            ]
          },
          "metadata": {},
          "execution_count": 35
        }
      ]
    },
    {
      "cell_type": "code",
      "metadata": {
        "colab": {
          "base_uri": "https://localhost:8080/"
        },
        "id": "kDnha72PXCdX",
        "outputId": "e86b2b1d-4861-417e-a94c-6c76934edb24"
      },
      "source": [
        "longer_ts['2001-05']"
      ],
      "execution_count": 36,
      "outputs": [
        {
          "output_type": "execute_result",
          "data": {
            "text/plain": [
              "2001-05-01   -1.156609\n",
              "2001-05-02    0.778430\n",
              "2001-05-03    0.178365\n",
              "2001-05-04   -0.187980\n",
              "2001-05-05   -0.436687\n",
              "2001-05-06    0.527802\n",
              "2001-05-07    1.378438\n",
              "2001-05-08   -0.715073\n",
              "2001-05-09    1.454912\n",
              "2001-05-10    1.162085\n",
              "2001-05-11    2.118873\n",
              "2001-05-12    0.990931\n",
              "2001-05-13    0.513122\n",
              "2001-05-14    0.063757\n",
              "2001-05-15    1.218217\n",
              "2001-05-16   -1.178627\n",
              "2001-05-17    0.614867\n",
              "2001-05-18   -0.084719\n",
              "2001-05-19    1.614003\n",
              "2001-05-20    0.860555\n",
              "2001-05-21   -0.646499\n",
              "2001-05-22    0.430948\n",
              "2001-05-23    0.071378\n",
              "2001-05-24    0.515691\n",
              "2001-05-25    0.450819\n",
              "2001-05-26   -0.542976\n",
              "2001-05-27    0.099994\n",
              "2001-05-28   -0.614994\n",
              "2001-05-29    1.242413\n",
              "2001-05-30   -0.690233\n",
              "2001-05-31   -0.544892\n",
              "Freq: D, dtype: float64"
            ]
          },
          "metadata": {},
          "execution_count": 36
        }
      ]
    },
    {
      "cell_type": "code",
      "metadata": {
        "colab": {
          "base_uri": "https://localhost:8080/"
        },
        "id": "LW8MBFEnXjgQ",
        "outputId": "7a9375bc-25a6-4683-c89c-c17203d6e47b"
      },
      "source": [
        "ts[datetime(2011, 1, 7):]"
      ],
      "execution_count": 37,
      "outputs": [
        {
          "output_type": "execute_result",
          "data": {
            "text/plain": [
              "2011-01-07   -0.897128\n",
              "2011-01-08    0.042157\n",
              "2011-01-10   -0.373992\n",
              "2011-01-12    1.908332\n",
              "dtype: float64"
            ]
          },
          "metadata": {},
          "execution_count": 37
        }
      ]
    },
    {
      "cell_type": "code",
      "metadata": {
        "colab": {
          "base_uri": "https://localhost:8080/"
        },
        "id": "BaDHkiHKXspx",
        "outputId": "2ddba5ad-d1ea-4b02-8e7d-695f4707abf2"
      },
      "source": [
        "ts"
      ],
      "execution_count": 38,
      "outputs": [
        {
          "output_type": "execute_result",
          "data": {
            "text/plain": [
              "2011-01-02   -0.049043\n",
              "2011-01-05    0.597614\n",
              "2011-01-07   -0.897128\n",
              "2011-01-08    0.042157\n",
              "2011-01-10   -0.373992\n",
              "2011-01-12    1.908332\n",
              "dtype: float64"
            ]
          },
          "metadata": {},
          "execution_count": 38
        }
      ]
    },
    {
      "cell_type": "code",
      "metadata": {
        "colab": {
          "base_uri": "https://localhost:8080/"
        },
        "id": "hHOCmZS6Xxdh",
        "outputId": "d0abbca9-eeb8-4645-ed23-330feece710d"
      },
      "source": [
        "ts['1/6/2011':'1/11/2011']"
      ],
      "execution_count": 39,
      "outputs": [
        {
          "output_type": "execute_result",
          "data": {
            "text/plain": [
              "2011-01-07   -0.897128\n",
              "2011-01-08    0.042157\n",
              "2011-01-10   -0.373992\n",
              "dtype: float64"
            ]
          },
          "metadata": {},
          "execution_count": 39
        }
      ]
    },
    {
      "cell_type": "code",
      "metadata": {
        "colab": {
          "base_uri": "https://localhost:8080/"
        },
        "id": "9ZnQz6f_X6kH",
        "outputId": "9be5dbe5-5ee8-4caf-aa3e-055e439db51c"
      },
      "source": [
        "#Fatiar um periodo entre duas datas\n",
        "ts.truncate(after='1/9/2011')"
      ],
      "execution_count": 40,
      "outputs": [
        {
          "output_type": "execute_result",
          "data": {
            "text/plain": [
              "2011-01-02   -0.049043\n",
              "2011-01-05    0.597614\n",
              "2011-01-07   -0.897128\n",
              "2011-01-08    0.042157\n",
              "dtype: float64"
            ]
          },
          "metadata": {},
          "execution_count": 40
        }
      ]
    },
    {
      "cell_type": "code",
      "metadata": {
        "id": "ho75e_B9YOHR"
      },
      "source": [
        "dates = pd.date_range('1/1/2000', periods=100, freq='W-WED')\n",
        "long_df = pd.DataFrame(np.random.randn(100,4), index=dates, columns=['Colorado', 'Texas', 'New York', 'Ohio'])"
      ],
      "execution_count": 42,
      "outputs": []
    },
    {
      "cell_type": "code",
      "metadata": {
        "colab": {
          "base_uri": "https://localhost:8080/",
          "height": 203
        },
        "id": "q3OIscIpYqi5",
        "outputId": "877da1b7-50c1-4a46-dd1e-8072aa59f7fa"
      },
      "source": [
        "long_df.loc['5-2001']"
      ],
      "execution_count": 43,
      "outputs": [
        {
          "output_type": "execute_result",
          "data": {
            "text/html": [
              "<div>\n",
              "<style scoped>\n",
              "    .dataframe tbody tr th:only-of-type {\n",
              "        vertical-align: middle;\n",
              "    }\n",
              "\n",
              "    .dataframe tbody tr th {\n",
              "        vertical-align: top;\n",
              "    }\n",
              "\n",
              "    .dataframe thead th {\n",
              "        text-align: right;\n",
              "    }\n",
              "</style>\n",
              "<table border=\"1\" class=\"dataframe\">\n",
              "  <thead>\n",
              "    <tr style=\"text-align: right;\">\n",
              "      <th></th>\n",
              "      <th>Colorado</th>\n",
              "      <th>Texas</th>\n",
              "      <th>New York</th>\n",
              "      <th>Ohio</th>\n",
              "    </tr>\n",
              "  </thead>\n",
              "  <tbody>\n",
              "    <tr>\n",
              "      <th>2001-05-02</th>\n",
              "      <td>0.327403</td>\n",
              "      <td>-1.650751</td>\n",
              "      <td>0.489609</td>\n",
              "      <td>0.353090</td>\n",
              "    </tr>\n",
              "    <tr>\n",
              "      <th>2001-05-09</th>\n",
              "      <td>1.548820</td>\n",
              "      <td>-0.125562</td>\n",
              "      <td>-0.665977</td>\n",
              "      <td>-1.043577</td>\n",
              "    </tr>\n",
              "    <tr>\n",
              "      <th>2001-05-16</th>\n",
              "      <td>-1.279305</td>\n",
              "      <td>1.201580</td>\n",
              "      <td>0.292385</td>\n",
              "      <td>0.268549</td>\n",
              "    </tr>\n",
              "    <tr>\n",
              "      <th>2001-05-23</th>\n",
              "      <td>1.352893</td>\n",
              "      <td>0.333656</td>\n",
              "      <td>0.180314</td>\n",
              "      <td>1.069040</td>\n",
              "    </tr>\n",
              "    <tr>\n",
              "      <th>2001-05-30</th>\n",
              "      <td>0.390916</td>\n",
              "      <td>-0.117687</td>\n",
              "      <td>0.993996</td>\n",
              "      <td>1.114827</td>\n",
              "    </tr>\n",
              "  </tbody>\n",
              "</table>\n",
              "</div>"
            ],
            "text/plain": [
              "            Colorado     Texas  New York      Ohio\n",
              "2001-05-02  0.327403 -1.650751  0.489609  0.353090\n",
              "2001-05-09  1.548820 -0.125562 -0.665977 -1.043577\n",
              "2001-05-16 -1.279305  1.201580  0.292385  0.268549\n",
              "2001-05-23  1.352893  0.333656  0.180314  1.069040\n",
              "2001-05-30  0.390916 -0.117687  0.993996  1.114827"
            ]
          },
          "metadata": {},
          "execution_count": 43
        }
      ]
    },
    {
      "cell_type": "markdown",
      "metadata": {
        "id": "Z8L966ZHY76F"
      },
      "source": [
        "**Séries temporais com índices duplicados**"
      ]
    },
    {
      "cell_type": "code",
      "metadata": {
        "id": "afjWyItVYuQR"
      },
      "source": [
        "dates = pd.DatetimeIndex(['1/1/2000', '1/2/2000', '1/2/2000', '1/2/2000', '1/3/2000'])\n",
        "dup_ts = pd.Series(np.arange(5), index=dates)"
      ],
      "execution_count": 45,
      "outputs": []
    },
    {
      "cell_type": "code",
      "metadata": {
        "colab": {
          "base_uri": "https://localhost:8080/"
        },
        "id": "x1DA9E3jY3TK",
        "outputId": "b19b018e-c33b-4366-ca89-d04333ba31c0"
      },
      "source": [
        "dup_ts"
      ],
      "execution_count": 46,
      "outputs": [
        {
          "output_type": "execute_result",
          "data": {
            "text/plain": [
              "2000-01-01    0\n",
              "2000-01-02    1\n",
              "2000-01-02    2\n",
              "2000-01-02    3\n",
              "2000-01-03    4\n",
              "dtype: int64"
            ]
          },
          "metadata": {},
          "execution_count": 46
        }
      ]
    },
    {
      "cell_type": "code",
      "metadata": {
        "colab": {
          "base_uri": "https://localhost:8080/"
        },
        "id": "rzw6l3hsZY9B",
        "outputId": "6dff3d85-cef0-4962-896f-bc24d4b6f8b2"
      },
      "source": [
        "dup_ts.index.is_unique"
      ],
      "execution_count": 47,
      "outputs": [
        {
          "output_type": "execute_result",
          "data": {
            "text/plain": [
              "False"
            ]
          },
          "metadata": {},
          "execution_count": 47
        }
      ]
    },
    {
      "cell_type": "code",
      "metadata": {
        "colab": {
          "base_uri": "https://localhost:8080/"
        },
        "id": "eGVfqaQlZlap",
        "outputId": "81ea6b6b-eaea-4815-d983-aadd008f10c0"
      },
      "source": [
        "dup_ts['1/3/2000']"
      ],
      "execution_count": 48,
      "outputs": [
        {
          "output_type": "execute_result",
          "data": {
            "text/plain": [
              "4"
            ]
          },
          "metadata": {},
          "execution_count": 48
        }
      ]
    },
    {
      "cell_type": "code",
      "metadata": {
        "colab": {
          "base_uri": "https://localhost:8080/"
        },
        "id": "5runIuRUaNxw",
        "outputId": "1d12a59b-d7fc-431b-f385-adc37f1d1a5b"
      },
      "source": [
        "dup_ts['1/2/2000']"
      ],
      "execution_count": 49,
      "outputs": [
        {
          "output_type": "execute_result",
          "data": {
            "text/plain": [
              "2000-01-02    1\n",
              "2000-01-02    2\n",
              "2000-01-02    3\n",
              "dtype: int64"
            ]
          },
          "metadata": {},
          "execution_count": 49
        }
      ]
    },
    {
      "cell_type": "code",
      "metadata": {
        "colab": {
          "base_uri": "https://localhost:8080/"
        },
        "id": "PdagmST_aQ8e",
        "outputId": "f89793b5-9db9-43b1-9334-bfaccf538a65"
      },
      "source": [
        "#agregar os dados únicos\n",
        "grouped = dup_ts.groupby(level=0)\n",
        "grouped.mean()"
      ],
      "execution_count": 50,
      "outputs": [
        {
          "output_type": "execute_result",
          "data": {
            "text/plain": [
              "2000-01-01    0\n",
              "2000-01-02    2\n",
              "2000-01-03    4\n",
              "dtype: int64"
            ]
          },
          "metadata": {},
          "execution_count": 50
        }
      ]
    },
    {
      "cell_type": "code",
      "metadata": {
        "colab": {
          "base_uri": "https://localhost:8080/"
        },
        "id": "1gTqzvekamHy",
        "outputId": "c3906d5a-94b2-44c7-829d-6c9fcc1d93f4"
      },
      "source": [
        "grouped.count()"
      ],
      "execution_count": 51,
      "outputs": [
        {
          "output_type": "execute_result",
          "data": {
            "text/plain": [
              "2000-01-01    1\n",
              "2000-01-02    3\n",
              "2000-01-03    1\n",
              "dtype: int64"
            ]
          },
          "metadata": {},
          "execution_count": 51
        }
      ]
    },
    {
      "cell_type": "markdown",
      "metadata": {
        "id": "3t0w1nQUa9y9"
      },
      "source": [
        "# **Intervalos de datas, frequências e deslocamentos**"
      ]
    },
    {
      "cell_type": "code",
      "metadata": {
        "colab": {
          "base_uri": "https://localhost:8080/"
        },
        "id": "3pAY_vgza4xh",
        "outputId": "7b871610-a668-4a66-9a3b-852bf8bc13f9"
      },
      "source": [
        "ts"
      ],
      "execution_count": 52,
      "outputs": [
        {
          "output_type": "execute_result",
          "data": {
            "text/plain": [
              "2011-01-02   -0.049043\n",
              "2011-01-05    0.597614\n",
              "2011-01-07   -0.897128\n",
              "2011-01-08    0.042157\n",
              "2011-01-10   -0.373992\n",
              "2011-01-12    1.908332\n",
              "dtype: float64"
            ]
          },
          "metadata": {},
          "execution_count": 52
        }
      ]
    },
    {
      "cell_type": "code",
      "metadata": {
        "id": "yh5kJf_lbxo5"
      },
      "source": [
        "#String 'D' é o equivalente a frequência diária\n",
        "resampler = ts.resample('D')\n"
      ],
      "execution_count": null,
      "outputs": []
    },
    {
      "cell_type": "markdown",
      "metadata": {
        "id": "aowxCCBpcIaF"
      },
      "source": [
        "**Gerando intervalos de datas**"
      ]
    },
    {
      "cell_type": "code",
      "metadata": {
        "colab": {
          "base_uri": "https://localhost:8080/"
        },
        "id": "Ts-VTmwsb2VB",
        "outputId": "a191b3fa-74db-46fe-a44f-277423bfabc0"
      },
      "source": [
        "#pandas.date_range gera index com tamanho especifico\n",
        "index = pd.date_range('2012-04-01', '2012-06-01')\n",
        "index"
      ],
      "execution_count": 55,
      "outputs": [
        {
          "output_type": "execute_result",
          "data": {
            "text/plain": [
              "DatetimeIndex(['2012-04-01', '2012-04-02', '2012-04-03', '2012-04-04',\n",
              "               '2012-04-05', '2012-04-06', '2012-04-07', '2012-04-08',\n",
              "               '2012-04-09', '2012-04-10', '2012-04-11', '2012-04-12',\n",
              "               '2012-04-13', '2012-04-14', '2012-04-15', '2012-04-16',\n",
              "               '2012-04-17', '2012-04-18', '2012-04-19', '2012-04-20',\n",
              "               '2012-04-21', '2012-04-22', '2012-04-23', '2012-04-24',\n",
              "               '2012-04-25', '2012-04-26', '2012-04-27', '2012-04-28',\n",
              "               '2012-04-29', '2012-04-30', '2012-05-01', '2012-05-02',\n",
              "               '2012-05-03', '2012-05-04', '2012-05-05', '2012-05-06',\n",
              "               '2012-05-07', '2012-05-08', '2012-05-09', '2012-05-10',\n",
              "               '2012-05-11', '2012-05-12', '2012-05-13', '2012-05-14',\n",
              "               '2012-05-15', '2012-05-16', '2012-05-17', '2012-05-18',\n",
              "               '2012-05-19', '2012-05-20', '2012-05-21', '2012-05-22',\n",
              "               '2012-05-23', '2012-05-24', '2012-05-25', '2012-05-26',\n",
              "               '2012-05-27', '2012-05-28', '2012-05-29', '2012-05-30',\n",
              "               '2012-05-31', '2012-06-01'],\n",
              "              dtype='datetime64[ns]', freq='D')"
            ]
          },
          "metadata": {},
          "execution_count": 55
        }
      ]
    },
    {
      "cell_type": "code",
      "metadata": {
        "colab": {
          "base_uri": "https://localhost:8080/"
        },
        "id": "r0u6n9aIcgZd",
        "outputId": "84d2fded-e3ac-4312-aa4a-3be04bf97f90"
      },
      "source": [
        "#Se passar só a data do inicio ou do fim, precisa passar o periodo\n",
        "pd.date_range(start='2021-08-01', periods=20)"
      ],
      "execution_count": 58,
      "outputs": [
        {
          "output_type": "execute_result",
          "data": {
            "text/plain": [
              "DatetimeIndex(['2021-08-01', '2021-08-02', '2021-08-03', '2021-08-04',\n",
              "               '2021-08-05', '2021-08-06', '2021-08-07', '2021-08-08',\n",
              "               '2021-08-09', '2021-08-10', '2021-08-11', '2021-08-12',\n",
              "               '2021-08-13', '2021-08-14', '2021-08-15', '2021-08-16',\n",
              "               '2021-08-17', '2021-08-18', '2021-08-19', '2021-08-20'],\n",
              "              dtype='datetime64[ns]', freq='D')"
            ]
          },
          "metadata": {},
          "execution_count": 58
        }
      ]
    },
    {
      "cell_type": "code",
      "metadata": {
        "colab": {
          "base_uri": "https://localhost:8080/"
        },
        "id": "Or8TX0mIeaY8",
        "outputId": "c7d21da3-7ccb-4aa2-a53b-d4851e8ba3a9"
      },
      "source": [
        "pd.date_range(end='2021-09-01', periods=20)"
      ],
      "execution_count": 59,
      "outputs": [
        {
          "output_type": "execute_result",
          "data": {
            "text/plain": [
              "DatetimeIndex(['2021-08-13', '2021-08-14', '2021-08-15', '2021-08-16',\n",
              "               '2021-08-17', '2021-08-18', '2021-08-19', '2021-08-20',\n",
              "               '2021-08-21', '2021-08-22', '2021-08-23', '2021-08-24',\n",
              "               '2021-08-25', '2021-08-26', '2021-08-27', '2021-08-28',\n",
              "               '2021-08-29', '2021-08-30', '2021-08-31', '2021-09-01'],\n",
              "              dtype='datetime64[ns]', freq='D')"
            ]
          },
          "metadata": {},
          "execution_count": 59
        }
      ]
    },
    {
      "cell_type": "code",
      "metadata": {
        "colab": {
          "base_uri": "https://localhost:8080/"
        },
        "id": "aK4Jm3bEemir",
        "outputId": "6843f3dd-410e-4304-cc47-1b24541bf282"
      },
      "source": [
        "#'BM' trás um trecho de data contendo o ultimo dia útil de cada mês\n",
        "pd.date_range('2020-01-01','2021-01-01', freq='BM')"
      ],
      "execution_count": 63,
      "outputs": [
        {
          "output_type": "execute_result",
          "data": {
            "text/plain": [
              "DatetimeIndex(['2020-01-31', '2020-02-28', '2020-03-31', '2020-04-30',\n",
              "               '2020-05-29', '2020-06-30', '2020-07-31', '2020-08-31',\n",
              "               '2020-09-30', '2020-10-30', '2020-11-30', '2020-12-31'],\n",
              "              dtype='datetime64[ns]', freq='BM')"
            ]
          },
          "metadata": {},
          "execution_count": 63
        }
      ]
    },
    {
      "cell_type": "code",
      "metadata": {
        "colab": {
          "base_uri": "https://localhost:8080/"
        },
        "id": "HOxFxfrLfY6o",
        "outputId": "5626deff-f941-496a-926d-b0bfae3e3a7d"
      },
      "source": [
        "pd.date_range('2021-07-03 12:56:31', periods=5)"
      ],
      "execution_count": 64,
      "outputs": [
        {
          "output_type": "execute_result",
          "data": {
            "text/plain": [
              "DatetimeIndex(['2021-07-03 12:56:31', '2021-07-04 12:56:31',\n",
              "               '2021-07-05 12:56:31', '2021-07-06 12:56:31',\n",
              "               '2021-07-07 12:56:31'],\n",
              "              dtype='datetime64[ns]', freq='D')"
            ]
          },
          "metadata": {},
          "execution_count": 64
        }
      ]
    },
    {
      "cell_type": "code",
      "metadata": {
        "colab": {
          "base_uri": "https://localhost:8080/"
        },
        "id": "sPB-Q1VjgqbE",
        "outputId": "a8caea15-ce94-4a18-adcc-4fdc33a04bfb"
      },
      "source": [
        "#normalizar horários com normalize\n",
        "pd.date_range('2021-08-02 12:56:31', periods=5, normalize=True)"
      ],
      "execution_count": 65,
      "outputs": [
        {
          "output_type": "execute_result",
          "data": {
            "text/plain": [
              "DatetimeIndex(['2021-08-02', '2021-08-03', '2021-08-04', '2021-08-05',\n",
              "               '2021-08-06'],\n",
              "              dtype='datetime64[ns]', freq='D')"
            ]
          },
          "metadata": {},
          "execution_count": 65
        }
      ]
    },
    {
      "cell_type": "markdown",
      "metadata": {
        "id": "SC29L4V3hc2p"
      },
      "source": [
        "**Frequências e offset de datas**"
      ]
    },
    {
      "cell_type": "code",
      "metadata": {
        "id": "YBXxzwaahaus"
      },
      "source": [
        ""
      ],
      "execution_count": null,
      "outputs": []
    }
  ]
}