{
  "nbformat": 4,
  "nbformat_minor": 0,
  "metadata": {
    "colab": {
      "name": "series_temporais.ipynb",
      "provenance": [],
      "authorship_tag": "ABX9TyPiImYua8KU68ACRksAC8kt",
      "include_colab_link": true
    },
    "kernelspec": {
      "name": "python3",
      "display_name": "Python 3"
    },
    "language_info": {
      "name": "python"
    }
  },
  "cells": [
    {
      "cell_type": "markdown",
      "metadata": {
        "id": "view-in-github",
        "colab_type": "text"
      },
      "source": [
        "<a href=\"https://colab.research.google.com/github/anicelysantos/book-python-para-analise-de-dados/blob/main/series_temporais.ipynb\" target=\"_parent\"><img src=\"https://colab.research.google.com/assets/colab-badge.svg\" alt=\"Open In Colab\"/></a>"
      ]
    },
    {
      "cell_type": "markdown",
      "metadata": {
        "id": "qU3s08R17TBT"
      },
      "source": [
        "*Estudos do livro \"Python para análise de dados\" cap. 11*"
      ]
    },
    {
      "cell_type": "markdown",
      "metadata": {
        "id": "Rt3Hpvhv8pZM"
      },
      "source": [
        "# **Imports**"
      ]
    },
    {
      "cell_type": "code",
      "metadata": {
        "id": "roRvEA4N8q9E"
      },
      "source": [
        "import pandas as pd\n",
        "import numpy as np\n",
        "from datetime import datetime\n",
        "from datetime import timedelta\n",
        "from dateutil.parser import parse\n",
        "from pandas.tseries.offsets import Hour, Minute\n",
        "from pandas.tseries.offsets import Day, MonthEnd\n",
        "import pytz\n",
        "from pandas.tseries.offsets import Hour"
      ],
      "execution_count": 1,
      "outputs": []
    },
    {
      "cell_type": "markdown",
      "metadata": {
        "id": "nILNYgEB8VpL"
      },
      "source": [
        "# **Tipos de dados e ferramentas para data e hora**"
      ]
    },
    {
      "cell_type": "code",
      "metadata": {
        "colab": {
          "base_uri": "https://localhost:8080/"
        },
        "id": "aAlqzcaU7OhZ",
        "outputId": "b9271cce-7ad8-448b-f7ea-e5693be181ce"
      },
      "source": [
        "now = datetime.now()\n",
        "now"
      ],
      "execution_count": 2,
      "outputs": [
        {
          "output_type": "execute_result",
          "data": {
            "text/plain": [
              "datetime.datetime(2021, 9, 24, 16, 46, 40, 88213)"
            ]
          },
          "metadata": {},
          "execution_count": 2
        }
      ]
    },
    {
      "cell_type": "code",
      "metadata": {
        "colab": {
          "base_uri": "https://localhost:8080/"
        },
        "id": "fXnwbs2E83ZQ",
        "outputId": "659a1334-436b-4dd1-e020-4ecb07aa23dc"
      },
      "source": [
        "#now.year, now.month, now.day\n",
        "now.day, now.month, now.year"
      ],
      "execution_count": 3,
      "outputs": [
        {
          "output_type": "execute_result",
          "data": {
            "text/plain": [
              "(24, 9, 2021)"
            ]
          },
          "metadata": {},
          "execution_count": 3
        }
      ]
    },
    {
      "cell_type": "code",
      "metadata": {
        "colab": {
          "base_uri": "https://localhost:8080/"
        },
        "id": "7RJyhdKY9DmX",
        "outputId": "c926b1ca-50d0-4797-9bd9-c51776992100"
      },
      "source": [
        "#import lá em cima timedelta\n",
        "#timedelta mostra a diferença de tempo entre dois objetos datetime\n",
        "\n",
        "delta = datetime(2011, 1, 7) - datetime(2008, 6, 24, 8, 15)\n",
        "delta"
      ],
      "execution_count": 4,
      "outputs": [
        {
          "output_type": "execute_result",
          "data": {
            "text/plain": [
              "datetime.timedelta(days=926, seconds=56700)"
            ]
          },
          "metadata": {},
          "execution_count": 4
        }
      ]
    },
    {
      "cell_type": "code",
      "metadata": {
        "colab": {
          "base_uri": "https://localhost:8080/"
        },
        "id": "Z9Gm9gv-9eFV",
        "outputId": "ac5137f3-ce27-47f5-e5c6-1a44d9fe6f23"
      },
      "source": [
        "delta.days"
      ],
      "execution_count": 5,
      "outputs": [
        {
          "output_type": "execute_result",
          "data": {
            "text/plain": [
              "926"
            ]
          },
          "metadata": {},
          "execution_count": 5
        }
      ]
    },
    {
      "cell_type": "code",
      "metadata": {
        "colab": {
          "base_uri": "https://localhost:8080/"
        },
        "id": "XiE945pD9lwd",
        "outputId": "0b657296-4d46-4b62-e31e-5116d4ad17fd"
      },
      "source": [
        "delta.seconds"
      ],
      "execution_count": 6,
      "outputs": [
        {
          "output_type": "execute_result",
          "data": {
            "text/plain": [
              "56700"
            ]
          },
          "metadata": {},
          "execution_count": 6
        }
      ]
    },
    {
      "cell_type": "code",
      "metadata": {
        "colab": {
          "base_uri": "https://localhost:8080/"
        },
        "id": "4_DiakAV9sbo",
        "outputId": "efef7303-a624-47f7-af2c-f6a0c68454ad"
      },
      "source": [
        "start = datetime(2011,1,7)\n",
        "start + timedelta(12)"
      ],
      "execution_count": 7,
      "outputs": [
        {
          "output_type": "execute_result",
          "data": {
            "text/plain": [
              "datetime.datetime(2011, 1, 19, 0, 0)"
            ]
          },
          "metadata": {},
          "execution_count": 7
        }
      ]
    },
    {
      "cell_type": "code",
      "metadata": {
        "colab": {
          "base_uri": "https://localhost:8080/"
        },
        "id": "UqVlOTKD-T1W",
        "outputId": "a0c0b0e5-e375-4a2e-d908-adc7bd23f871"
      },
      "source": [
        "start - 2 * timedelta(12)\n"
      ],
      "execution_count": 8,
      "outputs": [
        {
          "output_type": "execute_result",
          "data": {
            "text/plain": [
              "datetime.datetime(2010, 12, 14, 0, 0)"
            ]
          },
          "metadata": {},
          "execution_count": 8
        }
      ]
    },
    {
      "cell_type": "markdown",
      "metadata": {
        "id": "SQrMWxQgDauW"
      },
      "source": [
        "**Conversão entre string e datetime**"
      ]
    },
    {
      "cell_type": "code",
      "metadata": {
        "colab": {
          "base_uri": "https://localhost:8080/",
          "height": 0
        },
        "id": "kEkoELlM-34z",
        "outputId": "aea31ecc-93da-4005-b2f4-cd48dc18ccd0"
      },
      "source": [
        "stamp = datetime(2011, 1, 3)\n",
        "str(stamp)"
      ],
      "execution_count": 9,
      "outputs": [
        {
          "output_type": "execute_result",
          "data": {
            "application/vnd.google.colaboratory.intrinsic+json": {
              "type": "string"
            },
            "text/plain": [
              "'2011-01-03 00:00:00'"
            ]
          },
          "metadata": {},
          "execution_count": 9
        }
      ]
    },
    {
      "cell_type": "code",
      "metadata": {
        "colab": {
          "base_uri": "https://localhost:8080/",
          "height": 0
        },
        "id": "1yS9ohZmHmEl",
        "outputId": "1af1c8a6-0045-42fc-a02a-78d322d77a8c"
      },
      "source": [
        "#stamp.strftime('%Y-%m-%d')\n",
        "stamp.strftime('%F') #mesma coisa de cima"
      ],
      "execution_count": 10,
      "outputs": [
        {
          "output_type": "execute_result",
          "data": {
            "application/vnd.google.colaboratory.intrinsic+json": {
              "type": "string"
            },
            "text/plain": [
              "'2011-01-03'"
            ]
          },
          "metadata": {},
          "execution_count": 10
        }
      ]
    },
    {
      "cell_type": "code",
      "metadata": {
        "id": "PXFfZiLfH2KM"
      },
      "source": [
        "value = '2011-01-03'"
      ],
      "execution_count": 11,
      "outputs": []
    },
    {
      "cell_type": "code",
      "metadata": {
        "colab": {
          "base_uri": "https://localhost:8080/"
        },
        "id": "nS4qmiN_TA05",
        "outputId": "d78dcbde-f0bd-4ff9-9819-a97978257b89"
      },
      "source": [
        "datetime.strptime(value, '%Y-%m-%d')"
      ],
      "execution_count": 12,
      "outputs": [
        {
          "output_type": "execute_result",
          "data": {
            "text/plain": [
              "datetime.datetime(2011, 1, 3, 0, 0)"
            ]
          },
          "metadata": {},
          "execution_count": 12
        }
      ]
    },
    {
      "cell_type": "code",
      "metadata": {
        "colab": {
          "base_uri": "https://localhost:8080/"
        },
        "id": "nnasMwKITE1m",
        "outputId": "95d40aa1-45b0-4a54-dd13-b6fcbc74f7b2"
      },
      "source": [
        "datestrs = ['9/19/2021','9/20/2020']\n",
        "[datetime.strptime(x, '%m/%d/%Y') for x in datestrs]"
      ],
      "execution_count": 13,
      "outputs": [
        {
          "output_type": "execute_result",
          "data": {
            "text/plain": [
              "[datetime.datetime(2021, 9, 19, 0, 0), datetime.datetime(2020, 9, 20, 0, 0)]"
            ]
          },
          "metadata": {},
          "execution_count": 13
        }
      ]
    },
    {
      "cell_type": "code",
      "metadata": {
        "colab": {
          "base_uri": "https://localhost:8080/"
        },
        "id": "gpMcLaeNTpSq",
        "outputId": "14e19c26-ecd1-4112-f70a-8330bd6410ec"
      },
      "source": [
        "#Import do parse lá no inicio\n",
        "parse('21-09-2021')"
      ],
      "execution_count": 14,
      "outputs": [
        {
          "output_type": "execute_result",
          "data": {
            "text/plain": [
              "datetime.datetime(2021, 9, 21, 0, 0)"
            ]
          },
          "metadata": {},
          "execution_count": 14
        }
      ]
    },
    {
      "cell_type": "code",
      "metadata": {
        "id": "c4MSEvVnUMKh",
        "colab": {
          "base_uri": "https://localhost:8080/"
        },
        "outputId": "a30d225b-5cfa-4a7d-b52e-1d87fa41c92f"
      },
      "source": [
        "parse('Sep 21, 2021 09:02 AM')"
      ],
      "execution_count": 15,
      "outputs": [
        {
          "output_type": "execute_result",
          "data": {
            "text/plain": [
              "datetime.datetime(2021, 9, 21, 9, 2)"
            ]
          },
          "metadata": {},
          "execution_count": 15
        }
      ]
    },
    {
      "cell_type": "code",
      "metadata": {
        "colab": {
          "base_uri": "https://localhost:8080/"
        },
        "id": "5Hrvi8aiPQd8",
        "outputId": "e53351ef-575b-4205-a43e-16b8d9b2dc96"
      },
      "source": [
        "#Dia antes do mês, padrão Brasil\n",
        "parse('21/09/2021', dayfirst=True)"
      ],
      "execution_count": 16,
      "outputs": [
        {
          "output_type": "execute_result",
          "data": {
            "text/plain": [
              "datetime.datetime(2021, 9, 21, 0, 0)"
            ]
          },
          "metadata": {},
          "execution_count": 16
        }
      ]
    },
    {
      "cell_type": "code",
      "metadata": {
        "colab": {
          "base_uri": "https://localhost:8080/"
        },
        "id": "DHgtlE1IPZ0_",
        "outputId": "3551eb8e-21c3-42b2-8dcd-60f135a43b65"
      },
      "source": [
        "datastrs = ['2021-09-21 09:04:00', '2021-09-21 09:05:00']\n",
        "pd.to_datetime(datastrs)"
      ],
      "execution_count": 17,
      "outputs": [
        {
          "output_type": "execute_result",
          "data": {
            "text/plain": [
              "DatetimeIndex(['2021-09-21 09:04:00', '2021-09-21 09:05:00'], dtype='datetime64[ns]', freq=None)"
            ]
          },
          "metadata": {},
          "execution_count": 17
        }
      ]
    },
    {
      "cell_type": "code",
      "metadata": {
        "colab": {
          "base_uri": "https://localhost:8080/"
        },
        "id": "v6l5X6OBP5Xh",
        "outputId": "e3ebb145-f20c-4cb4-c8dd-a246b5ecca62"
      },
      "source": [
        "#Lidar com dados ausentes (None)\n",
        "idx = pd.to_datetime(datestrs + [None])\n",
        "idx"
      ],
      "execution_count": 18,
      "outputs": [
        {
          "output_type": "execute_result",
          "data": {
            "text/plain": [
              "DatetimeIndex(['2021-09-19', '2020-09-20', 'NaT'], dtype='datetime64[ns]', freq=None)"
            ]
          },
          "metadata": {},
          "execution_count": 18
        }
      ]
    },
    {
      "cell_type": "code",
      "metadata": {
        "colab": {
          "base_uri": "https://localhost:8080/"
        },
        "id": "GDl2vWwoQLWy",
        "outputId": "73d92351-8b4d-4b71-dcd2-8722ca63648a"
      },
      "source": [
        "#NaT é o valor nulo do pandas para tempo/data (dados de timestamp)\n",
        "idx[2]"
      ],
      "execution_count": 19,
      "outputs": [
        {
          "output_type": "execute_result",
          "data": {
            "text/plain": [
              "NaT"
            ]
          },
          "metadata": {},
          "execution_count": 19
        }
      ]
    },
    {
      "cell_type": "code",
      "metadata": {
        "colab": {
          "base_uri": "https://localhost:8080/"
        },
        "id": "8pciCTjdQbIU",
        "outputId": "0de19175-cf85-406a-d9a0-735c552d6f09"
      },
      "source": [
        "pd.isnull(idx)"
      ],
      "execution_count": 20,
      "outputs": [
        {
          "output_type": "execute_result",
          "data": {
            "text/plain": [
              "array([False, False,  True])"
            ]
          },
          "metadata": {},
          "execution_count": 20
        }
      ]
    },
    {
      "cell_type": "markdown",
      "metadata": {
        "id": "7XtK_VweRoDr"
      },
      "source": [
        "# **Básico sobre séries temporais**"
      ]
    },
    {
      "cell_type": "code",
      "metadata": {
        "id": "UVzkp-WUQdGX"
      },
      "source": [
        "#import datetime no inicio\n",
        "dates = [datetime(2011, 1, 2), datetime(2011, 1, 5), datetime(2011, 1, 7), datetime(2011, 1, 8), datetime(2011,1,10), datetime(2011, 1, 12)]"
      ],
      "execution_count": 21,
      "outputs": []
    },
    {
      "cell_type": "code",
      "metadata": {
        "colab": {
          "base_uri": "https://localhost:8080/"
        },
        "id": "6pBZ6Mq4UfU-",
        "outputId": "ead784c2-280f-4f83-94ae-cef78c338ce0"
      },
      "source": [
        "ts = pd.Series(np.random.randn(6), index=dates)\n",
        "ts"
      ],
      "execution_count": 22,
      "outputs": [
        {
          "output_type": "execute_result",
          "data": {
            "text/plain": [
              "2011-01-02   -0.577903\n",
              "2011-01-05   -1.402747\n",
              "2011-01-07   -1.131579\n",
              "2011-01-08   -1.275769\n",
              "2011-01-10    1.263197\n",
              "2011-01-12   -0.104327\n",
              "dtype: float64"
            ]
          },
          "metadata": {},
          "execution_count": 22
        }
      ]
    },
    {
      "cell_type": "code",
      "metadata": {
        "colab": {
          "base_uri": "https://localhost:8080/"
        },
        "id": "85_4AyetUmaW",
        "outputId": "71e816a6-0fbe-4f5b-8a71-b56c7a6f9fd9"
      },
      "source": [
        "ts.index"
      ],
      "execution_count": 23,
      "outputs": [
        {
          "output_type": "execute_result",
          "data": {
            "text/plain": [
              "DatetimeIndex(['2011-01-02', '2011-01-05', '2011-01-07', '2011-01-08',\n",
              "               '2011-01-10', '2011-01-12'],\n",
              "              dtype='datetime64[ns]', freq=None)"
            ]
          },
          "metadata": {},
          "execution_count": 23
        }
      ]
    },
    {
      "cell_type": "code",
      "metadata": {
        "colab": {
          "base_uri": "https://localhost:8080/"
        },
        "id": "7AI5D0V2Ux8_",
        "outputId": "0b8b7d4b-005a-4688-a36a-0483925fbf87"
      },
      "source": [
        "#[::2]seleciona um elemento a cada dois\n",
        "ts + ts[::2]"
      ],
      "execution_count": 24,
      "outputs": [
        {
          "output_type": "execute_result",
          "data": {
            "text/plain": [
              "2011-01-02   -1.155807\n",
              "2011-01-05         NaN\n",
              "2011-01-07   -2.263158\n",
              "2011-01-08         NaN\n",
              "2011-01-10    2.526394\n",
              "2011-01-12         NaN\n",
              "dtype: float64"
            ]
          },
          "metadata": {},
          "execution_count": 24
        }
      ]
    },
    {
      "cell_type": "code",
      "metadata": {
        "colab": {
          "base_uri": "https://localhost:8080/"
        },
        "id": "AiUvtiD3U4UH",
        "outputId": "c89e7b6d-5f89-4ce0-cf51-5a6b60b6d843"
      },
      "source": [
        "ts.index.dtype"
      ],
      "execution_count": 25,
      "outputs": [
        {
          "output_type": "execute_result",
          "data": {
            "text/plain": [
              "dtype('<M8[ns]')"
            ]
          },
          "metadata": {},
          "execution_count": 25
        }
      ]
    },
    {
      "cell_type": "code",
      "metadata": {
        "colab": {
          "base_uri": "https://localhost:8080/"
        },
        "id": "w5z_7YThVJv3",
        "outputId": "04b2a3f0-ac27-4441-bbfa-eb3e630907df"
      },
      "source": [
        "stamp = ts.index[0]\n",
        "stamp"
      ],
      "execution_count": 26,
      "outputs": [
        {
          "output_type": "execute_result",
          "data": {
            "text/plain": [
              "Timestamp('2011-01-02 00:00:00')"
            ]
          },
          "metadata": {},
          "execution_count": 26
        }
      ]
    },
    {
      "cell_type": "markdown",
      "metadata": {
        "id": "BLRtURPFVbOy"
      },
      "source": [
        "**Indexação, seleção e geração de subconjuntos**"
      ]
    },
    {
      "cell_type": "code",
      "metadata": {
        "colab": {
          "base_uri": "https://localhost:8080/"
        },
        "id": "Vh0vpj3BVNWH",
        "outputId": "48d2b726-f6bc-408b-d698-bd9ab88a98a2"
      },
      "source": [
        "stamp = ts.index[2]\n",
        "ts[stamp]"
      ],
      "execution_count": 27,
      "outputs": [
        {
          "output_type": "execute_result",
          "data": {
            "text/plain": [
              "-1.1315790361104112"
            ]
          },
          "metadata": {},
          "execution_count": 27
        }
      ]
    },
    {
      "cell_type": "code",
      "metadata": {
        "colab": {
          "base_uri": "https://localhost:8080/"
        },
        "id": "HG1kMmGMVlrX",
        "outputId": "4b45726b-f604-4fef-a913-988cf84ae559"
      },
      "source": [
        "#Passar uma string para ser interpretada como data\n",
        "ts['1/10/2011']"
      ],
      "execution_count": 28,
      "outputs": [
        {
          "output_type": "execute_result",
          "data": {
            "text/plain": [
              "1.2631970095270282"
            ]
          },
          "metadata": {},
          "execution_count": 28
        }
      ]
    },
    {
      "cell_type": "code",
      "metadata": {
        "colab": {
          "base_uri": "https://localhost:8080/"
        },
        "id": "XFTGvpSKV_dg",
        "outputId": "a6523394-97f5-4177-cd7e-c3b8f3b8fd7f"
      },
      "source": [
        "ts['20110110']"
      ],
      "execution_count": 29,
      "outputs": [
        {
          "output_type": "execute_result",
          "data": {
            "text/plain": [
              "1.2631970095270282"
            ]
          },
          "metadata": {},
          "execution_count": 29
        }
      ]
    },
    {
      "cell_type": "code",
      "metadata": {
        "colab": {
          "base_uri": "https://localhost:8080/"
        },
        "id": "3BndCk-dWGQQ",
        "outputId": "a0e9e39c-2294-4cf4-f0fa-7dcfc6e07cbb"
      },
      "source": [
        "#series temporais mais longas podem selecionar o ano ou só o ano e o mês para trazer trechos do dataframe\n",
        "longer_ts = pd.Series(np.random.randn(1000), index=pd.date_range('1/1/2000', periods=1000))\n",
        "longer_ts"
      ],
      "execution_count": 30,
      "outputs": [
        {
          "output_type": "execute_result",
          "data": {
            "text/plain": [
              "2000-01-01    1.333187\n",
              "2000-01-02   -0.616121\n",
              "2000-01-03    2.692836\n",
              "2000-01-04    1.608723\n",
              "2000-01-05    1.838233\n",
              "                ...   \n",
              "2002-09-22   -0.311549\n",
              "2002-09-23    1.059237\n",
              "2002-09-24   -1.382216\n",
              "2002-09-25    0.708477\n",
              "2002-09-26   -0.385970\n",
              "Freq: D, Length: 1000, dtype: float64"
            ]
          },
          "metadata": {},
          "execution_count": 30
        }
      ]
    },
    {
      "cell_type": "code",
      "metadata": {
        "colab": {
          "base_uri": "https://localhost:8080/"
        },
        "id": "2_VeGWZYWlo7",
        "outputId": "7ea49f81-9f15-4fb3-a699-83db8e920d8d"
      },
      "source": [
        "longer_ts['2001']"
      ],
      "execution_count": 31,
      "outputs": [
        {
          "output_type": "execute_result",
          "data": {
            "text/plain": [
              "2001-01-01    1.720393\n",
              "2001-01-02   -0.852683\n",
              "2001-01-03    0.548805\n",
              "2001-01-04    0.242733\n",
              "2001-01-05    1.016667\n",
              "                ...   \n",
              "2001-12-27   -1.117608\n",
              "2001-12-28   -0.848222\n",
              "2001-12-29    1.238030\n",
              "2001-12-30    0.045534\n",
              "2001-12-31   -0.127413\n",
              "Freq: D, Length: 365, dtype: float64"
            ]
          },
          "metadata": {},
          "execution_count": 31
        }
      ]
    },
    {
      "cell_type": "code",
      "metadata": {
        "colab": {
          "base_uri": "https://localhost:8080/"
        },
        "id": "kDnha72PXCdX",
        "outputId": "166f2fd7-7931-4159-c0df-dac35f1bed4a"
      },
      "source": [
        "longer_ts['2001-05']"
      ],
      "execution_count": 32,
      "outputs": [
        {
          "output_type": "execute_result",
          "data": {
            "text/plain": [
              "2001-05-01   -0.643270\n",
              "2001-05-02    0.484707\n",
              "2001-05-03   -0.327748\n",
              "2001-05-04   -1.622745\n",
              "2001-05-05   -0.444126\n",
              "2001-05-06    0.469529\n",
              "2001-05-07   -1.292709\n",
              "2001-05-08   -0.358277\n",
              "2001-05-09   -1.164088\n",
              "2001-05-10    0.650132\n",
              "2001-05-11   -0.521766\n",
              "2001-05-12   -0.289935\n",
              "2001-05-13   -0.768603\n",
              "2001-05-14   -0.262173\n",
              "2001-05-15    1.048643\n",
              "2001-05-16   -0.908652\n",
              "2001-05-17   -1.161935\n",
              "2001-05-18    0.767444\n",
              "2001-05-19   -0.616102\n",
              "2001-05-20   -1.860177\n",
              "2001-05-21    0.642098\n",
              "2001-05-22    1.697910\n",
              "2001-05-23    0.997767\n",
              "2001-05-24   -0.097690\n",
              "2001-05-25   -0.732954\n",
              "2001-05-26    0.498671\n",
              "2001-05-27    0.079296\n",
              "2001-05-28   -0.648569\n",
              "2001-05-29   -0.354568\n",
              "2001-05-30   -0.042652\n",
              "2001-05-31    0.869994\n",
              "Freq: D, dtype: float64"
            ]
          },
          "metadata": {},
          "execution_count": 32
        }
      ]
    },
    {
      "cell_type": "code",
      "metadata": {
        "colab": {
          "base_uri": "https://localhost:8080/"
        },
        "id": "LW8MBFEnXjgQ",
        "outputId": "c8852d1d-09aa-4dab-db1e-f3047f24c74e"
      },
      "source": [
        "ts[datetime(2011, 1, 7):]"
      ],
      "execution_count": 33,
      "outputs": [
        {
          "output_type": "execute_result",
          "data": {
            "text/plain": [
              "2011-01-07   -1.131579\n",
              "2011-01-08   -1.275769\n",
              "2011-01-10    1.263197\n",
              "2011-01-12   -0.104327\n",
              "dtype: float64"
            ]
          },
          "metadata": {},
          "execution_count": 33
        }
      ]
    },
    {
      "cell_type": "code",
      "metadata": {
        "colab": {
          "base_uri": "https://localhost:8080/"
        },
        "id": "BaDHkiHKXspx",
        "outputId": "54256ee5-fcef-4f24-b325-609b4bd9ce72"
      },
      "source": [
        "ts"
      ],
      "execution_count": 34,
      "outputs": [
        {
          "output_type": "execute_result",
          "data": {
            "text/plain": [
              "2011-01-02   -0.577903\n",
              "2011-01-05   -1.402747\n",
              "2011-01-07   -1.131579\n",
              "2011-01-08   -1.275769\n",
              "2011-01-10    1.263197\n",
              "2011-01-12   -0.104327\n",
              "dtype: float64"
            ]
          },
          "metadata": {},
          "execution_count": 34
        }
      ]
    },
    {
      "cell_type": "code",
      "metadata": {
        "colab": {
          "base_uri": "https://localhost:8080/"
        },
        "id": "hHOCmZS6Xxdh",
        "outputId": "48efd95d-253c-43d0-d3c9-8a018f21fde8"
      },
      "source": [
        "ts['1/6/2011':'1/11/2011']"
      ],
      "execution_count": 35,
      "outputs": [
        {
          "output_type": "execute_result",
          "data": {
            "text/plain": [
              "2011-01-07   -1.131579\n",
              "2011-01-08   -1.275769\n",
              "2011-01-10    1.263197\n",
              "dtype: float64"
            ]
          },
          "metadata": {},
          "execution_count": 35
        }
      ]
    },
    {
      "cell_type": "code",
      "metadata": {
        "colab": {
          "base_uri": "https://localhost:8080/"
        },
        "id": "9ZnQz6f_X6kH",
        "outputId": "4b86eb18-faeb-4319-9c97-53b9a2ed7f68"
      },
      "source": [
        "#Fatiar um periodo entre duas datas\n",
        "ts.truncate(after='1/9/2011')"
      ],
      "execution_count": 36,
      "outputs": [
        {
          "output_type": "execute_result",
          "data": {
            "text/plain": [
              "2011-01-02   -0.577903\n",
              "2011-01-05   -1.402747\n",
              "2011-01-07   -1.131579\n",
              "2011-01-08   -1.275769\n",
              "dtype: float64"
            ]
          },
          "metadata": {},
          "execution_count": 36
        }
      ]
    },
    {
      "cell_type": "code",
      "metadata": {
        "id": "ho75e_B9YOHR"
      },
      "source": [
        "dates = pd.date_range('1/1/2000', periods=100, freq='W-WED')\n",
        "long_df = pd.DataFrame(np.random.randn(100,4), index=dates, columns=['Colorado', 'Texas', 'New York', 'Ohio'])"
      ],
      "execution_count": 37,
      "outputs": []
    },
    {
      "cell_type": "code",
      "metadata": {
        "colab": {
          "base_uri": "https://localhost:8080/",
          "height": 0
        },
        "id": "q3OIscIpYqi5",
        "outputId": "68813477-33f9-4f8c-ae77-14c11402fca3"
      },
      "source": [
        "long_df.loc['5-2001']"
      ],
      "execution_count": 38,
      "outputs": [
        {
          "output_type": "execute_result",
          "data": {
            "text/html": [
              "<div>\n",
              "<style scoped>\n",
              "    .dataframe tbody tr th:only-of-type {\n",
              "        vertical-align: middle;\n",
              "    }\n",
              "\n",
              "    .dataframe tbody tr th {\n",
              "        vertical-align: top;\n",
              "    }\n",
              "\n",
              "    .dataframe thead th {\n",
              "        text-align: right;\n",
              "    }\n",
              "</style>\n",
              "<table border=\"1\" class=\"dataframe\">\n",
              "  <thead>\n",
              "    <tr style=\"text-align: right;\">\n",
              "      <th></th>\n",
              "      <th>Colorado</th>\n",
              "      <th>Texas</th>\n",
              "      <th>New York</th>\n",
              "      <th>Ohio</th>\n",
              "    </tr>\n",
              "  </thead>\n",
              "  <tbody>\n",
              "    <tr>\n",
              "      <th>2001-05-02</th>\n",
              "      <td>0.407468</td>\n",
              "      <td>1.613245</td>\n",
              "      <td>0.803362</td>\n",
              "      <td>0.523541</td>\n",
              "    </tr>\n",
              "    <tr>\n",
              "      <th>2001-05-09</th>\n",
              "      <td>0.971775</td>\n",
              "      <td>1.311985</td>\n",
              "      <td>-0.233080</td>\n",
              "      <td>-0.535736</td>\n",
              "    </tr>\n",
              "    <tr>\n",
              "      <th>2001-05-16</th>\n",
              "      <td>1.632667</td>\n",
              "      <td>-0.166932</td>\n",
              "      <td>-0.813172</td>\n",
              "      <td>-0.329271</td>\n",
              "    </tr>\n",
              "    <tr>\n",
              "      <th>2001-05-23</th>\n",
              "      <td>-0.368004</td>\n",
              "      <td>0.083205</td>\n",
              "      <td>1.445448</td>\n",
              "      <td>-1.487704</td>\n",
              "    </tr>\n",
              "    <tr>\n",
              "      <th>2001-05-30</th>\n",
              "      <td>1.532468</td>\n",
              "      <td>-1.164027</td>\n",
              "      <td>0.379398</td>\n",
              "      <td>0.947820</td>\n",
              "    </tr>\n",
              "  </tbody>\n",
              "</table>\n",
              "</div>"
            ],
            "text/plain": [
              "            Colorado     Texas  New York      Ohio\n",
              "2001-05-02  0.407468  1.613245  0.803362  0.523541\n",
              "2001-05-09  0.971775  1.311985 -0.233080 -0.535736\n",
              "2001-05-16  1.632667 -0.166932 -0.813172 -0.329271\n",
              "2001-05-23 -0.368004  0.083205  1.445448 -1.487704\n",
              "2001-05-30  1.532468 -1.164027  0.379398  0.947820"
            ]
          },
          "metadata": {},
          "execution_count": 38
        }
      ]
    },
    {
      "cell_type": "markdown",
      "metadata": {
        "id": "Z8L966ZHY76F"
      },
      "source": [
        "**Séries temporais com índices duplicados**"
      ]
    },
    {
      "cell_type": "code",
      "metadata": {
        "id": "afjWyItVYuQR"
      },
      "source": [
        "dates = pd.DatetimeIndex(['1/1/2000', '1/2/2000', '1/2/2000', '1/2/2000', '1/3/2000'])\n",
        "dup_ts = pd.Series(np.arange(5), index=dates)"
      ],
      "execution_count": 39,
      "outputs": []
    },
    {
      "cell_type": "code",
      "metadata": {
        "colab": {
          "base_uri": "https://localhost:8080/"
        },
        "id": "x1DA9E3jY3TK",
        "outputId": "90257220-0a37-418e-c3ff-5b39ad939820"
      },
      "source": [
        "dup_ts"
      ],
      "execution_count": 40,
      "outputs": [
        {
          "output_type": "execute_result",
          "data": {
            "text/plain": [
              "2000-01-01    0\n",
              "2000-01-02    1\n",
              "2000-01-02    2\n",
              "2000-01-02    3\n",
              "2000-01-03    4\n",
              "dtype: int64"
            ]
          },
          "metadata": {},
          "execution_count": 40
        }
      ]
    },
    {
      "cell_type": "code",
      "metadata": {
        "colab": {
          "base_uri": "https://localhost:8080/"
        },
        "id": "rzw6l3hsZY9B",
        "outputId": "e0546e04-654d-4a75-ceaa-13f142301c36"
      },
      "source": [
        "dup_ts.index.is_unique"
      ],
      "execution_count": 41,
      "outputs": [
        {
          "output_type": "execute_result",
          "data": {
            "text/plain": [
              "False"
            ]
          },
          "metadata": {},
          "execution_count": 41
        }
      ]
    },
    {
      "cell_type": "code",
      "metadata": {
        "colab": {
          "base_uri": "https://localhost:8080/"
        },
        "id": "eGVfqaQlZlap",
        "outputId": "88950586-6480-435c-a12b-f2fb736604a7"
      },
      "source": [
        "dup_ts['1/3/2000']"
      ],
      "execution_count": 42,
      "outputs": [
        {
          "output_type": "execute_result",
          "data": {
            "text/plain": [
              "4"
            ]
          },
          "metadata": {},
          "execution_count": 42
        }
      ]
    },
    {
      "cell_type": "code",
      "metadata": {
        "colab": {
          "base_uri": "https://localhost:8080/"
        },
        "id": "5runIuRUaNxw",
        "outputId": "f99dc6e3-46fa-4490-c511-c7260ec84311"
      },
      "source": [
        "dup_ts['1/2/2000']"
      ],
      "execution_count": 43,
      "outputs": [
        {
          "output_type": "execute_result",
          "data": {
            "text/plain": [
              "2000-01-02    1\n",
              "2000-01-02    2\n",
              "2000-01-02    3\n",
              "dtype: int64"
            ]
          },
          "metadata": {},
          "execution_count": 43
        }
      ]
    },
    {
      "cell_type": "code",
      "metadata": {
        "colab": {
          "base_uri": "https://localhost:8080/"
        },
        "id": "PdagmST_aQ8e",
        "outputId": "291882b7-566f-494f-f23c-cda9d493524d"
      },
      "source": [
        "#agregar os dados únicos\n",
        "grouped = dup_ts.groupby(level=0)\n",
        "grouped.mean()"
      ],
      "execution_count": 44,
      "outputs": [
        {
          "output_type": "execute_result",
          "data": {
            "text/plain": [
              "2000-01-01    0\n",
              "2000-01-02    2\n",
              "2000-01-03    4\n",
              "dtype: int64"
            ]
          },
          "metadata": {},
          "execution_count": 44
        }
      ]
    },
    {
      "cell_type": "code",
      "metadata": {
        "colab": {
          "base_uri": "https://localhost:8080/"
        },
        "id": "1gTqzvekamHy",
        "outputId": "798a932b-0612-45ba-c59b-10d259b15276"
      },
      "source": [
        "grouped.count()"
      ],
      "execution_count": 45,
      "outputs": [
        {
          "output_type": "execute_result",
          "data": {
            "text/plain": [
              "2000-01-01    1\n",
              "2000-01-02    3\n",
              "2000-01-03    1\n",
              "dtype: int64"
            ]
          },
          "metadata": {},
          "execution_count": 45
        }
      ]
    },
    {
      "cell_type": "markdown",
      "metadata": {
        "id": "3t0w1nQUa9y9"
      },
      "source": [
        "# **Intervalos de datas, frequências e deslocamentos**"
      ]
    },
    {
      "cell_type": "code",
      "metadata": {
        "colab": {
          "base_uri": "https://localhost:8080/"
        },
        "id": "3pAY_vgza4xh",
        "outputId": "a9f0dc56-8ee0-4f4b-dae5-002b2543c4bc"
      },
      "source": [
        "ts"
      ],
      "execution_count": 46,
      "outputs": [
        {
          "output_type": "execute_result",
          "data": {
            "text/plain": [
              "2011-01-02   -0.577903\n",
              "2011-01-05   -1.402747\n",
              "2011-01-07   -1.131579\n",
              "2011-01-08   -1.275769\n",
              "2011-01-10    1.263197\n",
              "2011-01-12   -0.104327\n",
              "dtype: float64"
            ]
          },
          "metadata": {},
          "execution_count": 46
        }
      ]
    },
    {
      "cell_type": "code",
      "metadata": {
        "id": "yh5kJf_lbxo5"
      },
      "source": [
        "#String 'D' é o equivalente a frequência diária\n",
        "resampler = ts.resample('D')\n"
      ],
      "execution_count": 47,
      "outputs": []
    },
    {
      "cell_type": "markdown",
      "metadata": {
        "id": "aowxCCBpcIaF"
      },
      "source": [
        "**Gerando intervalos de datas**"
      ]
    },
    {
      "cell_type": "code",
      "metadata": {
        "colab": {
          "base_uri": "https://localhost:8080/"
        },
        "id": "Ts-VTmwsb2VB",
        "outputId": "7074ecee-fd80-4d40-8bb3-6b81b20d093b"
      },
      "source": [
        "#pandas.date_range gera index com tamanho especifico\n",
        "index = pd.date_range('2012-04-01', '2012-06-01')\n",
        "index"
      ],
      "execution_count": 48,
      "outputs": [
        {
          "output_type": "execute_result",
          "data": {
            "text/plain": [
              "DatetimeIndex(['2012-04-01', '2012-04-02', '2012-04-03', '2012-04-04',\n",
              "               '2012-04-05', '2012-04-06', '2012-04-07', '2012-04-08',\n",
              "               '2012-04-09', '2012-04-10', '2012-04-11', '2012-04-12',\n",
              "               '2012-04-13', '2012-04-14', '2012-04-15', '2012-04-16',\n",
              "               '2012-04-17', '2012-04-18', '2012-04-19', '2012-04-20',\n",
              "               '2012-04-21', '2012-04-22', '2012-04-23', '2012-04-24',\n",
              "               '2012-04-25', '2012-04-26', '2012-04-27', '2012-04-28',\n",
              "               '2012-04-29', '2012-04-30', '2012-05-01', '2012-05-02',\n",
              "               '2012-05-03', '2012-05-04', '2012-05-05', '2012-05-06',\n",
              "               '2012-05-07', '2012-05-08', '2012-05-09', '2012-05-10',\n",
              "               '2012-05-11', '2012-05-12', '2012-05-13', '2012-05-14',\n",
              "               '2012-05-15', '2012-05-16', '2012-05-17', '2012-05-18',\n",
              "               '2012-05-19', '2012-05-20', '2012-05-21', '2012-05-22',\n",
              "               '2012-05-23', '2012-05-24', '2012-05-25', '2012-05-26',\n",
              "               '2012-05-27', '2012-05-28', '2012-05-29', '2012-05-30',\n",
              "               '2012-05-31', '2012-06-01'],\n",
              "              dtype='datetime64[ns]', freq='D')"
            ]
          },
          "metadata": {},
          "execution_count": 48
        }
      ]
    },
    {
      "cell_type": "code",
      "metadata": {
        "colab": {
          "base_uri": "https://localhost:8080/"
        },
        "id": "r0u6n9aIcgZd",
        "outputId": "d11ea394-c52d-450c-af6e-80c65498c8f9"
      },
      "source": [
        "#Se passar só a data do inicio ou do fim, precisa passar o periodo\n",
        "pd.date_range(start='2021-08-01', periods=20)"
      ],
      "execution_count": 49,
      "outputs": [
        {
          "output_type": "execute_result",
          "data": {
            "text/plain": [
              "DatetimeIndex(['2021-08-01', '2021-08-02', '2021-08-03', '2021-08-04',\n",
              "               '2021-08-05', '2021-08-06', '2021-08-07', '2021-08-08',\n",
              "               '2021-08-09', '2021-08-10', '2021-08-11', '2021-08-12',\n",
              "               '2021-08-13', '2021-08-14', '2021-08-15', '2021-08-16',\n",
              "               '2021-08-17', '2021-08-18', '2021-08-19', '2021-08-20'],\n",
              "              dtype='datetime64[ns]', freq='D')"
            ]
          },
          "metadata": {},
          "execution_count": 49
        }
      ]
    },
    {
      "cell_type": "code",
      "metadata": {
        "colab": {
          "base_uri": "https://localhost:8080/"
        },
        "id": "Or8TX0mIeaY8",
        "outputId": "841ddb82-1867-40a6-c25f-6d1a8a3f2ba9"
      },
      "source": [
        "pd.date_range(end='2021-09-01', periods=20)"
      ],
      "execution_count": 50,
      "outputs": [
        {
          "output_type": "execute_result",
          "data": {
            "text/plain": [
              "DatetimeIndex(['2021-08-13', '2021-08-14', '2021-08-15', '2021-08-16',\n",
              "               '2021-08-17', '2021-08-18', '2021-08-19', '2021-08-20',\n",
              "               '2021-08-21', '2021-08-22', '2021-08-23', '2021-08-24',\n",
              "               '2021-08-25', '2021-08-26', '2021-08-27', '2021-08-28',\n",
              "               '2021-08-29', '2021-08-30', '2021-08-31', '2021-09-01'],\n",
              "              dtype='datetime64[ns]', freq='D')"
            ]
          },
          "metadata": {},
          "execution_count": 50
        }
      ]
    },
    {
      "cell_type": "code",
      "metadata": {
        "colab": {
          "base_uri": "https://localhost:8080/"
        },
        "id": "aK4Jm3bEemir",
        "outputId": "6adc72d1-62c2-4af4-95b2-9ecb2c29f6f8"
      },
      "source": [
        "#'BM' trás um trecho de data contendo o ultimo dia útil de cada mês\n",
        "pd.date_range('2020-01-01','2021-01-01', freq='BM')"
      ],
      "execution_count": 51,
      "outputs": [
        {
          "output_type": "execute_result",
          "data": {
            "text/plain": [
              "DatetimeIndex(['2020-01-31', '2020-02-28', '2020-03-31', '2020-04-30',\n",
              "               '2020-05-29', '2020-06-30', '2020-07-31', '2020-08-31',\n",
              "               '2020-09-30', '2020-10-30', '2020-11-30', '2020-12-31'],\n",
              "              dtype='datetime64[ns]', freq='BM')"
            ]
          },
          "metadata": {},
          "execution_count": 51
        }
      ]
    },
    {
      "cell_type": "code",
      "metadata": {
        "colab": {
          "base_uri": "https://localhost:8080/"
        },
        "id": "HOxFxfrLfY6o",
        "outputId": "60e684f6-3840-4e64-b33a-c5e01a169429"
      },
      "source": [
        "pd.date_range('2021-07-03 12:56:31', periods=5)"
      ],
      "execution_count": 52,
      "outputs": [
        {
          "output_type": "execute_result",
          "data": {
            "text/plain": [
              "DatetimeIndex(['2021-07-03 12:56:31', '2021-07-04 12:56:31',\n",
              "               '2021-07-05 12:56:31', '2021-07-06 12:56:31',\n",
              "               '2021-07-07 12:56:31'],\n",
              "              dtype='datetime64[ns]', freq='D')"
            ]
          },
          "metadata": {},
          "execution_count": 52
        }
      ]
    },
    {
      "cell_type": "code",
      "metadata": {
        "colab": {
          "base_uri": "https://localhost:8080/"
        },
        "id": "sPB-Q1VjgqbE",
        "outputId": "8e6601b4-4d81-4862-886d-30a14958939c"
      },
      "source": [
        "#normalizar horários com normalize\n",
        "pd.date_range('2021-08-02 12:56:31', periods=5, normalize=True)"
      ],
      "execution_count": 53,
      "outputs": [
        {
          "output_type": "execute_result",
          "data": {
            "text/plain": [
              "DatetimeIndex(['2021-08-02', '2021-08-03', '2021-08-04', '2021-08-05',\n",
              "               '2021-08-06'],\n",
              "              dtype='datetime64[ns]', freq='D')"
            ]
          },
          "metadata": {},
          "execution_count": 53
        }
      ]
    },
    {
      "cell_type": "markdown",
      "metadata": {
        "id": "SC29L4V3hc2p"
      },
      "source": [
        "**Frequências e offset de datas**"
      ]
    },
    {
      "cell_type": "code",
      "metadata": {
        "id": "YBXxzwaahaus",
        "colab": {
          "base_uri": "https://localhost:8080/"
        },
        "outputId": "93b6d74a-0b4e-48ba-d74c-6667278fbd2e"
      },
      "source": [
        "#Import Hour e Minute lá em cima\n",
        "hour = Hour()\n",
        "hour"
      ],
      "execution_count": 54,
      "outputs": [
        {
          "output_type": "execute_result",
          "data": {
            "text/plain": [
              "<Hour>"
            ]
          },
          "metadata": {},
          "execution_count": 54
        }
      ]
    },
    {
      "cell_type": "code",
      "metadata": {
        "colab": {
          "base_uri": "https://localhost:8080/"
        },
        "id": "4ZunGp3d2hdZ",
        "outputId": "896ee6e9-a47f-4969-9b85-f235b36fdc2a"
      },
      "source": [
        "four_hours = Hour(4)\n",
        "four_hours"
      ],
      "execution_count": 55,
      "outputs": [
        {
          "output_type": "execute_result",
          "data": {
            "text/plain": [
              "<4 * Hours>"
            ]
          },
          "metadata": {},
          "execution_count": 55
        }
      ]
    },
    {
      "cell_type": "code",
      "metadata": {
        "colab": {
          "base_uri": "https://localhost:8080/"
        },
        "id": "vUa2abgG2rsC",
        "outputId": "aa0cc656-cf1f-4929-b389-77b96d0653ce"
      },
      "source": [
        "pd.date_range('2000-01-01', '2001-01-03 23:59', freq='4h')"
      ],
      "execution_count": 56,
      "outputs": [
        {
          "output_type": "execute_result",
          "data": {
            "text/plain": [
              "DatetimeIndex(['2000-01-01 00:00:00', '2000-01-01 04:00:00',\n",
              "               '2000-01-01 08:00:00', '2000-01-01 12:00:00',\n",
              "               '2000-01-01 16:00:00', '2000-01-01 20:00:00',\n",
              "               '2000-01-02 00:00:00', '2000-01-02 04:00:00',\n",
              "               '2000-01-02 08:00:00', '2000-01-02 12:00:00',\n",
              "               ...\n",
              "               '2001-01-02 08:00:00', '2001-01-02 12:00:00',\n",
              "               '2001-01-02 16:00:00', '2001-01-02 20:00:00',\n",
              "               '2001-01-03 00:00:00', '2001-01-03 04:00:00',\n",
              "               '2001-01-03 08:00:00', '2001-01-03 12:00:00',\n",
              "               '2001-01-03 16:00:00', '2001-01-03 20:00:00'],\n",
              "              dtype='datetime64[ns]', length=2214, freq='4H')"
            ]
          },
          "metadata": {},
          "execution_count": 56
        }
      ]
    },
    {
      "cell_type": "code",
      "metadata": {
        "colab": {
          "base_uri": "https://localhost:8080/"
        },
        "id": "gSJZ-1YL3CFh",
        "outputId": "eb8f5c26-beb0-4510-f005-f2e2b038ab73"
      },
      "source": [
        "Hour(2) + Minute(30)"
      ],
      "execution_count": 57,
      "outputs": [
        {
          "output_type": "execute_result",
          "data": {
            "text/plain": [
              "<150 * Minutes>"
            ]
          },
          "metadata": {},
          "execution_count": 57
        }
      ]
    },
    {
      "cell_type": "code",
      "metadata": {
        "colab": {
          "base_uri": "https://localhost:8080/"
        },
        "id": "rF2VBf_U3Vs5",
        "outputId": "6742012b-ad7d-4af4-de2d-e06913795c79"
      },
      "source": [
        "pd.date_range('2000-01-01', periods=10, freq='1h30min')"
      ],
      "execution_count": 58,
      "outputs": [
        {
          "output_type": "execute_result",
          "data": {
            "text/plain": [
              "DatetimeIndex(['2000-01-01 00:00:00', '2000-01-01 01:30:00',\n",
              "               '2000-01-01 03:00:00', '2000-01-01 04:30:00',\n",
              "               '2000-01-01 06:00:00', '2000-01-01 07:30:00',\n",
              "               '2000-01-01 09:00:00', '2000-01-01 10:30:00',\n",
              "               '2000-01-01 12:00:00', '2000-01-01 13:30:00'],\n",
              "              dtype='datetime64[ns]', freq='90T')"
            ]
          },
          "metadata": {},
          "execution_count": 58
        }
      ]
    },
    {
      "cell_type": "markdown",
      "metadata": {
        "id": "ePXHbRb338ex"
      },
      "source": [
        "**Datas com a semana do mês**"
      ]
    },
    {
      "cell_type": "code",
      "metadata": {
        "colab": {
          "base_uri": "https://localhost:8080/"
        },
        "id": "si5a_UsP3k3h",
        "outputId": "614581f3-1120-42a9-9234-1e384319250a"
      },
      "source": [
        "rng = pd.date_range('2020-01-01', '2020-09-01', freq='WOM-3FRI')\n",
        "list(rng)"
      ],
      "execution_count": 59,
      "outputs": [
        {
          "output_type": "execute_result",
          "data": {
            "text/plain": [
              "[Timestamp('2020-01-17 00:00:00', freq='WOM-3FRI'),\n",
              " Timestamp('2020-02-21 00:00:00', freq='WOM-3FRI'),\n",
              " Timestamp('2020-03-20 00:00:00', freq='WOM-3FRI'),\n",
              " Timestamp('2020-04-17 00:00:00', freq='WOM-3FRI'),\n",
              " Timestamp('2020-05-15 00:00:00', freq='WOM-3FRI'),\n",
              " Timestamp('2020-06-19 00:00:00', freq='WOM-3FRI'),\n",
              " Timestamp('2020-07-17 00:00:00', freq='WOM-3FRI'),\n",
              " Timestamp('2020-08-21 00:00:00', freq='WOM-3FRI')]"
            ]
          },
          "metadata": {},
          "execution_count": 59
        }
      ]
    },
    {
      "cell_type": "markdown",
      "metadata": {
        "id": "jtwEV5zO4XSU"
      },
      "source": [
        "**Deslocamento de datas (adiantando e atrasando)**"
      ]
    },
    {
      "cell_type": "code",
      "metadata": {
        "colab": {
          "base_uri": "https://localhost:8080/"
        },
        "id": "ZfiSsPnD4QZv",
        "outputId": "80af1893-21ea-4c64-8229-55497b961252"
      },
      "source": [
        "ts = pd.Series(np.random.randn(4), index=pd.date_range('1/1/2020', periods=4, freq='M'))\n",
        "ts"
      ],
      "execution_count": 60,
      "outputs": [
        {
          "output_type": "execute_result",
          "data": {
            "text/plain": [
              "2020-01-31    2.073052\n",
              "2020-02-29    0.186838\n",
              "2020-03-31    0.215567\n",
              "2020-04-30    0.012094\n",
              "Freq: M, dtype: float64"
            ]
          },
          "metadata": {},
          "execution_count": 60
        }
      ]
    },
    {
      "cell_type": "code",
      "metadata": {
        "colab": {
          "base_uri": "https://localhost:8080/"
        },
        "id": "xurt5lU446ib",
        "outputId": "3b9f2a55-3dc6-4dcb-82e5-48233836e9e1"
      },
      "source": [
        "ts.shift(2)"
      ],
      "execution_count": 61,
      "outputs": [
        {
          "output_type": "execute_result",
          "data": {
            "text/plain": [
              "2020-01-31         NaN\n",
              "2020-02-29         NaN\n",
              "2020-03-31    2.073052\n",
              "2020-04-30    0.186838\n",
              "Freq: M, dtype: float64"
            ]
          },
          "metadata": {},
          "execution_count": 61
        }
      ]
    },
    {
      "cell_type": "code",
      "metadata": {
        "colab": {
          "base_uri": "https://localhost:8080/"
        },
        "id": "6vPRUloU6W0o",
        "outputId": "5e96531c-b703-494d-dedc-231b446629cf"
      },
      "source": [
        "ts.shift(-2)"
      ],
      "execution_count": 62,
      "outputs": [
        {
          "output_type": "execute_result",
          "data": {
            "text/plain": [
              "2020-01-31    0.215567\n",
              "2020-02-29    0.012094\n",
              "2020-03-31         NaN\n",
              "2020-04-30         NaN\n",
              "Freq: M, dtype: float64"
            ]
          },
          "metadata": {},
          "execution_count": 62
        }
      ]
    },
    {
      "cell_type": "code",
      "metadata": {
        "colab": {
          "base_uri": "https://localhost:8080/"
        },
        "id": "eQW_vTr76a-o",
        "outputId": "e410975e-9432-4d1a-ae2a-ae22a8138d4a"
      },
      "source": [
        "ts/ts.shift(1) - 1"
      ],
      "execution_count": 63,
      "outputs": [
        {
          "output_type": "execute_result",
          "data": {
            "text/plain": [
              "2020-01-31         NaN\n",
              "2020-02-29   -0.909873\n",
              "2020-03-31    0.153766\n",
              "2020-04-30   -0.943896\n",
              "Freq: M, dtype: float64"
            ]
          },
          "metadata": {},
          "execution_count": 63
        }
      ]
    },
    {
      "cell_type": "code",
      "metadata": {
        "colab": {
          "base_uri": "https://localhost:8080/"
        },
        "id": "o54eSDSC6sEg",
        "outputId": "ef962415-b270-43b3-ba95-7550dcad504b"
      },
      "source": [
        "ts.shift(2,freq='M')"
      ],
      "execution_count": 64,
      "outputs": [
        {
          "output_type": "execute_result",
          "data": {
            "text/plain": [
              "2020-03-31    2.073052\n",
              "2020-04-30    0.186838\n",
              "2020-05-31    0.215567\n",
              "2020-06-30    0.012094\n",
              "Freq: M, dtype: float64"
            ]
          },
          "metadata": {},
          "execution_count": 64
        }
      ]
    },
    {
      "cell_type": "code",
      "metadata": {
        "colab": {
          "base_uri": "https://localhost:8080/"
        },
        "id": "cv91xZt76y0g",
        "outputId": "dde76322-9df6-4739-abee-e71e0c7c08ec"
      },
      "source": [
        "ts.shift(3, freq='D')"
      ],
      "execution_count": 65,
      "outputs": [
        {
          "output_type": "execute_result",
          "data": {
            "text/plain": [
              "2020-02-03    2.073052\n",
              "2020-03-03    0.186838\n",
              "2020-04-03    0.215567\n",
              "2020-05-03    0.012094\n",
              "dtype: float64"
            ]
          },
          "metadata": {},
          "execution_count": 65
        }
      ]
    },
    {
      "cell_type": "code",
      "metadata": {
        "colab": {
          "base_uri": "https://localhost:8080/"
        },
        "id": "y-QIJOER67sw",
        "outputId": "1c1d1fd6-7671-4fda-c145-a312f2200069"
      },
      "source": [
        "ts.shift(1, freq='90T') #T é minutos"
      ],
      "execution_count": 66,
      "outputs": [
        {
          "output_type": "execute_result",
          "data": {
            "text/plain": [
              "2020-01-31 01:30:00    2.073052\n",
              "2020-02-29 01:30:00    0.186838\n",
              "2020-03-31 01:30:00    0.215567\n",
              "2020-04-30 01:30:00    0.012094\n",
              "dtype: float64"
            ]
          },
          "metadata": {},
          "execution_count": 66
        }
      ]
    },
    {
      "cell_type": "markdown",
      "metadata": {
        "id": "oRK-juVI7EyM"
      },
      "source": [
        "**Deslocando datas com offsets**"
      ]
    },
    {
      "cell_type": "code",
      "metadata": {
        "colab": {
          "base_uri": "https://localhost:8080/"
        },
        "id": "42nzV9-V7Aav",
        "outputId": "fe30368e-60cf-4e54-8f20-194d2fc31f51"
      },
      "source": [
        "#Import Day e MonthEnd lá em cima\n",
        "now = datetime(2011, 11, 17)\n",
        "now + 3 * Day()"
      ],
      "execution_count": 67,
      "outputs": [
        {
          "output_type": "execute_result",
          "data": {
            "text/plain": [
              "Timestamp('2011-11-20 00:00:00')"
            ]
          },
          "metadata": {},
          "execution_count": 67
        }
      ]
    },
    {
      "cell_type": "code",
      "metadata": {
        "colab": {
          "base_uri": "https://localhost:8080/"
        },
        "id": "893C5oRE7ty5",
        "outputId": "35f5fb39-7c7e-429a-8957-08a7637bc036"
      },
      "source": [
        "now + MonthEnd()"
      ],
      "execution_count": 68,
      "outputs": [
        {
          "output_type": "execute_result",
          "data": {
            "text/plain": [
              "Timestamp('2011-11-30 00:00:00')"
            ]
          },
          "metadata": {},
          "execution_count": 68
        }
      ]
    },
    {
      "cell_type": "code",
      "metadata": {
        "colab": {
          "base_uri": "https://localhost:8080/"
        },
        "id": "mSc8pznA720I",
        "outputId": "df95f236-3006-4a4e-9bcb-0e983f452c26"
      },
      "source": [
        "now + MonthEnd(2)"
      ],
      "execution_count": 69,
      "outputs": [
        {
          "output_type": "execute_result",
          "data": {
            "text/plain": [
              "Timestamp('2011-12-31 00:00:00')"
            ]
          },
          "metadata": {},
          "execution_count": 69
        }
      ]
    },
    {
      "cell_type": "code",
      "metadata": {
        "id": "5rKq2f827674"
      },
      "source": [
        "offset = MonthEnd()"
      ],
      "execution_count": 70,
      "outputs": []
    },
    {
      "cell_type": "code",
      "metadata": {
        "colab": {
          "base_uri": "https://localhost:8080/"
        },
        "id": "0-Hn7fso8mXB",
        "outputId": "af96d3ed-1f0e-4df5-a194-aeba2d53163d"
      },
      "source": [
        "offset.rollforward(now)"
      ],
      "execution_count": 71,
      "outputs": [
        {
          "output_type": "execute_result",
          "data": {
            "text/plain": [
              "Timestamp('2011-11-30 00:00:00')"
            ]
          },
          "metadata": {},
          "execution_count": 71
        }
      ]
    },
    {
      "cell_type": "code",
      "metadata": {
        "colab": {
          "base_uri": "https://localhost:8080/"
        },
        "id": "r8OV70pp8qcY",
        "outputId": "115c08f7-9715-48aa-b404-3a14981eed27"
      },
      "source": [
        "offset.rollback(now)"
      ],
      "execution_count": 72,
      "outputs": [
        {
          "output_type": "execute_result",
          "data": {
            "text/plain": [
              "Timestamp('2011-10-31 00:00:00')"
            ]
          },
          "metadata": {},
          "execution_count": 72
        }
      ]
    },
    {
      "cell_type": "code",
      "metadata": {
        "colab": {
          "base_uri": "https://localhost:8080/"
        },
        "id": "YSGuegzn8wQN",
        "outputId": "32a6379e-68f1-4ab3-a27b-4f5ca5389080"
      },
      "source": [
        "ts = pd.Series(np.random.randn(20), index=pd.date_range('1/15/2000', periods=20, freq='4d'))\n",
        "ts"
      ],
      "execution_count": 73,
      "outputs": [
        {
          "output_type": "execute_result",
          "data": {
            "text/plain": [
              "2000-01-15    0.376459\n",
              "2000-01-19   -2.356795\n",
              "2000-01-23   -1.364912\n",
              "2000-01-27   -0.289286\n",
              "2000-01-31    0.208085\n",
              "2000-02-04   -1.458685\n",
              "2000-02-08   -1.474612\n",
              "2000-02-12   -0.234847\n",
              "2000-02-16   -0.038196\n",
              "2000-02-20   -1.804030\n",
              "2000-02-24    0.642490\n",
              "2000-02-28    0.090419\n",
              "2000-03-03   -0.051233\n",
              "2000-03-07    1.672150\n",
              "2000-03-11    0.156591\n",
              "2000-03-15   -0.928460\n",
              "2000-03-19    1.420019\n",
              "2000-03-23   -1.579748\n",
              "2000-03-27    0.483882\n",
              "2000-03-31   -0.445448\n",
              "Freq: 4D, dtype: float64"
            ]
          },
          "metadata": {},
          "execution_count": 73
        }
      ]
    },
    {
      "cell_type": "code",
      "metadata": {
        "colab": {
          "base_uri": "https://localhost:8080/"
        },
        "id": "AlkstcNX9HqY",
        "outputId": "fbb6f897-b0a1-4c8a-cef5-239de2b82dee"
      },
      "source": [
        "ts.groupby(offset.rollforward).mean()"
      ],
      "execution_count": 74,
      "outputs": [
        {
          "output_type": "execute_result",
          "data": {
            "text/plain": [
              "2000-01-31   -0.685290\n",
              "2000-02-29   -0.611066\n",
              "2000-03-31    0.090969\n",
              "dtype: float64"
            ]
          },
          "metadata": {},
          "execution_count": 74
        }
      ]
    },
    {
      "cell_type": "code",
      "metadata": {
        "colab": {
          "base_uri": "https://localhost:8080/"
        },
        "id": "IPfBxigg9Vap",
        "outputId": "731ca6fa-1704-48fb-cd42-4a5d0b9ec5cc"
      },
      "source": [
        "ts.resample('M').mean()"
      ],
      "execution_count": 75,
      "outputs": [
        {
          "output_type": "execute_result",
          "data": {
            "text/plain": [
              "2000-01-31   -0.685290\n",
              "2000-02-29   -0.611066\n",
              "2000-03-31    0.090969\n",
              "Freq: M, dtype: float64"
            ]
          },
          "metadata": {},
          "execution_count": 75
        }
      ]
    },
    {
      "cell_type": "markdown",
      "metadata": {
        "id": "4oPt5kdz9iXk"
      },
      "source": [
        "# **Tratamento de fusos horários**"
      ]
    },
    {
      "cell_type": "code",
      "metadata": {
        "colab": {
          "base_uri": "https://localhost:8080/"
        },
        "id": "TH-V7M4d9dvB",
        "outputId": "e6ffc291-b82a-4b9a-bd28-9158eaaf7559"
      },
      "source": [
        "#Import pytz lá em cima\n",
        "#Encontrar o nome dos fusohorários\n",
        "pytz.common_timezones[-5:]"
      ],
      "execution_count": 76,
      "outputs": [
        {
          "output_type": "execute_result",
          "data": {
            "text/plain": [
              "['US/Eastern', 'US/Hawaii', 'US/Mountain', 'US/Pacific', 'UTC']"
            ]
          },
          "metadata": {},
          "execution_count": 76
        }
      ]
    },
    {
      "cell_type": "code",
      "metadata": {
        "colab": {
          "base_uri": "https://localhost:8080/"
        },
        "id": "H1yvMEVZ_aEj",
        "outputId": "2299fac1-2c21-4ff6-b80a-32f71e41fd54"
      },
      "source": [
        "#Obter um objeto de fuso horário\n",
        "tz = pytz.timezone('America/New_York')\n",
        "tz"
      ],
      "execution_count": 77,
      "outputs": [
        {
          "output_type": "execute_result",
          "data": {
            "text/plain": [
              "<DstTzInfo 'America/New_York' LMT-1 day, 19:04:00 STD>"
            ]
          },
          "metadata": {},
          "execution_count": 77
        }
      ]
    },
    {
      "cell_type": "markdown",
      "metadata": {
        "id": "n0K8QQh3AJ3l"
      },
      "source": [
        "**Localização e conversão dos fuso horários**"
      ]
    },
    {
      "cell_type": "code",
      "metadata": {
        "colab": {
          "base_uri": "https://localhost:8080/"
        },
        "id": "JTPbwpnbAEQ4",
        "outputId": "72e0e6a4-2847-464b-dc6c-353d04f7d629"
      },
      "source": [
        "#Series temporais não consideram fuso horario por padrão\n",
        "rng = pd.date_range('3/9/2012 09:30', periods =6, freq='D')\n",
        "ts=pd.Series(np.random.randn(len(rng)), index=rng)\n",
        "ts"
      ],
      "execution_count": 78,
      "outputs": [
        {
          "output_type": "execute_result",
          "data": {
            "text/plain": [
              "2012-03-09 09:30:00   -0.129003\n",
              "2012-03-10 09:30:00   -0.100823\n",
              "2012-03-11 09:30:00   -1.492626\n",
              "2012-03-12 09:30:00   -0.874743\n",
              "2012-03-13 09:30:00    0.831298\n",
              "2012-03-14 09:30:00    0.171795\n",
              "Freq: D, dtype: float64"
            ]
          },
          "metadata": {},
          "execution_count": 78
        }
      ]
    },
    {
      "cell_type": "code",
      "metadata": {
        "colab": {
          "base_uri": "https://localhost:8080/"
        },
        "id": "DOSri5QTAlGL",
        "outputId": "8232760b-c3b3-4eb2-dfa1-9ce421e924a5"
      },
      "source": [
        "#Campo tz no índice é None\n",
        "print(ts.index.tz)"
      ],
      "execution_count": 79,
      "outputs": [
        {
          "output_type": "stream",
          "name": "stdout",
          "text": [
            "None\n"
          ]
        }
      ]
    },
    {
      "cell_type": "code",
      "metadata": {
        "colab": {
          "base_uri": "https://localhost:8080/"
        },
        "id": "L7lLSMZkA6wn",
        "outputId": "8b017d32-c52c-41a5-cadb-6ee62e791f75"
      },
      "source": [
        "pd.date_range('3/9/2012 9:30', periods=10, freq='D', tz='UTC')"
      ],
      "execution_count": 80,
      "outputs": [
        {
          "output_type": "execute_result",
          "data": {
            "text/plain": [
              "DatetimeIndex(['2012-03-09 09:30:00+00:00', '2012-03-10 09:30:00+00:00',\n",
              "               '2012-03-11 09:30:00+00:00', '2012-03-12 09:30:00+00:00',\n",
              "               '2012-03-13 09:30:00+00:00', '2012-03-14 09:30:00+00:00',\n",
              "               '2012-03-15 09:30:00+00:00', '2012-03-16 09:30:00+00:00',\n",
              "               '2012-03-17 09:30:00+00:00', '2012-03-18 09:30:00+00:00'],\n",
              "              dtype='datetime64[ns, UTC]', freq='D')"
            ]
          },
          "metadata": {},
          "execution_count": 80
        }
      ]
    },
    {
      "cell_type": "code",
      "metadata": {
        "colab": {
          "base_uri": "https://localhost:8080/"
        },
        "id": "ktHuzUlPBGNA",
        "outputId": "e827c7c3-d302-4db6-b4c9-4c7a2f4d73a5"
      },
      "source": [
        "ts"
      ],
      "execution_count": 81,
      "outputs": [
        {
          "output_type": "execute_result",
          "data": {
            "text/plain": [
              "2012-03-09 09:30:00   -0.129003\n",
              "2012-03-10 09:30:00   -0.100823\n",
              "2012-03-11 09:30:00   -1.492626\n",
              "2012-03-12 09:30:00   -0.874743\n",
              "2012-03-13 09:30:00    0.831298\n",
              "2012-03-14 09:30:00    0.171795\n",
              "Freq: D, dtype: float64"
            ]
          },
          "metadata": {},
          "execution_count": 81
        }
      ]
    },
    {
      "cell_type": "code",
      "metadata": {
        "colab": {
          "base_uri": "https://localhost:8080/"
        },
        "id": "A-8szPNyBkrH",
        "outputId": "5c8545fc-196c-477b-9680-dc45af1ad6de"
      },
      "source": [
        "ts_utc = ts.tz_localize('UTC')\n",
        "ts_utc"
      ],
      "execution_count": 82,
      "outputs": [
        {
          "output_type": "execute_result",
          "data": {
            "text/plain": [
              "2012-03-09 09:30:00+00:00   -0.129003\n",
              "2012-03-10 09:30:00+00:00   -0.100823\n",
              "2012-03-11 09:30:00+00:00   -1.492626\n",
              "2012-03-12 09:30:00+00:00   -0.874743\n",
              "2012-03-13 09:30:00+00:00    0.831298\n",
              "2012-03-14 09:30:00+00:00    0.171795\n",
              "Freq: D, dtype: float64"
            ]
          },
          "metadata": {},
          "execution_count": 82
        }
      ]
    },
    {
      "cell_type": "code",
      "metadata": {
        "colab": {
          "base_uri": "https://localhost:8080/"
        },
        "id": "w42p-msNBwIP",
        "outputId": "b96a1a80-2b84-4000-b945-c684892ed351"
      },
      "source": [
        "ts_utc.index"
      ],
      "execution_count": 83,
      "outputs": [
        {
          "output_type": "execute_result",
          "data": {
            "text/plain": [
              "DatetimeIndex(['2012-03-09 09:30:00+00:00', '2012-03-10 09:30:00+00:00',\n",
              "               '2012-03-11 09:30:00+00:00', '2012-03-12 09:30:00+00:00',\n",
              "               '2012-03-13 09:30:00+00:00', '2012-03-14 09:30:00+00:00'],\n",
              "              dtype='datetime64[ns, UTC]', freq='D')"
            ]
          },
          "metadata": {},
          "execution_count": 83
        }
      ]
    },
    {
      "cell_type": "code",
      "metadata": {
        "colab": {
          "base_uri": "https://localhost:8080/"
        },
        "id": "WgDwNhcnB2Wn",
        "outputId": "2d9ef90f-7592-48bc-cff9-5e2f610acd10"
      },
      "source": [
        "#É possivel converter uma serie em outro fuso horário\n",
        "ts_utc.tz_convert('America/New_York')"
      ],
      "execution_count": 84,
      "outputs": [
        {
          "output_type": "execute_result",
          "data": {
            "text/plain": [
              "2012-03-09 04:30:00-05:00   -0.129003\n",
              "2012-03-10 04:30:00-05:00   -0.100823\n",
              "2012-03-11 05:30:00-04:00   -1.492626\n",
              "2012-03-12 05:30:00-04:00   -0.874743\n",
              "2012-03-13 05:30:00-04:00    0.831298\n",
              "2012-03-14 05:30:00-04:00    0.171795\n",
              "Freq: D, dtype: float64"
            ]
          },
          "metadata": {},
          "execution_count": 84
        }
      ]
    },
    {
      "cell_type": "code",
      "metadata": {
        "colab": {
          "base_uri": "https://localhost:8080/"
        },
        "id": "IaXMhP0pDfWu",
        "outputId": "b4a897b4-6ddc-469b-d771-631f910e2c9a"
      },
      "source": [
        "#Mudando o fuso horário para o de Berlim\n",
        "\n",
        "ts_eastern = ts.tz_localize('America/New_York')\n",
        "ts_eastern.tz_convert('UTC')"
      ],
      "execution_count": 85,
      "outputs": [
        {
          "output_type": "execute_result",
          "data": {
            "text/plain": [
              "2012-03-09 14:30:00+00:00   -0.129003\n",
              "2012-03-10 14:30:00+00:00   -0.100823\n",
              "2012-03-11 13:30:00+00:00   -1.492626\n",
              "2012-03-12 13:30:00+00:00   -0.874743\n",
              "2012-03-13 13:30:00+00:00    0.831298\n",
              "2012-03-14 13:30:00+00:00    0.171795\n",
              "dtype: float64"
            ]
          },
          "metadata": {},
          "execution_count": 85
        }
      ]
    },
    {
      "cell_type": "code",
      "metadata": {
        "colab": {
          "base_uri": "https://localhost:8080/"
        },
        "id": "gZu6ukqKELv8",
        "outputId": "e22cb00b-6f14-4840-e6a2-25fe91a9426f"
      },
      "source": [
        "ts_eastern.tz_convert('Europe/Berlin')"
      ],
      "execution_count": 86,
      "outputs": [
        {
          "output_type": "execute_result",
          "data": {
            "text/plain": [
              "2012-03-09 15:30:00+01:00   -0.129003\n",
              "2012-03-10 15:30:00+01:00   -0.100823\n",
              "2012-03-11 14:30:00+01:00   -1.492626\n",
              "2012-03-12 14:30:00+01:00   -0.874743\n",
              "2012-03-13 14:30:00+01:00    0.831298\n",
              "2012-03-14 14:30:00+01:00    0.171795\n",
              "dtype: float64"
            ]
          },
          "metadata": {},
          "execution_count": 86
        }
      ]
    },
    {
      "cell_type": "code",
      "metadata": {
        "colab": {
          "base_uri": "https://localhost:8080/"
        },
        "id": "_HMqe06JETOH",
        "outputId": "5d63bb04-a874-4a6a-ce7c-02169d7b9482"
      },
      "source": [
        "ts.index.tz_localize('Asia/Shanghai')"
      ],
      "execution_count": 87,
      "outputs": [
        {
          "output_type": "execute_result",
          "data": {
            "text/plain": [
              "DatetimeIndex(['2012-03-09 09:30:00+08:00', '2012-03-10 09:30:00+08:00',\n",
              "               '2012-03-11 09:30:00+08:00', '2012-03-12 09:30:00+08:00',\n",
              "               '2012-03-13 09:30:00+08:00', '2012-03-14 09:30:00+08:00'],\n",
              "              dtype='datetime64[ns, Asia/Shanghai]', freq=None)"
            ]
          },
          "metadata": {},
          "execution_count": 87
        }
      ]
    },
    {
      "cell_type": "markdown",
      "metadata": {
        "id": "zb_-qWkHEojQ"
      },
      "source": [
        "**Operações com objetos Timestamp que consideram fuso horários**"
      ]
    },
    {
      "cell_type": "code",
      "metadata": {
        "id": "N1YIE_X8EgYP",
        "colab": {
          "base_uri": "https://localhost:8080/"
        },
        "outputId": "aa454567-8a94-4a94-b52f-10e5785917fa"
      },
      "source": [
        "Stamp = pd.Timestamp('2011-03-12 04:00')\n",
        "stamp_utc = stamp.tz_localize('utc')\n",
        "stamp_utc.tz_convert('America/New_York')"
      ],
      "execution_count": 88,
      "outputs": [
        {
          "output_type": "execute_result",
          "data": {
            "text/plain": [
              "Timestamp('2011-01-06 19:00:00-0500', tz='America/New_York')"
            ]
          },
          "metadata": {},
          "execution_count": 88
        }
      ]
    },
    {
      "cell_type": "code",
      "metadata": {
        "colab": {
          "base_uri": "https://localhost:8080/"
        },
        "id": "3YdO32lTK-5m",
        "outputId": "22bbb039-f2ab-4afa-83df-3210bb60d92e"
      },
      "source": [
        "#É possivel passar um fuso horário quando se cria um timestamp\n",
        "stamp_moscow = pd.Timestamp('2011-03-12 04:00', tz='Europe/Moscow')\n",
        "stamp_moscow"
      ],
      "execution_count": 89,
      "outputs": [
        {
          "output_type": "execute_result",
          "data": {
            "text/plain": [
              "Timestamp('2011-03-12 04:00:00+0300', tz='Europe/Moscow')"
            ]
          },
          "metadata": {},
          "execution_count": 89
        }
      ]
    },
    {
      "cell_type": "code",
      "metadata": {
        "colab": {
          "base_uri": "https://localhost:8080/"
        },
        "id": "M20CIlQCOIBO",
        "outputId": "098667e0-2e27-42c6-d80f-0167bcd9ec11"
      },
      "source": [
        "#Timestampo armazena valor UTC em nanosegundos\n",
        "stamp_utc.value"
      ],
      "execution_count": 90,
      "outputs": [
        {
          "output_type": "execute_result",
          "data": {
            "text/plain": [
              "1294358400000000000"
            ]
          },
          "metadata": {},
          "execution_count": 90
        }
      ]
    },
    {
      "cell_type": "code",
      "metadata": {
        "colab": {
          "base_uri": "https://localhost:8080/"
        },
        "id": "Xl_jKy57Olv7",
        "outputId": "b00cd35f-1059-4309-9c12-3b75749486dc"
      },
      "source": [
        "stamp_utc.tz_convert('America/New_York').value"
      ],
      "execution_count": 91,
      "outputs": [
        {
          "output_type": "execute_result",
          "data": {
            "text/plain": [
              "1294358400000000000"
            ]
          },
          "metadata": {},
          "execution_count": 91
        }
      ]
    },
    {
      "cell_type": "code",
      "metadata": {
        "colab": {
          "base_uri": "https://localhost:8080/"
        },
        "id": "oLBqHdZsOt2E",
        "outputId": "f155160a-4b95-48cd-cd1d-023add5804cb"
      },
      "source": [
        "#Offset respeita horário de verão, import Hour lá em cima\n",
        "#30 minutos antes de iniciar o horário de verão\n",
        "stamp = pd.Timestamp('2012-03-12 01:30', tz='US/Eastern')\n",
        "stamp"
      ],
      "execution_count": 92,
      "outputs": [
        {
          "output_type": "execute_result",
          "data": {
            "text/plain": [
              "Timestamp('2012-03-12 01:30:00-0400', tz='US/Eastern')"
            ]
          },
          "metadata": {},
          "execution_count": 92
        }
      ]
    },
    {
      "cell_type": "code",
      "metadata": {
        "colab": {
          "base_uri": "https://localhost:8080/"
        },
        "id": "a6qs6HqMQJZd",
        "outputId": "f20d2246-f3ef-4306-c2e7-9d08b467ddb0"
      },
      "source": [
        "stamp + Hour()"
      ],
      "execution_count": 93,
      "outputs": [
        {
          "output_type": "execute_result",
          "data": {
            "text/plain": [
              "Timestamp('2012-03-12 02:30:00-0400', tz='US/Eastern')"
            ]
          },
          "metadata": {},
          "execution_count": 93
        }
      ]
    },
    {
      "cell_type": "code",
      "metadata": {
        "colab": {
          "base_uri": "https://localhost:8080/"
        },
        "id": "VXecXTeIQQHc",
        "outputId": "a911c5f8-a293-4b56-a291-b516ff6f61f6"
      },
      "source": [
        "#30 minutos antes de sair do horário de verão\n",
        "stamp = pd.Timestamp('2012-11-04 00:30', tz='US/Eastern')\n",
        "stamp"
      ],
      "execution_count": 94,
      "outputs": [
        {
          "output_type": "execute_result",
          "data": {
            "text/plain": [
              "Timestamp('2012-11-04 00:30:00-0400', tz='US/Eastern')"
            ]
          },
          "metadata": {},
          "execution_count": 94
        }
      ]
    },
    {
      "cell_type": "code",
      "metadata": {
        "colab": {
          "base_uri": "https://localhost:8080/"
        },
        "id": "9e17V4fpQyx3",
        "outputId": "05ce6dd3-d7e4-4a30-8898-902aee379827"
      },
      "source": [
        "stamp + 2* Hour()"
      ],
      "execution_count": 95,
      "outputs": [
        {
          "output_type": "execute_result",
          "data": {
            "text/plain": [
              "Timestamp('2012-11-04 01:30:00-0500', tz='US/Eastern')"
            ]
          },
          "metadata": {},
          "execution_count": 95
        }
      ]
    },
    {
      "cell_type": "markdown",
      "metadata": {
        "id": "guBLiO-4Q638"
      },
      "source": [
        "**Operação entre fusos horários diferentes**"
      ]
    },
    {
      "cell_type": "code",
      "metadata": {
        "colab": {
          "base_uri": "https://localhost:8080/"
        },
        "id": "qPVV-vxrQ4-8",
        "outputId": "b2e2c36b-9ef7-40f1-8dab-a3fd10e9236b"
      },
      "source": [
        "rng = pd.date_range('3/7/2012 9:30', periods=10, freq='B')\n",
        "ts = pd.Series(np.random.randn(len(rng)), index=rng)\n",
        "ts"
      ],
      "execution_count": 96,
      "outputs": [
        {
          "output_type": "execute_result",
          "data": {
            "text/plain": [
              "2012-03-07 09:30:00   -0.402954\n",
              "2012-03-08 09:30:00   -0.872877\n",
              "2012-03-09 09:30:00   -0.191592\n",
              "2012-03-12 09:30:00    1.204823\n",
              "2012-03-13 09:30:00   -0.227866\n",
              "2012-03-14 09:30:00   -1.202797\n",
              "2012-03-15 09:30:00   -0.133517\n",
              "2012-03-16 09:30:00    0.033403\n",
              "2012-03-19 09:30:00   -1.303898\n",
              "2012-03-20 09:30:00   -0.273748\n",
              "Freq: B, dtype: float64"
            ]
          },
          "metadata": {},
          "execution_count": 96
        }
      ]
    },
    {
      "cell_type": "code",
      "metadata": {
        "colab": {
          "base_uri": "https://localhost:8080/"
        },
        "id": "3KAWgd30Vm9J",
        "outputId": "dfc098f2-1f76-4da4-d0ac-4e184e6a6af9"
      },
      "source": [
        "ts1 = ts[:7].tz_localize('Europe/London')\n",
        "ts2 = ts1[2:].tz_convert('Europe/Moscow')\n",
        "result = ts1 + ts2\n",
        "result.index"
      ],
      "execution_count": 97,
      "outputs": [
        {
          "output_type": "execute_result",
          "data": {
            "text/plain": [
              "DatetimeIndex(['2012-03-07 09:30:00+00:00', '2012-03-08 09:30:00+00:00',\n",
              "               '2012-03-09 09:30:00+00:00', '2012-03-12 09:30:00+00:00',\n",
              "               '2012-03-13 09:30:00+00:00', '2012-03-14 09:30:00+00:00',\n",
              "               '2012-03-15 09:30:00+00:00'],\n",
              "              dtype='datetime64[ns, UTC]', freq=None)"
            ]
          },
          "metadata": {},
          "execution_count": 97
        }
      ]
    },
    {
      "cell_type": "markdown",
      "metadata": {
        "id": "Qq2SNrtcWI9g"
      },
      "source": [
        "# **Período e aritmética com períodos**"
      ]
    },
    {
      "cell_type": "code",
      "metadata": {
        "id": "HQVOKDEgV0K9",
        "colab": {
          "base_uri": "https://localhost:8080/"
        },
        "outputId": "cb331259-55be-4586-f48a-265a7860fb0e"
      },
      "source": [
        "#Period representa dias, meses, trimestres ou anos\n",
        "p = pd.Period(2007, freq='A-DEC')\n",
        "p"
      ],
      "execution_count": 98,
      "outputs": [
        {
          "output_type": "execute_result",
          "data": {
            "text/plain": [
              "Period('2007', 'A-DEC')"
            ]
          },
          "metadata": {},
          "execution_count": 98
        }
      ]
    },
    {
      "cell_type": "code",
      "metadata": {
        "colab": {
          "base_uri": "https://localhost:8080/"
        },
        "id": "S3x3LIZ7s94m",
        "outputId": "fcbf8db7-406e-4807-bf4a-1e87955d6ad7"
      },
      "source": [
        "p + 5"
      ],
      "execution_count": 99,
      "outputs": [
        {
          "output_type": "execute_result",
          "data": {
            "text/plain": [
              "Period('2012', 'A-DEC')"
            ]
          },
          "metadata": {},
          "execution_count": 99
        }
      ]
    },
    {
      "cell_type": "code",
      "metadata": {
        "colab": {
          "base_uri": "https://localhost:8080/"
        },
        "id": "aVKsnMR_tKJE",
        "outputId": "a1ee40f4-35fd-435e-b717-0323b3ca9cca"
      },
      "source": [
        "p - 2"
      ],
      "execution_count": 100,
      "outputs": [
        {
          "output_type": "execute_result",
          "data": {
            "text/plain": [
              "Period('2005', 'A-DEC')"
            ]
          },
          "metadata": {},
          "execution_count": 100
        }
      ]
    },
    {
      "cell_type": "code",
      "metadata": {
        "colab": {
          "base_uri": "https://localhost:8080/"
        },
        "id": "uB4WQC-BtLib",
        "outputId": "64e89a81-148b-41bb-cd64-d6e1a5994bdd"
      },
      "source": [
        "pd.Period('2014', freq='A-DEC') - p"
      ],
      "execution_count": 101,
      "outputs": [
        {
          "output_type": "execute_result",
          "data": {
            "text/plain": [
              "<7 * YearEnds: month=12>"
            ]
          },
          "metadata": {},
          "execution_count": 101
        }
      ]
    },
    {
      "cell_type": "code",
      "metadata": {
        "colab": {
          "base_uri": "https://localhost:8080/"
        },
        "id": "CwSAlSkMtTva",
        "outputId": "b54869b7-62c2-4201-ef7e-209f26df7351"
      },
      "source": [
        "#intervalos de periodos com period_range\n",
        "rng = pd.period_range('2000-01-01', '2000-06-30', freq='M')\n",
        "rng"
      ],
      "execution_count": 102,
      "outputs": [
        {
          "output_type": "execute_result",
          "data": {
            "text/plain": [
              "PeriodIndex(['2000-01', '2000-02', '2000-03', '2000-04', '2000-05', '2000-06'], dtype='period[M]', freq='M')"
            ]
          },
          "metadata": {},
          "execution_count": 102
        }
      ]
    },
    {
      "cell_type": "code",
      "metadata": {
        "colab": {
          "base_uri": "https://localhost:8080/"
        },
        "id": "rTiLX6oDtjhD",
        "outputId": "0f67a487-2ed4-4046-b797-008cf222ac28"
      },
      "source": [
        "#PeriodIndex armazena uma sequência de períodos e pode ser usada como índice\n",
        "pd.Series(np.random.randn(6), index=rng)"
      ],
      "execution_count": 103,
      "outputs": [
        {
          "output_type": "execute_result",
          "data": {
            "text/plain": [
              "2000-01   -0.442838\n",
              "2000-02   -0.075116\n",
              "2000-03   -0.808194\n",
              "2000-04    0.641455\n",
              "2000-05   -0.304809\n",
              "2000-06   -0.687378\n",
              "Freq: M, dtype: float64"
            ]
          },
          "metadata": {},
          "execution_count": 103
        }
      ]
    },
    {
      "cell_type": "code",
      "metadata": {
        "colab": {
          "base_uri": "https://localhost:8080/"
        },
        "id": "x0xCVzcut0cY",
        "outputId": "c2097be8-17d7-4e42-aa56-376c2e692c06"
      },
      "source": [
        "#Pode ser usada com um array de string também\n",
        "\n",
        "values = ['2001Q3', '2002Q2', '2003Q1']\n",
        "index = pd.PeriodIndex(values, freq='Q-DEC')\n",
        "index"
      ],
      "execution_count": 104,
      "outputs": [
        {
          "output_type": "execute_result",
          "data": {
            "text/plain": [
              "PeriodIndex(['2001Q3', '2002Q2', '2003Q1'], dtype='period[Q-DEC]', freq='Q-DEC')"
            ]
          },
          "metadata": {},
          "execution_count": 104
        }
      ]
    },
    {
      "cell_type": "markdown",
      "metadata": {
        "id": "wLSKlPJDuPu9"
      },
      "source": [
        "**Conversão de frequência e períodos**"
      ]
    },
    {
      "cell_type": "code",
      "metadata": {
        "colab": {
          "base_uri": "https://localhost:8080/"
        },
        "id": "q6mDlMOouMUM",
        "outputId": "36503a5a-0bab-4042-94c7-cdce46a224a5"
      },
      "source": [
        "p = pd.Period('2007', freq='A-DEC')\n",
        "p"
      ],
      "execution_count": 105,
      "outputs": [
        {
          "output_type": "execute_result",
          "data": {
            "text/plain": [
              "Period('2007', 'A-DEC')"
            ]
          },
          "metadata": {},
          "execution_count": 105
        }
      ]
    },
    {
      "cell_type": "code",
      "metadata": {
        "colab": {
          "base_uri": "https://localhost:8080/"
        },
        "id": "mKMbRGGmucHD",
        "outputId": "980d67ed-3d78-4217-e586-59913cdce7f8"
      },
      "source": [
        "p.asfreq('M', how='start')"
      ],
      "execution_count": 106,
      "outputs": [
        {
          "output_type": "execute_result",
          "data": {
            "text/plain": [
              "Period('2007-01', 'M')"
            ]
          },
          "metadata": {},
          "execution_count": 106
        }
      ]
    },
    {
      "cell_type": "code",
      "metadata": {
        "colab": {
          "base_uri": "https://localhost:8080/"
        },
        "id": "xJvE-yvPui_b",
        "outputId": "3a408eb9-90b9-4c59-96e8-4512846dda4a"
      },
      "source": [
        "p.asfreq('M', how='end')"
      ],
      "execution_count": 107,
      "outputs": [
        {
          "output_type": "execute_result",
          "data": {
            "text/plain": [
              "Period('2007-12', 'M')"
            ]
          },
          "metadata": {},
          "execution_count": 107
        }
      ]
    },
    {
      "cell_type": "code",
      "metadata": {
        "colab": {
          "base_uri": "https://localhost:8080/"
        },
        "id": "9aygRwWvum5E",
        "outputId": "f61ab2ee-4a4d-48b6-f49b-7eebc18445b1"
      },
      "source": [
        "#Ano fiscal que termine em um mês diferente de dezembro\n",
        "p = pd.Period('2007', freq='A-JUN')\n",
        "p"
      ],
      "execution_count": 108,
      "outputs": [
        {
          "output_type": "execute_result",
          "data": {
            "text/plain": [
              "Period('2007', 'A-JUN')"
            ]
          },
          "metadata": {},
          "execution_count": 108
        }
      ]
    },
    {
      "cell_type": "code",
      "metadata": {
        "colab": {
          "base_uri": "https://localhost:8080/"
        },
        "id": "9fVJGCrHu2fT",
        "outputId": "72dc9ea9-1794-4c57-a6a8-68f340f138c0"
      },
      "source": [
        "p.asfreq('M', 'start')"
      ],
      "execution_count": 109,
      "outputs": [
        {
          "output_type": "execute_result",
          "data": {
            "text/plain": [
              "Period('2006-07', 'M')"
            ]
          },
          "metadata": {},
          "execution_count": 109
        }
      ]
    },
    {
      "cell_type": "code",
      "metadata": {
        "colab": {
          "base_uri": "https://localhost:8080/"
        },
        "id": "4o4NEtzgu5_k",
        "outputId": "e4baddc8-5f3f-4400-cb8e-45d56ca81d67"
      },
      "source": [
        "p.asfreq('M', 'end')"
      ],
      "execution_count": 110,
      "outputs": [
        {
          "output_type": "execute_result",
          "data": {
            "text/plain": [
              "Period('2007-06', 'M')"
            ]
          },
          "metadata": {},
          "execution_count": 110
        }
      ]
    },
    {
      "cell_type": "code",
      "metadata": {
        "colab": {
          "base_uri": "https://localhost:8080/"
        },
        "id": "oWndt55Ru-19",
        "outputId": "f5899d0b-31a9-4229-b40b-46df7cdf4bd6"
      },
      "source": [
        "p = pd.Period('Aug-2007', 'M')\n",
        "p.asfreq('A-JUN')"
      ],
      "execution_count": 111,
      "outputs": [
        {
          "output_type": "execute_result",
          "data": {
            "text/plain": [
              "Period('2008', 'A-JUN')"
            ]
          },
          "metadata": {},
          "execution_count": 111
        }
      ]
    },
    {
      "cell_type": "code",
      "metadata": {
        "colab": {
          "base_uri": "https://localhost:8080/"
        },
        "id": "Vmyfa68PvXuj",
        "outputId": "05dbb4d6-5bc5-4b61-8c2c-008c1ee91c80"
      },
      "source": [
        "rng = pd.period_range('2006', '2009', freq='A-DEC')\n",
        "ts = pd.Series(np.random.randn(len(rng)), index=rng)\n",
        "ts"
      ],
      "execution_count": 112,
      "outputs": [
        {
          "output_type": "execute_result",
          "data": {
            "text/plain": [
              "2006   -0.060215\n",
              "2007    1.087320\n",
              "2008    2.146387\n",
              "2009    0.521524\n",
              "Freq: A-DEC, dtype: float64"
            ]
          },
          "metadata": {},
          "execution_count": 112
        }
      ]
    },
    {
      "cell_type": "code",
      "metadata": {
        "colab": {
          "base_uri": "https://localhost:8080/"
        },
        "id": "iABQdGeHvn2D",
        "outputId": "d0407a85-d421-44cf-ee86-17acadf1dbeb"
      },
      "source": [
        "ts.asfreq('M', how='start')"
      ],
      "execution_count": 113,
      "outputs": [
        {
          "output_type": "execute_result",
          "data": {
            "text/plain": [
              "2006-01   -0.060215\n",
              "2007-01    1.087320\n",
              "2008-01    2.146387\n",
              "2009-01    0.521524\n",
              "Freq: M, dtype: float64"
            ]
          },
          "metadata": {},
          "execution_count": 113
        }
      ]
    },
    {
      "cell_type": "code",
      "metadata": {
        "colab": {
          "base_uri": "https://localhost:8080/"
        },
        "id": "ZDW3LSnVv3ud",
        "outputId": "dc3f0e4c-6c3e-4f0c-c324-b41b559f3456"
      },
      "source": [
        "#Se quiser o último dia útil de cada ano\n",
        "ts.asfreq('B', how='end')"
      ],
      "execution_count": 114,
      "outputs": [
        {
          "output_type": "execute_result",
          "data": {
            "text/plain": [
              "2006-12-29   -0.060215\n",
              "2007-12-31    1.087320\n",
              "2008-12-31    2.146387\n",
              "2009-12-31    0.521524\n",
              "Freq: B, dtype: float64"
            ]
          },
          "metadata": {},
          "execution_count": 114
        }
      ]
    },
    {
      "cell_type": "markdown",
      "metadata": {
        "id": "A-n50_hLwErY"
      },
      "source": [
        "**Frequências de períodos trimestrais**"
      ]
    },
    {
      "cell_type": "code",
      "metadata": {
        "id": "ZTC-chCuwCyE"
      },
      "source": [
        ""
      ],
      "execution_count": 114,
      "outputs": []
    }
  ]
}